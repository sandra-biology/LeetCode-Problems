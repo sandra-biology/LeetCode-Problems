{
 "cells": [
  {
   "cell_type": "code",
   "execution_count": 1,
   "metadata": {},
   "outputs": [
    {
     "name": "stdout",
     "output_type": "stream",
     "text": [
      "total = 6\n",
      "\u0006\n"
     ]
    }
   ],
   "source": [
    "def myAtoi(string):      \n",
    "    string_stripped = string.strip()\n",
    "\n",
    "    if len(string_stripped) == 0:\n",
    "        return 0\n",
    "\n",
    "    stack = []\n",
    "    sign = 1\n",
    "    i_start = 0\n",
    "    if string_stripped[0] == \"-\":\n",
    "        sign = -1\n",
    "        i_start = 1\n",
    "\n",
    "    if string_stripped[0] == \"+\":\n",
    "        i_start = 1\n",
    "\n",
    "    for i in range(i_start, len(string_stripped)):\n",
    "        if string_stripped[i].isnumeric() == False:\n",
    "            break\n",
    "        else:\n",
    "            stack.append(ord(string_stripped[i]) - ord(\"0\"))\n",
    "\n",
    "    max_number = 2 ** 31 - 1\n",
    "    if sign == -1:\n",
    "        max_number = 2 ** 31\n",
    "\n",
    "    number = 0\n",
    "    power10 = 1\n",
    "    while stack:\n",
    "        temp = stack.pop() * power10\n",
    "        complement = max_number - number\n",
    "        if temp > complement:\n",
    "            if sign > 0:\n",
    "                return 2 ** 31 - 1\n",
    "            else:\n",
    "                return -2 ** 31\n",
    "        number += temp\n",
    "        power10 *= 10\n",
    "\n",
    "    return sign * number\n",
    "\n",
    "num1 = \"2\"\n",
    "num2 = \"3\"\n",
    "\n",
    "multiple1 = myAtoi(num1)\n",
    "multiple2 = myAtoi(num2)\n",
    "\n",
    "total = multiple1 * multiple2\n",
    "print(f\"total = {total}\")\n",
    "result = chr(total)\n",
    "print(result)"
   ]
  },
  {
   "cell_type": "code",
   "execution_count": 3,
   "metadata": {},
   "outputs": [
    {
     "name": "stdout",
     "output_type": "stream",
     "text": [
      "6\n",
      "65\n"
     ]
    }
   ],
   "source": [
    "print(ord(\"6\") - ord(\"0\"))\n",
    "print(ord(\"A\"))"
   ]
  },
  {
   "cell_type": "code",
   "execution_count": 6,
   "metadata": {},
   "outputs": [
    {
     "name": "stdout",
     "output_type": "stream",
     "text": [
      "65\n"
     ]
    }
   ],
   "source": [
    "integer = 65\n",
    "string = str(integer)\n",
    "print(string)"
   ]
  },
  {
   "cell_type": "code",
   "execution_count": 4,
   "metadata": {},
   "outputs": [
    {
     "data": {
      "text/plain": [
       "'A'"
      ]
     },
     "execution_count": 4,
     "metadata": {},
     "output_type": "execute_result"
    }
   ],
   "source": [
    "chr(65)"
   ]
  },
  {
   "cell_type": "code",
   "execution_count": 2,
   "metadata": {},
   "outputs": [
    {
     "name": "stdout",
     "output_type": "stream",
     "text": [
      "digits: [7, 3, 4]\n"
     ]
    }
   ],
   "source": [
    "n = 437\n",
    "digits = []\n",
    "\n",
    "while n > 0:\n",
    "    digits.append(n % 10)\n",
    "    n //= 10\n",
    "\n",
    "print(f\"digits: {digits}\")"
   ]
  },
  {
   "cell_type": "code",
   "execution_count": 4,
   "metadata": {},
   "outputs": [
    {
     "name": "stdout",
     "output_type": "stream",
     "text": [
      "n_string: , type(n_string): <class 'str'>\n"
     ]
    }
   ],
   "source": [
    "n_string = \"\"\n",
    "\n",
    "while digits:\n",
    "    temp = digits.pop()\n",
    "    ascii_chr = ord(\"0\") + temp\n",
    "    n_string += chr(ascii_chr)\n",
    "\n",
    "print(f\"n_string: {n_string}, type(n_string): {type(n_string)}\")"
   ]
  },
  {
   "cell_type": "code",
   "execution_count": 7,
   "metadata": {},
   "outputs": [
    {
     "name": "stdout",
     "output_type": "stream",
     "text": [
      "total = 6, type(total): <class 'int'>\n",
      "result: 6, type(result): <class 'str'>\n"
     ]
    }
   ],
   "source": [
    "def myAtoi(string):      \n",
    "    string_stripped = string.strip()\n",
    "\n",
    "    if len(string_stripped) == 0:\n",
    "        return 0\n",
    "\n",
    "    stack = []\n",
    "    sign = 1\n",
    "    i_start = 0\n",
    "    if string_stripped[0] == \"-\":\n",
    "        sign = -1\n",
    "        i_start = 1\n",
    "\n",
    "    if string_stripped[0] == \"+\":\n",
    "        i_start = 1\n",
    "\n",
    "    for i in range(i_start, len(string_stripped)):\n",
    "        if string_stripped[i].isnumeric() == False:\n",
    "            break\n",
    "        else:\n",
    "            stack.append(ord(string_stripped[i]) - ord(\"0\"))\n",
    "\n",
    "    max_number = 2 ** 31 - 1\n",
    "    if sign == -1:\n",
    "        max_number = 2 ** 31\n",
    "\n",
    "    number = 0\n",
    "    power10 = 1\n",
    "    while stack:\n",
    "        temp = stack.pop() * power10\n",
    "        complement = max_number - number\n",
    "        if temp > complement:\n",
    "            if sign > 0:\n",
    "                return 2 ** 31 - 1\n",
    "            else:\n",
    "                return -2 ** 31\n",
    "        number += temp\n",
    "        power10 *= 10\n",
    "\n",
    "    return sign * number\n",
    "\n",
    "num1 = \"2\"\n",
    "num2 = \"3\"\n",
    "\n",
    "multiple1 = myAtoi(num1)\n",
    "multiple2 = myAtoi(num2)\n",
    "\n",
    "total = multiple1 * multiple2\n",
    "print(f\"total = {total}, type(total): {type(total)}\")\n",
    "digits = []\n",
    "while total > 0:\n",
    "    digits.append(total % 10)\n",
    "    total //= 10\n",
    "\n",
    "result = \"\"\n",
    "while digits:\n",
    "    temp = digits.pop()\n",
    "    ascii_chr = ord(\"0\") + temp\n",
    "    result += chr(ascii_chr)\n",
    "print(f\"result: {result}, type(result): {type(result)}\")"
   ]
  },
  {
   "cell_type": "code",
   "execution_count": 11,
   "metadata": {},
   "outputs": [
    {
     "name": "stdout",
     "output_type": "stream",
     "text": [
      "digits = [8, 8, 0, 6, 5]\n",
      "temp = 5\n",
      "temp = 6\n",
      "temp = 0\n",
      "temp = 8\n",
      "temp = 8\n"
     ]
    },
    {
     "data": {
      "text/plain": [
       "'56088'"
      ]
     },
     "execution_count": 11,
     "metadata": {},
     "output_type": "execute_result"
    }
   ],
   "source": [
    "def myAtoi(string):      \n",
    "    string_stripped = string.strip()\n",
    "\n",
    "    if len(string_stripped) == 0:\n",
    "        return 0\n",
    "\n",
    "    stack = []\n",
    "    sign = 1\n",
    "    i_start = 0\n",
    "    if string_stripped[0] == \"-\":\n",
    "        sign = -1\n",
    "        i_start = 1\n",
    "\n",
    "    if string_stripped[0] == \"+\":\n",
    "        i_start = 1\n",
    "\n",
    "    for i in range(i_start, len(string_stripped)):\n",
    "        if string_stripped[i].isnumeric() == False:\n",
    "            break\n",
    "        else:\n",
    "            stack.append(ord(string_stripped[i]) - ord(\"0\"))\n",
    "\n",
    "    max_number = 2 ** 31 - 1\n",
    "    if sign == -1:\n",
    "        max_number = 2 ** 31\n",
    "\n",
    "    number = 0\n",
    "    power10 = 1\n",
    "    while stack:\n",
    "        temp = stack.pop() * power10\n",
    "        complement = max_number - number\n",
    "        if temp > complement:\n",
    "            if sign > 0:\n",
    "                return 2 ** 31 - 1\n",
    "            else:\n",
    "                return -2 ** 31\n",
    "        number += temp\n",
    "        power10 *= 10\n",
    "\n",
    "    return sign * number\n",
    "\n",
    "def multiply(num1, num2):\n",
    "    string1 = myAtoi(num1)\n",
    "    string2 = myAtoi(num2)\n",
    "    \n",
    "    total = string1 * string2\n",
    "    \n",
    "    digits = []\n",
    "    while total > 0:\n",
    "        digits.append(total % 10)\n",
    "        total //= 10\n",
    "    \n",
    "    print(f\"digits = {digits}\")\n",
    "    result = \"\"\n",
    "    while digits:\n",
    "        temp = digits.pop()\n",
    "        print(f\"temp = {temp}\")\n",
    "        ascii_chr = ord(\"0\") + temp\n",
    "        result += chr(ascii_chr)\n",
    "    \n",
    "    return result\n",
    "\n",
    "num1 = \"123\"\n",
    "num2 = \"456\"\n",
    "\n",
    "multiply(num1, num2)"
   ]
  },
  {
   "cell_type": "code",
   "execution_count": 3,
   "metadata": {},
   "outputs": [
    {
     "data": {
      "text/plain": [
       "'18'"
      ]
     },
     "execution_count": 3,
     "metadata": {},
     "output_type": "execute_result"
    }
   ],
   "source": [
    "class Solution:\n",
    "    def myAtoi(self, string):      \n",
    "        string_stripped = string.strip()\n",
    "\n",
    "        if len(string_stripped) == 0:\n",
    "            return 0\n",
    "\n",
    "        stack = []\n",
    "        sign = 1\n",
    "        i_start = 0\n",
    "        if string_stripped[0] == \"-\":\n",
    "            sign = -1\n",
    "            i_start = 1\n",
    "\n",
    "        if string_stripped[0] == \"+\":\n",
    "            i_start = 1\n",
    "\n",
    "        for i in range(i_start, len(string_stripped)):\n",
    "            if string_stripped[i].isnumeric() == False:\n",
    "                break\n",
    "            else:\n",
    "                stack.append(ord(string_stripped[i]) - ord(\"0\"))\n",
    "\n",
    "        max_number = 2 ** 31 - 1\n",
    "        if sign == -1:\n",
    "            max_number = 2 ** 31\n",
    "\n",
    "        number = 0\n",
    "        power10 = 1\n",
    "        while stack:\n",
    "            temp = stack.pop() * power10\n",
    "            complement = max_number - number\n",
    "            if temp > complement:\n",
    "                if sign > 0:\n",
    "                    return 2 ** 31 - 1\n",
    "                else:\n",
    "                    return -2 ** 31\n",
    "            number += temp\n",
    "            power10 *= 10\n",
    "\n",
    "        return sign * number\n",
    "\n",
    "    def multiply(self, num1: str, num2: str) -> str:\n",
    "        string1 = self.myAtoi(num1)\n",
    "        string2 = self.myAtoi(num2)\n",
    "\n",
    "        total = string1 * string2\n",
    "\n",
    "        digits = []\n",
    "        while total > 0:\n",
    "            digits.append(total % 10)\n",
    "            total //= 10\n",
    "\n",
    "        result = \"\"\n",
    "        while digits:\n",
    "            temp = digits.pop()\n",
    "            ascii_chr = ord(\"0\") + temp\n",
    "            result += chr(ascii_chr)\n",
    "\n",
    "        return result\n",
    "\n",
    "num1 = \"3\"\n",
    "num2 = \"6\"\n",
    "\n",
    "solution = Solution()\n",
    "solution.multiply(num1, num2)"
   ]
  }
 ],
 "metadata": {
  "kernelspec": {
   "display_name": "Python 3",
   "language": "python",
   "name": "python3"
  }
 },
 "nbformat": 4,
 "nbformat_minor": 2
}
