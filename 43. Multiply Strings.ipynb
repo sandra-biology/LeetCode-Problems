{
 "cells": [
  {
   "cell_type": "code",
   "execution_count": 1,
   "metadata": {},
   "outputs": [
    {
     "name": "stdout",
     "output_type": "stream",
     "text": [
      "total = 6\n",
      "\u0006\n"
     ]
    }
   ],
   "source": [
    "def myAtoi(string):      \n",
    "    string_stripped = string.strip()\n",
    "\n",
    "    if len(string_stripped) == 0:\n",
    "        return 0\n",
    "\n",
    "    stack = []\n",
    "    sign = 1\n",
    "    i_start = 0\n",
    "    if string_stripped[0] == \"-\":\n",
    "        sign = -1\n",
    "        i_start = 1\n",
    "\n",
    "    if string_stripped[0] == \"+\":\n",
    "        i_start = 1\n",
    "\n",
    "    for i in range(i_start, len(string_stripped)):\n",
    "        if string_stripped[i].isnumeric() == False:\n",
    "            break\n",
    "        else:\n",
    "            stack.append(ord(string_stripped[i]) - ord(\"0\"))\n",
    "\n",
    "    max_number = 2 ** 31 - 1\n",
    "    if sign == -1:\n",
    "        max_number = 2 ** 31\n",
    "\n",
    "    number = 0\n",
    "    power10 = 1\n",
    "    while stack:\n",
    "        temp = stack.pop() * power10\n",
    "        complement = max_number - number\n",
    "        if temp > complement:\n",
    "            if sign > 0:\n",
    "                return 2 ** 31 - 1\n",
    "            else:\n",
    "                return -2 ** 31\n",
    "        number += temp\n",
    "        power10 *= 10\n",
    "\n",
    "    return sign * number\n",
    "\n",
    "num1 = \"2\"\n",
    "num2 = \"3\"\n",
    "\n",
    "multiple1 = myAtoi(num1)\n",
    "multiple2 = myAtoi(num2)\n",
    "\n",
    "total = multiple1 * multiple2\n",
    "print(f\"total = {total}\")\n",
    "result = chr(total)\n",
    "print(result)"
   ]
  },
  {
   "cell_type": "code",
   "execution_count": 3,
   "metadata": {},
   "outputs": [
    {
     "name": "stdout",
     "output_type": "stream",
     "text": [
      "6\n",
      "65\n"
     ]
    }
   ],
   "source": [
    "print(ord(\"6\") - ord(\"0\"))\n",
    "print(ord(\"A\"))"
   ]
  },
  {
   "cell_type": "code",
   "execution_count": 6,
   "metadata": {},
   "outputs": [
    {
     "name": "stdout",
     "output_type": "stream",
     "text": [
      "65\n"
     ]
    }
   ],
   "source": [
    "integer = 65\n",
    "string = str(integer)\n",
    "print(string)"
   ]
  },
  {
   "cell_type": "code",
   "execution_count": 4,
   "metadata": {},
   "outputs": [
    {
     "data": {
      "text/plain": [
       "'A'"
      ]
     },
     "execution_count": 4,
     "metadata": {},
     "output_type": "execute_result"
    }
   ],
   "source": [
    "chr(65)"
   ]
  }
 ],
 "metadata": {
  "kernelspec": {
   "display_name": "Python 3",
   "language": "python",
   "name": "python3"
  },
  "language_info": {
   "codemirror_mode": {
    "name": "ipython",
    "version": 3
   },
   "file_extension": ".py",
   "mimetype": "text/x-python",
   "name": "python",
   "nbconvert_exporter": "python",
   "pygments_lexer": "ipython3",
   "version": "3.6.1"
  }
 },
 "nbformat": 4,
 "nbformat_minor": 2
}
