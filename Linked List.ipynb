{
 "cells": [
  {
   "cell_type": "code",
   "execution_count": 10,
   "metadata": {},
   "outputs": [
    {
     "name": "stdout",
     "output_type": "stream",
     "text": [
      "node.val = 10\n",
      "node.val = 20\n",
      "node.val = 30\n",
      "node.val = 40\n",
      "node.val = 50\n",
      "node.val = 60\n",
      "node.val = 70\n"
     ]
    }
   ],
   "source": [
    "class ListNode:\n",
    "    def __init__(self, x):\n",
    "        self.val = x\n",
    "        self.next = None\n",
    "\n",
    "head = None\n",
    "\n",
    "node = ListNode(70)\n",
    "node.next = head\n",
    "head = node\n",
    "\n",
    "node = ListNode(60)\n",
    "node.next = head\n",
    "head = node\n",
    "\n",
    "node = ListNode(50)\n",
    "node.next = head\n",
    "head = node\n",
    "\n",
    "node = ListNode(40)\n",
    "node.next = head\n",
    "head = node\n",
    "\n",
    "node = ListNode(30)\n",
    "node.next = head\n",
    "head = node\n",
    "\n",
    "node = ListNode(20)\n",
    "node.next = head\n",
    "head = node\n",
    "\n",
    "node = ListNode(10)\n",
    "node.next = head\n",
    "head = node\n",
    "\n",
    "node = head\n",
    "while node:\n",
    "    print(f\"node.val = {node.val}\")\n",
    "    node = node.next"
   ]
  },
  {
   "cell_type": "code",
   "execution_count": 4,
   "metadata": {},
   "outputs": [
    {
     "name": "stdout",
     "output_type": "stream",
     "text": [
      "found node = 40\n"
     ]
    }
   ],
   "source": [
    "# search for node with value 40\n",
    "node = head\n",
    "while node:\n",
    "    if node.val == 40:\n",
    "        print(f\"found node = {node.val}\")\n",
    "        break\n",
    "    node = node.next"
   ]
  },
  {
   "cell_type": "code",
   "execution_count": 9,
   "metadata": {},
   "outputs": [
    {
     "name": "stdout",
     "output_type": "stream",
     "text": [
      "node.val = 10\n",
      "node.val = 20\n",
      "node.val = 30\n",
      "node.val = 50\n",
      "node.val = 60\n",
      "node.val = 70\n",
      "before increment: node.val = 10, node_slow.val = 10, count = 0\n",
      "   node_slow after (possible) increment: 10, count = 0\n",
      "before increment: node.val = 20, node_slow.val = 10, count = 1\n",
      "   node_slow after (possible) increment: 10, count = 1\n",
      "before increment: node.val = 30, node_slow.val = 10, count = 2\n",
      "   node_slow after (possible) increment: 20, count = 2\n",
      "before increment: node.val = 50, node_slow.val = 20, count = 3\n",
      "   node_slow after (possible) increment: 20, count = 3\n",
      "before increment: node.val = 60, node_slow.val = 20, count = 4\n",
      "   node_slow after (possible) increment: 30, count = 4\n",
      "before increment: node.val = 70, node_slow.val = 30, count = 5\n",
      "   node_slow after (possible) increment: 30, count = 5\n",
      "node_slow.val = 30\n"
     ]
    }
   ],
   "source": [
    "class ListNode:\n",
    "    def __init__(self, x):\n",
    "        self.val = x\n",
    "        self.next = None\n",
    "\n",
    "head = None\n",
    "\n",
    "node = ListNode(70)\n",
    "node.next = head\n",
    "head = node\n",
    "\n",
    "node = ListNode(60)\n",
    "node.next = head\n",
    "head = node\n",
    "\n",
    "node = ListNode(50)\n",
    "node.next = head\n",
    "head = node\n",
    "\n",
    "# node = ListNode(40)\n",
    "# node.next = head\n",
    "# head = node\n",
    "\n",
    "node = ListNode(30)\n",
    "node.next = head\n",
    "head = node\n",
    "\n",
    "node = ListNode(20)\n",
    "node.next = head\n",
    "head = node\n",
    "\n",
    "node = ListNode(10)\n",
    "node.next = head\n",
    "head = node\n",
    "\n",
    "node = head\n",
    "while node:\n",
    "    print(f\"node.val = {node.val}\")\n",
    "    node = node.next\n",
    "\n",
    "# find mid point\n",
    "# using two pointers\n",
    "node = head\n",
    "node_slow = head\n",
    "count = 0\n",
    "\n",
    "while node:\n",
    "    print(f\"before increment: node.val = {node.val}, node_slow.val = {node_slow.val}, count = {count}\")\n",
    "    node = node.next  # increment node every time\n",
    "\n",
    "    if count > 0 and count % 2 == 0:\n",
    "    # if count % 2:\n",
    "        node_slow = node_slow.next  # increment node_slow every other time\n",
    "    print(f\"   node_slow after (possible) increment: {node_slow.val}, count = {count}\")\n",
    "    count += 1\n",
    "    \n",
    "\n",
    "print(f\"node_slow.val = {node_slow.val}\")"
   ]
  },
  {
   "cell_type": "code",
   "execution_count": null,
   "metadata": {
    "collapsed": true
   },
   "outputs": [],
   "source": [
    "\"\"\"\n",
    "Initialize three pointers prev as NULL, curr as head and next as NULL.\n",
    "Iterate trough the linked list. In loop, do following.\n",
    "// Before changing next of current,\n",
    "// store next node\n",
    "next = curr->next\n",
    "// Now change next of current\n",
    "// This is where actual reversing happens\n",
    "curr->next = prev\n",
    "\n",
    "// Move prev and curr one step forward\n",
    "prev = curr\n",
    "curr = next\n",
    "\"\"\""
   ]
  },
  {
   "cell_type": "code",
   "execution_count": 11,
   "metadata": {},
   "outputs": [
    {
     "name": "stdout",
     "output_type": "stream",
     "text": [
      "before reversing:\n",
      "node.val = 10\n",
      "node.val = 20\n",
      "node.val = 30\n",
      "node.val = 40\n",
      "node.val = 50\n",
      "node.val = 60\n",
      "node.val = 70\n",
      "\n",
      "after reversing:\n",
      "node.val = 70\n",
      "node.val = 60\n",
      "node.val = 50\n",
      "node.val = 40\n",
      "node.val = 30\n",
      "node.val = 20\n",
      "node.val = 10\n"
     ]
    }
   ],
   "source": [
    "# run first cell in the notebook to get the original list back\n",
    "\n",
    "print(\"before reversing:\")\n",
    "node = head\n",
    "while node:\n",
    "    print(f\"node.val = {node.val}\")\n",
    "    node = node.next\n",
    "\n",
    "print(\"\\nafter reversing:\")\n",
    "o_head = head\n",
    "prev = None\n",
    "curr = o_head\n",
    "next = None\n",
    "\n",
    "while curr:\n",
    "    o_head = curr\n",
    "    next = curr.next  # to not lose rest of linked list\n",
    "    curr.next = prev\n",
    "    \n",
    "    prev = curr\n",
    "    curr = next\n",
    "\n",
    "node = o_head\n",
    "while node:\n",
    "    print(f\"node.val = {node.val}\")\n",
    "    node = node.next"
   ]
  }
 ],
 "metadata": {
  "kernelspec": {
   "display_name": "Python 3",
   "language": "python",
   "name": "python3"
  },
  "language_info": {
   "codemirror_mode": {
    "name": "ipython",
    "version": 3
   },
   "file_extension": ".py",
   "mimetype": "text/x-python",
   "name": "python",
   "nbconvert_exporter": "python",
   "pygments_lexer": "ipython3",
   "version": "3.6.1"
  }
 },
 "nbformat": 4,
 "nbformat_minor": 2
}
