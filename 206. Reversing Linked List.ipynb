{
 "cells": [
  {
   "cell_type": "code",
   "execution_count": 1,
   "metadata": {
    "collapsed": true
   },
   "outputs": [],
   "source": [
    "class ListNode:\n",
    "    def __init__(self, x):\n",
    "        self.val = x\n",
    "        self.next = None"
   ]
  },
  {
   "cell_type": "code",
   "execution_count": 2,
   "metadata": {},
   "outputs": [
    {
     "name": "stdout",
     "output_type": "stream",
     "text": [
      "node.val = 1\n",
      "node.val = 2\n",
      "node.val = 3\n",
      "node.val = 4\n",
      "node.val = 5\n"
     ]
    }
   ],
   "source": [
    "head = None\n",
    "\n",
    "node = ListNode(5)\n",
    "node.next = head\n",
    "head = node\n",
    "\n",
    "node = ListNode(4)\n",
    "node.next = head\n",
    "head = node\n",
    "\n",
    "node = ListNode(3)\n",
    "node.next = head\n",
    "head = node\n",
    "\n",
    "node = ListNode(2)\n",
    "node.next = head\n",
    "head = node\n",
    "\n",
    "node = ListNode(1)\n",
    "node.next = head\n",
    "head = node\n",
    "\n",
    "node = head\n",
    "while node:\n",
    "    print(f\"node.val = {node.val}\")\n",
    "    node = node.next"
   ]
  },
  {
   "cell_type": "code",
   "execution_count": 6,
   "metadata": {
    "collapsed": true
   },
   "outputs": [],
   "source": [
    "# o_head = head3\n",
    "# prev = None\n",
    "# curr = o_head\n",
    "# next = None\n",
    "# while curr:\n",
    "#     o_head = curr\n",
    "#     next = curr.next  # next keeps the tail of the linked list. Now we can change curr.next\n",
    "#     curr.next = prev\n",
    "\n",
    "#     prev = curr\n",
    "#     curr = next\n",
    "\n",
    "\n",
    "head = head\n",
    "prev = None\n",
    "curr = head\n",
    "next = None\n",
    "while curr:\n",
    "    head = curr\n",
    "    next = curr.next\n",
    "    curr.next = prev\n",
    "    \n",
    "    prev = curr\n",
    "    curr = next"
   ]
  },
  {
   "cell_type": "markdown",
   "metadata": {},
   "source": [
    "### First submission\n",
    "\n",
    "Accepted by LeetCode: Runtime: 40 ms, faster than 25.78% of Python3 online submissions for Reverse Linked List.  \n",
    "Memory Usage: 15.3 MB, less than 26.14% of Python3 online submissions for Reverse Linked List."
   ]
  },
  {
   "cell_type": "code",
   "execution_count": 3,
   "metadata": {},
   "outputs": [
    {
     "name": "stdout",
     "output_type": "stream",
     "text": [
      "after reversing:\n",
      "node.val = 5\n",
      "after reversing:\n",
      "node.val = 4\n",
      "after reversing:\n",
      "node.val = 3\n",
      "after reversing:\n",
      "node.val = 2\n",
      "after reversing:\n",
      "node.val = 1\n"
     ]
    }
   ],
   "source": [
    "class ListNode:\n",
    "    def __init__(self, x):\n",
    "        self.val = x\n",
    "        self.next = None\n",
    "\n",
    "class Solution:\n",
    "    def reverseList(self, head: ListNode) -> ListNode:\n",
    "        head = head\n",
    "        prev = None\n",
    "        curr = head\n",
    "        next = None\n",
    "        while curr:\n",
    "            head = curr\n",
    "            next = curr.next\n",
    "            curr.next = prev\n",
    "\n",
    "            prev = curr\n",
    "            curr = next\n",
    "\n",
    "        return head\n",
    "\n",
    "solution = Solution()\n",
    "res = solution.reverseList(head)\n",
    "\n",
    "node = res\n",
    "while node:\n",
    "    print(f\"after reversing:\\nnode.val = {node.val}\")\n",
    "    node = node.next"
   ]
  }
 ],
 "metadata": {
  "kernelspec": {
   "display_name": "Python 3",
   "language": "python",
   "name": "python3"
  },
  "language_info": {
   "codemirror_mode": {
    "name": "ipython",
    "version": 3
   },
   "file_extension": ".py",
   "mimetype": "text/x-python",
   "name": "python",
   "nbconvert_exporter": "python",
   "pygments_lexer": "ipython3",
   "version": "3.6.1"
  }
 },
 "nbformat": 4,
 "nbformat_minor": 2
}
