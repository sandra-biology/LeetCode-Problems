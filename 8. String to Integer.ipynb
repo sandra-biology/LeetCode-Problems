{
 "cells": [
  {
   "cell_type": "code",
   "execution_count": 1,
   "metadata": {},
   "outputs": [
    {
     "ename": "TypeError",
     "evalue": "unsupported operand type(s) for -: 'str' and 'str'",
     "output_type": "error",
     "traceback": [
      "\u001b[1;31m---------------------------------------------------------------------------\u001b[0m",
      "\u001b[1;31mTypeError\u001b[0m                                 Traceback (most recent call last)",
      "\u001b[1;32m<ipython-input-1-3250915f9143>\u001b[0m in \u001b[0;36m<module>\u001b[1;34m()\u001b[0m\n\u001b[1;32m----> 1\u001b[1;33m \u001b[0mn\u001b[0m \u001b[1;33m=\u001b[0m \u001b[1;34m'8'\u001b[0m \u001b[1;33m-\u001b[0m \u001b[1;34m'0'\u001b[0m\u001b[1;33m\u001b[0m\u001b[0m\n\u001b[0m\u001b[0;32m      2\u001b[0m \u001b[0mprint\u001b[0m\u001b[1;33m(\u001b[0m\u001b[0mn\u001b[0m\u001b[1;33m)\u001b[0m\u001b[1;33m\u001b[0m\u001b[0m\n",
      "\u001b[1;31mTypeError\u001b[0m: unsupported operand type(s) for -: 'str' and 'str'"
     ]
    }
   ],
   "source": [
    "n = '8' - '0'\n",
    "print(n)"
   ]
  },
  {
   "cell_type": "code",
   "execution_count": 9,
   "metadata": {},
   "outputs": [
    {
     "name": "stdout",
     "output_type": "stream",
     "text": [
      "s original:    -42\n",
      "s_stripped: -42\n"
     ]
    }
   ],
   "source": [
    "class Solution:\n",
    "    def myAtoi(self, str: str) -> int:\n",
    "        minimum = -2 ** 31\n",
    "        maximum = -2 ** 31 - 1\n",
    "        print(f\"s original: {s}\")\n",
    "        s_stripped = s.lstrip(\" \")\n",
    "        print(f\"s_stripped: {s_stripped}\")\n",
    "\n",
    "s = \"   -42\"\n",
    "\n",
    "solution = Solution()\n",
    "solution.myAtoi(s)"
   ]
  },
  {
   "cell_type": "code",
   "execution_count": 16,
   "metadata": {
    "scrolled": true
   },
   "outputs": [
    {
     "name": "stdout",
     "output_type": "stream",
     "text": [
      "s_stripped: 4\n",
      "s_stripped: 2\n",
      "\n"
     ]
    }
   ],
   "source": [
    "s = \"   -42\"\n",
    "s_stripped = s.lstrip(\" \")\n",
    "\n",
    "for symbol in s_stripped:\n",
    "    if symbol.isnumeric():\n",
    "        print(f\"s_stripped: {symbol}\")\n",
    "\n",
    "print()\n",
    "string1 = \"4193 with words\"\n",
    "string1_stripped = string1.lstrip(\" \")\n",
    "for symbol in string1_stripped:\n",
    "    # print(symbol)\n",
    "    if string1_stripped.isnumeric():\n",
    "        print(f\"string1_stripped: {symbol}\")\n",
    "\n",
    "s = \"   -42\"\n",
    "s_stripped = s.lstrip(\" \")\n",
    "sign = s_stripped[0]"
   ]
  },
  {
   "cell_type": "code",
   "execution_count": 4,
   "metadata": {},
   "outputs": [
    {
     "name": "stdout",
     "output_type": "stream",
     "text": [
      "48\n",
      "0\n",
      "8\n"
     ]
    }
   ],
   "source": [
    "print(ord(\"0\"))\n",
    "print(chr(48))\n",
    "\n",
    "print(ord(\"8\") -  ord(\"0\"))"
   ]
  },
  {
   "cell_type": "code",
   "execution_count": 14,
   "metadata": {},
   "outputs": [
    {
     "name": "stdout",
     "output_type": "stream",
     "text": [
      "s_stripped = 42\n",
      "i = 1\n",
      "ord(s_stripped[i]) = 50, temp = 50\n",
      "i = 0\n",
      "ord(s_stripped[i]) = 52, temp = 520\n",
      "number = 570\n"
     ]
    }
   ],
   "source": [
    "s = \"   42\"\n",
    "s_stripped = s.strip()\n",
    "print(f\"s_stripped = {s_stripped}\")\n",
    "\n",
    "number = 0\n",
    "power10 = 1\n",
    "\n",
    "for i in range(len(s_stripped) - 1, -1, -1):\n",
    "    print(f\"i = {i}\")\n",
    "    if s_stripped[i].isnumeric():\n",
    "        temp = ord(s_stripped[i]) * power10\n",
    "        print(f\"ord(s_stripped[i]) = {ord(s_stripped[i])}, temp = {temp}\")\n",
    "        number += temp\n",
    "        power10 *= 10\n",
    "\n",
    "print(f\"number = {number}\")"
   ]
  },
  {
   "cell_type": "code",
   "execution_count": 15,
   "metadata": {},
   "outputs": [
    {
     "name": "stdout",
     "output_type": "stream",
     "text": [
      "2\n"
     ]
    }
   ],
   "source": [
    "print(ord(\"2\") - ord(\"0\"))"
   ]
  },
  {
   "cell_type": "code",
   "execution_count": 37,
   "metadata": {},
   "outputs": [
    {
     "name": "stdout",
     "output_type": "stream",
     "text": [
      "stack = [1, 2, 3]\n"
     ]
    }
   ],
   "source": [
    "s = \" 123abc\"\n",
    "s_stripped = s.lstrip()\n",
    "\n",
    "stack = []\n",
    "sign = 1\n",
    "i_start = 0\n",
    "if s_stripped[0] == \"-\":\n",
    "    sign = -1\n",
    "    i_start = 1\n",
    "\n",
    "for i in range(i_start, len(s_stripped)):\n",
    "    if s_stripped[i].isnumeric() == False:\n",
    "        break\n",
    "    else:\n",
    "        stack.append(ord(s_stripped[i]) - ord(\"0\"))\n",
    "\n",
    "print(f\"stack = {stack}\")"
   ]
  },
  {
   "cell_type": "code",
   "execution_count": 27,
   "metadata": {},
   "outputs": [
    {
     "name": "stdout",
     "output_type": "stream",
     "text": [
      "temp = 3\n",
      "temp = 2\n",
      "temp = 1\n"
     ]
    }
   ],
   "source": [
    "number = 0\n",
    "power10 = 1\n",
    "\n",
    "while stack:\n",
    "    temp = stack.pop()\n",
    "    print(f\"temp = {temp}\")\n",
    "    number += temp\n",
    "    power10 *= 10\n",
    "# print(f\"number = {number}\")"
   ]
  },
  {
   "cell_type": "code",
   "execution_count": 38,
   "metadata": {},
   "outputs": [
    {
     "name": "stdout",
     "output_type": "stream",
     "text": [
      "number = 123\n"
     ]
    }
   ],
   "source": [
    "number = 0\n",
    "power10 = 1\n",
    "\n",
    "while stack:\n",
    "    temp = stack.pop() * power10\n",
    "    # print(f\"temp = {temp}\")\n",
    "    number += temp\n",
    "    # print(f\"number = {number}\")\n",
    "    power10 *= 10\n",
    "print(f\"number = {number}\")"
   ]
  },
  {
   "cell_type": "code",
   "execution_count": 1,
   "metadata": {},
   "outputs": [
    {
     "data": {
      "text/plain": [
       "0"
      ]
     },
     "execution_count": 1,
     "metadata": {},
     "output_type": "execute_result"
    }
   ],
   "source": [
    "class Solution:\n",
    "    def myAtoi(self, string: str) -> int:       \n",
    "        minimum = -2 ** 31\n",
    "        maximum = 2 ** 31 - 1\n",
    "        \n",
    "        string_stripped = string.strip()\n",
    "        stack = []\n",
    "        sign = 1\n",
    "        i_start = 0\n",
    "        if string_stripped[0] == \"-\":\n",
    "            sign = -1\n",
    "            i_start = 1\n",
    "\n",
    "        for i in range(i_start, len(string_stripped)):\n",
    "            if string_stripped[i].isnumeric() == False:\n",
    "                break\n",
    "            else:\n",
    "                stack.append(ord(string_stripped[i]) - ord(\"0\"))\n",
    "\n",
    "        number = 0\n",
    "        power10 = 1\n",
    "        while stack:\n",
    "            temp = stack.pop() * power10\n",
    "            number += temp\n",
    "            power10 *= 10\n",
    "        \n",
    "        if number < minimum:\n",
    "            return minimum\n",
    "        if number > maximum:\n",
    "            return maximum\n",
    "        \n",
    "        return sign * number\n",
    "\n",
    "string = \"words and 987\"\n",
    "# string = \"-91283472332\"\n",
    "solution = Solution()\n",
    "solution.myAtoi(string)"
   ]
  },
  {
   "cell_type": "code",
   "execution_count": 2,
   "metadata": {},
   "outputs": [
    {
     "name": "stdout",
     "output_type": "stream",
     "text": [
      "-100\n"
     ]
    }
   ],
   "source": [
    "x = -1\n",
    "a = 100 if x > 0 else -100\n",
    "print(a)\n",
    "\n",
    "# -2 ** 4"
   ]
  },
  {
   "cell_type": "markdown",
   "metadata": {},
   "source": [
    "### Submitted solution\n",
    "\n",
    "Accepted by LeetCode: Runtime: 32 ms, faster than 76.13% of Python3 online submissions for String to Integer (atoi).  \n",
    "Memory Usage: 14 MB, less than 8.33% of Python3 online submissions for String to Integer (atoi)."
   ]
  },
  {
   "cell_type": "code",
   "execution_count": 5,
   "metadata": {},
   "outputs": [
    {
     "data": {
      "text/plain": [
       "0"
      ]
     },
     "execution_count": 5,
     "metadata": {},
     "output_type": "execute_result"
    }
   ],
   "source": [
    "class Solution:\n",
    "    def myAtoi(self, string: str) -> int:      \n",
    "        string_stripped = string.strip()\n",
    "\n",
    "        if len(string_stripped) == 0:\n",
    "            return 0\n",
    "\n",
    "        stack = []\n",
    "        sign = 1\n",
    "        i_start = 0\n",
    "        if string_stripped[0] == \"-\":\n",
    "            sign = -1\n",
    "            i_start = 1\n",
    "\n",
    "        if string_stripped[0] == \"+\":\n",
    "            i_start = 1\n",
    "\n",
    "        for i in range(i_start, len(string_stripped)):\n",
    "            if string_stripped[i].isnumeric() == False:\n",
    "                break\n",
    "            else:\n",
    "                stack.append(ord(string_stripped[i]) - ord(\"0\"))\n",
    "\n",
    "        max_number = 2 ** 31 - 1\n",
    "        if sign == -1:\n",
    "            max_number = 2 ** 31\n",
    "\n",
    "        number = 0\n",
    "        power10 = 1\n",
    "        while stack:\n",
    "            temp = stack.pop() * power10\n",
    "            complement = max_number - number\n",
    "            if temp > complement:\n",
    "                if sign > 0:\n",
    "                    return 2 ** 31 - 1\n",
    "                else:\n",
    "                    return -2 ** 31\n",
    "            number += temp\n",
    "            power10 *= 10\n",
    "        \n",
    "        return sign * number\n",
    "\n",
    "# string = \"words and 987\"\n",
    "# string = \"-91283472332\"\n",
    "string = \"-\"\n",
    "solution = Solution()\n",
    "solution.myAtoi(string)"
   ]
  },
  {
   "cell_type": "code",
   "execution_count": 10,
   "metadata": {},
   "outputs": [
    {
     "name": "stdout",
     "output_type": "stream",
     "text": [
      "10000000\n",
      "128\n",
      "0\n"
     ]
    }
   ],
   "source": [
    "b = b'10000000'\n",
    "print(int(b))\n",
    "\n",
    "b = 0x80\n",
    "print(b)\n",
    "\n",
    "b = 0x0\n",
    "print(b)"
   ]
  }
 ],
 "metadata": {
  "kernelspec": {
   "display_name": "Python 3",
   "language": "python",
   "name": "python3"
  },
  "language_info": {
   "codemirror_mode": {
    "name": "ipython",
    "version": 3
   },
   "file_extension": ".py",
   "mimetype": "text/x-python",
   "name": "python",
   "nbconvert_exporter": "python",
   "pygments_lexer": "ipython3",
   "version": "3.6.1"
  }
 },
 "nbformat": 4,
 "nbformat_minor": 2
}
