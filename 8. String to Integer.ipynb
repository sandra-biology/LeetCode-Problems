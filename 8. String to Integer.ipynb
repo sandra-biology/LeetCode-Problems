{
 "cells": [
  {
   "cell_type": "code",
   "execution_count": 1,
   "metadata": {},
   "outputs": [
    {
     "ename": "TypeError",
     "evalue": "unsupported operand type(s) for -: 'str' and 'str'",
     "output_type": "error",
     "traceback": [
      "\u001b[1;31m---------------------------------------------------------------------------\u001b[0m",
      "\u001b[1;31mTypeError\u001b[0m                                 Traceback (most recent call last)",
      "\u001b[1;32m<ipython-input-1-3250915f9143>\u001b[0m in \u001b[0;36m<module>\u001b[1;34m()\u001b[0m\n\u001b[1;32m----> 1\u001b[1;33m \u001b[0mn\u001b[0m \u001b[1;33m=\u001b[0m \u001b[1;34m'8'\u001b[0m \u001b[1;33m-\u001b[0m \u001b[1;34m'0'\u001b[0m\u001b[1;33m\u001b[0m\u001b[0m\n\u001b[0m\u001b[0;32m      2\u001b[0m \u001b[0mprint\u001b[0m\u001b[1;33m(\u001b[0m\u001b[0mn\u001b[0m\u001b[1;33m)\u001b[0m\u001b[1;33m\u001b[0m\u001b[0m\n",
      "\u001b[1;31mTypeError\u001b[0m: unsupported operand type(s) for -: 'str' and 'str'"
     ]
    }
   ],
   "source": [
    "n = '8' - '0'\n",
    "print(n)"
   ]
  },
  {
   "cell_type": "code",
   "execution_count": 9,
   "metadata": {},
   "outputs": [
    {
     "name": "stdout",
     "output_type": "stream",
     "text": [
      "s original:    -42\n",
      "s_stripped: -42\n"
     ]
    }
   ],
   "source": [
    "class Solution:\n",
    "    def myAtoi(self, str: str) -> int:\n",
    "        minimum = -2 ** 31\n",
    "        maximum = -2 ** 31 - 1\n",
    "        print(f\"s original: {s}\")\n",
    "        s_stripped = s.lstrip(\" \")\n",
    "        print(f\"s_stripped: {s_stripped}\")\n",
    "\n",
    "s = \"   -42\"\n",
    "\n",
    "solution = Solution()\n",
    "solution.myAtoi(s)"
   ]
  },
  {
   "cell_type": "code",
   "execution_count": 16,
   "metadata": {
    "scrolled": true
   },
   "outputs": [
    {
     "name": "stdout",
     "output_type": "stream",
     "text": [
      "s_stripped: 4\n",
      "s_stripped: 2\n",
      "\n"
     ]
    }
   ],
   "source": [
    "s = \"   -42\"\n",
    "s_stripped = s.lstrip(\" \")\n",
    "\n",
    "for symbol in s_stripped:\n",
    "    if symbol.isnumeric():\n",
    "        print(f\"s_stripped: {symbol}\")\n",
    "\n",
    "print()\n",
    "string1 = \"4193 with words\"\n",
    "string1_stripped = string1.lstrip(\" \")\n",
    "for symbol in string1_stripped:\n",
    "    # print(symbol)\n",
    "    if string1_stripped.isnumeric():\n",
    "        print(f\"string1_stripped: {symbol}\")\n",
    "\n",
    "s = \"   -42\"\n",
    "s_stripped = s.lstrip(\" \")\n",
    "sign = s_stripped[0]\n",
    "\n"
   ]
  }
 ],
 "metadata": {
  "kernelspec": {
   "display_name": "Python 3",
   "language": "python",
   "name": "python3"
  },
  "language_info": {
   "codemirror_mode": {
    "name": "ipython",
    "version": 3
   },
   "file_extension": ".py",
   "mimetype": "text/x-python",
   "name": "python",
   "nbconvert_exporter": "python",
   "pygments_lexer": "ipython3",
   "version": "3.6.1"
  }
 },
 "nbformat": 4,
 "nbformat_minor": 2
}
