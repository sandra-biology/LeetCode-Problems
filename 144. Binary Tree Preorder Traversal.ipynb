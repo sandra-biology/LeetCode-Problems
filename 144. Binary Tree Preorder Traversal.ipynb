{
 "cells": [
  {
   "cell_type": "code",
   "execution_count": 17,
   "metadata": {},
   "outputs": [
    {
     "name": "stdout",
     "output_type": "stream",
     "text": [
      "original tree: [[1], [4, 2], [5, 6, 3, 7]]\n",
      "root.val = 1\n",
      "root.val = 4\n",
      "root.val = 5\n",
      "root.val = 6\n",
      "root.val = 2\n",
      "root.val = 3\n",
      "root.val = 7\n"
     ]
    }
   ],
   "source": [
    "from typing import List\n",
    "\n",
    "class TreeNode:\n",
    "    def __init__(self, val=0, left=None, right=None):\n",
    "        self.val = val\n",
    "        self.left = left\n",
    "        self.right = right\n",
    "\n",
    "class Solution:\n",
    "    def levelOrder(self, root: TreeNode) -> List[List[int]]:\n",
    "        queue = deque([root])\n",
    "        level = []\n",
    "        list_node_values = []\n",
    "        \n",
    "        while queue:\n",
    "            level = []\n",
    "            n = len(queue)\n",
    "            for i in range(n):\n",
    "                node = queue.popleft()\n",
    "\n",
    "                if node:\n",
    "                    level.append(node.val)\n",
    "\n",
    "                    queue.append(node.left)\n",
    "                    queue.append(node.right)\n",
    "            \n",
    "            list_node_values.append(level)\n",
    "            \n",
    "        return list_node_values[:-1]\n",
    "\n",
    "    def preorderTraversal(self, root: TreeNode) -> List[int]:\n",
    "        \n",
    "        # termination of recursion\n",
    "        if root is None:\n",
    "            return\n",
    "        \n",
    "        print(f\"root.val = {root.val}\")\n",
    "        self.preorderTraversal(root.left)\n",
    "        self.preorderTraversal(root.right)\n",
    "\n",
    "root = TreeNode(1)\n",
    "root.left = TreeNode(4)\n",
    "root.right = TreeNode(2)\n",
    "root.left.left = TreeNode(5)\n",
    "root.left.right = TreeNode(6)\n",
    "root.right.left = TreeNode(3)\n",
    "root.right.right = TreeNode(7)\n",
    "\n",
    "solution = Solution()\n",
    "print(f\"original tree: {solution.levelOrder(root)}\")\n",
    "solution.preorderTraversal(root)"
   ]
  },
  {
   "cell_type": "code",
   "execution_count": 3,
   "metadata": {},
   "outputs": [
    {
     "name": "stdout",
     "output_type": "stream",
     "text": [
      "list_node_values before = [1]\n",
      "list_node_values after =  [1, 4, 2]\n"
     ]
    }
   ],
   "source": [
    "class TreeNode:\n",
    "    def __init__(self, val=0, left=None, right=None):\n",
    "        self.val = val\n",
    "        self.left = left\n",
    "        self.right = right\n",
    "\n",
    "class Solution:\n",
    "    def preorderTraversal(self, root: TreeNode) -> List[int]:\n",
    "        list_node_values = [root.val]\n",
    "        print(f\"list_node_values before = {list_node_values}\")\n",
    "        curr = root\n",
    "        \n",
    "        # termination of recursion\n",
    "        if root is None:\n",
    "            return\n",
    "\n",
    "        if curr.left is not None:\n",
    "            list_node_values.append(curr.left.val)\n",
    "\n",
    "        if curr.right is not None:\n",
    "            list_node_values.append(curr.right.val)\n",
    "\n",
    "        print(f\"list_node_values after =  {list_node_values}\")\n",
    "        \n",
    "        \n",
    "        \n",
    "        \n",
    "        \n",
    "#         print(f\"curr.val = {curr.val}\")\n",
    "#         left_node_values = self.preorderTraversal(curr.left)\n",
    "#         right_node_values = self.preorderTraversal(curr.right)\n",
    "#         # list_node_values.append(curr.val)\n",
    "#         print(f\"left_node_values = {left_node_values}\")\n",
    "#         print(f\"right_node_values = {right_node_values}\")\n",
    "\n",
    "root = TreeNode(1)\n",
    "root.left = TreeNode(4)\n",
    "root.right = TreeNode(2)\n",
    "root.left.left = TreeNode(5)\n",
    "root.left.right = TreeNode(6)\n",
    "root.right.left = TreeNode(3)\n",
    "root.right.right = TreeNode(7)\n",
    "\n",
    "solution = Solution()\n",
    "solution.preorderTraversal(root)"
   ]
  },
  {
   "cell_type": "code",
   "execution_count": 20,
   "metadata": {},
   "outputs": [
    {
     "name": "stdout",
     "output_type": "stream",
     "text": [
      "list_node_values before = []\n",
      "list_node_values before = []\n",
      "list_node_values before = []\n",
      "list_node_values after =  [<__main__.TreeNode object at 0x0000018A7DCE12E8>]\n",
      "[<__main__.TreeNode object at 0x0000018A7DCE12E8>]\n",
      "list_node_values before = []\n",
      "list_node_values after =  [<__main__.TreeNode object at 0x0000018A7DCE1128>]\n",
      "list_node_values after =  [<__main__.TreeNode object at 0x0000018A7DCE1198>]\n",
      "[<__main__.TreeNode object at 0x0000018A7DCE1198>]\n",
      "list_node_values before = []\n",
      "list_node_values before = []\n",
      "list_node_values after =  [<__main__.TreeNode object at 0x0000018A7DCE11D0>]\n",
      "[<__main__.TreeNode object at 0x0000018A7DCE11D0>]\n",
      "list_node_values before = []\n",
      "list_node_values after =  [<__main__.TreeNode object at 0x0000018A7DCE12B0>]\n",
      "list_node_values after =  [<__main__.TreeNode object at 0x0000018A7DCE1208>]\n",
      "list_node_values after =  [<__main__.TreeNode object at 0x0000018A7DCE8550>]\n"
     ]
    },
    {
     "data": {
      "text/plain": [
       "[<__main__.TreeNode at 0x18a7dce8550>]"
      ]
     },
     "execution_count": 20,
     "metadata": {},
     "output_type": "execute_result"
    }
   ],
   "source": [
    "class TreeNode:\n",
    "    def __init__(self, val=0, left=None, right=None):\n",
    "        self.val = val\n",
    "        self.left = left\n",
    "        self.right = right\n",
    "\n",
    "class Solution:\n",
    "    def preorderTraversal(self, root: TreeNode) -> List[int]:\n",
    "        list_node_values = []\n",
    "        print(f\"list_node_values before = {list_node_values}\")\n",
    "        left_node_values = []\n",
    "        right_node_values = []\n",
    "        \n",
    "        if root is None:\n",
    "            return\n",
    "        \n",
    "        list_node_values.append(root)\n",
    "        curr = root\n",
    "        \n",
    "        if curr.left is not None:\n",
    "            left_node_values = self.preorderTraversal(curr.left)\n",
    "            print(left_node_values)\n",
    "        if curr.right is not None:\n",
    "            right_node_values = self.preorderTraversal(curr.right)\n",
    "        \n",
    "        # list_node_values.extend(left_node_values)\n",
    "        # list_node_values.extend(right_node_values)\n",
    "        print(f\"list_node_values after =  {list_node_values}\")\n",
    "        return list_node_values\n",
    "        \n",
    "        \n",
    "        \n",
    "        \n",
    "#         print(f\"curr.val = {curr.val}\")\n",
    "#         left_node_values = self.preorderTraversal(curr.left)\n",
    "#         right_node_values = self.preorderTraversal(curr.right)\n",
    "#         # list_node_values.append(curr.val)\n",
    "#         print(f\"left_node_values = {left_node_values}\")\n",
    "#         print(f\"right_node_values = {right_node_values}\")\n",
    "\n",
    "root = TreeNode(1)\n",
    "root.left = TreeNode(4)\n",
    "root.right = TreeNode(2)\n",
    "root.left.left = TreeNode(5)\n",
    "root.left.right = TreeNode(6)\n",
    "root.right.left = TreeNode(3)\n",
    "root.right.right = TreeNode(7)\n",
    "\n",
    "solution = Solution()\n",
    "solution.preorderTraversal(root)"
   ]
  },
  {
   "cell_type": "code",
   "execution_count": 3,
   "metadata": {},
   "outputs": [
    {
     "name": "stdout",
     "output_type": "stream",
     "text": [
      "original tree: [[1], [4, 2], [5, 6, 3, 7]]\n",
      "root.val = 1\n",
      "root.val = 4\n",
      "root.val = 5\n",
      "root.val = 6\n",
      "root.val = 2\n",
      "root.val = 3\n",
      "root.val = 7\n",
      "preorderTraversal_list: [1, 4, 5, 6, 2, 3, 7]\n",
      "list_node_values after =  [5]\n",
      "list_node_values after =  [6]\n",
      "list_node_values after =  [4, 5, 6]\n",
      "list_node_values after =  [3]\n",
      "list_node_values after =  [7]\n",
      "list_node_values after =  [2, 3, 7]\n",
      "list_node_values after =  [1, 4, 5, 6, 2, 3, 7]\n",
      "preorderTraversal:      [1, 4, 5, 6, 2, 3, 7]\n"
     ]
    }
   ],
   "source": [
    "from typing import List\n",
    "from collections import deque\n",
    "\n",
    "class TreeNode:\n",
    "    def __init__(self, val=0, left=None, right=None):\n",
    "        self.val = val\n",
    "        self.left = left\n",
    "        self.right = right\n",
    "\n",
    "class Solution:   \n",
    "    def levelOrder(self, root: TreeNode) -> List[List[int]]:\n",
    "        queue = deque([root])\n",
    "        level = []\n",
    "        list_node_values = []\n",
    "        \n",
    "        while queue:\n",
    "            level = []\n",
    "            n = len(queue)\n",
    "            for i in range(n):\n",
    "                node = queue.popleft()\n",
    "\n",
    "                if node:\n",
    "                    level.append(node.val)\n",
    "\n",
    "                    queue.append(node.left)\n",
    "                    queue.append(node.right)\n",
    "            \n",
    "            list_node_values.append(level)\n",
    "            \n",
    "        return list_node_values[:-1]\n",
    "    \n",
    "    def preorderTraversal_print(self, root: TreeNode) -> List[int]:\n",
    "        \n",
    "        # termination of recursion\n",
    "        if root is None:\n",
    "            return\n",
    "        \n",
    "        print(f\"root.val = {root.val}\")\n",
    "        self.preorderTraversal_print(root.left)\n",
    "        self.preorderTraversal_print(root.right)\n",
    "\n",
    "    def preorderTraversal_list(self, root: TreeNode) -> List[int]:\n",
    "        list_node_values = []\n",
    "        \n",
    "        # termination of recursion\n",
    "        if root is None:\n",
    "            return list_node_values\n",
    "        \n",
    "        print(f\"root.val = {root.val}\")\n",
    "        list_node_values.append(root.val)\n",
    "        list_node_values.extend(self.preorderTraversal_list(root.left))\n",
    "        list_node_values.extend(self.preorderTraversal_list(root.right))\n",
    "        return list_node_values\n",
    "\n",
    "    def preorderTraversal(self, root: TreeNode) -> List[int]:\n",
    "        list_node_values = []\n",
    "        \n",
    "        # termination of recursion\n",
    "        if root is None:\n",
    "            return []\n",
    "        \n",
    "        list_node_values.append(root.val)\n",
    "        \n",
    "        if root.left is not None:\n",
    "            list_node_values.extend(self.preorderTraversal(root.left))\n",
    "        if root.right is not None:\n",
    "            list_node_values.extend(self.preorderTraversal(root.right))\n",
    "        \n",
    "        # list_node_values.extend(left_node_values)\n",
    "        # list_node_values.extend(right_node_values)\n",
    "        print(f\"list_node_values after =  {list_node_values}\")\n",
    "        return list_node_values\n",
    "        \n",
    "root = TreeNode(1)\n",
    "root.left = TreeNode(4)\n",
    "root.right = TreeNode(2)\n",
    "root.left.left = TreeNode(5)\n",
    "root.left.right = TreeNode(6)\n",
    "root.right.left = TreeNode(3)\n",
    "root.right.right = TreeNode(7)\n",
    "\n",
    "solution = Solution()\n",
    "print(f\"original tree: {solution.levelOrder(root)}\")\n",
    "print(f\"preorderTraversal_list: {solution.preorderTraversal_list(root)}\")\n",
    "print(f\"preorderTraversal:      {solution.preorderTraversal(root)}\")"
   ]
  },
  {
   "cell_type": "code",
   "execution_count": 33,
   "metadata": {},
   "outputs": [
    {
     "name": "stdout",
     "output_type": "stream",
     "text": [
      "[100, 10]\n"
     ]
    }
   ],
   "source": [
    "a = [100]\n",
    "a.extend([10])\n",
    "print(a)"
   ]
  },
  {
   "cell_type": "code",
   "execution_count": 5,
   "metadata": {},
   "outputs": [
    {
     "data": {
      "text/plain": [
       "[1, 4, 5, 6, 2, 3, 7]"
      ]
     },
     "execution_count": 5,
     "metadata": {},
     "output_type": "execute_result"
    }
   ],
   "source": [
    "# for LeetCode\n",
    "from typing import List\n",
    "\n",
    "class TreeNode:\n",
    "    def __init__(self, val=0, left=None, right=None):\n",
    "        self.val = val\n",
    "        self.left = left\n",
    "        self.right = right\n",
    "\n",
    "class Solution:   \n",
    "    def preorderTraversal(self, root: TreeNode) -> List[int]:\n",
    "        list_node_values = []\n",
    "        \n",
    "        # termination of recursion\n",
    "        if root is None:\n",
    "            return []\n",
    "        \n",
    "        list_node_values.append(root.val)\n",
    "        \n",
    "        if root.left is not None:\n",
    "            list_node_values.extend(self.preorderTraversal(root.left))\n",
    "        if root.right is not None:\n",
    "            list_node_values.extend(self.preorderTraversal(root.right))\n",
    "        \n",
    "        return list_node_values\n",
    "        \n",
    "root = TreeNode(1)\n",
    "root.left = TreeNode(4)\n",
    "root.right = TreeNode(2)\n",
    "root.left.left = TreeNode(5)\n",
    "root.left.right = TreeNode(6)\n",
    "root.right.left = TreeNode(3)\n",
    "root.right.right = TreeNode(7)\n",
    "\n",
    "solution = Solution()\n",
    "solution.preorderTraversal(root)"
   ]
  },
  {
   "cell_type": "markdown",
   "metadata": {},
   "source": [
    "### Submitted solution\n",
    "\n",
    "Accepted by LeetCode: Runtime: 32 ms, faster than 41.93% of Python3 online submissions for Binary Tree Preorder Traversal.  \n",
    "Memory Usage: 14 MB, less than 6.52% of Python3 online submissions for Binary Tree Preorder Traversal."
   ]
  },
  {
   "cell_type": "code",
   "execution_count": 1,
   "metadata": {},
   "outputs": [
    {
     "data": {
      "text/plain": [
       "[1, 2, 3]"
      ]
     },
     "execution_count": 1,
     "metadata": {},
     "output_type": "execute_result"
    }
   ],
   "source": [
    "from typing import List\n",
    "\n",
    "class TreeNode:\n",
    "    def __init__(self, val=0, left=None, right=None):\n",
    "        self.val = val\n",
    "        self.left = left\n",
    "        self.right = right\n",
    "\n",
    "class Solution:   \n",
    "    def preorderTraversal(self, root: TreeNode) -> List[int]:\n",
    "        list_node_values = []\n",
    "        \n",
    "        # termination of recursion\n",
    "        if root is None:\n",
    "            return []\n",
    "        \n",
    "        list_node_values.append(root.val)\n",
    "        \n",
    "        if root.left is not None:\n",
    "            list_node_values.extend(self.preorderTraversal(root.left))\n",
    "        if root.right is not None:\n",
    "            list_node_values.extend(self.preorderTraversal(root.right))\n",
    "        \n",
    "        return list_node_values\n",
    "        \n",
    "root = TreeNode(1)\n",
    "root.right = TreeNode(2)\n",
    "root.right.left = TreeNode(3)\n",
    "\n",
    "solution = Solution()\n",
    "solution.preorderTraversal(root)"
   ]
  },
  {
   "cell_type": "markdown",
   "metadata": {},
   "source": [
    "### Time optimized\n",
    "\n",
    "Accepted by LeetCode: Runtime: 28 ms, faster than 72.30% of Python3 online submissions for Binary Tree Preorder Traversal.  \n",
    "Memory Usage: 14 MB, less than 6.52% of Python3 online submissions for Binary Tree Preorder Traversal."
   ]
  },
  {
   "cell_type": "code",
   "execution_count": 2,
   "metadata": {},
   "outputs": [
    {
     "data": {
      "text/plain": [
       "[1, 2, 3]"
      ]
     },
     "execution_count": 2,
     "metadata": {},
     "output_type": "execute_result"
    }
   ],
   "source": [
    "from typing import List\n",
    "\n",
    "class TreeNode:\n",
    "    def __init__(self, val=0, left=None, right=None):\n",
    "        self.val = val\n",
    "        self.left = left\n",
    "        self.right = right\n",
    "\n",
    "class Solution:   \n",
    "    def preorderTraversal(self, root: TreeNode) -> List[int]:\n",
    "        # termination of recursion\n",
    "        if root is None:\n",
    "            return []\n",
    "        \n",
    "        list_node_values = [root.val]\n",
    "               \n",
    "        list_node_values.extend(self.preorderTraversal(root.left))\n",
    "        list_node_values.extend(self.preorderTraversal(root.right))\n",
    "        \n",
    "        return list_node_values\n",
    "        \n",
    "root = TreeNode(1)\n",
    "root.right = TreeNode(2)\n",
    "root.right.left = TreeNode(3)\n",
    "\n",
    "solution = Solution()\n",
    "solution.preorderTraversal(root)"
   ]
  }
 ],
 "metadata": {
  "kernelspec": {
   "display_name": "Python 3",
   "language": "python",
   "name": "python3"
  },
  "language_info": {
   "codemirror_mode": {
    "name": "ipython",
    "version": 3
   },
   "file_extension": ".py",
   "mimetype": "text/x-python",
   "name": "python",
   "nbconvert_exporter": "python",
   "pygments_lexer": "ipython3",
   "version": "3.6.1"
  }
 },
 "nbformat": 4,
 "nbformat_minor": 2
}
