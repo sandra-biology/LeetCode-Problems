{
 "cells": [
  {
   "cell_type": "code",
   "execution_count": null,
   "metadata": {
    "collapsed": true
   },
   "outputs": [],
   "source": [
    "class Solution:\n",
    "    def searchRange(self, nums: List[int], target: int) -> List[int]:\n",
    "        pass"
   ]
  },
  {
   "cell_type": "code",
   "execution_count": 1,
   "metadata": {},
   "outputs": [
    {
     "name": "stdout",
     "output_type": "stream",
     "text": [
      "i of target: 3\n",
      "i of target: 4\n"
     ]
    }
   ],
   "source": [
    "#       0   1   2   3   4   5\n",
    "nums = [50, 70, 70, 80, 80, 100]\n",
    "target = 80\n",
    "\n",
    "for i in range(len(nums)):\n",
    "    if nums[i] == target:\n",
    "        print(f\"i of target: {i}\")"
   ]
  },
  {
   "cell_type": "code",
   "execution_count": 3,
   "metadata": {},
   "outputs": [
    {
     "name": "stdout",
     "output_type": "stream",
     "text": [
      "i not found\n",
      "i not found\n",
      "i not found\n",
      "i not found\n",
      "i not found\n",
      "i not found\n"
     ]
    }
   ],
   "source": [
    "#       0   1   2   3   4   5\n",
    "nums = [50, 70, 70, 80, 80, 100]\n",
    "target = 40\n",
    "\n",
    "for i in range(len(nums)):\n",
    "    if nums[i] == target:\n",
    "        print(f\"i of target: {i}\")\n",
    "    else:\n",
    "        print(\"i not found\")"
   ]
  },
  {
   "cell_type": "code",
   "execution_count": 4,
   "metadata": {},
   "outputs": [
    {
     "data": {
      "text/plain": [
       "[3, 4]"
      ]
     },
     "execution_count": 4,
     "metadata": {},
     "output_type": "execute_result"
    }
   ],
   "source": [
    "def find_target(nums, target):\n",
    "    if target not in nums:\n",
    "        return [-1, -1]\n",
    "\n",
    "    indexes = []\n",
    "    for i in range(len(nums)):\n",
    "        if nums[i] == target:\n",
    "            indexes.append(i)\n",
    "    return indexes\n",
    "\n",
    "nums = [50, 70, 70, 80, 80, 100]\n",
    "target = 80\n",
    "find_target(nums, target)"
   ]
  },
  {
   "cell_type": "code",
   "execution_count": 5,
   "metadata": {},
   "outputs": [
    {
     "data": {
      "text/plain": [
       "[-1, -1]"
      ]
     },
     "execution_count": 5,
     "metadata": {},
     "output_type": "execute_result"
    }
   ],
   "source": [
    "def find_target(nums, target):\n",
    "    if target not in nums:\n",
    "        return [-1, -1]\n",
    "\n",
    "    indexes = []\n",
    "    for i in range(len(nums)):\n",
    "        if nums[i] == target:\n",
    "            indexes.append(i)\n",
    "    return indexes\n",
    "\n",
    "nums = [50, 70, 70, 80, 80, 100]\n",
    "target = 60\n",
    "find_target(nums, target)"
   ]
  },
  {
   "cell_type": "code",
   "execution_count": 11,
   "metadata": {},
   "outputs": [
    {
     "data": {
      "text/plain": [
       "[-1, -1]"
      ]
     },
     "execution_count": 11,
     "metadata": {},
     "output_type": "execute_result"
    }
   ],
   "source": [
    "from typing import List\n",
    "\n",
    "class Solution:\n",
    "    def searchRange(self, nums: List[int], target: int) -> List[int]:\n",
    "        if target not in nums:\n",
    "            return [-1, -1]\n",
    "\n",
    "        indexes = []\n",
    "        for i in range(len(nums)):\n",
    "            if nums[i] == target:\n",
    "                indexes.append(i)\n",
    "        return indexes\n",
    "\n",
    "nums = [50, 70, 70, 80, 80, 100]\n",
    "# target = 80\n",
    "target = 90\n",
    "\n",
    "solution = Solution()\n",
    "solution.searchRange(nums, target)"
   ]
  },
  {
   "cell_type": "code",
   "execution_count": 14,
   "metadata": {},
   "outputs": [
    {
     "data": {
      "text/plain": [
       "[3, 4]"
      ]
     },
     "execution_count": 14,
     "metadata": {},
     "output_type": "execute_result"
    }
   ],
   "source": [
    "from typing import List\n",
    "\n",
    "class Solution:\n",
    "    def searchRange(self, nums: List[int], target: int) -> List[int]:\n",
    "        i1 = i2 = -1\n",
    "        for i in range(len(nums)):\n",
    "            if nums[i] == target:\n",
    "                i1 = i2 = i\n",
    "                while nums[i2] == target:\n",
    "                    i2 += 1\n",
    "                    if i2 == len(nums):\n",
    "                        break\n",
    "                i2 -= 1\n",
    "                return [i1, i2]\n",
    "        return [i1, i2]\n",
    "                    \n",
    "#       0   1   2   3   4   5\n",
    "nums = [50, 70, 70, 80, 80, 100]\n",
    "target = 80\n",
    "# target = 90\n",
    "\n",
    "solution = Solution()\n",
    "solution.searchRange(nums, target)"
   ]
  },
  {
   "cell_type": "code",
   "execution_count": 6,
   "metadata": {},
   "outputs": [
    {
     "name": "stdout",
     "output_type": "stream",
     "text": [
      "i = 5\n",
      "set i1 = 5\n"
     ]
    },
    {
     "data": {
      "text/plain": [
       "[5, 5]"
      ]
     },
     "execution_count": 6,
     "metadata": {},
     "output_type": "execute_result"
    }
   ],
   "source": [
    "from typing import List\n",
    "\n",
    "class Solution:\n",
    "    def searchRange(self, nums: List[int], target: int) -> List[int]:\n",
    "        i1 = i2 = -1\n",
    "        for i in range(len(nums)):\n",
    "            if nums[i] == target:\n",
    "                print(f\"i = {i}\")\n",
    "                i1 = i2 = i\n",
    "                print(f\"set i1 = {i1}\")\n",
    "                for j in range(i2, len(nums)):\n",
    "                    if nums[j] == target:\n",
    "                        i2 = j\n",
    "                    else:\n",
    "                        break\n",
    "                return [i1, i2]\n",
    "        return [i1, i2]\n",
    "                    \n",
    "#       0   1   2   3   4   5\n",
    "nums = [50, 70, 70, 80, 80, 100]\n",
    "# target = 80\n",
    "# target = 90\n",
    "target = 100\n",
    "# nums = [2, 2]\n",
    "# target = 2\n",
    "\n",
    "solution = Solution()\n",
    "solution.searchRange(nums, target)"
   ]
  },
  {
   "cell_type": "markdown",
   "metadata": {},
   "source": [
    "### Brute force solution submission\n",
    "\n",
    "Accepted by LeetCode:  \n",
    "Runtime: 88 ms, faster than 68.36% of Python3 online submissions for Find First and Last Position of Element in Sorted Array.  \n",
    "Memory Usage: 15 MB, less than 89.41% of Python3 online submissions for Find First and Last Position of Element in Sorted Array."
   ]
  },
  {
   "cell_type": "code",
   "execution_count": 7,
   "metadata": {},
   "outputs": [
    {
     "data": {
      "text/plain": [
       "[5, 5]"
      ]
     },
     "execution_count": 7,
     "metadata": {},
     "output_type": "execute_result"
    }
   ],
   "source": [
    "from typing import List\n",
    "\n",
    "class Solution:\n",
    "    def searchRange(self, nums: List[int], target: int) -> List[int]:\n",
    "        i1 = i2 = -1\n",
    "        for i in range(len(nums)):\n",
    "            if nums[i] == target:\n",
    "                i1 = i2 = i\n",
    "                for j in range(i2, len(nums)):\n",
    "                    if nums[j] == target:\n",
    "                        i2 = j\n",
    "                    else:\n",
    "                        break\n",
    "                return [i1, i2]\n",
    "        return [i1, i2]\n",
    "                    \n",
    "#       0   1   2   3   4   5\n",
    "nums = [50, 70, 70, 80, 80, 100]\n",
    "# target = 80\n",
    "# target = 90\n",
    "target = 100\n",
    "# nums = [2, 2]\n",
    "# target = 2\n",
    "\n",
    "solution = Solution()\n",
    "solution.searchRange(nums, target)"
   ]
  },
  {
   "cell_type": "markdown",
   "metadata": {},
   "source": [
    "### Second submission\n",
    "Beautified solution\n",
    "\n",
    "Accepted by LeetCode:  \n",
    "Runtime: 84 ms, faster than 86.43% of Python3 online submissions for Find First and Last Position of Element in Sorted Array.  \n",
    "Memory Usage: 14.9 MB, less than 97.76% of Python3 online submissions for Find First and Last Position of Element in Sorted Array."
   ]
  },
  {
   "cell_type": "code",
   "execution_count": 16,
   "metadata": {},
   "outputs": [
    {
     "data": {
      "text/plain": [
       "[3, 4]"
      ]
     },
     "execution_count": 16,
     "metadata": {},
     "output_type": "execute_result"
    }
   ],
   "source": [
    "from typing import List\n",
    "\n",
    "class Solution:\n",
    "    def searchRange(self, nums: List[int], target: int) -> List[int]:\n",
    "        i1 = i2 = -1\n",
    "        for i in range(len(nums)):\n",
    "            if nums[i] == target:\n",
    "                i1 = i2 = i\n",
    "                for j in range(i2, len(nums)):\n",
    "                    if nums[j] == target:\n",
    "                        i2 = j\n",
    "                    else:\n",
    "                        return [i1, i2]\n",
    "                break\n",
    "        return [i1, i2]  # return [-1, -1]\n",
    "                    \n",
    "#       0   1   2   3   4   5\n",
    "nums = [50, 70, 70, 80, 80, 100]\n",
    "target = 80\n",
    "# target = 100\n",
    "# target = 90\n",
    "# nums = [2, 2]\n",
    "# target = 2\n",
    "\n",
    "solution = Solution()\n",
    "solution.searchRange(nums, target)"
   ]
  }
 ],
 "metadata": {
  "kernelspec": {
   "display_name": "Python 3",
   "language": "python",
   "name": "python3"
  },
  "language_info": {
   "codemirror_mode": {
    "name": "ipython",
    "version": 3
   },
   "file_extension": ".py",
   "mimetype": "text/x-python",
   "name": "python",
   "nbconvert_exporter": "python",
   "pygments_lexer": "ipython3",
   "version": "3.6.1"
  }
 },
 "nbformat": 4,
 "nbformat_minor": 2
}
