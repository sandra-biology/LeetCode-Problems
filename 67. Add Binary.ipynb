{
 "cells": [
  {
   "cell_type": "code",
   "execution_count": 10,
   "metadata": {},
   "outputs": [
    {
     "name": "stdout",
     "output_type": "stream",
     "text": [
      "a_list: ['1', '0', '1', '0'], b_list: ['110']\n",
      "n1: [1, 0, 1, 0]\n",
      "n2: [1, 1, 0]\n",
      "digit_n1: 0, digit_n2: 0, digit_carry: 0\n",
      "n1: [1, 0, 1], n2: [1, 1], carry: []\n",
      "digit_n1: 1, digit_n2: 1, digit_carry: 0\n",
      "n1: [1, 0], n2: [1], carry: [1]\n",
      "digit_n1: 0, digit_n2: 1, digit_carry: 1\n",
      "n1: [1], n2: [], carry: [1]\n",
      "digit_n1: 1, digit_n2: 0, digit_carry: 1\n",
      "n1: [], n2: [], carry: [1]\n",
      "digit_n1: 0, digit_n2: 0, digit_carry: 1\n",
      "n1: [], n2: [], carry: []\n",
      "result: [0, 0, 0, 0, 1]\n"
     ]
    },
    {
     "data": {
      "text/plain": [
       "'10000'"
      ]
     },
     "execution_count": 10,
     "metadata": {},
     "output_type": "execute_result"
    }
   ],
   "source": [
    "class Solution:\n",
    "    def addBinary(self, a: str, b: str) -> str:\n",
    "        # cast a and b as integers\n",
    "        # add a and b to stack\n",
    "        a_list = list(a)\n",
    "        b_list = b.split()\n",
    "        print(f\"a_list: {a_list}, b_list: {b_list}\")\n",
    "        n1 = []\n",
    "        for c in list(a):\n",
    "            n1.append(int(c))\n",
    "        print(f\"n1: {n1}\")\n",
    "        n2 = []\n",
    "        for c in list(b):\n",
    "            n2.append(int(c))\n",
    "        print(f\"n2: {n2}\")\n",
    "        \n",
    "        carry = []\n",
    "        result = []\n",
    "        output = \"\"\n",
    "        # addition_table = {0: (0, 0), 1: (1, 0), 2: (0, 1), 3: (1, 1)}\n",
    "        \n",
    "        while len(n1) or len(n2) or len(carry):\n",
    "            digit_n1 = 0\n",
    "            if len(n1):\n",
    "                digit_n1 = n1.pop()\n",
    "            digit_n2 = 0\n",
    "            if len(n2):\n",
    "                digit_n2 = n2.pop()\n",
    "            digit_carry = 0\n",
    "            if len(carry):\n",
    "                digit_carry = carry.pop()\n",
    "            sum = digit_n1 + digit_n2 + digit_carry\n",
    "            print(f\"digit_n1: {digit_n1}, digit_n2: {digit_n2}, digit_carry: {digit_carry}\")\n",
    "            \n",
    "            if sum == 0:\n",
    "                result.append(0)\n",
    "            elif sum == 1:\n",
    "                result.append(1)\n",
    "            elif sum == 2:\n",
    "                result.append(0)\n",
    "                carry.append(1)\n",
    "            else:\n",
    "                result.append(1)\n",
    "                carry.append(1)\n",
    "        \n",
    "            print(f\"n1: {n1}, n2: {n2}, carry: {carry}\")\n",
    "\n",
    "        print(f\"result: {result}\")\n",
    "        while len(result):\n",
    "            output += str(result.pop())\n",
    "        \n",
    "        return output\n",
    "\n",
    "solution = Solution()\n",
    "a = \"1010\"\n",
    "b = \"110\"\n",
    "solution.addBinary(a, b)"
   ]
  },
  {
   "cell_type": "markdown",
   "metadata": {},
   "source": [
    "### First submission\n",
    "Can be time optimized\n",
    "\n",
    "Accepted by LeetCode: Runtime: 36 ms, faster than 33.49% of Python3 online submissions  \n",
    "                      Memory Usage: 13.8 MB, less than 5.41% of Python3 online submissions"
   ]
  },
  {
   "cell_type": "code",
   "execution_count": 12,
   "metadata": {},
   "outputs": [
    {
     "data": {
      "text/plain": [
       "'10000'"
      ]
     },
     "execution_count": 12,
     "metadata": {},
     "output_type": "execute_result"
    }
   ],
   "source": [
    "class Solution:\n",
    "    def addBinary(self, a: str, b: str) -> str:\n",
    "        n1 = []\n",
    "        for c in list(a):\n",
    "            n1.append(int(c))\n",
    "        n2 = []\n",
    "        for c in list(b):\n",
    "            n2.append(int(c))\n",
    "        \n",
    "        carry = []\n",
    "        result = []\n",
    "        \n",
    "        while len(n1) or len(n2) or len(carry):\n",
    "            digit_n1 = 0\n",
    "            if len(n1):\n",
    "                digit_n1 = n1.pop()\n",
    "            digit_n2 = 0\n",
    "            if len(n2):\n",
    "                digit_n2 = n2.pop()\n",
    "            digit_carry = 0\n",
    "            if len(carry):\n",
    "                digit_carry = carry.pop()\n",
    "            sum = digit_n1 + digit_n2 + digit_carry\n",
    "            \n",
    "            if sum == 0:\n",
    "                result.append(0)\n",
    "            elif sum == 1:\n",
    "                result.append(1)\n",
    "            elif sum == 2:\n",
    "                result.append(0)\n",
    "                carry.append(1)\n",
    "            else:\n",
    "                result.append(1)\n",
    "                carry.append(1)\n",
    "        \n",
    "        output = \"\"\n",
    "        while len(result):\n",
    "            output += str(result.pop())\n",
    "        \n",
    "        return output\n",
    "\n",
    "solution = Solution()\n",
    "a = \"1010\"\n",
    "b = \"110\"\n",
    "solution.addBinary(a, b)"
   ]
  },
  {
   "cell_type": "code",
   "execution_count": 14,
   "metadata": {},
   "outputs": [
    {
     "data": {
      "text/plain": [
       "'10000'"
      ]
     },
     "execution_count": 14,
     "metadata": {},
     "output_type": "execute_result"
    }
   ],
   "source": [
    "class Solution:\n",
    "    def addBinary(self, a: str, b: str) -> str:\n",
    "        n1 = []\n",
    "        for c in list(a):\n",
    "            n1.append(int(c))\n",
    "        n2 = []\n",
    "        for c in list(b):\n",
    "            n2.append(int(c))\n",
    "        \n",
    "        carry = 0\n",
    "        result = []\n",
    "        \n",
    "        while len(n1) or len(n2) or carry:\n",
    "            if len(n1):\n",
    "                digit_n1 = n1.pop()\n",
    "            else:\n",
    "                digit_n1 = 0\n",
    "            if len(n2):\n",
    "                digit_n2 = n2.pop()\n",
    "            else:\n",
    "                digit_n2 = 0\n",
    "            sum = digit_n1 + digit_n2 + carry\n",
    "            carry = 0\n",
    "            \n",
    "            if sum == 0:\n",
    "                result.append(0)\n",
    "            elif sum == 1:\n",
    "                result.append(1)\n",
    "            elif sum == 2:\n",
    "                result.append(0)\n",
    "                carry = 1\n",
    "            else:\n",
    "                result.append(1)\n",
    "                carry = 1\n",
    "        \n",
    "        output = \"\"\n",
    "        while len(result):\n",
    "            output += str(result.pop())\n",
    "        \n",
    "        return output\n",
    "\n",
    "solution = Solution()\n",
    "a = \"1010\"\n",
    "b = \"110\"\n",
    "solution.addBinary(a, b)"
   ]
  },
  {
   "cell_type": "code",
   "execution_count": 11,
   "metadata": {},
   "outputs": [
    {
     "name": "stdout",
     "output_type": "stream",
     "text": [
      "[1, 2, 3]\n"
     ]
    }
   ],
   "source": [
    "print(str([1, 2, 3]))"
   ]
  }
 ],
 "metadata": {
  "kernelspec": {
   "display_name": "Python 3",
   "language": "python",
   "name": "python3"
  },
  "language_info": {
   "codemirror_mode": {
    "name": "ipython",
    "version": 3
   },
   "file_extension": ".py",
   "mimetype": "text/x-python",
   "name": "python",
   "nbconvert_exporter": "python",
   "pygments_lexer": "ipython3",
   "version": "3.6.1"
  }
 },
 "nbformat": 4,
 "nbformat_minor": 2
}
