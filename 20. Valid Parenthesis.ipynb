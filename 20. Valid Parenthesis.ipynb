{
 "cells": [
  {
   "cell_type": "code",
   "execution_count": 1,
   "metadata": {},
   "outputs": [
    {
     "name": "stdout",
     "output_type": "stream",
     "text": [
      "s_list: ['(', ')']\n",
      "popped_list: [')']\n",
      "length of popped_list: 1\n",
      "popped_list: [')', '(']\n",
      "length of popped_list: 2\n",
      "pairs: [')', '(']\n",
      "False\n"
     ]
    }
   ],
   "source": [
    "def isValid(s):\n",
    "    # function takes argument string of possible parenthesis\n",
    "    # function returns boolen (True if parenthesis match, False is they don't)\n",
    "    pairs = []\n",
    "    popped_list = []\n",
    "    s_list = list(s)\n",
    "    while len(s_list) != 0:\n",
    "        popped = s_list.pop()\n",
    "        popped_list.append(popped)\n",
    "        if len(popped_list) == 2:\n",
    "            pairs = popped_list\n",
    "\n",
    "    for i in range(len(pairs)):\n",
    "        if pairs[i] == pairs[i+1]:\n",
    "            return True\n",
    "        else:\n",
    "            return False\n",
    "\n",
    "\n",
    "s = \"()\"\n",
    "print(isValid(s))"
   ]
  },
  {
   "cell_type": "code",
   "execution_count": 2,
   "metadata": {},
   "outputs": [
    {
     "data": {
      "text/plain": [
       "True"
      ]
     },
     "execution_count": 2,
     "metadata": {},
     "output_type": "execute_result"
    }
   ],
   "source": [
    "class Solution:\n",
    "    def isValid(self, s: str) -> bool:\n",
    "        parenthesis = {\"(\": 0, \")\": 0, \"{\": 0, \"}\": 0, \"[\": 0, \"]\": 0}\n",
    "        for symbol in s:\n",
    "            parenthesis[symbol] += 1\n",
    "\n",
    "        if parenthesis[\"(\"] != parenthesis[\")\"]:\n",
    "            return False\n",
    "        else:\n",
    "            return True\n",
    "\n",
    "solution = Solution()\n",
    "# s1 = \"()\"\n",
    "# s2 = \"()[]{}\"\n",
    "# s3 = \"(]\"\n",
    "s4 = \"([)]\"\n",
    "# print(\"s1:\", solution.isValid(s1))\n",
    "# print(\"s2:\", solution.isValid(s2))\n",
    "# print(\"s3:\", solution.isValid(s3))\n",
    "solution.isValid(s4)"
   ]
  },
  {
   "cell_type": "code",
   "execution_count": 3,
   "metadata": {},
   "outputs": [
    {
     "name": "stdout",
     "output_type": "stream",
     "text": [
      "['(', '[', ')', ']']\n",
      "]\n"
     ]
    }
   ],
   "source": [
    "s = \"([)]\"\n",
    "s_list = list(s)\n",
    "print(s_list)\n",
    "\n",
    "print(s_list.pop())"
   ]
  },
  {
   "cell_type": "code",
   "execution_count": 4,
   "metadata": {},
   "outputs": [
    {
     "data": {
      "text/plain": [
       "False"
      ]
     },
     "execution_count": 4,
     "metadata": {},
     "output_type": "execute_result"
    }
   ],
   "source": [
    "def isValid(s):\n",
    "    stack = []\n",
    "    for bracket in brackets:\n",
    "        if bracket == \"(\":\n",
    "            stack.append(bracket)\n",
    "            continue\n",
    "        if bracket == \")\":\n",
    "            if len(stack) == 0:\n",
    "                return False\n",
    "            stack.pop()\n",
    "            continue\n",
    "\n",
    "    return len(stack) == 0\n",
    "\n",
    "# brackets = \"(())\"\n",
    "brackets = \"((())\"\n",
    "isValid(s)"
   ]
  },
  {
   "cell_type": "code",
   "execution_count": 5,
   "metadata": {},
   "outputs": [
    {
     "name": "stdout",
     "output_type": "stream",
     "text": [
      "[]\n"
     ]
    }
   ],
   "source": [
    "lst = [10, 20, 30, 40]\n",
    "print(lst[2:1])"
   ]
  },
  {
   "cell_type": "code",
   "execution_count": 6,
   "metadata": {},
   "outputs": [
    {
     "data": {
      "text/plain": [
       "False"
      ]
     },
     "execution_count": 6,
     "metadata": {},
     "output_type": "execute_result"
    }
   ],
   "source": [
    "class Solution:\n",
    "    def isValid(self, brackets: str) -> bool:\n",
    "        if len(brackets) == 0:\n",
    "            return True\n",
    "        \n",
    "        stack = []\n",
    "        brackets_open = [\"(\", \"{\", \"[\"]\n",
    "        brackets_closed = [\")\", \"}\", \"]\"]\n",
    "        bracket_pairs = {\")\": \"(\", \"}\": \"{\", \"]\": \"[\"}\n",
    "\n",
    "        for bracket in brackets:\n",
    "            if bracket in brackets_open:\n",
    "                stack.append(bracket)\n",
    "                continue\n",
    "            if bracket in brackets_closed:\n",
    "                if len(stack) == 0:\n",
    "                    return False\n",
    "                if bracket_pairs[bracket] != stack[-1]:\n",
    "                    return False\n",
    "                stack.pop()\n",
    "                continue\n",
    "        # print(f\"length of stack = {len(stack)}\")\n",
    "        if len(stack) == 0:\n",
    "            return True\n",
    "\n",
    "solution = Solution()\n",
    "#           0123456789\n",
    "brackets1 = \"{()[{}()]}\"\n",
    "brackets2 = \"{(})\"\n",
    "brackets3 = \"([)]\"\n",
    "brackets = \"(){}[]\"\n",
    "brackets = \"]\"\n",
    "solution.isValid(brackets)"
   ]
  },
  {
   "cell_type": "code",
   "execution_count": null,
   "metadata": {
    "collapsed": true
   },
   "outputs": [],
   "source": [
    "# example of recursive function\n",
    "def Neighbors(Pattern, d):\n",
    "    # protection\n",
    "    if d == 0:\n",
    "        return [Pattern]\n",
    "\n",
    "    # termination of recursion\n",
    "    if len(Pattern) == 1:\n",
    "        # return set('A', 'C', 'G', 'T')  # set\n",
    "        return ['A', 'C', 'G', 'T']\n",
    "\n",
    "    # recursive part\n",
    "    # Neighborhood = set()  # set\n",
    "    Neighborhood = []\n",
    "    SuffixNeighbors = Neighbors(Suffix(Pattern), d)\n",
    "\n",
    "    # assembling together\n",
    "    for Text in SuffixNeighbors:\n",
    "        if HammingDistance(Suffix(Pattern), Text) < d:  # NB: strictly less\n",
    "            for x in [\"A\", \"C\", \"G\", \"T\"]:\n",
    "                # Neighborhood.add(x + Text)  # set\n",
    "                whole_text = x + Text\n",
    "                Neighborhood.append(whole_text)\n",
    "        else:\n",
    "            # Neighborhood.add(FirstSymbol(Pattern) + Text)  # set\n",
    "            whole_text = FirstSymbol(Pattern) + Text\n",
    "            Neighborhood.append(whole_text)\n",
    "    return Neighborhood"
   ]
  },
  {
   "cell_type": "code",
   "execution_count": 8,
   "metadata": {},
   "outputs": [
    {
     "data": {
      "text/plain": [
       "True"
      ]
     },
     "execution_count": 8,
     "metadata": {},
     "output_type": "execute_result"
    }
   ],
   "source": [
    "class Solution:\n",
    "    def isValid(self, brackets: str) -> bool:\n",
    "        \"\"\"\n",
    "        Working code, but without recursion. Function takes string brackets.\n",
    "        Using stack it determines whether expression in string is valid or not and returns boolean (True or False).\n",
    "        \"\"\"\n",
    "        if len(brackets) == 0:\n",
    "            return True\n",
    "\n",
    "        stack = []\n",
    "        brackets_open = [\"(\", \"{\", \"[\"]\n",
    "        brackets_closed = [\")\", \"}\", \"]\"]\n",
    "        bracket_pairs = {\")\": \"(\", \"}\": \"{\", \"]\": \"[\"}\n",
    "\n",
    "        for bracket in brackets:\n",
    "            if bracket in brackets_open:\n",
    "                stack.append(bracket)\n",
    "                continue\n",
    "            if bracket in brackets_closed:\n",
    "                if len(stack) == 0:\n",
    "                    return False\n",
    "                if bracket_pairs[bracket] != stack[-1]:\n",
    "                    return False\n",
    "                stack.pop()\n",
    "\n",
    "        return len(stack) == 0\n",
    "\n",
    "solution = Solution()\n",
    "brackets = \"{()[{}()]}\"\n",
    "solution.isValid(brackets)"
   ]
  },
  {
   "cell_type": "markdown",
   "metadata": {},
   "source": [
    "### First submission\n",
    "Code without recursion\n",
    "\n",
    "Accepted by LeetCode: Runtime: 32 ms, faster than 35.71% of Python3 submissions\n",
    "                      Memory Usage: 14 MB, less than 5.22% of Python3 submissions"
   ]
  },
  {
   "cell_type": "code",
   "execution_count": 8,
   "metadata": {},
   "outputs": [
    {
     "data": {
      "text/plain": [
       "True"
      ]
     },
     "execution_count": 8,
     "metadata": {},
     "output_type": "execute_result"
    }
   ],
   "source": [
    "class Solution:\n",
    "    def isValid(self, s: str) -> bool:\n",
    "        \"\"\"\n",
    "        Working code, but without recursion. Function takes string brackets.\n",
    "        Using stack it determines whether expression in string is valid or not and returns boolean (True or False).\n",
    "        \"\"\"\n",
    "        if len(s) == 0:\n",
    "            return True\n",
    "\n",
    "        stack = []\n",
    "        brackets_open = [\"(\", \"{\", \"[\"]\n",
    "        brackets_closed = [\")\", \"}\", \"]\"]\n",
    "        bracket_pairs = {\")\": \"(\", \"}\": \"{\", \"]\": \"[\"}\n",
    "\n",
    "        for bracket in s:\n",
    "            if bracket in brackets_open:\n",
    "                stack.append(bracket)\n",
    "                continue\n",
    "            if bracket in brackets_closed:\n",
    "                if len(stack) == 0:\n",
    "                    return False\n",
    "                if bracket_pairs[bracket] != stack[-1]:\n",
    "                    return False\n",
    "                stack.pop()\n",
    "\n",
    "        return len(stack) == 0\n",
    "\n",
    "solution = Solution()\n",
    "brackets = \"{()[{}()]}\"\n",
    "solution.isValid(brackets)"
   ]
  },
  {
   "cell_type": "code",
   "execution_count": 14,
   "metadata": {},
   "outputs": [
    {
     "data": {
      "text/plain": [
       "True"
      ]
     },
     "execution_count": 14,
     "metadata": {},
     "output_type": "execute_result"
    }
   ],
   "source": [
    "class Solution:\n",
    "    def isValid(self, brackets: str) -> bool:\n",
    "        \"\"\"\n",
    "        Working code, but with recursion. Function takes string brackets.\n",
    "        Using stack it determines whether expression in string is valid or not and returns boolean (True or False).\n",
    "        \"\"\"\n",
    "        if len(brackets) == 0:\n",
    "            return True\n",
    "\n",
    "        bracket_pairs = {\")\": \"(\", \"}\": \"{\", \"]\": \"[\"}\n",
    "        bracket_closed = {\"(\": \")\", \"{\": \"}\", \"[\": \"]\"}\n",
    "        bracket_open = {\"(\": \"(\", \"[\": \"[\", \"{\": \"{\"}\n",
    "        \n",
    "        stack = []\n",
    "        \n",
    "        for i in range(len(brackets)):\n",
    "            if brackets[i] == bracket_open[brackets[0]]:\n",
    "                stack.append(brackets[i])\n",
    "                continue\n",
    "            if brackets[i] in bracket_closed[brackets[0]]:\n",
    "                if len(stack) == 0:\n",
    "                    return False\n",
    "                stack.pop()\n",
    "                \n",
    "                if len(stack) == 0:\n",
    "                    if not isValid(brackets[1:i]):\n",
    "                        return False\n",
    "                    return isValid(brackets[i+1:len(brackets)])\n",
    "\n",
    "        return len(stack) == 0\n",
    "\n",
    "solution = Solution()\n",
    "# brackets = \"{()[{}()]}\"  # True\n",
    "# brackets = \"{[{}]}())\"  # False\n",
    "brackets = \"()\" # True\n",
    "solution.isValid(brackets)"
   ]
  },
  {
   "cell_type": "markdown",
   "metadata": {},
   "source": [
    "### Second/final submission\n",
    "Using recursion\n",
    "\n",
    "Accepted by LeetCode: Runtime: 2796 ms, faster than 5.34% of Python3 submissions\n",
    "                      Memory Usage: 31.8 MB, less than 5.22% of Python3 submissions"
   ]
  },
  {
   "cell_type": "code",
   "execution_count": 17,
   "metadata": {},
   "outputs": [
    {
     "data": {
      "text/plain": [
       "False"
      ]
     },
     "execution_count": 17,
     "metadata": {},
     "output_type": "execute_result"
    }
   ],
   "source": [
    "class Solution:\n",
    "    def isValid(self, s: str) -> bool:\n",
    "        \"\"\"\n",
    "        Working code, but with recursion. Function takes string s.\n",
    "        Using stack it determines whether expression in string is valid or not and returns boolean (True or False).\n",
    "        \"\"\"\n",
    "        if len(s) == 0:\n",
    "            return True\n",
    "\n",
    "        bracket_pairs = {\")\": \"(\", \"}\": \"{\", \"]\": \"[\"}\n",
    "        bracket_closed = {\"(\": \")\", \"{\": \"}\", \"[\": \"]\"}\n",
    "        bracket_open = {\"(\": \"(\", \"[\": \"[\", \"{\": \"{\"}\n",
    "        \n",
    "        stack = []\n",
    "        \n",
    "        for i in range(len(s)):\n",
    "            if s[0] not in bracket_open:\n",
    "                return False\n",
    "            if s[i] == bracket_open[s[0]]:\n",
    "                stack.append(s[i])\n",
    "                continue\n",
    "            if s[i] in bracket_closed[s[0]]:\n",
    "                if len(stack) == 0:\n",
    "                    return False\n",
    "                stack.pop()\n",
    "                \n",
    "                if len(stack) == 0:\n",
    "                    if not self.isValid(s[1:i]):\n",
    "                        return False\n",
    "                    return self.isValid(s[i+1:len(s)])\n",
    "\n",
    "        return len(stack) == 0\n",
    "\n",
    "solution = Solution()\n",
    "# s = \"{()[{}()]}\"  # True\n",
    "# s = \"{[{}]}())\"  # False\n",
    "# s = \"()\" # True\n",
    "s = \"]\"\n",
    "solution.isValid(s)"
   ]
  },
  {
   "cell_type": "code",
   "execution_count": 18,
   "metadata": {},
   "outputs": [
    {
     "name": "stdout",
     "output_type": "stream",
     "text": [
      "a is filled\n",
      "b is empty\n"
     ]
    }
   ],
   "source": [
    "a = [1, 2, 3]\n",
    "b = []\n",
    "if a:\n",
    "    print(\"a is filled\")\n",
    "else:\n",
    "    print(\"a is empty\")\n",
    "    \n",
    "if b:\n",
    "    print(\"b is filled\")\n",
    "else:\n",
    "    print(\"b is empty\")"
   ]
  }
 ],
 "metadata": {
  "kernelspec": {
   "display_name": "Python 3",
   "language": "python",
   "name": "python3"
  },
  "language_info": {
   "codemirror_mode": {
    "name": "ipython",
    "version": 3
   },
   "file_extension": ".py",
   "mimetype": "text/x-python",
   "name": "python",
   "nbconvert_exporter": "python",
   "pygments_lexer": "ipython3",
   "version": "3.6.1"
  }
 },
 "nbformat": 4,
 "nbformat_minor": 2
}
