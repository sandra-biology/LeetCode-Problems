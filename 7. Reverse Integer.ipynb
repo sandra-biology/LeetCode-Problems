{
 "cells": [
  {
   "cell_type": "code",
   "execution_count": 6,
   "metadata": {},
   "outputs": [
    {
     "data": {
      "text/plain": [
       "473"
      ]
     },
     "execution_count": 6,
     "metadata": {},
     "output_type": "execute_result"
    }
   ],
   "source": [
    "class Solution:\n",
    "    def reverse_integer(self, x: int) -> int:\n",
    "        rev_integer = \"\"\n",
    "        number = str(x)\n",
    "        for digit in number[::-1]:\n",
    "            rev_integer += digit\n",
    "        reverse_integer = int(rev_integer)\n",
    "        return reverse_integer\n",
    "\n",
    "solution = Solution()\n",
    "integer = 374\n",
    "solution.reverse_integer(integer)"
   ]
  },
  {
   "cell_type": "markdown",
   "metadata": {},
   "source": [
    "### Final Submission\n",
    "\n",
    "Accepted by LeetCode: Runtime: 32 ms, faster than 52.12% of Python3\n",
    "                      Memory Usage: 14 MB, less than 5.26% of Python3"
   ]
  },
  {
   "cell_type": "code",
   "execution_count": 5,
   "metadata": {},
   "outputs": [
    {
     "name": "stdout",
     "output_type": "stream",
     "text": [
      "   1534236469\n",
      "   2147483647\n",
      "integer1: 473\n",
      "integer2: -321\n",
      "integer3: 0\n",
      "integer4: 0\n",
      "integer5: 0\n"
     ]
    }
   ],
   "source": [
    "def reverse_integer(x):\n",
    "    if x == 0:\n",
    "        return 0\n",
    "    \n",
    "    minimum = -2 ** 31\n",
    "    maximum = 2 ** 31 - 1\n",
    "    if x < minimum or x > maximum:\n",
    "        return 0\n",
    "    \n",
    "    rev_integer = \"\"\n",
    "    neg = x < 0\n",
    "    x = abs(x)\n",
    "    \n",
    "    number = str(x).strip(\"0\")\n",
    "    reverse_integer = int(number[::-1])  # number[::-1] is inverse string\n",
    "    \n",
    "    if neg:\n",
    "        reverse_integer = -reverse_integer\n",
    "        \n",
    "    if reverse_integer < minimum or reverse_integer > maximum:\n",
    "        return 0\n",
    "    \n",
    "    return reverse_integer\n",
    "\n",
    "integer1 = 374\n",
    "integer2 = -123\n",
    "integer3 = 1534236469\n",
    "integer4 = 120\n",
    "integer5 = -2147483412\n",
    "print(\"  \", integer)\n",
    "print(\"  \", 2147483647)\n",
    "if integer < -2147483648:\n",
    "    print(f\"less than minimum\")\n",
    "if integer > 2147483647:\n",
    "    print(f\"greater than maximum\")\n",
    "print(\"integer1:\", reverse_integer(integer1))\n",
    "print(\"integer2:\", reverse_integer(integer2))\n",
    "print(\"integer3:\", reverse_integer(integer3))\n",
    "print(\"integer4:\", reverse_integer(integer3))\n",
    "print(\"integer5:\", reverse_integer(integer3))"
   ]
  }
 ],
 "metadata": {
  "kernelspec": {
   "display_name": "Python 3",
   "language": "python",
   "name": "python3"
  },
  "language_info": {
   "codemirror_mode": {
    "name": "ipython",
    "version": 3
   },
   "file_extension": ".py",
   "mimetype": "text/x-python",
   "name": "python",
   "nbconvert_exporter": "python",
   "pygments_lexer": "ipython3",
   "version": "3.6.1"
  }
 },
 "nbformat": 4,
 "nbformat_minor": 2
}
