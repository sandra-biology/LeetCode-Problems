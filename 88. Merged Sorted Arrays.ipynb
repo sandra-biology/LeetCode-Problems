{
 "cells": [
  {
   "cell_type": "code",
   "execution_count": null,
   "metadata": {
    "collapsed": true
   },
   "outputs": [],
   "source": [
    "class Solution:\n",
    "    def merge(self, nums1: List[int], m: int, nums2: List[int], n: int) -> None:\n",
    "        \"\"\"\n",
    "        Do not return anything, modify nums1 in-place instead.\n",
    "        \"\"\"\n",
    "        pass\n",
    "\n",
    "nums1 = [1,2,3,0,0,0]\n",
    "nums2 = [2,5,6]\n",
    "m = 3\n",
    "n = 3"
   ]
  },
  {
   "cell_type": "code",
   "execution_count": 12,
   "metadata": {},
   "outputs": [
    {
     "ename": "KeyboardInterrupt",
     "evalue": "",
     "output_type": "error",
     "traceback": [
      "\u001b[1;31m---------------------------------------------------------------------------\u001b[0m",
      "\u001b[1;31mKeyboardInterrupt\u001b[0m                         Traceback (most recent call last)",
      "\u001b[1;32m<ipython-input-12-b51d7a26ba36>\u001b[0m in \u001b[0;36m<module>\u001b[1;34m()\u001b[0m\n\u001b[0;32m     16\u001b[0m \u001b[0mm\u001b[0m \u001b[1;33m=\u001b[0m \u001b[1;36m3\u001b[0m\u001b[1;33m\u001b[0m\u001b[0m\n\u001b[0;32m     17\u001b[0m \u001b[0mn\u001b[0m \u001b[1;33m=\u001b[0m \u001b[1;36m3\u001b[0m\u001b[1;33m\u001b[0m\u001b[0m\n\u001b[1;32m---> 18\u001b[1;33m \u001b[0mmerge\u001b[0m\u001b[1;33m(\u001b[0m\u001b[0mnums1\u001b[0m\u001b[1;33m,\u001b[0m \u001b[0mnums2\u001b[0m\u001b[1;33m,\u001b[0m \u001b[0mm\u001b[0m\u001b[1;33m,\u001b[0m \u001b[0mn\u001b[0m\u001b[1;33m)\u001b[0m\u001b[1;33m\u001b[0m\u001b[0m\n\u001b[0m",
      "\u001b[1;32m<ipython-input-12-b51d7a26ba36>\u001b[0m in \u001b[0;36mmerge\u001b[1;34m(nums1, nums2, m, n)\u001b[0m\n\u001b[0;32m      2\u001b[0m     \u001b[0mi1\u001b[0m \u001b[1;33m=\u001b[0m \u001b[1;36m0\u001b[0m\u001b[1;33m\u001b[0m\u001b[0m\n\u001b[0;32m      3\u001b[0m     \u001b[0mi2\u001b[0m \u001b[1;33m=\u001b[0m \u001b[1;36m0\u001b[0m\u001b[1;33m\u001b[0m\u001b[0m\n\u001b[1;32m----> 4\u001b[1;33m     \u001b[1;32mwhile\u001b[0m \u001b[0mnums1\u001b[0m \u001b[1;32mand\u001b[0m \u001b[0mnums2\u001b[0m\u001b[1;33m:\u001b[0m\u001b[1;33m\u001b[0m\u001b[0m\n\u001b[0m\u001b[0;32m      5\u001b[0m         \u001b[1;32mif\u001b[0m \u001b[0mnums2\u001b[0m\u001b[1;33m[\u001b[0m\u001b[0mi1\u001b[0m\u001b[1;33m]\u001b[0m \u001b[1;33m<\u001b[0m \u001b[0mnums1\u001b[0m\u001b[1;33m[\u001b[0m\u001b[0mi1\u001b[0m\u001b[1;33m]\u001b[0m\u001b[1;33m:\u001b[0m\u001b[1;33m\u001b[0m\u001b[0m\n\u001b[0;32m      6\u001b[0m             \u001b[0mnums\u001b[0m\u001b[1;33m[\u001b[0m\u001b[0mi1\u001b[0m\u001b[1;33m+\u001b[0m\u001b[0mm\u001b[0m\u001b[1;33m]\u001b[0m \u001b[1;33m=\u001b[0m \u001b[0mnums1\u001b[0m\u001b[1;33m[\u001b[0m\u001b[0mi1\u001b[0m\u001b[1;33m]\u001b[0m\u001b[1;33m\u001b[0m\u001b[0m\n",
      "\u001b[1;31mKeyboardInterrupt\u001b[0m: "
     ]
    }
   ],
   "source": [
    "def merge(nums1, nums2, m, n):\n",
    "    i1 = 0\n",
    "    i2 = 0\n",
    "    while nums1 and nums2:\n",
    "        if nums2[i1] < nums1[i1]:\n",
    "            nums[i1+m] = nums1[i1]\n",
    "            nums1[i1] = nums2[i1]\n",
    "            i1 += 1\n",
    "    while nums2:\n",
    "        nums1[i1] = nums2[i1]\n",
    "        i1 += 1\n",
    "    print(nums1)\n",
    "\n",
    "nums1 = [1, 2, 3, 0, 0, 0]\n",
    "nums2 = [2, 5, 6]\n",
    "m = 3\n",
    "n = 3\n",
    "merge(nums1, nums2, m, n)"
   ]
  },
  {
   "cell_type": "code",
   "execution_count": 28,
   "metadata": {},
   "outputs": [
    {
     "name": "stdout",
     "output_type": "stream",
     "text": [
      "type of nums1 = <class 'list'>, type of nums2 = <class 'list'>\n",
      "nums2[i] = 2\n",
      "type of nums1 before appending = <class 'list'>\n",
      "nums1 after adding nums2 to it = [1, 2, 3, 0, 0, 2]\n",
      "type of nums1 after adding nums2 to it = <class 'list'>\n",
      "nums2[i] = 5\n",
      "type of nums1 before appending = <class 'list'>\n",
      "nums1 after adding nums2 to it = [1, 2, 3, 0, 2, 5]\n",
      "type of nums1 after adding nums2 to it = <class 'list'>\n",
      "nums2[i] = 6\n",
      "type of nums1 before appending = <class 'list'>\n",
      "nums1 after adding nums2 to it = [1, 2, 3, 2, 5, 6]\n",
      "type of nums1 after adding nums2 to it = <class 'list'>\n",
      "<class 'list'>\n",
      "[1, 2, 2, 3, 5, 6]\n"
     ]
    }
   ],
   "source": [
    "def merge(nums1, nums2, m, n):\n",
    "    print(f\"type of nums1 = {type(nums1)}, type of nums2 = {type(nums2)}\")\n",
    "    for i in range(len(nums2)):\n",
    "        print(f\"nums2[i] = {nums2[i]}\")\n",
    "        nums1.remove(0)\n",
    "        print(f\"type of nums1 before appending = {type(nums1)}\")\n",
    "        nums1.append(nums2[i])\n",
    "        print(f\"nums1 after adding nums2 to it = {nums1}\")\n",
    "        print(f\"type of nums1 after adding nums2 to it = {type(nums1)}\")\n",
    "    nums1.sort()\n",
    "    print(type(nums1))\n",
    "    print(nums1)\n",
    "\n",
    "nums1 = [1,2,3,0,0,0]\n",
    "nums2 = [2,5,6]\n",
    "m = 3\n",
    "n = 3\n",
    "merge(nums1, nums2, m, n)"
   ]
  },
  {
   "cell_type": "markdown",
   "metadata": {},
   "source": [
    "### Real Brute Force algorithm\n",
    "\n",
    "Accepted by LeetCode: Runtime: 50 ms, faster than 5.02% of Python3 online submissions  \n",
    "Memory Usage: 14 MB, less than 6.15% of Python3 online submissions"
   ]
  },
  {
   "cell_type": "code",
   "execution_count": 5,
   "metadata": {
    "collapsed": true
   },
   "outputs": [],
   "source": [
    "def merge(nums1, nums2, m, n):\n",
    "    for i in range(len(nums2)):\n",
    "        nums1.remove(0)\n",
    "        nums1.append(nums2[i])\n",
    "    nums1.sort()\n",
    "    \n",
    "\n",
    "nums1 = [1,2,3,0,0,0]\n",
    "nums2 = [2,5,6]\n",
    "m = 3\n",
    "n = 3\n",
    "merge(nums1, nums2, m, n)"
   ]
  },
  {
   "cell_type": "code",
   "execution_count": 15,
   "metadata": {},
   "outputs": [
    {
     "name": "stdout",
     "output_type": "stream",
     "text": [
      "[10, 20, 30, 40, 0, 0, 0]\n",
      "[10, 20, 30, 40, 40, 0, 0]\n",
      "[10, 20, 30, 30, 40, 0, 0]\n"
     ]
    }
   ],
   "source": [
    "a = [10, 20, 30, 40, 0, 0, 0]\n",
    "print(a)\n",
    "a[4] = 40\n",
    "print(a)\n",
    "a[3] = 30\n",
    "print(a)"
   ]
  },
  {
   "cell_type": "code",
   "execution_count": 68,
   "metadata": {},
   "outputs": [
    {
     "name": "stdout",
     "output_type": "stream",
     "text": [
      "2 1\n",
      "comparing nums1 and nums2\n",
      "5 2\n",
      "comparing nums1 and nums2\n",
      "6 3\n",
      "comparing nums1 and nums2\n"
     ]
    },
    {
     "ename": "IndexError",
     "evalue": "list index out of range",
     "output_type": "error",
     "traceback": [
      "\u001b[1;31m---------------------------------------------------------------------------\u001b[0m",
      "\u001b[1;31mIndexError\u001b[0m                                Traceback (most recent call last)",
      "\u001b[1;32m<ipython-input-68-b198743a4a4e>\u001b[0m in \u001b[0;36m<module>\u001b[1;34m()\u001b[0m\n\u001b[0;32m     21\u001b[0m \u001b[0mm\u001b[0m \u001b[1;33m=\u001b[0m \u001b[1;36m3\u001b[0m\u001b[1;33m\u001b[0m\u001b[0m\n\u001b[0;32m     22\u001b[0m \u001b[0mn\u001b[0m \u001b[1;33m=\u001b[0m \u001b[1;36m3\u001b[0m\u001b[1;33m\u001b[0m\u001b[0m\n\u001b[1;32m---> 23\u001b[1;33m \u001b[0mmerge\u001b[0m\u001b[1;33m(\u001b[0m\u001b[0mnums1\u001b[0m\u001b[1;33m,\u001b[0m \u001b[0mnums2\u001b[0m\u001b[1;33m,\u001b[0m \u001b[0mm\u001b[0m\u001b[1;33m,\u001b[0m \u001b[0mn\u001b[0m\u001b[1;33m)\u001b[0m\u001b[1;33m\u001b[0m\u001b[0m\n\u001b[0m",
      "\u001b[1;32m<ipython-input-68-b198743a4a4e>\u001b[0m in \u001b[0;36mmerge\u001b[1;34m(nums1, nums2, m, n)\u001b[0m\n\u001b[0;32m      4\u001b[0m         \u001b[1;32mif\u001b[0m \u001b[0mnums1\u001b[0m\u001b[1;33m[\u001b[0m\u001b[0mi\u001b[0m\u001b[1;33m]\u001b[0m \u001b[1;33m<\u001b[0m \u001b[0mnums2\u001b[0m\u001b[1;33m[\u001b[0m\u001b[0mi\u001b[0m\u001b[1;33m]\u001b[0m\u001b[1;33m:\u001b[0m\u001b[1;33m\u001b[0m\u001b[0m\n\u001b[0;32m      5\u001b[0m             \u001b[0mprint\u001b[0m\u001b[1;33m(\u001b[0m\u001b[1;34m\"comparing nums1 and nums2\"\u001b[0m\u001b[1;33m)\u001b[0m\u001b[1;33m\u001b[0m\u001b[0m\n\u001b[1;32m----> 6\u001b[1;33m             \u001b[0mnums1\u001b[0m\u001b[1;33m[\u001b[0m\u001b[0mi\u001b[0m\u001b[1;33m]\u001b[0m \u001b[1;33m=\u001b[0m \u001b[0mnums1\u001b[0m\u001b[1;33m[\u001b[0m\u001b[0mi\u001b[0m\u001b[1;33m+\u001b[0m\u001b[0mm\u001b[0m\u001b[1;33m]\u001b[0m\u001b[1;33m\u001b[0m\u001b[0m\n\u001b[0m\u001b[0;32m      7\u001b[0m             \u001b[0mnums1\u001b[0m\u001b[1;33m[\u001b[0m\u001b[0mi\u001b[0m\u001b[1;33m]\u001b[0m \u001b[1;33m=\u001b[0m \u001b[0mnums2\u001b[0m\u001b[1;33m[\u001b[0m\u001b[0mi\u001b[0m\u001b[1;33m]\u001b[0m\u001b[1;33m\u001b[0m\u001b[0m\n\u001b[0;32m      8\u001b[0m             \u001b[0mm\u001b[0m \u001b[1;33m+=\u001b[0m \u001b[1;36m1\u001b[0m\u001b[1;33m\u001b[0m\u001b[0m\n",
      "\u001b[1;31mIndexError\u001b[0m: list index out of range"
     ]
    }
   ],
   "source": [
    "def merge(nums1, nums2, m, n):\n",
    "    for i in range(len(nums2)):\n",
    "        print(nums2[i], nums1[i])\n",
    "        if nums1[i] < nums2[i]:\n",
    "            print(\"comparing nums1 and nums2\")\n",
    "            nums1[i] = nums1[i+m]\n",
    "            nums1[i] = nums2[i]\n",
    "            m += 1\n",
    "    print(nums1)\n",
    "#     i1 = 2\n",
    "#     for i in range(m, i1, -1):\n",
    "#         print(f\"nums1[i] = {nums1[i]}, nums2[i] = {nums2[i]}\")\n",
    "#         if nums1[i] < nums2[i]:\n",
    "#             nums1[i] = nums1[i-1]\n",
    "#             nums1[i-1] = nums2[i]\n",
    "#             m += 1\n",
    "#     print(nums1)\n",
    "\n",
    "nums1 = [1, 2, 3, 0, 0, 0]\n",
    "nums2 = [2, 5, 6]\n",
    "m = 3\n",
    "n = 3\n",
    "merge(nums1, nums2, m, n)"
   ]
  },
  {
   "cell_type": "code",
   "execution_count": 66,
   "metadata": {},
   "outputs": [
    {
     "ename": "IndexError",
     "evalue": "list index out of range",
     "output_type": "error",
     "traceback": [
      "\u001b[1;31m---------------------------------------------------------------------------\u001b[0m",
      "\u001b[1;31mIndexError\u001b[0m                                Traceback (most recent call last)",
      "\u001b[1;32m<ipython-input-66-73124d92b1d7>\u001b[0m in \u001b[0;36m<module>\u001b[1;34m()\u001b[0m\n\u001b[0;32m     18\u001b[0m \u001b[0mm\u001b[0m \u001b[1;33m=\u001b[0m \u001b[1;36m3\u001b[0m\u001b[1;33m\u001b[0m\u001b[0m\n\u001b[0;32m     19\u001b[0m \u001b[0mn\u001b[0m \u001b[1;33m=\u001b[0m \u001b[1;36m3\u001b[0m\u001b[1;33m\u001b[0m\u001b[0m\n\u001b[1;32m---> 20\u001b[1;33m \u001b[0mmerge\u001b[0m\u001b[1;33m(\u001b[0m\u001b[0mnums1\u001b[0m\u001b[1;33m,\u001b[0m \u001b[0mnums2\u001b[0m\u001b[1;33m,\u001b[0m \u001b[0mm\u001b[0m\u001b[1;33m,\u001b[0m \u001b[0mn\u001b[0m\u001b[1;33m)\u001b[0m\u001b[1;33m\u001b[0m\u001b[0m\n\u001b[0m",
      "\u001b[1;32m<ipython-input-66-73124d92b1d7>\u001b[0m in \u001b[0;36mmerge\u001b[1;34m(nums1, nums2, m, n)\u001b[0m\n\u001b[0;32m      3\u001b[0m     \u001b[0mi2\u001b[0m \u001b[1;33m=\u001b[0m \u001b[1;36m0\u001b[0m\u001b[1;33m\u001b[0m\u001b[0m\n\u001b[0;32m      4\u001b[0m     \u001b[1;32mwhile\u001b[0m \u001b[0mnums1\u001b[0m \u001b[1;32mor\u001b[0m \u001b[0mnums2\u001b[0m\u001b[1;33m:\u001b[0m\u001b[1;33m\u001b[0m\u001b[0m\n\u001b[1;32m----> 5\u001b[1;33m         \u001b[1;32mif\u001b[0m \u001b[0mnums2\u001b[0m\u001b[1;33m[\u001b[0m\u001b[0mi2\u001b[0m\u001b[1;33m]\u001b[0m \u001b[1;33m<\u001b[0m \u001b[0mnums1\u001b[0m\u001b[1;33m[\u001b[0m\u001b[0mi2\u001b[0m\u001b[1;33m]\u001b[0m\u001b[1;33m:\u001b[0m\u001b[1;33m\u001b[0m\u001b[0m\n\u001b[0m\u001b[0;32m      6\u001b[0m             \u001b[0mnums1\u001b[0m\u001b[1;33m[\u001b[0m\u001b[0mi1\u001b[0m\u001b[1;33m]\u001b[0m \u001b[1;33m=\u001b[0m \u001b[0mnums1\u001b[0m\u001b[1;33m[\u001b[0m\u001b[0mi1\u001b[0m\u001b[1;33m+\u001b[0m\u001b[0mm\u001b[0m\u001b[1;33m]\u001b[0m\u001b[1;33m\u001b[0m\u001b[0m\n\u001b[0;32m      7\u001b[0m             \u001b[0mnums1\u001b[0m\u001b[1;33m[\u001b[0m\u001b[0mi1\u001b[0m\u001b[1;33m]\u001b[0m \u001b[1;33m=\u001b[0m \u001b[0mnums2\u001b[0m\u001b[1;33m[\u001b[0m\u001b[0mi2\u001b[0m\u001b[1;33m]\u001b[0m\u001b[1;33m\u001b[0m\u001b[0m\n",
      "\u001b[1;31mIndexError\u001b[0m: list index out of range"
     ]
    }
   ],
   "source": [
    "def merge(nums1, nums2, m, n):\n",
    "    i1 = 0\n",
    "    i2 = 0\n",
    "    while nums1 or nums2:\n",
    "        if nums2[i2] < nums1[i2]:\n",
    "            nums1[i1] = nums1[i1+m]\n",
    "            nums1[i1] = nums2[i2]\n",
    "        i1 += 1\n",
    "        i2 += 2\n",
    "\n",
    "    while nums2:\n",
    "        nums1[i1] = nums2[i1]\n",
    "        i1 += 1\n",
    "    print(nums1)\n",
    "\n",
    "nums1 = [1, 2, 3, 0, 0, 0]\n",
    "nums2 = [2, 5, 6]\n",
    "m = 3\n",
    "n = 3\n",
    "merge(nums1, nums2, m, n)"
   ]
  },
  {
   "cell_type": "code",
   "execution_count": 56,
   "metadata": {},
   "outputs": [
    {
     "name": "stdout",
     "output_type": "stream",
     "text": [
      "1 2\n",
      "2 5\n",
      "3 6\n",
      "[4, 3]\n"
     ]
    }
   ],
   "source": [
    "nums1 = [1, 2, 3, 0, 0, 0]\n",
    "nums2 = [2, 5, 6]\n",
    "\n",
    "for i in range(len(nums2)):\n",
    "    print(nums1[i], nums2[i])\n",
    "    \n",
    "print(list(range(4, 2, -1)))"
   ]
  },
  {
   "cell_type": "code",
   "execution_count": 2,
   "metadata": {},
   "outputs": [
    {
     "name": "stdout",
     "output_type": "stream",
     "text": [
      "[10, 20, 30, 40, 0, 0, 0]\n",
      "[4, 3]\n",
      "i = 4\n",
      "i = 3\n",
      "[10, 20, 30, 30, 40, 0, 0]\n"
     ]
    }
   ],
   "source": [
    "a = [10, 20, 30, 40, 0, 0, 0]\n",
    "m = 4\n",
    "i1 = 2\n",
    "print(a)\n",
    "\n",
    "# move all elements starting at index i1 by one position\n",
    "\n",
    "print(list(range(m, i1, -1)))\n",
    "\n",
    "for i in range(m, i1, -1):\n",
    "    print(f\"i = {i}\")\n",
    "    a[i] = a[i-1]\n",
    "print(a)"
   ]
  },
  {
   "cell_type": "code",
   "execution_count": 3,
   "metadata": {},
   "outputs": [
    {
     "name": "stdout",
     "output_type": "stream",
     "text": [
      "[10, 20, 30, 40, 0, 0, 0]\n",
      "[10, 20, 30, 40, 40, 0, 0]\n",
      "[10, 20, 30, 30, 40, 0, 0]\n"
     ]
    }
   ],
   "source": [
    "a = [10, 20, 30, 40, 0, 0, 0]\n",
    "m = 4\n",
    "print(a)\n",
    "a[m] = a[m-1]\n",
    "print(a)\n",
    "a[m-1] = a[m-2]\n",
    "print(a)"
   ]
  },
  {
   "cell_type": "code",
   "execution_count": null,
   "metadata": {
    "collapsed": true
   },
   "outputs": [],
   "source": [
    "a = [10, 20, 30, 40, 0, 0, 0]\n",
    "m = 4\n",
    "i1 = 0"
   ]
  },
  {
   "cell_type": "code",
   "execution_count": 5,
   "metadata": {},
   "outputs": [
    {
     "name": "stdout",
     "output_type": "stream",
     "text": [
      "go to next index of first array\n",
      "go to next index of first array\n",
      "insert element 2 into the first array at index 2\n",
      "n_to_move = 2\n",
      "the first element to move has index 3\n",
      "range for for-loop: [4, 3]\n",
      "-- after copy: [1, 2, 3, 4, 4, 0, 0]\n",
      "move element from index 2 and 3 to index 3\n",
      "insert element 2 into the first array at index 3\n",
      "n_to_move = 1\n",
      "the first element to move has index 3\n",
      "range for for-loop: [4]\n",
      "-- after copy: [1, 2, 3, 4, 4, 0, 0]\n",
      "move element from index 3 and 4 to index 4\n",
      "insert element 2 into the first array at index 4\n",
      "n_to_move = 0\n",
      "the first element to move has index 3\n",
      "range for for-loop: []\n",
      "-- after copy: [1, 2, 3, 4, 4, 0, 0]\n",
      "move element from index 4 and 5 to index 5\n",
      "go to next index of first array\n",
      "go to next index of first array\n",
      "go to next index of first array\n",
      "go to next index of first array\n",
      "go to next index of first array\n",
      "go to next index of first array\n",
      "go to next index of first array\n",
      "go to next index of first array\n",
      "go to next index of first array\n",
      "go to next index of first array\n",
      "go to next index of first array\n",
      "go to next index of first array\n",
      "go to next index of first array\n",
      "go to next index of first array\n",
      "go to next index of first array\n",
      "go to next index of first array\n",
      "[1, 2, 3, 4, 4, 0, 0]\n"
     ]
    }
   ],
   "source": [
    "#        0  1  2  3  4  5  6\n",
    "nums1 = [1, 2, 3, 4, 0, 0, 0]\n",
    "nums2 = [2, 5, 6]\n",
    "m = 4\n",
    "\n",
    "for i2 in range(len(nums2)):  # for each element of nums2 iterate over each element of nums1\n",
    "    for i1 in range(len(nums1)):\n",
    "        if nums2[i2] < nums1[i1]:\n",
    "            print(f\"insert element {nums2[i2]} into the first array at index {i1}\")\n",
    "            n_to_move = m - i1\n",
    "            print(f\"n_to_move = {n_to_move}\")\n",
    "            print(f\"the first element to move has index {m-1}\")\n",
    "            print(f\"range for for-loop: {list(range(m, i1, -1))}\")\n",
    "#             for i in range(m, i1, -1):\n",
    "#                 print(f\"copy element with index {i-1} to {i}\")\n",
    "#                 nums1[i] = nums1[i-1]\n",
    "            nums1[m] = nums1[m-1]\n",
    "            # nums1[m-1] = nums1[m-2]\n",
    "            print(f\"-- after copy: {nums1}\")\n",
    "                # nums1[i-1] = nums2[i]\n",
    "            print(f\"move element from index {i1} and {i1+1} to index {i1+1}\")\n",
    "#             nums1[i1+1] = nums1[i1]\n",
    "#             nums1[i1] = nums2[i2]\n",
    "#             m += 1\n",
    "        else:\n",
    "            print(f\"go to next index of first array\")\n",
    "\n",
    "print(nums1)"
   ]
  },
  {
   "cell_type": "code",
   "execution_count": 17,
   "metadata": {},
   "outputs": [
    {
     "name": "stdout",
     "output_type": "stream",
     "text": [
      "nums2[0]: 2\n",
      "    nums1[0]: 1\n",
      "    nums1[1]: 2\n",
      "    nums1[2]: 3\n",
      "insert element 2 into the first array at index 2\n",
      "nums1 after shift: [1, 2, 3, 3, 4, 0, 0]\n",
      "nums1 after copy:  [1, 2, 2, 3, 4, 0, 0]\n",
      "nums2[1]: 5\n",
      "    nums1[0]: 1\n",
      "    nums1[1]: 2\n",
      "    nums1[2]: 2\n",
      "    nums1[3]: 3\n",
      "    nums1[4]: 4\n",
      "nums2[2]: 6\n",
      "    nums1[0]: 1\n",
      "    nums1[1]: 2\n",
      "    nums1[2]: 2\n",
      "    nums1[3]: 3\n",
      "    nums1[4]: 4\n",
      "    nums1[5]: 5\n",
      "[1, 2, 2, 3, 4, 5, 6]\n"
     ]
    }
   ],
   "source": [
    "#        0  1  2  3  4  5  6\n",
    "nums1 = [1, 2, 3, 4, 0, 0, 0]\n",
    "nums2 = [2, 5, 6]\n",
    "m = 4\n",
    "\n",
    "for i2 in range(len(nums2)):  # for each element of nums2 iterate over each element of nums1\n",
    "    print(f\"nums2[{i2}]: {nums2[i2]}\")\n",
    "    found = False\n",
    "    for i1 in range(m):\n",
    "        print(f\"    nums1[{i1}]: {nums1[i1]}\")\n",
    "        if nums2[i2] < nums1[i1]:\n",
    "            found = True\n",
    "            print(f\"insert element {nums2[i2]} into the first array at index {i1}\")\n",
    "            \n",
    "            # shift all elements of nums1 starting from index i1\n",
    "            for i in range(m-1, i1-1, -1):\n",
    "                # print(\"copy element of nums1\")\n",
    "                nums1[i+1] = nums1[i]\n",
    "            print(f\"nums1 after shift: {nums1}\")\n",
    "                \n",
    "            nums1[i1] = nums2[i2]\n",
    "            m += 1\n",
    "            print(f\"nums1 after copy:  {nums1}\")\n",
    "            break\n",
    "\n",
    "    if not found:\n",
    "        nums1[m] = nums2[i2]\n",
    "        m += 1\n",
    "            \n",
    "\n",
    "print(nums1)"
   ]
  },
  {
   "cell_type": "code",
   "execution_count": 22,
   "metadata": {},
   "outputs": [
    {
     "name": "stdout",
     "output_type": "stream",
     "text": [
      "nums2[0]: 2\n",
      "m = 4\n",
      "    nums1[0]: 1\n",
      "    nums1[1]: 2\n",
      "    nums1[2]: 3\n",
      "nums1 after shift: [1, 2, 3, 3, 4, 0, 0]\n",
      "i1 = 2 to insert nums2[0] = 2\n",
      "nums1 after copy:  [1, 2, 2, 3, 4, 0, 0]\n",
      "nums2[1]: 5\n",
      "m = 5\n",
      "    nums1[0]: 1\n",
      "    nums1[1]: 2\n",
      "    nums1[2]: 2\n",
      "    nums1[3]: 3\n",
      "    nums1[4]: 4\n",
      "i1 = 5 to insert nums2[1] = 5\n",
      "nums1 after copy:  [1, 2, 2, 3, 4, 5, 0]\n",
      "nums2[2]: 6\n",
      "m = 6\n",
      "    nums1[0]: 1\n",
      "    nums1[1]: 2\n",
      "    nums1[2]: 2\n",
      "    nums1[3]: 3\n",
      "    nums1[4]: 4\n",
      "    nums1[5]: 5\n",
      "i1 = 6 to insert nums2[2] = 6\n",
      "nums1 after copy:  [1, 2, 2, 3, 4, 5, 6]\n",
      "[1, 2, 2, 3, 4, 5, 6]\n"
     ]
    }
   ],
   "source": [
    "#        0  1  2  3  4  5  6\n",
    "nums1 = [1, 2, 3, 4, 0, 0, 0]\n",
    "nums2 = [2, 5, 6]\n",
    "m = 4\n",
    "\n",
    "for i2 in range(len(nums2)):  # for each element of nums2 iterate over each element of nums1\n",
    "    print(f\"nums2[{i2}]: {nums2[i2]}\")\n",
    "    print(f\"m = {m}\")\n",
    "    \n",
    "    # find the index to insert. Shift elements if needed.\n",
    "    found = False\n",
    "    for i1 in range(m):\n",
    "        print(f\"    nums1[{i1}]: {nums1[i1]}\")\n",
    "        if nums2[i2] < nums1[i1]:\n",
    "            found = True\n",
    "            # print(f\"insert element {nums2[i2]} into the first array at index {i1}\")\n",
    "            \n",
    "            # shift all elements of nums1 starting from index i1\n",
    "            for i in range(m-1, i1-1, -1):\n",
    "                # print(\"copy element of nums1\")\n",
    "                nums1[i+1] = nums1[i]\n",
    "            print(f\"nums1 after shift: {nums1}\")\n",
    "            break\n",
    "    \n",
    "    if not found:\n",
    "        i1 = m\n",
    "    \n",
    "    print(f\"i1 = {i1} to insert nums2[{i2}] = {nums2[i2]}\")\n",
    "    nums1[i1] = nums2[i2]\n",
    "    m += 1\n",
    "    print(f\"nums1 after copy:  {nums1}\")\n",
    "\n",
    "    # if not found:\n",
    "    #     nums1[m] = nums2[i2]\n",
    "    #     m += 1\n",
    "            \n",
    "\n",
    "print(nums1)"
   ]
  },
  {
   "cell_type": "markdown",
   "metadata": {},
   "source": [
    "### Brute force algorithm  - without using remove() and sort()\n",
    "Could be time optimized\n",
    "\n",
    "Accepted by LeetCode: Runtime: 40 ms, faster than 25.09% of Python3 online submissions   \n",
    "                      Memory Usage: 13.8 MB, less than 6.15% of Python3 online submissions"
   ]
  },
  {
   "cell_type": "code",
   "execution_count": 24,
   "metadata": {},
   "outputs": [
    {
     "name": "stdout",
     "output_type": "stream",
     "text": [
      "[1, 2, 2, 3, 4, 5, 6]\n",
      "None\n"
     ]
    }
   ],
   "source": [
    "class Solution:\n",
    "    def merge(self, nums1: List[int], m: int, nums2: List[int], n: int) -> None:\n",
    "        # for each element of nums2 iterate over each element of nums1\n",
    "        for i2 in range(len(nums2)):\n",
    "            # find the index to insert. Shift elements if needed.\n",
    "            found = False\n",
    "            for i1 in range(m):\n",
    "                if nums2[i2] < nums1[i1]:\n",
    "                    found = True\n",
    "\n",
    "                    # shift all elements of nums1 starting from index i1\n",
    "                    for i in range(m-1, i1-1, -1):\n",
    "                        nums1[i+1] = nums1[i]\n",
    "                    break\n",
    "\n",
    "            if not found:\n",
    "                i1 = m\n",
    "\n",
    "            nums1[i1] = nums2[i2]\n",
    "            m += 1\n",
    "\n",
    "        print(nums1)\n",
    "\n",
    "nums1 = [1, 2, 3, 4, 0, 0, 0]\n",
    "nums2 = [2, 5, 6]\n",
    "m = 4\n",
    "n = 3\n",
    "print(merge(nums1, nums2, m, n))"
   ]
  },
  {
   "cell_type": "code",
   "execution_count": 6,
   "metadata": {},
   "outputs": [
    {
     "name": "stdout",
     "output_type": "stream",
     "text": [
      "[3, 2]\n"
     ]
    }
   ],
   "source": [
    "m = 4\n",
    "i1 = 2\n",
    "\n",
    "print(list(range(m-1, i1-1, -1)))"
   ]
  },
  {
   "cell_type": "markdown",
   "metadata": {},
   "source": [
    "### Merge algorithm"
   ]
  },
  {
   "cell_type": "code",
   "execution_count": 31,
   "metadata": {},
   "outputs": [
    {
     "name": "stdout",
     "output_type": "stream",
     "text": [
      "[10, 20, 20, 30, 40, 50, 60]\n"
     ]
    }
   ],
   "source": [
    "a = [10, 20, 30, 40]\n",
    "b = [20, 50, 60]\n",
    "c = []\n",
    "i1 = 0\n",
    "i2 = 0\n",
    "\n",
    "while i1 < len(a) and i2 < len(b):\n",
    "    if a[i1] < b[i2]:\n",
    "        c.append(a[i1])\n",
    "        i1 += 1\n",
    "    else:\n",
    "        c.append(b[i2])\n",
    "        i2 += 1\n",
    "\n",
    "# while i1 < len(a):\n",
    "#     c.append(a[i1])\n",
    "#     i1 += 1\n",
    "\n",
    "# while i2 < len(b):\n",
    "#     c.append(b[i2])\n",
    "#     i2 += 1\n",
    "\n",
    "c.extend(a[i1:])\n",
    "c.extend(b[i2:])\n",
    "\n",
    "print(c)"
   ]
  },
  {
   "cell_type": "code",
   "execution_count": 30,
   "metadata": {},
   "outputs": [
    {
     "name": "stdout",
     "output_type": "stream",
     "text": [
      "alist before: [10, 20, 30, 40, 0, 0, 0]\n",
      "blist[2] = 60, alist[3] = 40\n",
      "last = 6\n",
      "blist[1] = 50, alist[3] = 40\n",
      "last = 5\n",
      "blist[0] = 20, alist[3] = 40\n",
      "blist[0] = 20, alist[2] = 30\n",
      "blist[0] = 20, alist[1] = 20\n",
      "blist[0] = 20, alist[0] = 10\n",
      "last = 1\n",
      "alist after:  [10, 20, 20, 30, 40, 50, 60]\n"
     ]
    }
   ],
   "source": [
    "#        0   1   2   3   4  5  6\n",
    "alist = [10, 20, 30, 40, 0, 0, 0]\n",
    "print(f\"alist before: {alist}\")\n",
    "blist = [20, 50, 60]\n",
    "m = 4\n",
    "n = 3\n",
    "i1 = m - 1\n",
    "i2 = n - 1\n",
    "last = len(alist) - 1\n",
    "\n",
    "while i1 >= 0 and i2 >= 0:\n",
    "    if blist[i2] > alist[i1]:\n",
    "        alist[last] = blist[i2]\n",
    "        i2 -= 1\n",
    "        m += 1\n",
    "        last -= 1\n",
    "    else:\n",
    "        alist[last] = alist[i1]\n",
    "        i1 -= 1\n",
    "        last -= 1\n",
    "\n",
    "# alist.extend(blist[i2:])\n",
    "\n",
    "print(f\"alist after:  {alist}\")"
   ]
  },
  {
   "cell_type": "code",
   "execution_count": 3,
   "metadata": {},
   "outputs": [
    {
     "name": "stdout",
     "output_type": "stream",
     "text": [
      "nums1 before: [10, 20, 30, 40, 0, 0, 0]\n",
      "nums1 after:  [10, 20, 20, 30, 40, 50, 60, 60]\n"
     ]
    }
   ],
   "source": [
    "#        0   1   2   3   4  5  6\n",
    "nums1 = [10, 20, 30, 40, 0, 0, 0]\n",
    "print(f\"nums1 before: {nums1}\")\n",
    "nums2 = [20, 50, 60]\n",
    "m = 4\n",
    "n = 3\n",
    "i1 = m - 1\n",
    "i2 = n - 1\n",
    "last = len(nums1) - 1\n",
    "\n",
    "while i1 >= 0 and i2 >= 0:\n",
    "    if nums2[i2] > nums1[i1]:\n",
    "        nums1[last] = nums2[i2]\n",
    "        i2 -= 1\n",
    "        m += 1\n",
    "        last -= 1\n",
    "    else:\n",
    "        nums1[last] = nums1[i1]\n",
    "        i1 -= 1\n",
    "        last -= 1\n",
    "\n",
    "# nums1.extend(nums2[i2:])\n",
    "\n",
    "print(f\"nums1 after:  {nums1}\")"
   ]
  },
  {
   "cell_type": "code",
   "execution_count": 2,
   "metadata": {},
   "outputs": [
    {
     "name": "stdout",
     "output_type": "stream",
     "text": [
      "[1]\n",
      "None\n"
     ]
    }
   ],
   "source": [
    "def merge(nums1, nums2, m, n):\n",
    "    if n == 0:\n",
    "        return\n",
    "    if m == 0:\n",
    "        for i in range(n):\n",
    "            nums1[i] = nums2[i]\n",
    "    \n",
    "    i1 = m - 1\n",
    "    i2 = n - 1\n",
    "    last = len(nums1) - 1\n",
    "\n",
    "    while i1 >= 0 and i2 >= 0:\n",
    "        if nums2[i2] > nums1[i1]:\n",
    "            nums1[last] = nums2[i2]\n",
    "            i2 -= 1\n",
    "            m += 1\n",
    "            last -= 1\n",
    "        else:\n",
    "            nums1[last] = nums1[i1]\n",
    "            i1 -= 1\n",
    "            last -= 1\n",
    "    print(nums1)\n",
    "\n",
    "# nums1 = [10, 20, 30, 40, 0, 0, 0]\n",
    "# print(f\"nums1 before: {nums1}\")\n",
    "# nums2 = [20, 50, 60]\n",
    "# m = 4\n",
    "# n = 3\n",
    "nums1 = [0]\n",
    "m = 0\n",
    "nums2 = [1]\n",
    "n = 1\n",
    "print(merge(nums1, nums2, m, n))"
   ]
  },
  {
   "cell_type": "code",
   "execution_count": 31,
   "metadata": {},
   "outputs": [
    {
     "name": "stdout",
     "output_type": "stream",
     "text": [
      "nums1 before: [4, 0, 0, 0, 0, 0]\n",
      "nums1[0] = 4, nums2[4] = 6\n",
      "nums1[0] = 4, nums2[3] = 5\n",
      "nums1[0] = 4, nums2[2] = 3\n",
      "nums1 before adding rest of nums2 = [4, 0, 0, 4, 5, 6], i2 = 2\n",
      "i1 = -1, i2 = 2\n",
      "i = 0\n",
      "i = 1\n",
      "i = 2\n",
      "nums1 after: [1, 2, 3, 4, 5, 6]\n",
      "None\n"
     ]
    }
   ],
   "source": [
    "from typing import List\n",
    "\n",
    "class Solution:\n",
    "    def merge(self, nums1: List[int], m: int, nums2: List[int], n: int) -> None:\n",
    "        if n == 0:\n",
    "            return\n",
    "        if m == 0:\n",
    "            for i in range(n):\n",
    "                nums1[i] = nums2[i]\n",
    "\n",
    "        i1 = m - 1\n",
    "        i2 = n - 1\n",
    "        last = len(nums1) - 1\n",
    "\n",
    "        while i1 >= 0 and i2 >= 0:\n",
    "            print(f\"nums1[{i1}] = {nums1[i1]}, nums2[{i2}] = {nums2[i2]}\")\n",
    "            if nums2[i2] > nums1[i1]:\n",
    "                nums1[last] = nums2[i2]\n",
    "                i2 -= 1\n",
    "            else:\n",
    "                nums1[last] = nums1[i1]\n",
    "                i1 -= 1\n",
    "            m += 1\n",
    "            last -= 1\n",
    "\n",
    "        print(f\"nums1 before adding rest of nums2 = {nums1}, i2 = {i2}\")\n",
    "    \n",
    "        # print(f\"nums1 before adding elements remaining in nums2: {nums1}\")\n",
    "        print(f\"i1 = {i1}, i2 = {i2}\")\n",
    "        # if index of i2 is not 0, there are still elements in nums2 while we reached the end of nums1\n",
    "        # iterating through nums2 by index, add remaining elements of nums2 to nums1\n",
    "        if i2 > -1:\n",
    "            for i in range(i2+1):\n",
    "                print(f\"i = {i}\")\n",
    "                nums1[i] = nums2[i]\n",
    "        print(f\"nums1 after: {nums1}\")\n",
    "        \n",
    "        \n",
    "solution = Solution()\n",
    "# nums1 = [10, 20, 30, 40, 0, 0, 0]\n",
    "# nums2 = [20, 50, 60]\n",
    "# m = 4\n",
    "# n = 3\n",
    "\n",
    "# nums1 = [0]\n",
    "# m = 0\n",
    "# nums2 = [1]\n",
    "# n = 1\n",
    "\n",
    "# nums1 = [2,0]\n",
    "# m = 1\n",
    "# nums2 = [1]\n",
    "# n = 1\n",
    "\n",
    "# nums1 = [4,5,6,0,0,0]\n",
    "# m = 3\n",
    "# nums2 = [1,2,3]\n",
    "# n = 3\n",
    "\n",
    "nums1 = [4,0,0,0,0,0]\n",
    "m = 1\n",
    "nums2 = [1,2,3,5,6]\n",
    "n = 5\n",
    "print(f\"nums1 before: {nums1}\")\n",
    "print(solution.merge(nums1, m, nums2, n))"
   ]
  },
  {
   "cell_type": "markdown",
   "metadata": {},
   "source": [
    "### Merge algorithm solution\n",
    "\n",
    "Accepted by LeetCode: Runtime: 36 ms, faster than 62.58% of Python3 online submissions  \n",
    "                      Memory Usage: 13.9 MB, less than 6.15% of Python3 online submissions"
   ]
  },
  {
   "cell_type": "code",
   "execution_count": 31,
   "metadata": {},
   "outputs": [
    {
     "name": "stdout",
     "output_type": "stream",
     "text": [
      "nums1 before: [4, 0, 0, 0, 0, 0]\n",
      "nums1[0] = 4, nums2[4] = 6\n",
      "nums1[0] = 4, nums2[3] = 5\n",
      "nums1[0] = 4, nums2[2] = 3\n",
      "nums1 before adding rest of nums2 = [4, 0, 0, 4, 5, 6], i2 = 2\n",
      "i1 = -1, i2 = 2\n",
      "i = 0\n",
      "i = 1\n",
      "i = 2\n",
      "nums1 after: [1, 2, 3, 4, 5, 6]\n",
      "None\n"
     ]
    }
   ],
   "source": [
    "from typing import List\n",
    "\n",
    "class Solution:\n",
    "    def merge(self, nums1: List[int], m: int, nums2: List[int], n: int) -> None:\n",
    "        if n == 0:\n",
    "            return\n",
    "        if m == 0:\n",
    "            for i in range(n):\n",
    "                nums1[i] = nums2[i]\n",
    "\n",
    "        i1 = m - 1\n",
    "        i2 = n - 1\n",
    "        last = len(nums1) - 1\n",
    "\n",
    "        while i1 >= 0 and i2 >= 0:\n",
    "            if nums2[i2] > nums1[i1]:\n",
    "                nums1[last] = nums2[i2]\n",
    "                i2 -= 1\n",
    "            else:\n",
    "                nums1[last] = nums1[i1]\n",
    "                i1 -= 1\n",
    "            m += 1\n",
    "            last -= 1\n",
    "\n",
    "    \n",
    "        # if index of i2 is not 0, there are still elements in nums2 while we reached the end of nums1\n",
    "        # iterating through nums2 by index, add remaining elements of nums2 to nums1\n",
    "        if i2 > -1:\n",
    "            for i in range(i2+1):\n",
    "                nums1[i] = nums2[i]\n",
    "        print(f\"nums1 after: {nums1}\")\n",
    "        \n",
    "        \n",
    "solution = Solution()\n",
    "# nums1 = [10, 20, 30, 40, 0, 0, 0]\n",
    "# nums2 = [20, 50, 60]\n",
    "# m = 4\n",
    "# n = 3\n",
    "\n",
    "# nums1 = [0]\n",
    "# m = 0\n",
    "# nums2 = [1]\n",
    "# n = 1\n",
    "\n",
    "# nums1 = [2,0]\n",
    "# m = 1\n",
    "# nums2 = [1]\n",
    "# n = 1\n",
    "\n",
    "# nums1 = [4,5,6,0,0,0]\n",
    "# m = 3\n",
    "# nums2 = [1,2,3]\n",
    "# n = 3\n",
    "\n",
    "nums1 = [4,0,0,0,0,0]\n",
    "m = 1\n",
    "nums2 = [1,2,3,5,6]\n",
    "n = 5\n",
    "print(f\"nums1 before: {nums1}\")\n",
    "print(solution.merge(nums1, m, nums2, n))"
   ]
  }
 ],
 "metadata": {
  "kernelspec": {
   "display_name": "Python 3",
   "language": "python",
   "name": "python3"
  },
  "language_info": {
   "codemirror_mode": {
    "name": "ipython",
    "version": 3
   },
   "file_extension": ".py",
   "mimetype": "text/x-python",
   "name": "python",
   "nbconvert_exporter": "python",
   "pygments_lexer": "ipython3",
   "version": "3.6.1"
  }
 },
 "nbformat": 4,
 "nbformat_minor": 2
}
