{
 "cells": [
  {
   "cell_type": "code",
   "execution_count": null,
   "metadata": {
    "collapsed": true
   },
   "outputs": [],
   "source": [
    "class Solution:\n",
    "    def deleteDuplicates(self, head: ListNode) -> ListNode:\n",
    "        # create set to keep track of values\n",
    "        val_set = set()\n",
    "        # go through linked list\n",
    "        node = head\n",
    "        # add value of first node to set\n",
    "        val_set.add(node.val)\n",
    "        \n",
    "        while node.next:\n",
    "            if node.next.val in val_set:\n",
    "                # remove this node\n",
    "                node.next = node.next.next\n",
    "            else:\n",
    "                # add its value to the set\n",
    "                val_set.add(node.next.val)\n",
    "\n",
    "            node = node.next\n",
    "\n",
    "        return head\n"
   ]
  },
  {
   "cell_type": "code",
   "execution_count": 2,
   "metadata": {
    "collapsed": true
   },
   "outputs": [],
   "source": [
    "class ListNode:\n",
    "    def __init__(self, x):\n",
    "        self.val = x\n",
    "        self.next = None"
   ]
  },
  {
   "cell_type": "code",
   "execution_count": 3,
   "metadata": {},
   "outputs": [
    {
     "name": "stdout",
     "output_type": "stream",
     "text": [
      "node.val = 4\n",
      "node.val = 5\n",
      "node.val = 1\n",
      "node.val = 9\n"
     ]
    }
   ],
   "source": [
    "head = None\n",
    "\n",
    "node = ListNode(9)\n",
    "node.next = head\n",
    "head = node\n",
    "\n",
    "node = ListNode(1)\n",
    "node.next = head\n",
    "head = node\n",
    "\n",
    "node = ListNode(5)\n",
    "node.next = head\n",
    "head = node\n",
    "\n",
    "node = ListNode(4)\n",
    "node.next = head\n",
    "head = node\n",
    "\n",
    "node = head\n",
    "while node:\n",
    "    print(f\"node.val = {node.val}\")\n",
    "    node = node.next"
   ]
  },
  {
   "cell_type": "markdown",
   "metadata": {},
   "source": [
    "Problem does not have a solution - we do not have enough information to solve it"
   ]
  },
  {
   "cell_type": "code",
   "execution_count": 4,
   "metadata": {},
   "outputs": [
    {
     "name": "stdout",
     "output_type": "stream",
     "text": [
      "<__main__.ListNode object at 0x0000025D6B8E4630>\n"
     ]
    }
   ],
   "source": [
    "def deleteNode(node):\n",
    "    node = head\n",
    "    while node.next:\n",
    "        if node.next.val == node:\n",
    "            # remove this node\n",
    "            node.next = node.next.next\n",
    "        node = node.next\n",
    "    print(head)\n",
    "\n",
    "node = 5\n",
    "res = deleteNode(node)\n",
    "\n",
    "node = res\n",
    "while node:\n",
    "    print(f\"node.val = {node.val}\")\n",
    "    node = node.next"
   ]
  }
 ],
 "metadata": {
  "kernelspec": {
   "display_name": "Python 3",
   "language": "python",
   "name": "python3"
  },
  "language_info": {
   "codemirror_mode": {
    "name": "ipython",
    "version": 3
   },
   "file_extension": ".py",
   "mimetype": "text/x-python",
   "name": "python",
   "nbconvert_exporter": "python",
   "pygments_lexer": "ipython3",
   "version": "3.6.1"
  }
 },
 "nbformat": 4,
 "nbformat_minor": 2
}
