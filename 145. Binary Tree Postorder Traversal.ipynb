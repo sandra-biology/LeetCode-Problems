{
 "cells": [
  {
   "cell_type": "code",
   "execution_count": 3,
   "metadata": {},
   "outputs": [
    {
     "data": {
      "text/plain": [
       "[5, 6, 4, 3, 7, 2, 1]"
      ]
     },
     "execution_count": 3,
     "metadata": {},
     "output_type": "execute_result"
    }
   ],
   "source": [
    "from typing import List\n",
    "\n",
    "class TreeNode:\n",
    "    def __init__(self, val=0, left=None, right=None):\n",
    "        self.val = val\n",
    "        self.left = left\n",
    "        self.right = right\n",
    "\n",
    "class Solution:\n",
    "    def postorderTraversal(self, root: TreeNode) -> List[int]:\n",
    "        if root is None:\n",
    "            return []\n",
    "        \n",
    "        list_node_values = []\n",
    "        list_node_values.extend(self.postorderTraversal(root.left))\n",
    "        list_node_values.extend(self.postorderTraversal(root.right))\n",
    "        list_node_values.append(root.val)\n",
    "        \n",
    "        return list_node_values\n",
    "\n",
    "root = TreeNode(1)\n",
    "root.left = TreeNode(4)\n",
    "root.right = TreeNode(2)\n",
    "root.left.left = TreeNode(5)\n",
    "root.left.right = TreeNode(6)\n",
    "root.right.left = TreeNode(3)\n",
    "root.right.right = TreeNode(7)\n",
    "\n",
    "solution = Solution()\n",
    "solution.postorderTraversal(root)"
   ]
  },
  {
   "cell_type": "markdown",
   "metadata": {},
   "source": [
    "### Submitted Solution\n",
    "\n",
    "Accepted by LeetCode: Runtime: 24 ms, faster than 90.96% of Python3 online submissions for Binary Tree Postorder Traversal.  \n",
    "Memory Usage: 13.8 MB, less than 5.72% of Python3 online submissions for Binary Tree Postorder Traversal."
   ]
  },
  {
   "cell_type": "code",
   "execution_count": 4,
   "metadata": {},
   "outputs": [
    {
     "data": {
      "text/plain": [
       "[3, 2, 1]"
      ]
     },
     "execution_count": 4,
     "metadata": {},
     "output_type": "execute_result"
    }
   ],
   "source": [
    "from typing import List\n",
    "\n",
    "class TreeNode:\n",
    "    def __init__(self, val=0, left=None, right=None):\n",
    "        self.val = val\n",
    "        self.left = left\n",
    "        self.right = right\n",
    "\n",
    "class Solution:\n",
    "    def postorderTraversal(self, root: TreeNode) -> List[int]:\n",
    "        if root is None:\n",
    "            return []\n",
    "        \n",
    "        list_node_values = []\n",
    "        list_node_values.extend(self.postorderTraversal(root.left))\n",
    "        list_node_values.extend(self.postorderTraversal(root.right))\n",
    "        list_node_values.append(root.val)\n",
    "        \n",
    "        return list_node_values\n",
    "\n",
    "root = TreeNode(1)\n",
    "root.right = TreeNode(2)\n",
    "root.right.left = TreeNode(3)\n",
    "\n",
    "solution = Solution()\n",
    "solution.postorderTraversal(root)"
   ]
  }
 ],
 "metadata": {
  "kernelspec": {
   "display_name": "Python 3",
   "language": "python",
   "name": "python3"
  },
  "language_info": {
   "codemirror_mode": {
    "name": "ipython",
    "version": 3
   },
   "file_extension": ".py",
   "mimetype": "text/x-python",
   "name": "python",
   "nbconvert_exporter": "python",
   "pygments_lexer": "ipython3",
   "version": "3.6.1"
  }
 },
 "nbformat": 4,
 "nbformat_minor": 2
}
