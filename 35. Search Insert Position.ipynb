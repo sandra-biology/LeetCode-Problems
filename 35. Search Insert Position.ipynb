{
 "cells": [
  {
   "cell_type": "code",
   "execution_count": 23,
   "metadata": {},
   "outputs": [
    {
     "name": "stdout",
     "output_type": "stream",
     "text": [
      "None\n"
     ]
    }
   ],
   "source": [
    "def fun():\n",
    "    pass\n",
    "\n",
    "print(fun())"
   ]
  },
  {
   "cell_type": "markdown",
   "metadata": {},
   "source": [
    "### Accepted by LeetCode:\n",
    "Runtime: 56 ms, faster than 9.27% of Python3 submissions\n",
    "Memory Usage: 14.5 MB, less than 5.97% of Python3 submission"
   ]
  },
  {
   "cell_type": "code",
   "execution_count": 41,
   "metadata": {},
   "outputs": [
    {
     "name": "stdout",
     "output_type": "stream",
     "text": [
      "0\n"
     ]
    }
   ],
   "source": [
    "from typing import List\n",
    "\n",
    "class Solution:\n",
    "    def searchInsert(self, nums: List[int], target: int) -> int:\n",
    "        for i in range(len(nums)):\n",
    "            if nums[i] >= target:\n",
    "                return i\n",
    "\n",
    "        return len(nums)\n",
    "\n",
    "\n",
    "solution = Solution()\n",
    "nums = [1, 3, 5, 6]\n",
    "# target = 5\n",
    "# target = 2\n",
    "# target = 7\n",
    "target = 0\n",
    "\n",
    "# nums = [2, 3, 4, 8, 10]\n",
    "# target = 0\n",
    "\n",
    "# nums = [1]\n",
    "# target = 0\n",
    "\n",
    "# nums = [3,6,7,8,10]\n",
    "# target = 5\n",
    "print(solution.searchInsert(nums, target))"
   ]
  },
  {
   "cell_type": "code",
   "execution_count": 40,
   "metadata": {},
   "outputs": [
    {
     "name": "stdout",
     "output_type": "stream",
     "text": [
      "6\n"
     ]
    },
    {
     "ename": "ValueError",
     "evalue": "0 is not in list",
     "output_type": "error",
     "traceback": [
      "\u001b[1;31m---------------------------------------------------------------------------\u001b[0m",
      "\u001b[1;31mValueError\u001b[0m                                Traceback (most recent call last)",
      "\u001b[1;32m<ipython-input-40-857e13829618>\u001b[0m in \u001b[0;36m<module>\u001b[1;34m()\u001b[0m\n\u001b[0;32m      4\u001b[0m \u001b[1;33m\u001b[0m\u001b[0m\n\u001b[0;32m      5\u001b[0m \u001b[0mnums\u001b[0m \u001b[1;33m=\u001b[0m \u001b[1;33m[\u001b[0m\u001b[1;36m2\u001b[0m\u001b[1;33m,\u001b[0m \u001b[1;36m3\u001b[0m\u001b[1;33m,\u001b[0m \u001b[1;36m4\u001b[0m\u001b[1;33m,\u001b[0m \u001b[1;36m8\u001b[0m\u001b[1;33m,\u001b[0m \u001b[1;36m10\u001b[0m\u001b[1;33m]\u001b[0m\u001b[1;33m\u001b[0m\u001b[0m\n\u001b[1;32m----> 6\u001b[1;33m \u001b[0mprint\u001b[0m\u001b[1;33m(\u001b[0m\u001b[0mnums\u001b[0m\u001b[1;33m.\u001b[0m\u001b[0mindex\u001b[0m\u001b[1;33m(\u001b[0m\u001b[1;36m0\u001b[0m\u001b[1;33m)\u001b[0m\u001b[1;33m)\u001b[0m\u001b[1;33m\u001b[0m\u001b[0m\n\u001b[0m",
      "\u001b[1;31mValueError\u001b[0m: 0 is not in list"
     ]
    }
   ],
   "source": [
    "#       0  1  2  3\n",
    "nums = [1, 3, 5, 6]\n",
    "print(nums[3])\n",
    "\n",
    "nums = [2, 3, 4, 8, 10]\n",
    "print(nums.index(0))"
   ]
  },
  {
   "cell_type": "markdown",
   "metadata": {},
   "source": [
    "### Final submission\n",
    "Accepted by LeetCode: Runtime: 44 ms, faster than 91.67% of Python3 submissions\n",
    "                      Memory Usage: 14.6 MB, less than 5.97% of Python3 submissions"
   ]
  },
  {
   "cell_type": "code",
   "execution_count": 2,
   "metadata": {},
   "outputs": [
    {
     "name": "stdout",
     "output_type": "stream",
     "text": [
      "target1: 2\n",
      "target2: 1\n",
      "target3: 4\n",
      "target4: 0\n",
      "target: 0\n"
     ]
    }
   ],
   "source": [
    "from typing import List\n",
    "\n",
    "class Solution:\n",
    "    def searchInsert(self, nums: List[int], target: int) -> int:\n",
    "        if len(nums) == 0:\n",
    "            return 0\n",
    "      \n",
    "        for i in range(len(nums)):\n",
    "            if nums[i] == target:\n",
    "                return i\n",
    "\n",
    "            # else, return where it would be in the list if it were inserted\n",
    "            if nums[i] > target:\n",
    "                # return previous index\n",
    "                if i > 0:\n",
    "                    return i\n",
    "                else:\n",
    "                    return 0\n",
    "\n",
    "        return len(nums)\n",
    "                \n",
    "\n",
    "\n",
    "solution = Solution()\n",
    "nums = [2, 3, 4, 8, 10]\n",
    "target = 0\n",
    "nums1 = [1, 3, 5, 6]\n",
    "target1 = 5\n",
    "target2 = 2\n",
    "target3 = 7\n",
    "target4 = 0\n",
    "print(\"target1:\", solution.searchInsert(nums1, target1))\n",
    "print(\"target2:\", solution.searchInsert(nums1, target2))\n",
    "print(\"target3:\", solution.searchInsert(nums1, target3))\n",
    "print(\"target4:\", solution.searchInsert(nums1, target4))\n",
    "print(\"target:\", solution.searchInsert(nums, target))"
   ]
  }
 ],
 "metadata": {
  "kernelspec": {
   "display_name": "Python 3",
   "language": "python",
   "name": "python3"
  },
  "language_info": {
   "codemirror_mode": {
    "name": "ipython",
    "version": 3
   },
   "file_extension": ".py",
   "mimetype": "text/x-python",
   "name": "python",
   "nbconvert_exporter": "python",
   "pygments_lexer": "ipython3",
   "version": "3.6.1"
  }
 },
 "nbformat": 4,
 "nbformat_minor": 2
}
