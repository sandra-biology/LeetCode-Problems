{
 "cells": [
  {
   "cell_type": "code",
   "execution_count": 1,
   "metadata": {},
   "outputs": [
    {
     "name": "stdout",
     "output_type": "stream",
     "text": [
      "True\n",
      "False\n"
     ]
    }
   ],
   "source": [
    "print(\"flower\" > \"flow\")\n",
    "print(\"flight\" > \"flower\")"
   ]
  },
  {
   "cell_type": "code",
   "execution_count": 2,
   "metadata": {},
   "outputs": [
    {
     "name": "stdout",
     "output_type": "stream",
     "text": [
      "flower\n"
     ]
    }
   ],
   "source": [
    "strings = [\"flower\", \"flow\", \"flight\"]\n",
    "pattern = strings[0]\n",
    "print(pattern)"
   ]
  },
  {
   "cell_type": "code",
   "execution_count": 3,
   "metadata": {},
   "outputs": [
    {
     "name": "stdout",
     "output_type": "stream",
     "text": [
      "pattern[iletter]: f strs[istr]: flow\n",
      "pattern[iletter]: f strs[istr]: flight\n",
      "pattern[iletter]: l strs[istr]: flow\n",
      "pattern[iletter]: l strs[istr]: flight\n",
      "pattern[iletter]: o strs[istr]: flow\n",
      "pattern[iletter]: o strs[istr]: flight\n"
     ]
    },
    {
     "data": {
      "text/plain": [
       "'fl'"
      ]
     },
     "execution_count": 3,
     "metadata": {},
     "output_type": "execute_result"
    }
   ],
   "source": [
    "def longestCommonPrefix(strs):\n",
    "    prefix = \"\"\n",
    "    if len(strs) == 0:\n",
    "        return prefix\n",
    "    pattern = strs[0]\n",
    "\n",
    "    for iletter in range(len(pattern)):\n",
    "        for istr in range(1, len(strs)):\n",
    "            print(\"pattern[iletter]:\", pattern[iletter], \"strs[istr]:\", strs[istr])\n",
    "            if pattern[iletter] != strs[istr][iletter]:\n",
    "                return prefix\n",
    "        prefix += pattern[iletter]\n",
    "\n",
    "    return prefix\n",
    "\n",
    "strings1 = [\"flower\", \"flow\", \"flight\"]\n",
    "# strings1 = [\"dog\",\"racecar\",\"car\"]\n",
    "# strings1 = []\n",
    "longestCommonPrefix(strings1)"
   ]
  },
  {
   "cell_type": "markdown",
   "metadata": {},
   "source": [
    "### Accepted by LeetCode:\n",
    "Runtime: 32 ms, faster than 68.27% of Python3 submissions\n",
    "Memory Usage: 13.9 MB, less than 6.67% of Python3 submissions"
   ]
  },
  {
   "cell_type": "code",
   "execution_count": 1,
   "metadata": {},
   "outputs": [
    {
     "name": "stdout",
     "output_type": "stream",
     "text": [
      "strings1: fl\n",
      "strings2: \n",
      "strings3: a\n"
     ]
    }
   ],
   "source": [
    "from typing import List\n",
    "\n",
    "class Solution:\n",
    "    def longestCommonPrefix(self, strs: List[str]) -> str:\n",
    "        prefix = \"\"\n",
    "        if len(strs) == 0:\n",
    "            return prefix\n",
    "        \n",
    "        pattern = strs[0]\n",
    "        for iletter in range(len(pattern)):\n",
    "            for istr in range(1, len(strs)):\n",
    "                if iletter >= len(strs[istr]):\n",
    "                    return prefix\n",
    "                if pattern[iletter] != strs[istr][iletter]:\n",
    "                    return prefix\n",
    "            prefix += pattern[iletter]\n",
    "\n",
    "        return prefix\n",
    "\n",
    "solution = Solution()\n",
    "strings1 = [\"flower\", \"flow\", \"flight\"]\n",
    "strings2 = [\"dog\",\"racecar\",\"car\"]\n",
    "strings3 = [\"aa\", \"a\"]\n",
    "print(\"strings1:\", solution.longestCommonPrefix(strings1))\n",
    "print(\"strings2:\", solution.longestCommonPrefix(strings2))\n",
    "print(\"strings3:\", solution.longestCommonPrefix(strings3))"
   ]
  }
 ],
 "metadata": {
  "kernelspec": {
   "display_name": "Python 3",
   "language": "python",
   "name": "python3"
  },
  "language_info": {
   "codemirror_mode": {
    "name": "ipython",
    "version": 3
   },
   "file_extension": ".py",
   "mimetype": "text/x-python",
   "name": "python",
   "nbconvert_exporter": "python",
   "pygments_lexer": "ipython3",
   "version": "3.6.1"
  }
 },
 "nbformat": 4,
 "nbformat_minor": 2
}
