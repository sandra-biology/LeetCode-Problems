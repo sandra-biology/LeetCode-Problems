{
 "cells": [
  {
   "cell_type": "code",
   "execution_count": 12,
   "metadata": {},
   "outputs": [
    {
     "data": {
      "text/plain": [
       "5"
      ]
     },
     "execution_count": 12,
     "metadata": {},
     "output_type": "execute_result"
    }
   ],
   "source": [
    "lst = [True, True, False, True, False, True, False, True]\n",
    "lst.count(True)"
   ]
  },
  {
   "cell_type": "code",
   "execution_count": 28,
   "metadata": {},
   "outputs": [
    {
     "name": "stdout",
     "output_type": "stream",
     "text": [
      "index = 2\n",
      "i%i = 0\n",
      "index = 3\n",
      "i%i = 0\n",
      "index = 4\n",
      "i%i = 0\n",
      "index = 5\n",
      "i%i = 0\n",
      "index = 6\n",
      "i%i = 0\n",
      "index = 7\n",
      "i%i = 0\n",
      "index = 8\n",
      "i%i = 0\n",
      "index = 9\n",
      "i%i = 0\n"
     ]
    }
   ],
   "source": [
    "n = 10\n",
    "for i in range(2, n):\n",
    "    print(f\"index = {i}\")\n",
    "    print(f\"i%i = {i%i}\")\n",
    "    if i % 1 == i and i % i == 0:\n",
    "        print(i)"
   ]
  },
  {
   "cell_type": "code",
   "execution_count": 20,
   "metadata": {},
   "outputs": [
    {
     "data": {
      "text/plain": [
       "[2, 3, 5, 7]"
      ]
     },
     "execution_count": 20,
     "metadata": {},
     "output_type": "execute_result"
    }
   ],
   "source": [
    "# Brute force solution - fails time limit constraint\n",
    "\n",
    "def isprime(n):\n",
    "    for i in range(2, n):\n",
    "        if n % i == 0:\n",
    "            return False\n",
    "    return True\n",
    "\n",
    "def countPrimes(n):\n",
    "    primes = []\n",
    "    for i in range(2, n):\n",
    "        if isprime(i) == True:\n",
    "            primes.append(i)\n",
    "    \n",
    "    return len(primes)\n",
    "\n",
    "n = 10\n",
    "countPrime(n)"
   ]
  },
  {
   "cell_type": "code",
   "execution_count": 5,
   "metadata": {},
   "outputs": [
    {
     "name": "stdout",
     "output_type": "stream",
     "text": [
      "10 20 30\n"
     ]
    }
   ],
   "source": [
    "# (a, b, c) = (10, 20, 30)\n",
    "a, b, c = 10, 20, 30\n",
    "print(a, b, c)"
   ]
  },
  {
   "cell_type": "code",
   "execution_count": 12,
   "metadata": {},
   "outputs": [
    {
     "name": "stdout",
     "output_type": "stream",
     "text": [
      "fib_iter(0): 1\n",
      "fib_iter(1): 1\n",
      "fib_iter(2): 2\n",
      "fib_iter(3): 3\n",
      "fib_iter(4): 5\n",
      "fib_iter(5): 8\n"
     ]
    }
   ],
   "source": [
    "# 1, 1, 2, 3, 5, 8, ...\n",
    "\n",
    "def fib_iter(n):\n",
    "    \"\"\"\n",
    "    Iterative solution\n",
    "    \"\"\"\n",
    "    a, b = 0, 1\n",
    "\n",
    "    for i in range(n):\n",
    "        \"\"\"Calculate values of the list in the right part and THEN assign them to the list of vars in the left side\"\"\"\n",
    "        b, a = a + b, b  # b after the comma in the right part kept the old value\n",
    "        \n",
    "        # the same \"by hand\"\n",
    "        # buf = b\n",
    "        # b = a + b\n",
    "        # a = buf\n",
    "    \n",
    "    return b\n",
    "\n",
    "\n",
    "n = 6\n",
    "for i in range(n):\n",
    "    print(f\"fib_iter({i}): {fib_iter(i)}\")\n"
   ]
  },
  {
   "cell_type": "code",
   "execution_count": 13,
   "metadata": {},
   "outputs": [
    {
     "name": "stdout",
     "output_type": "stream",
     "text": [
      "fib_recursive(0): 1\n",
      "fib_recursive(1): 1\n",
      "fib_recursive(2): 2\n",
      "fib_recursive(3): 3\n",
      "fib_recursive(4): 5\n",
      "fib_recursive(5): 8\n"
     ]
    }
   ],
   "source": [
    "def fib_recursive(n):\n",
    "    \"\"\"\n",
    "    Brute force recursion\n",
    "    \"\"\"\n",
    "    if n < 2:\n",
    "        return 1\n",
    "    \n",
    "    return fib_recursive(n-1) + fib_recursive(n-2)\n",
    "\n",
    "n = 6\n",
    "for i in range(n):\n",
    "    print(f\"fib_recursive({i}): {fib_recursive(i)}\")"
   ]
  },
  {
   "cell_type": "code",
   "execution_count": 20,
   "metadata": {},
   "outputs": [
    {
     "name": "stdout",
     "output_type": "stream",
     "text": [
      "fib_recursive(0): 1\n",
      "fib_recursive(1): 1\n",
      "fib_recursive(2): 2\n",
      "fib_recursive(3): 3\n",
      "fib_recursive(4): 5\n",
      "fib_recursive(5): 8\n"
     ]
    }
   ],
   "source": [
    "fib_dict = {}  # NB: to be FAIR this global dict should be cleared before each call of fib_recursive\n",
    "\n",
    "def fib_recursive(n):\n",
    "    # global fib_dict\n",
    "    \n",
    "    if n < 2:\n",
    "        return 1\n",
    "    \n",
    "    if n not in fib_dict:\n",
    "        fib_dict[n] = fib_recursive(n-1) + fib_recursive(n-2)\n",
    "    \n",
    "    return fib_dict[n]\n",
    "\n",
    "n = 6\n",
    "for i in range(n):\n",
    "    print(f\"fib_recursive({i}): {fib_recursive(i)}\")"
   ]
  },
  {
   "cell_type": "code",
   "execution_count": 37,
   "metadata": {},
   "outputs": [
    {
     "name": "stdout",
     "output_type": "stream",
     "text": [
      "fib_recursive(0): 1\n",
      "fib_recursive(1): 1\n",
      "fib_recursive(2): 2\n",
      "fib_recursive(3): 3\n",
      "fib_recursive(4): 5\n",
      "fib_recursive(5): 8\n",
      "\n",
      "Timing\n",
      "100000 loops, best of 3: 14.4 µs per loop\n"
     ]
    }
   ],
   "source": [
    "# fib_dict = {}  # move the global dict inside the function that encloses the recursive subroutine\n",
    "\n",
    "def fib_recursive(n):\n",
    "    \"\"\"\n",
    "    Outer function to clear the fib_dict before the call of the recursive part\n",
    "    \"\"\"\n",
    "\n",
    "    fib_dict = {}  # dynamic programming: save intermediate result\n",
    "    \n",
    "    def fib_recursive_body(n):\n",
    "        \"\"\"\n",
    "        Recursive subroutine\n",
    "        \"\"\"\n",
    "        if n < 2:\n",
    "            return 1\n",
    "        if n not in fib_dict:\n",
    "            fib_dict[n] = fib_recursive_body(n-1) + fib_recursive_body(n-2)\n",
    "        \n",
    "        return fib_dict[n]\n",
    "\n",
    "    return fib_recursive_body(n)\n",
    "\n",
    "n = 6\n",
    "for i in range(n):\n",
    "    print(f\"fib_recursive({i}): {fib_recursive(i)}\")\n",
    "\n",
    "print(\"\\nTiming\")\n",
    "%timeit fib_recursive(10)"
   ]
  },
  {
   "cell_type": "code",
   "execution_count": 38,
   "metadata": {},
   "outputs": [
    {
     "name": "stdout",
     "output_type": "stream",
     "text": [
      "100000 loops, best of 3: 3.81 µs per loop\n",
      "10000 loops, best of 3: 28 µs per loop\n"
     ]
    }
   ],
   "source": [
    "%timeit fib_iter(20)\n",
    "%timeit fib_recursive(20)"
   ]
  },
  {
   "cell_type": "code",
   "execution_count": 51,
   "metadata": {},
   "outputs": [
    {
     "data": {
      "text/plain": [
       "4"
      ]
     },
     "execution_count": 51,
     "metadata": {},
     "output_type": "execute_result"
    }
   ],
   "source": [
    "def countPrimes(n):\n",
    "    primes_array = [False] * n\n",
    "    for i in range(2, n):\n",
    "        if isprime(i) == True:\n",
    "            primes_array[i] = True\n",
    "    return primes_array.count(True)\n",
    "\n",
    "n = 10\n",
    "countPrimes(n)"
   ]
  },
  {
   "cell_type": "code",
   "execution_count": 65,
   "metadata": {},
   "outputs": [
    {
     "name": "stdout",
     "output_type": "stream",
     "text": [
      "0 True\n",
      "1 True\n",
      "2 True\n",
      "3 True\n",
      "4 False\n",
      "5 True\n",
      "6 False\n",
      "7 True\n",
      "8 False\n",
      "9 False\n",
      "10 False\n",
      "11 True\n",
      "5\n"
     ]
    }
   ],
   "source": [
    "# n = 11\n",
    "n = 12\n",
    "\n",
    "primes = n * [True]\n",
    "\n",
    "for i in range(2, n):\n",
    "    if primes[i]:  # if number is not crossed out\n",
    "        for iprime in range(i+i, n, i):\n",
    "            primes[iprime] = False\n",
    "\n",
    "for i, x in enumerate(primes):\n",
    "    print(i, x)\n",
    "    \n",
    "print(primes[2:].count(True))"
   ]
  },
  {
   "cell_type": "markdown",
   "metadata": {},
   "source": [
    "### First submission\n",
    "Could be time optimized\n",
    "\n",
    "Accepted by LeetCode: Runtime: 720 ms, faster than 49.60% of Python3 online submissions for Count Primes.  \n",
    "Memory Usage: 37 MB, less than 37.93% of Python3 online submissions for Count Primes."
   ]
  },
  {
   "cell_type": "code",
   "execution_count": 68,
   "metadata": {},
   "outputs": [
    {
     "data": {
      "text/plain": [
       "4"
      ]
     },
     "execution_count": 68,
     "metadata": {},
     "output_type": "execute_result"
    }
   ],
   "source": [
    "class Solution:\n",
    "    def countPrimes(self, n):\n",
    "        primes = n * [True] \n",
    "        for i in range(2, n):\n",
    "            if primes[i]:\n",
    "                for iprime in range(i+i, n, i):\n",
    "                    primes[iprime] = False\n",
    "\n",
    "        return primes[2:].count(True)\n",
    "\n",
    "solution = Solution()\n",
    "n = 10\n",
    "solution.countPrimes(n)"
   ]
  }
 ],
 "metadata": {
  "kernelspec": {
   "display_name": "Python 3",
   "language": "python",
   "name": "python3"
  },
  "language_info": {
   "codemirror_mode": {
    "name": "ipython",
    "version": 3
   },
   "file_extension": ".py",
   "mimetype": "text/x-python",
   "name": "python",
   "nbconvert_exporter": "python",
   "pygments_lexer": "ipython3",
   "version": "3.6.1"
  }
 },
 "nbformat": 4,
 "nbformat_minor": 2
}
