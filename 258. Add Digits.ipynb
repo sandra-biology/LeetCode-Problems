{
 "cells": [
  {
   "cell_type": "code",
   "execution_count": null,
   "metadata": {
    "collapsed": true
   },
   "outputs": [],
   "source": [
    "num = 258\n",
    "num_list = [int(n) for n in str(num)]\n",
    "length = len(num)\n",
    "total = 0\n",
    "if len(num_list) > 1:\n",
    "    total = sum(num_list)"
   ]
  },
  {
   "cell_type": "code",
   "execution_count": 4,
   "metadata": {},
   "outputs": [
    {
     "name": "stdout",
     "output_type": "stream",
     "text": [
      "[2, 5, 8]\n"
     ]
    }
   ],
   "source": [
    "num = 258\n",
    "num_list = [int(n) for n in str(num)]\n",
    "print(num_list)"
   ]
  },
  {
   "cell_type": "code",
   "execution_count": 2,
   "metadata": {},
   "outputs": [
    {
     "name": "stdout",
     "output_type": "stream",
     "text": [
      "6\n"
     ]
    }
   ],
   "source": [
    "num = 258\n",
    "length = len(str(num))\n",
    "num_list = [int(n) for n in str(num)]\n",
    "total = 0\n",
    "\n",
    "while length != 1:\n",
    "    total = sum(num_list)\n",
    "    num_list = [int(n) for n in str(total)]\n",
    "    length -= 1\n",
    "print(total)"
   ]
  },
  {
   "cell_type": "markdown",
   "metadata": {},
   "source": [
    "### First submission\n",
    "Could be time optimized - could be done with using loops\n",
    "\n",
    "Accepted by LeetCode: Runtime: 36 ms, faster than 23.28% of Python3 online submissions for Add Digits.  \n",
    "Memory Usage: 13.7 MB, less than 5.26% of Python3 online submissions for Add Digits."
   ]
  },
  {
   "cell_type": "code",
   "execution_count": 2,
   "metadata": {},
   "outputs": [
    {
     "data": {
      "text/plain": [
       "6"
      ]
     },
     "execution_count": 2,
     "metadata": {},
     "output_type": "execute_result"
    }
   ],
   "source": [
    "def addDigits(num):\n",
    "    length = len(str(num))\n",
    "    num_list = [int(n) for n in str(num)]\n",
    "    total = 0\n",
    "\n",
    "    while length > 0:\n",
    "        total = sum(num_list)\n",
    "        num_list = [int(n) for n in str(total)]\n",
    "        length -= 1\n",
    "\n",
    "    return total\n",
    "\n",
    "# num = 38\n",
    "num = 258\n",
    "addDigits(num)"
   ]
  },
  {
   "cell_type": "code",
   "execution_count": 1,
   "metadata": {},
   "outputs": [
    {
     "name": "stdout",
     "output_type": "stream",
     "text": [
      "2\n"
     ]
    }
   ],
   "source": [
    "n = 38\n",
    "print(n % 9)"
   ]
  },
  {
   "cell_type": "code",
   "execution_count": 12,
   "metadata": {},
   "outputs": [
    {
     "name": "stdout",
     "output_type": "stream",
     "text": [
      "6\n"
     ]
    }
   ],
   "source": [
    "n = 258\n",
    "print(n%9)"
   ]
  },
  {
   "cell_type": "markdown",
   "metadata": {},
   "source": [
    "### Second submission\n",
    "Could still be time optimized\n",
    "\n",
    "Accepted by LeetCode: Runtime: 32 ms, faster than 55.27% of Python3 online submissions for Add Digits.  \n",
    "Memory Usage: 14 MB, less than 5.26% of Python3 online submissions for Add Digits."
   ]
  },
  {
   "cell_type": "code",
   "execution_count": 17,
   "metadata": {},
   "outputs": [
    {
     "data": {
      "text/plain": [
       "4"
      ]
     },
     "execution_count": 17,
     "metadata": {},
     "output_type": "execute_result"
    }
   ],
   "source": [
    "class Solution:\n",
    "    def addDigits(self, num):\n",
    "        if num < 10:\n",
    "            return num\n",
    "        return num % 9 or 9\n",
    "\n",
    "solution = Solution()\n",
    "# num = 258\n",
    "# num = 38\n",
    "# num = 9\n",
    "# num = 36\n",
    "num = 4\n",
    "solution.addDigits(num)"
   ]
  },
  {
   "cell_type": "markdown",
   "metadata": {},
   "source": [
    "### Third submission\n",
    "Most time efficient\n",
    "\n",
    "Accepted by LeetCode: Runtime: 20 ms, faster than 98.76% of Python3 online submissions for Add Digits.  \n",
    "Memory Usage: 13.8 MB, less than 5.26% of Python3 online submissions for Add Digits."
   ]
  },
  {
   "cell_type": "code",
   "execution_count": 47,
   "metadata": {},
   "outputs": [
    {
     "data": {
      "text/plain": [
       "1"
      ]
     },
     "execution_count": 47,
     "metadata": {},
     "output_type": "execute_result"
    }
   ],
   "source": [
    "class Solution:\n",
    "    def addDigits(self, num):\n",
    "        if num == 0:\n",
    "            return 0\n",
    "        return num % 9 or 9\n",
    "\n",
    "solution = Solution()\n",
    "# num = 258\n",
    "# num = 38\n",
    "# num = 9\n",
    "# num = 36\n",
    "# num = 4\n",
    "num = 10\n",
    "solution.addDigits(num)"
   ]
  },
  {
   "cell_type": "code",
   "execution_count": 45,
   "metadata": {},
   "outputs": [
    {
     "name": "stdout",
     "output_type": "stream",
     "text": [
      "6\n",
      "8\n",
      "25\n",
      "2\n"
     ]
    }
   ],
   "source": [
    "n = 258\n",
    "print(n%9)\n",
    "print(n % 10)\n",
    "print(n // 10)\n",
    "\n",
    "n = 38\n",
    "print(n%9)"
   ]
  },
  {
   "cell_type": "code",
   "execution_count": 43,
   "metadata": {},
   "outputs": [
    {
     "data": {
      "text/plain": [
       "9"
      ]
     },
     "execution_count": 43,
     "metadata": {},
     "output_type": "execute_result"
    }
   ],
   "source": [
    "# return 9 if num % 9 == 0 and num > 0 else num % 9\n",
    "\n",
    "\n",
    "def sumDigits(num):\n",
    "    if num % 9 == 0 and num > 0:\n",
    "        return 9\n",
    "    else:\n",
    "        return num % 9\n",
    "\n",
    "# num = 258\n",
    "# num = 38\n",
    "num = 9\n",
    "# num = 36\n",
    "# num = 4\n",
    "sumDigits(num)"
   ]
  }
 ],
 "metadata": {
  "kernelspec": {
   "display_name": "Python 3",
   "language": "python",
   "name": "python3"
  },
  "language_info": {
   "codemirror_mode": {
    "name": "ipython",
    "version": 3
   },
   "file_extension": ".py",
   "mimetype": "text/x-python",
   "name": "python",
   "nbconvert_exporter": "python",
   "pygments_lexer": "ipython3",
   "version": "3.6.1"
  }
 },
 "nbformat": 4,
 "nbformat_minor": 2
}
