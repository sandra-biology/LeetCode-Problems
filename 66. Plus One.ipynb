{
 "cells": [
  {
   "cell_type": "code",
   "execution_count": 1,
   "metadata": {},
   "outputs": [
    {
     "ename": "ValueError",
     "evalue": "invalid literal for int() with base 10: '[1, 2, 3]'",
     "output_type": "error",
     "traceback": [
      "\u001b[1;31m---------------------------------------------------------------------------\u001b[0m",
      "\u001b[1;31mValueError\u001b[0m                                Traceback (most recent call last)",
      "\u001b[1;32m<ipython-input-1-3c69f752ad56>\u001b[0m in \u001b[0;36m<module>\u001b[1;34m()\u001b[0m\n\u001b[0;32m      1\u001b[0m \u001b[0mdigits\u001b[0m \u001b[1;33m=\u001b[0m \u001b[1;33m[\u001b[0m\u001b[1;36m1\u001b[0m\u001b[1;33m,\u001b[0m \u001b[1;36m2\u001b[0m\u001b[1;33m,\u001b[0m \u001b[1;36m3\u001b[0m\u001b[1;33m]\u001b[0m\u001b[1;33m\u001b[0m\u001b[0m\n\u001b[0;32m      2\u001b[0m \u001b[0mdigits_string\u001b[0m \u001b[1;33m=\u001b[0m \u001b[0mstr\u001b[0m\u001b[1;33m(\u001b[0m\u001b[0mdigits\u001b[0m\u001b[1;33m)\u001b[0m\u001b[1;33m\u001b[0m\u001b[0m\n\u001b[1;32m----> 3\u001b[1;33m \u001b[0mdigits_int\u001b[0m \u001b[1;33m=\u001b[0m \u001b[0mint\u001b[0m\u001b[1;33m(\u001b[0m\u001b[0mdigits_string\u001b[0m\u001b[1;33m)\u001b[0m\u001b[1;33m\u001b[0m\u001b[0m\n\u001b[0m\u001b[0;32m      4\u001b[0m \u001b[0mnumber\u001b[0m \u001b[1;33m=\u001b[0m \u001b[0mdigits_int\u001b[0m \u001b[1;33m+\u001b[0m \u001b[1;36m1\u001b[0m\u001b[1;33m\u001b[0m\u001b[0m\n\u001b[0;32m      5\u001b[0m \u001b[0mprint\u001b[0m\u001b[1;33m(\u001b[0m\u001b[0mlist\u001b[0m\u001b[1;33m(\u001b[0m\u001b[0mnumber\u001b[0m\u001b[1;33m)\u001b[0m\u001b[1;33m)\u001b[0m\u001b[1;33m\u001b[0m\u001b[0m\n",
      "\u001b[1;31mValueError\u001b[0m: invalid literal for int() with base 10: '[1, 2, 3]'"
     ]
    }
   ],
   "source": [
    "digits = [1, 2, 3]\n",
    "digits_string = str(digits)\n",
    "digits_int = int(digits_string)\n",
    "number = digits_int + 1\n",
    "print(list(number))"
   ]
  },
  {
   "cell_type": "code",
   "execution_count": 11,
   "metadata": {},
   "outputs": [
    {
     "ename": "TypeError",
     "evalue": "sequence item 0: expected str instance, int found",
     "output_type": "error",
     "traceback": [
      "\u001b[1;31m---------------------------------------------------------------------------\u001b[0m",
      "\u001b[1;31mTypeError\u001b[0m                                 Traceback (most recent call last)",
      "\u001b[1;32m<ipython-input-11-4272b8f86522>\u001b[0m in \u001b[0;36m<module>\u001b[1;34m()\u001b[0m\n\u001b[0;32m      1\u001b[0m \u001b[0mdigits\u001b[0m \u001b[1;33m=\u001b[0m \u001b[1;33m[\u001b[0m\u001b[1;36m1\u001b[0m\u001b[1;33m,\u001b[0m \u001b[1;36m2\u001b[0m\u001b[1;33m,\u001b[0m \u001b[1;36m3\u001b[0m\u001b[1;33m]\u001b[0m\u001b[1;33m\u001b[0m\u001b[0m\n\u001b[1;32m----> 2\u001b[1;33m \u001b[0mdigits_string\u001b[0m \u001b[1;33m=\u001b[0m \u001b[1;34m\",\"\u001b[0m\u001b[1;33m.\u001b[0m\u001b[0mjoin\u001b[0m\u001b[1;33m(\u001b[0m\u001b[0mdigits\u001b[0m\u001b[1;33m)\u001b[0m\u001b[1;33m\u001b[0m\u001b[0m\n\u001b[0m\u001b[0;32m      3\u001b[0m \u001b[0mdigits_int\u001b[0m \u001b[1;33m=\u001b[0m \u001b[0mint\u001b[0m\u001b[1;33m(\u001b[0m\u001b[0mdigits_string\u001b[0m\u001b[1;33m)\u001b[0m\u001b[1;33m\u001b[0m\u001b[0m\n\u001b[0;32m      4\u001b[0m \u001b[0mprint\u001b[0m\u001b[1;33m(\u001b[0m\u001b[1;34mf\"digits_string = {digits_string}\"\u001b[0m\u001b[1;33m)\u001b[0m\u001b[1;33m\u001b[0m\u001b[0m\n\u001b[0;32m      5\u001b[0m \u001b[0mprint\u001b[0m\u001b[1;33m(\u001b[0m\u001b[1;34mf\"digits_int = {digits_int}\"\u001b[0m\u001b[1;33m)\u001b[0m\u001b[1;33m\u001b[0m\u001b[0m\n",
      "\u001b[1;31mTypeError\u001b[0m: sequence item 0: expected str instance, int found"
     ]
    }
   ],
   "source": [
    "digits = [1, 2, 3]\n",
    "digits_string = \",\".join(digits)\n",
    "digits_int = int(digits_string)\n",
    "print(f\"digits_string = {digits_string}\")\n",
    "print(f\"digits_int = {digits_int}\")"
   ]
  },
  {
   "cell_type": "code",
   "execution_count": 21,
   "metadata": {},
   "outputs": [
    {
     "name": "stdout",
     "output_type": "stream",
     "text": [
      "str_digits = 123\n",
      "number = 123\n",
      "number plus one = 124\n",
      "number list = ['1', '2', '4']\n"
     ]
    }
   ],
   "source": [
    "digits = [1, 2, 3]\n",
    "str_digits = \"\"\n",
    "for i in range(len(digits)):\n",
    "    str_digits += str(digits[i])\n",
    "number = int(str_digits)\n",
    "number_one_more = str(number + 1)\n",
    "number_list = list(number_one_more)\n",
    "#number_list = list(number_one_more)\n",
    "print(f\"str_digits = {str_digits}\")\n",
    "print(f\"number = {number}\")\n",
    "print(f\"number plus one = {number_one_more}\")\n",
    "print(f\"number list = {number_list}\")"
   ]
  },
  {
   "cell_type": "markdown",
   "metadata": {},
   "source": [
    "### Brute force algorithm - first submission\n",
    "\n",
    "Accepted by LeetCode: Runtime: 24 ms, faster than 95.44% of Python3 submissions  \n",
    "                      Memory Usage: 13.8 MB, less than 5.13% of Python3 submissions"
   ]
  },
  {
   "cell_type": "code",
   "execution_count": 23,
   "metadata": {},
   "outputs": [
    {
     "data": {
      "text/plain": [
       "['4', '3', '2', '2']"
      ]
     },
     "execution_count": 23,
     "metadata": {},
     "output_type": "execute_result"
    }
   ],
   "source": [
    "from typing import List\n",
    "\n",
    "class Solution:\n",
    "    def plusOne(self, digits: List[int]) -> List[int]:\n",
    "        str_digits = \"\"\n",
    "        for i in range(len(digits)):\n",
    "            str_digits += str(digits[i])\n",
    "        number = int(str_digits)\n",
    "        number_one_more = str(number + 1)\n",
    "        number_list = list(number_one_more)\n",
    "        return number_list\n",
    "\n",
    "solution = Solution()\n",
    "# digits = [1, 2, 3]\n",
    "digits = [4,3,2,1]\n",
    "solution.plusOne(digits)"
   ]
  },
  {
   "cell_type": "markdown",
   "metadata": {},
   "source": [
    "### Trying iterative solution"
   ]
  },
  {
   "cell_type": "code",
   "execution_count": 11,
   "metadata": {},
   "outputs": [
    {
     "name": "stdout",
     "output_type": "stream",
     "text": [
      "digits after = [4, 3, 2, 2]\n"
     ]
    }
   ],
   "source": [
    "digits = [4, 3, 2, 1]\n",
    "\n",
    "for digit in digits:\n",
    "    if digit == digits[-1]:\n",
    "        digit = digits[-1] + 1\n",
    "        digits[-1] = digit\n",
    "print(f\"digits after = {digits}\")"
   ]
  },
  {
   "cell_type": "code",
   "execution_count": 10,
   "metadata": {},
   "outputs": [
    {
     "name": "stdout",
     "output_type": "stream",
     "text": [
      "digits before = [9, 9, 9, 9]\n",
      "index = 3\n",
      "index = 2\n",
      "index = 1\n",
      "index = 0\n",
      "digits after  = [1, 0, 0, 0, 0]\n"
     ]
    }
   ],
   "source": [
    "digits  = [9, 9, 9, 9]\n",
    "# digits  = [1, 2, 3, 9]\n",
    "print(f\"digits before = {digits}\")\n",
    "\n",
    "for i in range(len(digits)-1, -1, -1):\n",
    "    print(f\"index = {i}\")\n",
    "    digits[i] += 1\n",
    "\n",
    "    if digits[i] <= 9:\n",
    "        break\n",
    "\n",
    "    # here digits[i] == 10\n",
    "    \n",
    "    digits[i] = 0\n",
    "    if i == 0:\n",
    "        digits.insert(0, 1)\n",
    "\n",
    "print(f\"digits after  = {digits}\")"
   ]
  },
  {
   "cell_type": "markdown",
   "metadata": {},
   "source": [
    "### Submission of iterative solution\n",
    "\n",
    "Accepted by LeetCode: Runtime: 24 ms, faster than 95.65% of Python3 online submissions  \n",
    "                      Memory Usage: 14 MB, less than 5.13% of Python3 online submissions"
   ]
  },
  {
   "cell_type": "code",
   "execution_count": 2,
   "metadata": {},
   "outputs": [
    {
     "data": {
      "text/plain": [
       "[1, 0, 0, 0, 0]"
      ]
     },
     "execution_count": 2,
     "metadata": {},
     "output_type": "execute_result"
    }
   ],
   "source": [
    "from typing import List\n",
    "\n",
    "class Solution:\n",
    "    def plusOne(self, digits: List[int]) -> List[int]:\n",
    "        for i in range(len(digits)-1, -1, -1):\n",
    "            digits[i] += 1\n",
    "\n",
    "            if digits[i] <= 9:\n",
    "                break\n",
    "\n",
    "            # here digits[i] == 10\n",
    "\n",
    "            digits[i] = 0\n",
    "            if i == 0:\n",
    "                digits.insert(0, 1)\n",
    "\n",
    "        return digits\n",
    "\n",
    "solution = Solution()\n",
    "# digits  = [4, 3, 2, 1]\n",
    "digits = [9, 9, 9, 9]\n",
    "solution.plusOne(digits)"
   ]
  },
  {
   "cell_type": "code",
   "execution_count": 16,
   "metadata": {},
   "outputs": [
    {
     "data": {
      "text/plain": [
       "[3, 2, 1, 0]"
      ]
     },
     "execution_count": 16,
     "metadata": {},
     "output_type": "execute_result"
    }
   ],
   "source": [
    "list(range(len(digits)-1, -1, -1))"
   ]
  },
  {
   "cell_type": "markdown",
   "metadata": {},
   "source": [
    "### Trying recursive solution"
   ]
  },
  {
   "cell_type": "code",
   "execution_count": 17,
   "metadata": {},
   "outputs": [
    {
     "name": "stdout",
     "output_type": "stream",
     "text": [
      "[1, 0]\n"
     ]
    }
   ],
   "source": [
    "def plusOne(digits):\n",
    "    digits[-1] += 1\n",
    "\n",
    "    if digits[-1] == 10:\n",
    "        # termination of recursion\n",
    "        if len(digits) == 1:\n",
    "            digits[0] = 0\n",
    "            digits.insert(0, 1)\n",
    "            return digits\n",
    "\n",
    "        return plusOne(digits[:-1])\n",
    "    \n",
    "    return digits\n",
    "\n",
    "# digits = [1, 2, 3, 4]\n",
    "digits = [9, 9, 9, 9]\n",
    "result = plusOne(digits)\n",
    "print(result)"
   ]
  },
  {
   "cell_type": "code",
   "execution_count": 32,
   "metadata": {},
   "outputs": [
    {
     "name": "stdout",
     "output_type": "stream",
     "text": [
      "plusOne_recursive: digits: [9, 9, 9, 9]\n",
      "plusOne_recursive digits[-1] == 10\n",
      "-- before recursive call digits: [9, 9, 9, 0]\n",
      "plusOne_recursive: digits: [9, 9, 9]\n",
      "plusOne_recursive digits[-1] == 10\n",
      "-- before recursive call digits: [9, 9, 0]\n",
      "plusOne_recursive: digits: [9, 9]\n",
      "plusOne_recursive digits[-1] == 10\n",
      "-- before recursive call digits: [9, 0]\n",
      "plusOne_recursive: digits: [9]\n",
      "plusOne_recursive digits[-1] == 10\n",
      "plusOne_recursive stop recursion: digits: [1, 0]\n",
      "after recursive call digits:  [9, 0]\n",
      "after recursive call digits:  [9, 9, 0]\n",
      "after recursive call digits:  [9, 9, 9, 0]\n",
      "plusOne: digits: [9, 9, 9, 0]\n"
     ]
    },
    {
     "data": {
      "text/plain": [
       "[9, 9, 9, 0]"
      ]
     },
     "execution_count": 32,
     "metadata": {},
     "output_type": "execute_result"
    }
   ],
   "source": [
    "# in progress - need to figure out recursion\n",
    "\n",
    "class Solution:\n",
    "    def plusOne_recursive(self, digits):\n",
    "        print(f\"plusOne_recursive: digits: {digits}\")\n",
    "        digits[-1] += 1\n",
    "\n",
    "        if digits[-1] == 10:\n",
    "            digits[-1] = 0\n",
    "            print(\"plusOne_recursive digits[-1] == 10\")\n",
    "            # termination of recursion\n",
    "            if len(digits) == 1:\n",
    "                digits[0] = 0\n",
    "                digits.insert(0, 1)\n",
    "                print(f\"plusOne_recursive stop recursion: digits: {digits}\")\n",
    "                return\n",
    "            else:\n",
    "                print(f\"-- before recursive call digits: {digits}\")\n",
    "                self.plusOne_recursive(digits[:-1])\n",
    "                print(f\"after recursive call digits:  {digits}\")\n",
    "    \n",
    "    def plusOne(self, digits):\n",
    "        self.plusOne_recursive(digits)\n",
    "        print(f\"plusOne: digits: {digits}\")\n",
    "        return digits\n",
    "\n",
    "solution = Solution()\n",
    "# digits = [1, 2, 3, 4]\n",
    "digits = [9, 9, 9, 9]\n",
    "solution.plusOne(digits)"
   ]
  }
 ],
 "metadata": {
  "kernelspec": {
   "display_name": "Python 3",
   "language": "python",
   "name": "python3"
  },
  "language_info": {
   "codemirror_mode": {
    "name": "ipython",
    "version": 3
   },
   "file_extension": ".py",
   "mimetype": "text/x-python",
   "name": "python",
   "nbconvert_exporter": "python",
   "pygments_lexer": "ipython3",
   "version": "3.6.1"
  }
 },
 "nbformat": 4,
 "nbformat_minor": 2
}
