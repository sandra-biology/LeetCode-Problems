{
 "cells": [
  {
   "cell_type": "code",
   "execution_count": 5,
   "metadata": {},
   "outputs": [
    {
     "name": "stdout",
     "output_type": "stream",
     "text": [
      "5\n"
     ]
    }
   ],
   "source": [
    "#    012345678910\n",
    "s = \"Hello World\"\n",
    "last_space = s.rfind(\" \")\n",
    "# length = last_space - s[-1]\n",
    "# print(length)\n",
    "print(last_space)"
   ]
  },
  {
   "cell_type": "code",
   "execution_count": 5,
   "metadata": {},
   "outputs": [
    {
     "name": "stdout",
     "output_type": "stream",
     "text": [
      "string_lst = ['Hello', 'World']\n",
      "last element = World\n",
      "length of last element = 5\n"
     ]
    }
   ],
   "source": [
    "# lst = list(range(10, 0, -1))\n",
    "# print(lst)\n",
    "\n",
    "# s = \"a \"\n",
    "# print(f\"s[-1] = {s[-1]}\")\n",
    "# print(f\"length = {len(s[-1])}\")\n",
    "\n",
    "# s_list = s.split(\" \")\n",
    "# print(f\"length_list = {len(s_list[-1])}\")\n",
    "\n",
    "string = \"Hello World \"\n",
    "# print(f\"length_string = {len(s[-1])}\")\n",
    "\n",
    "# string = \"a \"\n",
    "string_lst = string.split()\n",
    "print(f\"string_lst = {string_lst}\")\n",
    "print(f\"last element = {string_lst[-1]}\")\n",
    "print(f\"length of last element = {len(string_lst[-1])}\")"
   ]
  },
  {
   "cell_type": "markdown",
   "metadata": {},
   "source": [
    "### The timing could be improved\n",
    "\n",
    "Remove spaces.\n",
    "\n",
    "accepted by Leetcode: Runtime -  20 ms; faster than 96.45% Python3 submissions\n",
    "                      Memory Usage - 13.8 MB; less than 5.26%"
   ]
  },
  {
   "cell_type": "code",
   "execution_count": 12,
   "metadata": {},
   "outputs": [
    {
     "name": "stdout",
     "output_type": "stream",
     "text": [
      "length = 5\n"
     ]
    }
   ],
   "source": [
    "class Solution:\n",
    "    def lengthOfLastWord(self, s: str) -> int:\n",
    "        s_list = s.split()\n",
    "        if len(s_list) == 0:\n",
    "            return 0\n",
    "\n",
    "        length = len(s_list[-1])\n",
    "        return length\n",
    "\n",
    "solution = Solution()\n",
    "# string = \"a \"\n",
    "# string = \"        \"\n",
    "string = \"Hello World\"\n",
    "length = solution.lengthOfLastWord(string)\n",
    "print(f\"length = {length}\")"
   ]
  },
  {
   "cell_type": "markdown",
   "metadata": {},
   "source": [
    "### Remove trailing spaces only.\n",
    "\n",
    "accepted by Leetcode: \n",
    "Runtime -  16 ms; faster than 99.42% Python3 submissions\n",
    "Memory Usage - 13.8 MB; less than 5.26%"
   ]
  },
  {
   "cell_type": "code",
   "execution_count": 19,
   "metadata": {},
   "outputs": [
    {
     "name": "stdout",
     "output_type": "stream",
     "text": [
      "length = 5\n"
     ]
    }
   ],
   "source": [
    "class Solution:\n",
    "    def lengthOfLastWord(self, s: str) -> int:\n",
    "        s_strip = s.rstrip(\" \")\n",
    "        space = s_strip.rfind(\" \")\n",
    "        if space >= 0:\n",
    "            return len(s_strip) - space - 1\n",
    "        return len(s_strip)\n",
    "\n",
    "\n",
    "solution = Solution()\n",
    "# string = \"a \"\n",
    "# string = \"        \"\n",
    "string = \"Hello World\"\n",
    "length = solution.lengthOfLastWord(string)\n",
    "print(f\"length = {length}\")"
   ]
  }
 ],
 "metadata": {
  "kernelspec": {
   "display_name": "Python 3",
   "language": "python",
   "name": "python3"
  },
  "language_info": {
   "codemirror_mode": {
    "name": "ipython",
    "version": 3
   },
   "file_extension": ".py",
   "mimetype": "text/x-python",
   "name": "python",
   "nbconvert_exporter": "python",
   "pygments_lexer": "ipython3",
   "version": "3.6.1"
  }
 },
 "nbformat": 4,
 "nbformat_minor": 2
}
