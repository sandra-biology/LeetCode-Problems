{
 "cells": [
  {
   "cell_type": "markdown",
   "metadata": {},
   "source": [
    "### First submission\n",
    "Could be simplified\n",
    "Accepted by Leetcode: Runtime: 64 ms, faster than 50.74% of Python3 submissions\n",
    "                      Memory Usage: 13.7 MB, less than 6.50% of Python3 submissions"
   ]
  },
  {
   "cell_type": "code",
   "execution_count": 1,
   "metadata": {},
   "outputs": [
    {
     "name": "stdout",
     "output_type": "stream",
     "text": [
      "x1: False\n",
      "x2: False\n",
      "x3: True\n"
     ]
    }
   ],
   "source": [
    "class Solution:\n",
    "    def isPalindrome(self, x: int) -> bool:\n",
    "        x_string = str(x)\n",
    "        reverse_string = x_string[::-1]\n",
    "        return x_string == reverse_string\n",
    "\n",
    "solution = Solution()\n",
    "x1 = -121\n",
    "x2 = 10\n",
    "x3 = 121\n",
    "print(\"x1:\", solution.isPalindrome(x1))\n",
    "print(\"x2:\", solution.isPalindrome(x2))\n",
    "print(\"x3:\", solution.isPalindrome(x3))"
   ]
  },
  {
   "cell_type": "markdown",
   "metadata": {},
   "source": [
    "### Final submission\n",
    "Accepted by Leetcode: Runtime: 44 ms, Memory Usage 14 MB"
   ]
  },
  {
   "cell_type": "code",
   "execution_count": 2,
   "metadata": {},
   "outputs": [
    {
     "name": "stdout",
     "output_type": "stream",
     "text": [
      "x1: False\n",
      "x2: False\n",
      "x3: True\n"
     ]
    }
   ],
   "source": [
    "class Solution:\n",
    "    def isPalindrome(self, x: int) -> bool:\n",
    "        x_string = str(x)\n",
    "        return x_string == x_string[::-1]\n",
    "\n",
    "solution = Solution()\n",
    "x1 = -121\n",
    "x2 = 10\n",
    "x3 = 121\n",
    "print(\"x1:\", solution.isPalindrome(x1))\n",
    "print(\"x2:\", solution.isPalindrome(x2))\n",
    "print(\"x3:\", solution.isPalindrome(x3))"
   ]
  }
 ],
 "metadata": {
  "kernelspec": {
   "display_name": "Python 3",
   "language": "python",
   "name": "python3"
  },
  "language_info": {
   "codemirror_mode": {
    "name": "ipython",
    "version": 3
   },
   "file_extension": ".py",
   "mimetype": "text/x-python",
   "name": "python",
   "nbconvert_exporter": "python",
   "pygments_lexer": "ipython3",
   "version": "3.6.1"
  }
 },
 "nbformat": 4,
 "nbformat_minor": 2
}
