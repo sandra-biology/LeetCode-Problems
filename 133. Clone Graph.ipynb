{
 "cells": [
  {
   "cell_type": "code",
   "execution_count": null,
   "metadata": {
    "collapsed": true
   },
   "outputs": [],
   "source": [
    "\"\"\"\n",
    "# Definition for a Node.\n",
    "class Node:\n",
    "    def __init__(self, val = 0, neighbors = None):\n",
    "        self.val = val\n",
    "        self.neighbors = neighbors if neighbors is not None else []\n",
    "\"\"\"\n",
    "\n",
    "class Solution:\n",
    "    def cloneGraph(self, node: 'Node') -> 'Node':\n",
    "        pass"
   ]
  },
  {
   "cell_type": "code",
   "execution_count": null,
   "metadata": {
    "collapsed": true
   },
   "outputs": [],
   "source": [
    "class Node:\n",
    "    def __init__(self, val=0, neighbors=None):\n",
    "        self.val = val\n",
    "        self.neighbors = neighbors if neighbors is not None else []\n",
    "\n",
    "class Solution:\n",
    "    def cloneGraph(self, node: 'Node') -> 'Node':\n",
    "        pass\n",
    "\n",
    "adjList = [[2,4],[1,3],[2,4],[1,3]]"
   ]
  },
  {
   "cell_type": "code",
   "execution_count": 1,
   "metadata": {},
   "outputs": [
    {
     "name": "stdout",
     "output_type": "stream",
     "text": [
      "graph = {1: [1, 4], 2: [1, 3], 3: [2, 4], 4: [1, 3]}\n"
     ]
    }
   ],
   "source": [
    "graph = dict()\n",
    "graph[1] = [1, 4]\n",
    "graph[2] = [1, 3]\n",
    "graph[3] = [2, 4]\n",
    "graph[4] = [1, 3]\n",
    "\n",
    "print(f\"graph = {graph}\")"
   ]
  },
  {
   "cell_type": "code",
   "execution_count": 2,
   "metadata": {},
   "outputs": [
    {
     "name": "stdout",
     "output_type": "stream",
     "text": [
      "original list\n",
      "node.val = 40\n",
      "node.val = 30\n",
      "node.val = 20\n",
      "node.val = 10\n",
      "copied List\n",
      "node1.val = 10\n",
      "node1.val = 20\n",
      "node1.val = 30\n",
      "node1.val = 40\n"
     ]
    }
   ],
   "source": [
    "# copying linked list - copied list is reversed\n",
    "\n",
    "class ListNode:\n",
    "    def __init__(self, x):\n",
    "        self.val = x\n",
    "        self.next = None\n",
    "        \n",
    "        \n",
    "head = None\n",
    "\n",
    "node = ListNode(10)\n",
    "node.next = head\n",
    "head = node\n",
    "\n",
    "node = ListNode(20)\n",
    "node.next = head\n",
    "head = node\n",
    "\n",
    "node = ListNode(30)\n",
    "node.next = head\n",
    "head = node\n",
    "\n",
    "node = ListNode(40)\n",
    "node.next = head\n",
    "head = node\n",
    "\n",
    "print(\"original list\")\n",
    "node = head\n",
    "while node:\n",
    "    print(f\"node.val = {node.val}\")\n",
    "    node = node.next\n",
    "\n",
    "head1 = None\n",
    "node = head\n",
    "\n",
    "while node:\n",
    "    node_copy = ListNode(node.val) # copy node\n",
    "    node_copy.next = head1 # adding node to the new list\n",
    "    head1 = node_copy\n",
    "    node = node.next\n",
    "\n",
    "print(\"copied List\")\n",
    "node1 = head1\n",
    "while node1:\n",
    "    print(f\"node1.val = {node1.val}\")\n",
    "    node1 = node1.next"
   ]
  },
  {
   "cell_type": "code",
   "execution_count": 26,
   "metadata": {},
   "outputs": [
    {
     "name": "stdout",
     "output_type": "stream",
     "text": [
      "original list:\n",
      "node.val = 10\n",
      "node.val = 20\n",
      "node.val = 30\n",
      "node.val = 40\n",
      "\n",
      "copying list\n",
      "node.val = 10\n",
      "node_copy.val = 11\n",
      "node_copy.val = 21\n",
      "tail.val = 11\n",
      "tail.next.val = 21\n",
      "node_copy.val = 31\n",
      "tail.val = 21\n",
      "tail.next.val = 31\n",
      "node_copy.val = 41\n",
      "tail.val = 31\n",
      "tail.next.val = 41\n",
      "\n",
      "copied list:\n",
      "node1.val = 11\n",
      "node1.val = 21\n",
      "node1.val = 31\n",
      "node1.val = 41\n"
     ]
    }
   ],
   "source": [
    "head = None\n",
    "\n",
    "node = ListNode(40)\n",
    "node.next = head\n",
    "head = node\n",
    "\n",
    "node = ListNode(30)\n",
    "node.next = head\n",
    "head = node\n",
    "\n",
    "node = ListNode(20)\n",
    "node.next = head\n",
    "head = node\n",
    "\n",
    "node = ListNode(10)\n",
    "node.next = head\n",
    "head = node\n",
    "\n",
    "print(\"original list:\")\n",
    "node = head\n",
    "while node:\n",
    "    print(f\"node.val = {node.val}\")\n",
    "    node = node.next\n",
    "\n",
    "print()\n",
    "print(\"copying list\")\n",
    "head1 = None\n",
    "tail = None\n",
    "node = head\n",
    "print(f\"node.val = {node.val}\")\n",
    "\n",
    "while node:\n",
    "    node_copy = ListNode(node.val+1)\n",
    "    print(f\"node_copy.val = {node_copy.val}\")\n",
    "    if tail is None:\n",
    "        # list is empty\n",
    "        head1 = node_copy\n",
    "        tail = node_copy\n",
    "        node = node.next\n",
    "        continue\n",
    "\n",
    "    print(f\"tail.val = {tail.val}\")\n",
    "    tail.next = node_copy\n",
    "    print(f\"tail.next.val = {tail.next.val}\")\n",
    "    tail = tail.next\n",
    "    node = node.next\n",
    "\n",
    "print()\n",
    "print(\"copied list:\")\n",
    "node1 = head1\n",
    "while node1:\n",
    "    print(f\"node1.val = {node1.val}\")\n",
    "    node1 = node1.next"
   ]
  },
  {
   "cell_type": "markdown",
   "metadata": {},
   "source": [
    "### Copying linked list iteratively"
   ]
  },
  {
   "cell_type": "code",
   "execution_count": 6,
   "metadata": {},
   "outputs": [
    {
     "name": "stdout",
     "output_type": "stream",
     "text": [
      "original list:\n",
      "node.val = 10\n",
      "node.val = 20\n",
      "node.val = 30\n",
      "node.val = 40\n",
      "copied list:\n",
      "node1.val = 11\n",
      "node1.val = 21\n",
      "node1.val = 31\n",
      "node1.val = 41\n"
     ]
    }
   ],
   "source": [
    "head = None\n",
    "\n",
    "node = ListNode(40)\n",
    "node.next = head\n",
    "head = node\n",
    "\n",
    "node = ListNode(30)\n",
    "node.next = head\n",
    "head = node\n",
    "\n",
    "node = ListNode(20)\n",
    "node.next = head\n",
    "head = node\n",
    "\n",
    "node = ListNode(10)\n",
    "node.next = head\n",
    "head = node\n",
    "\n",
    "print(\"original list:\")\n",
    "node = head\n",
    "while node:\n",
    "    print(f\"node.val = {node.val}\")\n",
    "    node = node.next\n",
    "\n",
    "head1 = None\n",
    "tail = None\n",
    "node = head\n",
    "\n",
    "while node:\n",
    "    node_copy = ListNode(node.val+1)\n",
    "\n",
    "    if tail:\n",
    "        tail.next = node_copy\n",
    "        tail = tail.next\n",
    "    else:\n",
    "        head1 = node_copy\n",
    "        tail = node_copy\n",
    "\n",
    "    node = node.next\n",
    "\n",
    "print(\"copied list:\")\n",
    "node1 = head1\n",
    "while node1:\n",
    "    print(f\"node1.val = {node1.val}\")\n",
    "    node1 = node1.next"
   ]
  },
  {
   "cell_type": "markdown",
   "metadata": {},
   "source": [
    "### Traversing linked list recursively"
   ]
  },
  {
   "cell_type": "code",
   "execution_count": 4,
   "metadata": {},
   "outputs": [
    {
     "name": "stdout",
     "output_type": "stream",
     "text": [
      "10\n",
      "20\n",
      "30\n",
      "40\n"
     ]
    }
   ],
   "source": [
    "class ListNode:\n",
    "    def __init__(self, x):\n",
    "        self.val = x\n",
    "        self.next = None\n",
    "\n",
    "def recursive_print(head):\n",
    "    \n",
    "    # termination of recursion\n",
    "    if head is None:\n",
    "        return\n",
    "    \n",
    "    # recursive part\n",
    "    print(head.val)\n",
    "    recursive_print(head.next)\n",
    "\n",
    "        \n",
    "head = None\n",
    "\n",
    "node = ListNode(40)\n",
    "node.next = head\n",
    "head = node\n",
    "\n",
    "node = ListNode(30)\n",
    "node.next = head\n",
    "head = node\n",
    "\n",
    "node = ListNode(20)\n",
    "node.next = head\n",
    "head = node\n",
    "\n",
    "node = ListNode(10)\n",
    "node.next = head\n",
    "head = node\n",
    "\n",
    "recursive_print(head)"
   ]
  },
  {
   "cell_type": "markdown",
   "metadata": {},
   "source": [
    "### Copying linked list recursively"
   ]
  },
  {
   "cell_type": "code",
   "execution_count": 15,
   "metadata": {},
   "outputs": [
    {
     "name": "stdout",
     "output_type": "stream",
     "text": [
      "node1.val = 11\n",
      "node1.val = 21\n",
      "node1.val = 31\n",
      "node1.val = 41\n"
     ]
    }
   ],
   "source": [
    "class ListNode:\n",
    "    def __init__(self, x):\n",
    "        self.val = x\n",
    "        self.next = None\n",
    "\n",
    "def recursive_copy(head):\n",
    "    node = head\n",
    "    \n",
    "    node_copy = ListNode(node.val+1)  # add 1 to distinguish from original linked list\n",
    "    head1 = node_copy\n",
    "\n",
    "    # termination of recursion\n",
    "    if node.next is None:\n",
    "        return head1\n",
    "    \n",
    "    # recursive part\n",
    "    head1.next = recursive_copy(head.next)\n",
    "    return head1\n",
    "        \n",
    "head = None\n",
    "\n",
    "node = ListNode(40)\n",
    "node.next = head\n",
    "head = node\n",
    "\n",
    "node = ListNode(30)\n",
    "node.next = head\n",
    "head = node\n",
    "\n",
    "node = ListNode(20)\n",
    "node.next = head\n",
    "head = node\n",
    "\n",
    "node = ListNode(10)\n",
    "node.next = head\n",
    "head = node\n",
    "\n",
    "res = recursive_copy(head)\n",
    "node1 = res\n",
    "while node1:\n",
    "    print(f\"node1.val = {node1.val}\")\n",
    "    node1 = node1.next"
   ]
  },
  {
   "cell_type": "markdown",
   "metadata": {},
   "source": [
    "### Playing with linked list"
   ]
  },
  {
   "cell_type": "code",
   "execution_count": 3,
   "metadata": {},
   "outputs": [
    {
     "name": "stdout",
     "output_type": "stream",
     "text": [
      "orig: node.val = 10\n",
      "orig: node.val = 20\n",
      "orig: node.val = 30\n",
      "orig: node.val = 40\n",
      "copy: node.val = 11\n",
      "copy: node.val = 21\n",
      "copy: node.val = 31\n",
      "copy: node.val = 41\n"
     ]
    }
   ],
   "source": [
    "class ListNode:\n",
    "    def __init__(self, x):\n",
    "        self.val = x\n",
    "        self.next = None\n",
    "\n",
    "def recursive_copy(head):\n",
    "    \n",
    "    # termination of recursion\n",
    "    if not head:\n",
    "        return head  # None\n",
    "    \n",
    "    # recursive part\n",
    "    head_copy = ListNode(head.val+1)\n",
    "    head_copy.next = recursive_copy(head.next)\n",
    "    \n",
    "    return head_copy\n",
    "        \n",
    "head = None\n",
    "\n",
    "node = ListNode(40)\n",
    "node.next = head\n",
    "head = node\n",
    "\n",
    "node = ListNode(30)\n",
    "node.next = head\n",
    "head = node\n",
    "\n",
    "node = ListNode(20)\n",
    "node.next = head\n",
    "head = node\n",
    "\n",
    "node = ListNode(10)\n",
    "node.next = head\n",
    "head = node\n",
    "\n",
    "node = head\n",
    "while node:\n",
    "    print(f\"orig: node.val = {node.val}\")\n",
    "    node = node.next\n",
    "\n",
    "head_copy = recursive_copy(head)\n",
    "node = head_copy\n",
    "while node:\n",
    "    print(f\"copy: node.val = {node.val}\")\n",
    "    node = node.next"
   ]
  },
  {
   "cell_type": "code",
   "execution_count": 1,
   "metadata": {},
   "outputs": [
    {
     "data": {
      "text/plain": [
       "[[10], [20, 30], [40, 50, 60, 70]]"
      ]
     },
     "execution_count": 1,
     "metadata": {},
     "output_type": "execute_result"
    }
   ],
   "source": [
    "from collections import deque\n",
    "\n",
    "class TreeNode:\n",
    "    def __init__(self, val, left=None, right=None):\n",
    "        self.val = val\n",
    "        self.left = left\n",
    "        self.right = right\n",
    "    \n",
    "def breadth_first_level(root):\n",
    "    list_node_values = []\n",
    "    queue = deque([root])\n",
    "\n",
    "    while queue:\n",
    "        # here queue contains nodes from previous level only\n",
    "        level = []\n",
    "        n = len(queue)\n",
    "        for i in range(n):\n",
    "            node = queue.popleft()\n",
    "            if node:\n",
    "                level.append(node.val)\n",
    "                queue.append(node.left)\n",
    "                queue.append(node.right)\n",
    "            else:\n",
    "                queue.append(None)\n",
    "                queue.append(None)\n",
    "                \n",
    "            # here queue contains mix of nodes from previous level and current level\n",
    "\n",
    "        # here queue contains nodes from current level only\n",
    "\n",
    "        list_node_values.append(level)\n",
    "\n",
    "        all_None = True\n",
    "        for node in queue:\n",
    "            if node is not None:\n",
    "                all_None = False\n",
    "                break\n",
    "        if all_None:\n",
    "            break\n",
    "\n",
    "    return list_node_values\n",
    "\n",
    "root = TreeNode(10)\n",
    "root.left = TreeNode(20)\n",
    "root.right = TreeNode(30)\n",
    "root.left.left = TreeNode(40)\n",
    "root.left.right = TreeNode(50)\n",
    "root.right.left = TreeNode(60)\n",
    "root.right.right = TreeNode(70)\n",
    "\n",
    "breadth_first_level(root)"
   ]
  },
  {
   "cell_type": "markdown",
   "metadata": {},
   "source": [
    "### Copying binary tree recursively"
   ]
  },
  {
   "cell_type": "code",
   "execution_count": 2,
   "metadata": {
    "collapsed": true
   },
   "outputs": [],
   "source": [
    "class TreeNode:\n",
    "    def __init__(self, val, left=None, right=None):\n",
    "        self.val = val\n",
    "        self.left = left\n",
    "        self.right = right\n",
    "\n",
    "def tree_copy(root):\n",
    "    \n",
    "    # termination of recursion\n",
    "    if root is None:\n",
    "        return root\n",
    "   \n",
    "    # recursive part\n",
    "    root_copy = TreeNode(root.val + 1)  # add 1 to distinguish from original tree\n",
    "    root_copy.left = tree_copy(root.left)\n",
    "    root_copy.right = tree_copy(root.right)\n",
    "\n",
    "    return root_copy\n",
    "\n",
    "root = TreeNode(10)\n",
    "root.left = TreeNode(20)\n",
    "root.right = TreeNode(30)\n",
    "root.left.left = TreeNode(40)\n",
    "root.left.right = TreeNode(50)\n",
    "root.right.left = TreeNode(60)\n",
    "root.right.right = TreeNode(70)\n",
    "\n",
    "copied_tree = tree_copy(root)"
   ]
  },
  {
   "cell_type": "code",
   "execution_count": 3,
   "metadata": {},
   "outputs": [
    {
     "name": "stdout",
     "output_type": "stream",
     "text": [
      "original tree\n",
      "[[10], [20, 30], [40, 50, 60, 70]]\n",
      "copied tree\n",
      "[[11], [21, 31], [41, 51, 61, 71]]\n"
     ]
    }
   ],
   "source": [
    "def breadth_first_level(root):\n",
    "    list_node_values = []\n",
    "    queue = deque([root])\n",
    "\n",
    "    while queue:\n",
    "        # here queue contains nodes from previous level only\n",
    "        level = []\n",
    "        n = len(queue)\n",
    "        for i in range(n):\n",
    "            node = queue.popleft()\n",
    "            if node:\n",
    "                level.append(node.val)\n",
    "                queue.append(node.left)\n",
    "                queue.append(node.right)\n",
    "            else:\n",
    "                queue.append(None)\n",
    "                queue.append(None)\n",
    "                \n",
    "            # here queue contains mix of nodes from previous level and current level\n",
    "\n",
    "        # here queue contains nodes from current level only\n",
    "\n",
    "        list_node_values.append(level)\n",
    "\n",
    "        all_None = True\n",
    "        for node in queue:\n",
    "            if node is not None:\n",
    "                all_None = False\n",
    "                break\n",
    "        if all_None:\n",
    "            break\n",
    "\n",
    "    return list_node_values\n",
    "\n",
    "print(f\"original tree\\n{breadth_first_level(root)}\")\n",
    "print(f\"copied tree\\n{breadth_first_level(copied_tree)}\")"
   ]
  },
  {
   "cell_type": "markdown",
   "metadata": {},
   "source": [
    "### Copying binary tree iteratively"
   ]
  },
  {
   "cell_type": "markdown",
   "metadata": {},
   "source": [
    "### DO NOT TOUCH CELL IMMEDIATELY BELOW - CONTAINS ALGORITHM THAT CORRECTLY COPIES TREE  "
   ]
  },
  {
   "cell_type": "code",
   "execution_count": 2,
   "metadata": {},
   "outputs": [
    {
     "name": "stdout",
     "output_type": "stream",
     "text": [
      "----node_copy.val = 11\n",
      "extracted node.val: 10\n",
      "----node_copy.val = 21\n",
      "extracted node.val: 20\n",
      "----node_copy.val = 31\n",
      "extracted node.val: 30\n",
      "----node_copy.val = 41\n",
      "extracted node.val: 40\n",
      "----node_copy.val = 51\n",
      "extracted node.val: 50\n",
      "----node_copy.val = 61\n",
      "extracted node.val: 60\n",
      "----node_copy.val = 71\n",
      "extracted node.val: 70\n",
      "tree_iter = <__main__.TreeNode object at 0x0000024C27564F98>\n"
     ]
    }
   ],
   "source": [
    "# working algorithm - correctly copies tree\n",
    "\n",
    "from collections import deque\n",
    "\n",
    "class TreeNode:\n",
    "    def __init__(self, val, left=None, right=None):\n",
    "        self.val = val\n",
    "        self.left = left\n",
    "        self.right = right\n",
    "\n",
    "# head1 = None\n",
    "# tail = None\n",
    "# node = head\n",
    "\n",
    "# while node:\n",
    "#     node_copy = ListNode(node.val+1)\n",
    "\n",
    "#     if tail:\n",
    "#         tail.next = node_copy\n",
    "#         tail = tail.next\n",
    "#     else:\n",
    "#         head1 = node_copy\n",
    "#         tail = node_copy\n",
    "\n",
    "#     node = node.next\n",
    "\n",
    "\n",
    "def copy_tree_iteratively(root):\n",
    "    queue = deque([root])\n",
    "    root_copy = TreeNode(root.val + 1)\n",
    "    queue_copy = deque([root_copy])\n",
    "    \n",
    "    while queue:\n",
    "        # here queue contains nodes from previous level only\n",
    "        n = len(queue)\n",
    "        \n",
    "        for i in range(n):\n",
    "            node = queue.popleft()\n",
    "            node_copy = queue_copy.popleft()\n",
    "            print(f\"----node_copy.val = {node_copy.val}\")\n",
    "\n",
    "            print(\"extracted\", end=\" \")\n",
    "            if node:\n",
    "                print(f\"node.val: {node.val}\")\n",
    "            else:\n",
    "                print(\"node is None\")\n",
    "\n",
    "            if node:\n",
    "                node_left = None\n",
    "                if node.left:\n",
    "                    node_left = TreeNode(node.left.val + 1)\n",
    "\n",
    "                node_right = None\n",
    "                if node.right:\n",
    "                    node_right = TreeNode(node.right.val + 1)\n",
    "\n",
    "                node_copy.left = node_left\n",
    "                node_copy.right = node_right\n",
    "                \n",
    "                queue.append(node.left)\n",
    "                queue.append(node.right)\n",
    "                queue_copy.append(node_copy.left)\n",
    "                queue_copy.append(node_copy.right)\n",
    "            else:\n",
    "                node_copy = None\n",
    "                queue.append(None)\n",
    "                queue.append(None)\n",
    "                queue_copy.append(None)\n",
    "                queue_copy.append(None)\n",
    "\n",
    "        # here queue contains nodes from current level only\n",
    "        \n",
    "        # break when none\n",
    "        if all([v == None for v in queue]):\n",
    "            break\n",
    "    \n",
    "    return root_copy\n",
    "\n",
    "root = TreeNode(10)\n",
    "root.left = TreeNode(20)\n",
    "root.right = TreeNode(30)\n",
    "root.left.left = TreeNode(40)\n",
    "root.left.right = TreeNode(50)\n",
    "root.right.left = TreeNode(60)\n",
    "root.right.right = TreeNode(70)\n",
    "\n",
    "tree_iter = copy_tree_iteratively(root)\n",
    "print(f\"tree_iter = {tree_iter}\")"
   ]
  },
  {
   "cell_type": "code",
   "execution_count": 5,
   "metadata": {},
   "outputs": [
    {
     "name": "stdout",
     "output_type": "stream",
     "text": [
      "original tree = [[10], [20, 30], [40, 50, 60, 70]]\n",
      "copied tree =   [[11], [21, 31], [41, 51, 61, 71]]\n"
     ]
    }
   ],
   "source": [
    "# using breadth_first_level method to test iterative copying of the tree\n",
    "\n",
    "def breadth_first_level(root):\n",
    "    list_node_values = []\n",
    "    queue = deque([root])\n",
    "\n",
    "    while queue:\n",
    "        # here queue contains nodes from previous level only\n",
    "        level = []\n",
    "        n = len(queue)\n",
    "        for i in range(n):\n",
    "            node = queue.popleft()\n",
    "            if node:\n",
    "                level.append(node.val)\n",
    "                queue.append(node.left)\n",
    "                queue.append(node.right)\n",
    "            else:\n",
    "                queue.append(None)\n",
    "                queue.append(None)\n",
    "                \n",
    "            # here queue contains mix of nodes from previous level and current level\n",
    "\n",
    "        # here queue contains nodes from current level only\n",
    "\n",
    "        list_node_values.append(level)\n",
    "        \n",
    "        if all([v == None for v in queue]):\n",
    "            break\n",
    "\n",
    "\n",
    "#         all_None = True\n",
    "#         for node in queue:\n",
    "#             if node is not None:\n",
    "#                 all_None = False\n",
    "#                 break\n",
    "#         if all_None:\n",
    "#             break\n",
    "\n",
    "    return list_node_values\n",
    "\n",
    "print(f\"original tree = {breadth_first_level(root)}\")\n",
    "print(f\"copied tree =   {breadth_first_level(tree_iter)}\")"
   ]
  },
  {
   "cell_type": "code",
   "execution_count": 1,
   "metadata": {},
   "outputs": [
    {
     "name": "stdout",
     "output_type": "stream",
     "text": [
      "adjList = [[2, 4], [1, 3], [2, 4], [1, 3]]\n"
     ]
    }
   ],
   "source": [
    "class Node:\n",
    "    def __init__(self, val=0, neighbors=None):\n",
    "        self.val = val\n",
    "        self.neighbors = neighbors if neighbors is not None else []\n",
    "\n",
    "class Solution:\n",
    "    def cloneGraph(self, node: 'Node') -> 'Node':\n",
    "        pass\n",
    "\n",
    "adjList = [[2,4],[1,3],[2,4],[1,3]]\n",
    "print(f\"adjList = {adjList}\")"
   ]
  },
  {
   "cell_type": "code",
   "execution_count": 6,
   "metadata": {},
   "outputs": [
    {
     "name": "stdout",
     "output_type": "stream",
     "text": [
      "graph = {1: [1, 4], 2: [1, 3], 3: [2, 4], 4: [1, 3]}\n"
     ]
    }
   ],
   "source": [
    "graph = dict()\n",
    "graph[1] = [1, 4]\n",
    "graph[2] = [1, 3]\n",
    "graph[3] = [2, 4]\n",
    "graph[4] = [1, 3]\n",
    "\n",
    "print(f\"graph = {graph}\")"
   ]
  },
  {
   "cell_type": "code",
   "execution_count": 2,
   "metadata": {},
   "outputs": [
    {
     "data": {
      "text/plain": [
       "[1, 4, 3, 2]"
      ]
     },
     "execution_count": 2,
     "metadata": {},
     "output_type": "execute_result"
    }
   ],
   "source": [
    "from collections import deque\n",
    "\n",
    "def breadth_first_search(graph, root):\n",
    "    visited_vertices = []\n",
    "    graph_queue = deque([root])\n",
    "    visited_vertices.append(root)\n",
    "    \n",
    "    while len(graph_queue) > 0:\n",
    "        node = graph_queue.popleft()\n",
    "        adj_nodes = graph[node]\n",
    "        \n",
    "        remaining_elements = set(adj_nodes).difference(set(visited_vertices))\n",
    "        if len(remaining_elements) > 0:\n",
    "            for elem in sorted(remaining_elements):\n",
    "                visited_vertices.append(elem)\n",
    "                graph_queue.append(elem)\n",
    "    \n",
    "    return visited_vertices\n",
    "\n",
    "graph = dict()\n",
    "graph[1] = [1, 4]\n",
    "graph[2] = [1, 3]\n",
    "graph[3] = [2, 4]\n",
    "graph[4] = [1, 3]\n",
    "breadth_first_search(graph, 1)"
   ]
  },
  {
   "cell_type": "code",
   "execution_count": 21,
   "metadata": {},
   "outputs": [
    {
     "data": {
      "text/plain": [
       "{1, 2, 3, 4}"
      ]
     },
     "execution_count": 21,
     "metadata": {},
     "output_type": "execute_result"
    }
   ],
   "source": [
    "from collections import deque\n",
    "\n",
    "def breadth_first_search(graph, root):\n",
    "    visited_vertices = set()\n",
    "    graph_queue = deque([root])\n",
    "    visited_vertices.add(root)\n",
    "    \n",
    "    while graph_queue:\n",
    "        node = graph_queue.popleft()\n",
    "        adj_nodes = graph[node]\n",
    "    \n",
    "        for curr in graph[node]:\n",
    "            if curr not in visited_vertices:\n",
    "                visited_vertices.add(curr)\n",
    "                graph_queue.append(curr)\n",
    "    \n",
    "    return visited_vertices\n",
    "\n",
    "graph = dict()\n",
    "graph[1] = [1, 4]\n",
    "graph[2] = [1, 3]\n",
    "graph[3] = [2, 4]\n",
    "graph[4] = [1, 3]\n",
    "breadth_first_search(graph, 1)"
   ]
  },
  {
   "cell_type": "code",
   "execution_count": 19,
   "metadata": {},
   "outputs": [
    {
     "name": "stdout",
     "output_type": "stream",
     "text": [
      "<class 'dict'>\n"
     ]
    }
   ],
   "source": [
    "a = {}\n",
    "print(type(a))"
   ]
  },
  {
   "cell_type": "code",
   "execution_count": null,
   "metadata": {
    "collapsed": true
   },
   "outputs": [],
   "source": [
    "# copying binary tree recursively\n",
    "\n",
    "def tree_copy(root):\n",
    "    \n",
    "    # termination of recursion\n",
    "    if root is None:\n",
    "        return root\n",
    "   \n",
    "    # recursive part\n",
    "    root_copy = TreeNode(root.val + 1)  # add 1 to distinguish from original tree\n",
    "    root_copy.left = tree_copy(root.left)\n",
    "    root_copy.right = tree_copy(root.right)\n",
    "\n",
    "    return root_copy"
   ]
  },
  {
   "cell_type": "markdown",
   "metadata": {
    "collapsed": true
   },
   "source": [
    "### Traverse graph recursively"
   ]
  },
  {
   "cell_type": "code",
   "execution_count": 24,
   "metadata": {},
   "outputs": [
    {
     "name": "stdout",
     "output_type": "stream",
     "text": [
      "graph = {1: [1, 4], 2: [1, 3], 3: [2, 4], 4: [1, 3]}\n"
     ]
    }
   ],
   "source": [
    "graph = dict()\n",
    "graph[1] = [1, 4]\n",
    "graph[2] = [1, 3]\n",
    "graph[3] = [2, 4]\n",
    "graph[4] = [1, 3]\n",
    "\n",
    "print(f\"graph = {graph}\")"
   ]
  },
  {
   "cell_type": "code",
   "execution_count": 61,
   "metadata": {},
   "outputs": [
    {
     "name": "stdout",
     "output_type": "stream",
     "text": [
      "val: 1\n",
      "val: 2\n",
      "val: 3\n",
      "val: 4\n",
      "val: 4\n",
      "val: 1\n",
      "val: 2\n",
      "val: 3\n"
     ]
    }
   ],
   "source": [
    "# working code, but have to reset attributes after each run\n",
    "def depth_first_traversal(root):\n",
    "    if not getattr(root, \"visited\", False):\n",
    "        setattr(root, \"visited\", True)\n",
    "        print(f\"val: {root.val}\")  # our \"main\" action\n",
    "        for neighbor in root.neighbors:\n",
    "            depth_first_traversal(neighbor)\n",
    "\n",
    "depth_first_traversal(node_root)\n",
    "# unmark nodes as unvisited to enable rerun of this cell\n",
    "for node in nodes:\n",
    "    setattr(node, \"visited\", False)\n",
    "\n",
    "depth_first_traversal(nodes[3])\n",
    "# unmark nodes as unvisited to enable rerun of this cell\n",
    "for node in nodes:\n",
    "    setattr(node, \"visited\", False)"
   ]
  },
  {
   "cell_type": "code",
   "execution_count": 67,
   "metadata": {},
   "outputs": [
    {
     "name": "stdout",
     "output_type": "stream",
     "text": [
      "val: 1\n",
      "val: 2\n",
      "val: 3\n",
      "val: 4\n",
      "val: 4\n",
      "val: 1\n",
      "val: 2\n",
      "val: 3\n"
     ]
    }
   ],
   "source": [
    "# working code, but have to reset attributes after each run\n",
    "\n",
    "def depth_first_traversal(root):\n",
    "    if not getattr(root, \"visited\", False):\n",
    "        setattr(root, \"visited\", True)\n",
    "        print(f\"val: {root.val}\")  # our \"main\" action\n",
    "        for neighbor in root.neighbors:\n",
    "            depth_first_traversal(neighbor)\n",
    "\n",
    "depth_first_traversal(node_root)\n",
    "# unmark nodes as unvisited to enable rerun of this cell\n",
    "for node in nodes:\n",
    "    setattr(node, \"visited\", False)\n",
    "\n",
    "depth_first_traversal(nodes[3])\n",
    "# unmark nodes as unvisited to enable rerun of this cell\n",
    "for node in nodes:\n",
    "    setattr(node, \"visited\", False)"
   ]
  },
  {
   "cell_type": "code",
   "execution_count": 1,
   "metadata": {},
   "outputs": [
    {
     "name": "stdout",
     "output_type": "stream",
     "text": [
      "node 0 neighbor: 2\n",
      "node 0 neighbor: 4\n",
      "node 1 neighbor: 1\n",
      "node 1 neighbor: 3\n",
      "node 2 neighbor: 2\n",
      "node 2 neighbor: 4\n",
      "node 3 neighbor: 1\n",
      "node 3 neighbor: 3\n",
      "node.val 1 neighbors.val: [2, 4]\n",
      "node.val 2 neighbors.val: [1, 3]\n",
      "node.val 3 neighbors.val: [2, 4]\n",
      "node.val 4 neighbors.val: [1, 3]\n"
     ]
    }
   ],
   "source": [
    "# \"\"\"\n",
    "# Definition for a Node.\n",
    "class Node:\n",
    "    def __init__(self, val = 0, neighbors = None):\n",
    "        self.val = val\n",
    "        self.neighbors = neighbors if neighbors is not None else []\n",
    "# \"\"\"\n",
    "\n",
    "# class Solution:\n",
    "#     def cloneGraph(self, node: 'Node') -> 'Node':\n",
    "#         pass\n",
    "\n",
    "adj_list = [[2, 4], [1, 3], [2, 4], [1, 3]]  # count number from 1\n",
    "\n",
    "# build graph out of adjacency list\n",
    "\n",
    "nodes = [Node(1), Node(2), Node(3), Node(4)]\n",
    "\n",
    "for i_node in range(len(adj_list)):\n",
    "    for neighbor in adj_list[i_node]:\n",
    "        print(f\"node {i_node} neighbor: {neighbor}\")\n",
    "        nodes[i_node].neighbors.append(nodes[neighbor - 1])  # subtract 1 to count from 0\n",
    "        \n",
    "for node in nodes:\n",
    "    print(f\"node.val {node.val} neighbors.val: {[x.val for x in node.neighbors]}\")\n",
    "\n",
    "node_root = nodes[0]  # select the first node as a \"root\""
   ]
  },
  {
   "cell_type": "code",
   "execution_count": 7,
   "metadata": {},
   "outputs": [
    {
     "name": "stdout",
     "output_type": "stream",
     "text": [
      "val: 1\n",
      "val: 2\n",
      "val: 3\n",
      "val: 4\n",
      "list of nodes: [1, 4, 3, 2]\n"
     ]
    }
   ],
   "source": [
    "# add wrapper function with set\n",
    "\n",
    "def depth_first_traversal(root, visited):\n",
    "    if root in visited:\n",
    "        return\n",
    "\n",
    "    visited.add(root)\n",
    "    print(f\"val: {root.val}\")  # our \"main\" action\n",
    "    for neighbor in root.neighbors:\n",
    "        depth_first_traversal(neighbor, visited)\n",
    "\n",
    "def depth_first_traversal_wrapper(root):\n",
    "    visited = set()\n",
    "    depth_first_traversal(root, visited)\n",
    "    print(f\"list of nodes: {[x.val for x in visited]}\")\n",
    "\n",
    "node_root = nodes[0]\n",
    "depth_first_traversal_wrapper(node_root)\n",
    "# # unmark nodes as unvisited to enable rerun of this cell\n",
    "# for node in nodes:\n",
    "#     setattr(node, \"visited\", False)"
   ]
  },
  {
   "cell_type": "markdown",
   "metadata": {},
   "source": [
    "When copying graph, I traverse it and as I traverse it, I create copies of nodes and connect them"
   ]
  },
  {
   "cell_type": "markdown",
   "metadata": {},
   "source": [
    "### Traversing graph iteratively"
   ]
  },
  {
   "cell_type": "code",
   "execution_count": 8,
   "metadata": {},
   "outputs": [
    {
     "name": "stdout",
     "output_type": "stream",
     "text": [
      "node 0 neighbor: 2\n",
      "node 0 neighbor: 4\n",
      "node 1 neighbor: 1\n",
      "node 1 neighbor: 3\n",
      "node 2 neighbor: 2\n",
      "node 2 neighbor: 4\n",
      "node 3 neighbor: 1\n",
      "node 3 neighbor: 3\n",
      "node.val 1 neighbors.val: [2, 4]\n",
      "node.val 2 neighbors.val: [1, 3]\n",
      "node.val 3 neighbors.val: [2, 4]\n",
      "node.val 4 neighbors.val: [1, 3]\n"
     ]
    }
   ],
   "source": [
    "adj_list = [[2, 4], [1, 3], [2, 4], [1, 3]]  # count number from 1\n",
    "\n",
    "# build graph out of adjacency list\n",
    "\n",
    "nodes = [Node(1), Node(2), Node(3), Node(4)]\n",
    "\n",
    "for i_node in range(len(adj_list)):\n",
    "    for neighbor in adj_list[i_node]:\n",
    "        print(f\"node {i_node} neighbor: {neighbor}\")\n",
    "        nodes[i_node].neighbors.append(nodes[neighbor - 1])  # subtract 1 to count from 0\n",
    "        \n",
    "for node in nodes:\n",
    "    print(f\"node.val {node.val} neighbors.val: {[x.val for x in node.neighbors]}\")\n",
    "\n",
    "node_root = nodes[0]  # select the first node as a \"root\""
   ]
  },
  {
   "cell_type": "code",
   "execution_count": null,
   "metadata": {
    "collapsed": true
   },
   "outputs": [],
   "source": [
    "from collections import deque\n",
    "\n",
    "def breadth_first_search(graph, root):\n",
    "    visited_vertices = set()\n",
    "    graph_queue = deque([root])\n",
    "    visited_vertices.add(root)\n",
    "    \n",
    "    while graph_queue:\n",
    "        node = graph_queue.popleft()\n",
    "    \n",
    "        for curr in graph[node]:\n",
    "            if curr not in visited_vertices:\n",
    "                visited_vertices.add(curr)\n",
    "                graph_queue.append(curr)\n",
    "    \n",
    "    return visited_vertices"
   ]
  },
  {
   "cell_type": "code",
   "execution_count": 2,
   "metadata": {},
   "outputs": [
    {
     "name": "stdout",
     "output_type": "stream",
     "text": [
      "node 0 neighbor: 2\n",
      "node 0 neighbor: 4\n",
      "node 1 neighbor: 1\n",
      "node 1 neighbor: 3\n",
      "node 2 neighbor: 2\n",
      "node 2 neighbor: 4\n",
      "node 3 neighbor: 1\n",
      "node 3 neighbor: 3\n",
      "node.val 1 neighbors.val: [2, 4]\n",
      "node.val 2 neighbors.val: [1, 3]\n",
      "node.val 3 neighbors.val: [2, 4]\n",
      "node.val 4 neighbors.val: [1, 3]\n"
     ]
    }
   ],
   "source": [
    "class Node:\n",
    "    def __init__(self, val = 0, neighbors = None):\n",
    "        self.val = val\n",
    "        self.neighbors = neighbors if neighbors is not None else []\n",
    "\n",
    "adj_list = [[2, 4], [1, 3], [2, 4], [1, 3]]  # count number from 1\n",
    "\n",
    "# build graph out of adjacency list\n",
    "\n",
    "nodes = [Node(1), Node(2), Node(3), Node(4)]\n",
    "\n",
    "for i_node in range(len(adj_list)):\n",
    "    for neighbor in adj_list[i_node]:\n",
    "        print(f\"node {i_node} neighbor: {neighbor}\")\n",
    "        nodes[i_node].neighbors.append(nodes[neighbor - 1])  # subtract 1 to count from 0\n",
    "        \n",
    "for node in nodes:\n",
    "    print(f\"node.val {node.val} neighbors.val: {[x.val for x in node.neighbors]}\")\n",
    "\n",
    "node_root = nodes[0]  # select the first node as a \"root\""
   ]
  },
  {
   "cell_type": "code",
   "execution_count": null,
   "metadata": {
    "collapsed": true
   },
   "outputs": [],
   "source": [
    "### copying graph"
   ]
  },
  {
   "cell_type": "code",
   "execution_count": 12,
   "metadata": {},
   "outputs": [
    {
     "name": "stdout",
     "output_type": "stream",
     "text": [
      "type(root_copy) = <class '__main__.Node'>\n",
      "type(node) = <class '__main__.Node'>\n",
      "type(node_copy) = <class '__main__.Node'>\n",
      "node_copy.val = 2\n"
     ]
    }
   ],
   "source": [
    "from collections import deque\n",
    "\n",
    "def copy_graph_iteratively(root):\n",
    "    visited = set()\n",
    "    queue = deque([root])\n",
    "    root_copy = Node(root.val + 1) # add 1 to distinguish from original graph\n",
    "    print(f\"type(root_copy) = {type(root_copy)}\")\n",
    "    queue_copy = deque([root_copy])\n",
    "    \n",
    "    while queue:\n",
    "        node = queue.popleft()\n",
    "        print(f\"type(node) = {type(node)}\")\n",
    "        node_copy = queue_copy.popleft()\n",
    "        print(f\"type(node_copy) = {type(node_copy)}\")\n",
    "        print(f\"node_copy.val = {node_copy.val}\")\n",
    "\n",
    "copy_graph_iteratively(node_root)"
   ]
  },
  {
   "cell_type": "code",
   "execution_count": 15,
   "metadata": {},
   "outputs": [
    {
     "data": {
      "text/plain": [
       "[[2, 4], [1, 3], [1, 3], [2, 4]]"
      ]
     },
     "execution_count": 15,
     "metadata": {},
     "output_type": "execute_result"
    }
   ],
   "source": [
    "from collections import deque\n",
    "\n",
    "def breadth_first_traversal(start):\n",
    "    adj_list_val = []\n",
    "\n",
    "    visited_vertices = set()\n",
    "    queue = deque([start])\n",
    "    \n",
    "    while queue:\n",
    "        node = queue.popleft()\n",
    "        adj_list_val.append([x.val for x in node.neighbors])\n",
    "        visited_vertices.add(node)\n",
    "        \n",
    "        for curr in node.neighbors:\n",
    "            if curr not in visited_vertices:\n",
    "                visited_vertices.add(curr)\n",
    "                queue.append(curr)\n",
    "    \n",
    "    return adj_list_val\n",
    "\n",
    "node_root = nodes[0]\n",
    "breadth_first_traversal(node_root)"
   ]
  },
  {
   "cell_type": "code",
   "execution_count": 1,
   "metadata": {},
   "outputs": [
    {
     "name": "stdout",
     "output_type": "stream",
     "text": [
      "type(neighbor) = <class 'int'>\n",
      "node 0 neighbor: 2\n",
      "type(neighbor) = <class 'int'>\n",
      "node 0 neighbor: 4\n",
      "type(neighbor) = <class 'int'>\n",
      "node 1 neighbor: 1\n",
      "type(neighbor) = <class 'int'>\n",
      "node 1 neighbor: 3\n",
      "type(neighbor) = <class 'int'>\n",
      "node 2 neighbor: 2\n",
      "type(neighbor) = <class 'int'>\n",
      "node 2 neighbor: 4\n",
      "type(neighbor) = <class 'int'>\n",
      "node 3 neighbor: 1\n",
      "type(neighbor) = <class 'int'>\n",
      "node 3 neighbor: 3\n",
      "node.val 1 neighbors.val: [2, 4]\n",
      "node.val 2 neighbors.val: [1, 3]\n",
      "node.val 3 neighbors.val: [2, 4]\n",
      "node.val 4 neighbors.val: [1, 3]\n"
     ]
    },
    {
     "ename": "NameError",
     "evalue": "name 'breadth_first_traversal' is not defined",
     "output_type": "error",
     "traceback": [
      "\u001b[1;31m---------------------------------------------------------------------------\u001b[0m",
      "\u001b[1;31mNameError\u001b[0m                                 Traceback (most recent call last)",
      "\u001b[1;32m<ipython-input-1-dccb6a4cdabc>\u001b[0m in \u001b[0;36m<module>\u001b[1;34m()\u001b[0m\n\u001b[0;32m     32\u001b[0m     \u001b[1;31m# traverse a graph referenced by the Node start\u001b[0m\u001b[1;33m\u001b[0m\u001b[1;33m\u001b[0m\u001b[0m\n\u001b[0;32m     33\u001b[0m \u001b[1;33m\u001b[0m\u001b[0m\n\u001b[1;32m---> 34\u001b[1;33m \u001b[0mbreadth_first_traversal\u001b[0m\u001b[1;33m(\u001b[0m\u001b[0ms\u001b[0m\u001b[1;33m)\u001b[0m\u001b[1;33m\u001b[0m\u001b[0m\n\u001b[0m",
      "\u001b[1;31mNameError\u001b[0m: name 'breadth_first_traversal' is not defined"
     ]
    }
   ],
   "source": [
    "class Node:\n",
    "    def __init__(self, val = 0, neighbors = None):\n",
    "        self.val = val\n",
    "        self.neighbors = neighbors if neighbors is not None else []\n",
    "\n",
    "adj_list = [[2, 4], [1, 3], [2, 4], [1, 3]]  # count number from 1\n",
    "\n",
    "# build graph out of adjacency list\n",
    "\n",
    "nodes = [Node(1), Node(2), Node(3), Node(4)]\n",
    "\n",
    "for i_node in range(len(adj_list)):\n",
    "    for neighbor in adj_list[i_node]:\n",
    "        print(f\"type(neighbor) = {type(neighbor)}\")\n",
    "        print(f\"node {i_node} neighbor: {neighbor}\")\n",
    "        nodes[i_node].neighbors.append(nodes[neighbor - 1])  # subtract 1 to count from 0\n",
    "        \n",
    "for node in nodes:\n",
    "    print(f\"node.val {node.val} neighbors.val: {[x.val for x in node.neighbors]}\")\n",
    "\n",
    "node_root = nodes[0]  # select the first node as a \"root\"\n",
    "\n",
    "# make sure that we built a correct graph: get its adjacency list\n",
    "\n",
    "# adj_list_test\n",
    "\n",
    "s = nodes[0]\n",
    "\n",
    "def breadth_first_print(start):\n",
    "    print(f\"start.val: {start.val}\")\n",
    "    \n",
    "    # traverse a graph referenced by the Node start\n",
    "\n",
    "breadth_first_traversal(s)"
   ]
  },
  {
   "cell_type": "code",
   "execution_count": 22,
   "metadata": {},
   "outputs": [
    {
     "name": "stdout",
     "output_type": "stream",
     "text": [
      "node_copy.val = 2\n"
     ]
    },
    {
     "ename": "TypeError",
     "evalue": "unhashable type: 'list'",
     "output_type": "error",
     "traceback": [
      "\u001b[1;31m---------------------------------------------------------------------------\u001b[0m",
      "\u001b[1;31mTypeError\u001b[0m                                 Traceback (most recent call last)",
      "\u001b[1;32m<ipython-input-22-af836a0b3a7e>\u001b[0m in \u001b[0;36m<module>\u001b[1;34m()\u001b[0m\n\u001b[0;32m     28\u001b[0m         \u001b[0mvisited\u001b[0m\u001b[1;33m.\u001b[0m\u001b[0madd\u001b[0m\u001b[1;33m(\u001b[0m\u001b[0mnode\u001b[0m\u001b[1;33m.\u001b[0m\u001b[0mneighbors\u001b[0m\u001b[1;33m)\u001b[0m\u001b[1;33m\u001b[0m\u001b[0m\n\u001b[0;32m     29\u001b[0m \u001b[1;33m\u001b[0m\u001b[0m\n\u001b[1;32m---> 30\u001b[1;33m \u001b[0mcopy_graph_iteratively\u001b[0m\u001b[1;33m(\u001b[0m\u001b[0mnode_root\u001b[0m\u001b[1;33m)\u001b[0m\u001b[1;33m\u001b[0m\u001b[0m\n\u001b[0m",
      "\u001b[1;32m<ipython-input-22-af836a0b3a7e>\u001b[0m in \u001b[0;36mcopy_graph_iteratively\u001b[1;34m(root)\u001b[0m\n\u001b[0;32m     19\u001b[0m         \u001b[1;31m# we add to queue neighbors of node we just copied\u001b[0m\u001b[1;33m\u001b[0m\u001b[1;33m\u001b[0m\u001b[0m\n\u001b[0;32m     20\u001b[0m \u001b[1;33m\u001b[0m\u001b[0m\n\u001b[1;32m---> 21\u001b[1;33m         \u001b[1;32mif\u001b[0m \u001b[0mnode\u001b[0m\u001b[1;33m.\u001b[0m\u001b[0mneighbors\u001b[0m \u001b[1;32mnot\u001b[0m \u001b[1;32min\u001b[0m \u001b[0mvisited\u001b[0m\u001b[1;33m:\u001b[0m\u001b[1;33m\u001b[0m\u001b[0m\n\u001b[0m\u001b[0;32m     22\u001b[0m             \u001b[1;32mfor\u001b[0m \u001b[0mneighbor\u001b[0m \u001b[1;32min\u001b[0m \u001b[0mneighbors\u001b[0m\u001b[1;33m:\u001b[0m\u001b[1;33m\u001b[0m\u001b[0m\n\u001b[0;32m     23\u001b[0m                 \u001b[0mneighbor_copy\u001b[0m \u001b[1;33m=\u001b[0m \u001b[0mNode\u001b[0m\u001b[1;33m(\u001b[0m\u001b[0mneighbor\u001b[0m\u001b[1;33m)\u001b[0m\u001b[1;33m\u001b[0m\u001b[0m\n",
      "\u001b[1;31mTypeError\u001b[0m: unhashable type: 'list'"
     ]
    }
   ],
   "source": [
    "# code in progress\n",
    "\n",
    "from collections import deque\n",
    "\n",
    "def copy_graph_iteratively(root):\n",
    "    visited = set()\n",
    "    visited.add(root)\n",
    "    queue = deque([root])\n",
    "    root_copy = Node(root.val + 1) # add 1 to distinguish from original graph\n",
    "    queue_copy = deque([root_copy])\n",
    "    \n",
    "    while queue:\n",
    "        node = queue.popleft()\n",
    "        node_copy = queue_copy.popleft()\n",
    "        print(f\"node_copy.val = {node_copy.val}\")\n",
    "        \n",
    "        node_copy.neighbors = []\n",
    "        \n",
    "        # we add to queue neighbors of node we just copied\n",
    "        \n",
    "        if node.neighbors not in visited:\n",
    "            for neighbor in neighbors:\n",
    "                neighbor_copy = Node(neighbor)\n",
    "                node_copy.neighbors.append(neighbor_copy)\n",
    "        \n",
    "        queue.append(neighbors)\n",
    "        queue_copy.append(node_copy.neighbors)\n",
    "        visited.add(node.neighbors)\n",
    "\n",
    "copy_graph_iteratively(node_root)"
   ]
  },
  {
   "cell_type": "code",
   "execution_count": null,
   "metadata": {
    "collapsed": true
   },
   "outputs": [],
   "source": [
    "def copy(start):\n",
    "    adj_list = []\n",
    "    d = {}\n",
    "    queue = deque([start])\n",
    "    \n",
    "    while queue:\n",
    "        node = queue.popleft()\n",
    "        node_copy = Node(node.val)\n",
    "        \n",
    "        for neighbor in node.neighbors:\n",
    "            neighbors_copy = Node(neighbor.val)\n",
    "        \n",
    "        d[node_copy] = neighbors_copy\n",
    "        \n",
    "        queue.append(node.neighbors)\n",
    "    \n",
    "    for k, v in d.items():\n",
    "        adj_list.append(v)"
   ]
  },
  {
   "cell_type": "code",
   "execution_count": 6,
   "metadata": {},
   "outputs": [
    {
     "name": "stdout",
     "output_type": "stream",
     "text": [
      "[[2, 4], [1, 3], [1, 3], [2, 4]]\n"
     ]
    }
   ],
   "source": [
    "from collections import deque\n",
    "\n",
    "def breadth_first_traversal(start):\n",
    "    adj_list_val = []\n",
    "\n",
    "    visited_vertices = set()\n",
    "    queue = deque([start])\n",
    "    \n",
    "    while queue:\n",
    "        node = queue.popleft()\n",
    "        adj_list_val.append([x.val for x in node.neighbors])\n",
    "        visited_vertices.add(node)\n",
    "        \n",
    "        for curr in node.neighbors:\n",
    "            if curr not in visited_vertices:\n",
    "                visited_vertices.add(curr)\n",
    "                queue.append(curr)\n",
    "    \n",
    "    return adj_list_val\n",
    "\n",
    "def copy_graph(start):\n",
    "    visited_vertices = set()\n",
    "    d = {}\n",
    "    queue = deque([start])\n",
    "    \n",
    "    while queue:\n",
    "        node = queue.popleft()\n",
    "        print(f\"type = {type(node)}\")\n",
    "        visited_vertices.add(node)\n",
    "        \n",
    "        node_copy = Node(node.val)\n",
    "               \n",
    "        if node not in d:\n",
    "            d[node] = node_copy\n",
    "        \n",
    "        print(f\"node.neighbors = {[x.val for x in node.neighbors]}\")\n",
    "        \n",
    "        for neighbor in node.neighbors:\n",
    "            if neighbor not in d:\n",
    "                d[neighbor] = Node(neighbor.val)\n",
    "        \n",
    "            node_copy.neighbors.append(d[neighbor])\n",
    "            print(f\"node_copy.neighbors = {[x.val for x in node_copy.neighbors]}\")\n",
    "        \n",
    "        queue.append(node.neighbors)\n",
    "\n",
    "start = nodes[0]\n",
    "#print(copy_graph(start))\n",
    "print(breadth_first_traversal(start))"
   ]
  },
  {
   "cell_type": "code",
   "execution_count": 34,
   "metadata": {},
   "outputs": [
    {
     "name": "stdout",
     "output_type": "stream",
     "text": [
      "original graph = [[2, 4], [1, 3], [1, 3], [2, 4]]\n",
      "-- node_copy.val = 1\n",
      "node.neighbors.val = [2, 4]\n",
      "node.neighbors.val = [2, 4]\n",
      "-- node_copy.val = 2\n",
      "node.neighbors.val = [1, 3]\n",
      "node.neighbors.val = [1, 3]\n",
      "-- node_copy.val = 4\n",
      "node.neighbors.val = [1, 3]\n",
      "node.neighbors.val = [1, 3]\n",
      "-- node_copy.val = 3\n",
      "node.neighbors.val = [2, 4]\n",
      "node.neighbors.val = [2, 4]\n",
      "copied graph = [[2, 4], [4, 3], [3], [3]]\n"
     ]
    }
   ],
   "source": [
    "from collections import deque\n",
    "\n",
    "def breadth_first_traversal(start):\n",
    "    adj_list_val = []\n",
    "\n",
    "    visited_vertices = set()\n",
    "    queue = deque([start])\n",
    "    \n",
    "    while queue:\n",
    "        node = queue.popleft()\n",
    "        adj_list_val.append([x.val for x in node.neighbors])\n",
    "        visited_vertices.add(node)\n",
    "        \n",
    "        for curr in node.neighbors:\n",
    "            if curr not in visited_vertices:\n",
    "                visited_vertices.add(curr)\n",
    "                queue.append(curr)\n",
    "    \n",
    "    return adj_list_val\n",
    "\n",
    "from collections import deque\n",
    "\n",
    "def copy_graph(start):\n",
    "    adj_list_val = []\n",
    "\n",
    "    visited_vertices = set()\n",
    "    queue = deque([start])\n",
    "\n",
    "    d = {}\n",
    "    \n",
    "    while queue:\n",
    "        node = queue.popleft()\n",
    "        adj_list_val.append([x.val for x in node.neighbors])\n",
    "        visited_vertices.add(node)\n",
    "\n",
    "        if node not in d:\n",
    "            d[node] = Node(node.val)  # the copy neighbors is empty at this point\n",
    "        node_copy = d[node]\n",
    "        \n",
    "        print(f\"-- node_copy.val = {node_copy.val}\")\n",
    "        \n",
    "        # fill neighbors\n",
    "        for neighbor in node.neighbors:\n",
    "            if neighbor not in d:\n",
    "                neighbor_copy = Node(neighbor.val)  # NB: it has empty neighbor list\n",
    "                d[neighbor] = neighbor_copy\n",
    "            \n",
    "            if neighbor_copy not in node_copy.neighbors:\n",
    "                node_copy.neighbors.append(neighbor_copy)\n",
    "        \n",
    "        for neighbor in node.neighbors:\n",
    "            print(f\"node.neighbors.val = {[x.val for x in node.neighbors]}\")\n",
    "            if neighbor not in visited_vertices:\n",
    "                visited_vertices.add(neighbor)\n",
    "                queue.append(neighbor)\n",
    "    \n",
    "    return d[start]\n",
    "\n",
    "start = nodes[0]\n",
    "# print(copy_graph(start))\n",
    "print(f\"original graph = {breadth_first_traversal(start)}\")\n",
    "start_copy = copy_graph(start)\n",
    "print(f\"copied graph = {breadth_first_traversal(start_copy)}\")"
   ]
  }
 ],
 "metadata": {
  "kernelspec": {
   "display_name": "Python 3",
   "language": "python",
   "name": "python3"
  },
  "language_info": {
   "codemirror_mode": {
    "name": "ipython",
    "version": 3
   },
   "file_extension": ".py",
   "mimetype": "text/x-python",
   "name": "python",
   "nbconvert_exporter": "python",
   "pygments_lexer": "ipython3",
   "version": "3.6.1"
  }
 },
 "nbformat": 4,
 "nbformat_minor": 2
}
