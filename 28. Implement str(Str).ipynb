{
 "cells": [
  {
   "cell_type": "code",
   "execution_count": 14,
   "metadata": {},
   "outputs": [
    {
     "name": "stdout",
     "output_type": "stream",
     "text": [
      "2\n",
      "-1\n",
      "True\n",
      "-1\n",
      "4\n"
     ]
    },
    {
     "data": {
      "text/plain": [
       "4"
      ]
     },
     "execution_count": 14,
     "metadata": {},
     "output_type": "execute_result"
    }
   ],
   "source": [
    "#            01234\n",
    "haystack1 = \"hello\"\n",
    "needle1 = \"ll\"\n",
    "print(haystack1.find(needle1))\n",
    "#            01234\n",
    "haystack2 = \"aaaaa\"\n",
    "needle2 = \"bba\"\n",
    "print(haystack2.find(needle2))\n",
    "\n",
    "print(needle2 > haystack2)\n",
    "\n",
    "#            012\n",
    "haystack3 = \"aaa\"\n",
    "needle3 = \"aaaaa\"\n",
    "print(haystack3.find(needle3))\n",
    "\n",
    "#            012345678910\n",
    "haystack4 = \"mississippi\"\n",
    "needle4 = \"issip\"\n",
    "print(haystack4.find(needle4))\n",
    "\n",
    "\n",
    "\"mississippi\".find(\"issip\")"
   ]
  },
  {
   "cell_type": "code",
   "execution_count": 23,
   "metadata": {},
   "outputs": [
    {
     "data": {
      "text/plain": [
       "3"
      ]
     },
     "execution_count": 23,
     "metadata": {},
     "output_type": "execute_result"
    }
   ],
   "source": [
    "def strStr(haystack, needle):\n",
    "        \"\"\"\n",
    "        Function string haystack and string needle. It searches through haystack and\n",
    "        returns the first occurence of needle. If it is not found, the function returns -1.\n",
    "        \"\"\"\n",
    "        if needle == \"\":\n",
    "            return 0\n",
    "        if len(needle) > len(haystack):\n",
    "            return -1\n",
    "        for i_haystack in range(len(haystack) - len(needle) + 1):\n",
    "            if haystack[i_haystack] == needle[0]:\n",
    "                for i_needle in range(1, len(needle)):\n",
    "                    if haystack[i_haystack+i_needle] != needle[i_needle]:\n",
    "                        break\n",
    "                    return i_haystack\n",
    "\n",
    "# haystack = \"aaa\"\n",
    "# needle = \"aaaa\"\n",
    "haystack = \"lhello\"\n",
    "needle = \"ll\"\n",
    "strStr(haystack, needle)"
   ]
  },
  {
   "cell_type": "markdown",
   "metadata": {},
   "source": [
    "### Accepted by LeetCode:\n",
    "Runtime: 28 ms, faster than 76.33% of Python3 submissions\n",
    "Memory Usage: 14 MB, less than 12.31% of Python3 submissions"
   ]
  },
  {
   "cell_type": "code",
   "execution_count": 30,
   "metadata": {},
   "outputs": [
    {
     "data": {
      "text/plain": [
       "4"
      ]
     },
     "execution_count": 30,
     "metadata": {},
     "output_type": "execute_result"
    }
   ],
   "source": [
    "class Solution:\n",
    "    def strStr(self, haystack: str, needle: str) -> int:\n",
    "        if needle == \"\":\n",
    "            return 0\n",
    "\n",
    "        if len(needle) > len(haystack):\n",
    "            return -1\n",
    "\n",
    "        for i in range(len(haystack) - len(needle) + 1):\n",
    "            if haystack[i:i+len(needle)] == needle:\n",
    "                return i\n",
    "\n",
    "        return -1\n",
    "\n",
    "solution = Solution()\n",
    "haystack = \"mississippi\"\n",
    "needle = \"issip\"\n",
    "solution.strStr(haystack, needle)"
   ]
  }
 ],
 "metadata": {
  "kernelspec": {
   "display_name": "Python 3",
   "language": "python",
   "name": "python3"
  },
  "language_info": {
   "codemirror_mode": {
    "name": "ipython",
    "version": 3
   },
   "file_extension": ".py",
   "mimetype": "text/x-python",
   "name": "python",
   "nbconvert_exporter": "python",
   "pygments_lexer": "ipython3",
   "version": "3.6.1"
  }
 },
 "nbformat": 4,
 "nbformat_minor": 2
}
