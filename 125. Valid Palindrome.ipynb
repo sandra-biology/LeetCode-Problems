{
 "cells": [
  {
   "cell_type": "code",
   "execution_count": 15,
   "metadata": {},
   "outputs": [
    {
     "name": "stdout",
     "output_type": "stream",
     "text": [
      "s: A man, a plan, a canal: Panama\n",
      "s_stripped: Aman,aplan,acanal:Panama\n",
      "s_stripped_punctuation: A man a plan a canal: Panama\n"
     ]
    }
   ],
   "source": [
    "s = \"A man, a plan, a canal: Panama\"\n",
    "print(f\"s: {s}\")\n",
    "\n",
    "s_stripped_spaces = s.replace(\" \", \"\")\n",
    "print(f\"s_stripped: {s_stripped}\")\n",
    "s_stripped_punctuation = s.replace(\",\", \"\")\n",
    "print(f\"s_stripped_punctuation: {s_stripped_punctuation}\")"
   ]
  },
  {
   "cell_type": "code",
   "execution_count": 12,
   "metadata": {},
   "outputs": [
    {
     "name": "stdout",
     "output_type": "stream",
     "text": [
      "amanaplanacanalpanama\n",
      "True\n"
     ]
    }
   ],
   "source": [
    "s = \"A man, a plan, a canal: Panama\"\n",
    "s_stripped = \"\".join([c.lower() for c in s if c.isalnum()])\n",
    "print(s_stripped)\n",
    "\n",
    "print(s_stripped == s_stripped[::-1])"
   ]
  },
  {
   "cell_type": "markdown",
   "metadata": {},
   "source": [
    "### Submission\n",
    "\n",
    "Accepted by LeetCode: Runtime: 32 ms, faster than 97.73% of Python3 online submissions  \n",
    "                      Memory Usage: 19.3 MB, less than 5.95% of Python3 online submissions"
   ]
  },
  {
   "cell_type": "code",
   "execution_count": 17,
   "metadata": {},
   "outputs": [
    {
     "data": {
      "text/plain": [
       "False"
      ]
     },
     "execution_count": 17,
     "metadata": {},
     "output_type": "execute_result"
    }
   ],
   "source": [
    "class Solution:\n",
    "    def isPalindrome(self, s: str) -> bool:\n",
    "        s_stripped = \"\".join([c.lower() for c in s if c.isalnum()])\n",
    "        return s_stripped == s_stripped[::-1]\n",
    "\n",
    "solution = Solution()\n",
    "# s = \"A man, a plan, a canal: Panama\"\n",
    "s = \"race a car\"\n",
    "solution.isPalindrome(s)"
   ]
  }
 ],
 "metadata": {
  "kernelspec": {
   "display_name": "Python 3",
   "language": "python",
   "name": "python3"
  },
  "language_info": {
   "codemirror_mode": {
    "name": "ipython",
    "version": 3
   },
   "file_extension": ".py",
   "mimetype": "text/x-python",
   "name": "python",
   "nbconvert_exporter": "python",
   "pygments_lexer": "ipython3",
   "version": "3.6.1"
  }
 },
 "nbformat": 4,
 "nbformat_minor": 2
}
