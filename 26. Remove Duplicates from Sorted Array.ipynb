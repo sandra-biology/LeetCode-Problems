{
 "cells": [
  {
   "cell_type": "code",
   "execution_count": 1,
   "metadata": {},
   "outputs": [
    {
     "data": {
      "text/plain": [
       "2"
      ]
     },
     "execution_count": 1,
     "metadata": {},
     "output_type": "execute_result"
    }
   ],
   "source": [
    "from collections import defaultdict\n",
    "\n",
    "def find_dupl(nums):\n",
    "    duplicates = []\n",
    "    # create dictionary\n",
    "    counts = defaultdict(int)\n",
    "    # loop over the list of numbers, each time we find a new number, add it to dicitonary\n",
    "    ## need defaultdict to use counter\n",
    "    for num in nums:\n",
    "        counts[num] += 1\n",
    "\n",
    "    # when done we go through the values in the dictionary and each time the value is 2\n",
    "    # add that key to list of duplicates\n",
    "    \n",
    "    for k, v in counts.items():\n",
    "        if v > 1:\n",
    "            duplicates.append(k)\n",
    "\n",
    "    return len(nums) - len(duplicates)\n",
    "\n",
    "nums = [1,1,2]\n",
    "find_dupl(nums)"
   ]
  },
  {
   "cell_type": "code",
   "execution_count": 26,
   "metadata": {},
   "outputs": [
    {
     "name": "stdout",
     "output_type": "stream",
     "text": [
      "{0, 1, 2, 3, 4}\n"
     ]
    },
    {
     "data": {
      "text/plain": [
       "5"
      ]
     },
     "execution_count": 26,
     "metadata": {},
     "output_type": "execute_result"
    }
   ],
   "source": [
    "def removeDuplicates_set(nums):\n",
    "    return len(set(nums))\n",
    "\n",
    "nums = [0,0,1,1,1,2,2,3,3,4]\n",
    "# nums = [1, 1, 2]\n",
    "removeDuplicates_set(nums)"
   ]
  },
  {
   "cell_type": "markdown",
   "metadata": {},
   "source": [
    "### First submission\n",
    "Could be optimized for time\n",
    "\n",
    "Accepted by LeetCode: Runtime: 96 ms, faster than 35.48% of Python3 submissions\n",
    "                      Memory Usage: 15.4 MB, less than 5.74% of Python3 submissions"
   ]
  },
  {
   "cell_type": "code",
   "execution_count": 7,
   "metadata": {},
   "outputs": [
    {
     "name": "stdout",
     "output_type": "stream",
     "text": [
      "5\n",
      "2\n"
     ]
    }
   ],
   "source": [
    "from typing import List\n",
    "\n",
    "class Solution:\n",
    "    def removeDuplicates(self, nums: List[int]) -> int:\n",
    "        i = 1\n",
    "        i_max = len(nums)\n",
    "        while i < i_max:\n",
    "            if nums[i] == nums[i-1]:\n",
    "                del nums[i]\n",
    "                i_max -= 1\n",
    "            else:\n",
    "                i += 1\n",
    "        return len(nums)\n",
    "\n",
    "solution = Solution()\n",
    "nums1 = [0,0,1,1,1,2,2,3,3,4]\n",
    "nums2 = [1, 1, 2]\n",
    "print(solution.removeDuplicates(nums1))\n",
    "print(solution.removeDuplicates(nums2))"
   ]
  },
  {
   "cell_type": "markdown",
   "metadata": {},
   "source": [
    "### Final submission\n",
    "Accepted by LeetCode: Runtime: 76 ms, faster than 96.88% of Python3 submissions\n",
    "                      Memory Usage: 15.5 MB, less than 5.74% of Python3 submissions"
   ]
  },
  {
   "cell_type": "code",
   "execution_count": 25,
   "metadata": {},
   "outputs": [
    {
     "name": "stdout",
     "output_type": "stream",
     "text": [
      "[0, 0, 1, 1, 1, 2, 2, 3, 3, 4]\n",
      "[0, 1, 2, 3, 4, 2, 2, 3, 3, 4] output length = 5\n"
     ]
    }
   ],
   "source": [
    "from typing import List\n",
    "\n",
    "class Solution:\n",
    "    def removeDuplicates(self, nums: List[int]) -> int:\n",
    "        last = 0\n",
    "        for curr in range(1,len(nums)):\n",
    "            if nums[curr] != nums[last]:\n",
    "                last += 1\n",
    "                nums[last] = nums[curr]\n",
    "        return last+1\n",
    "\n",
    "solution = Solution()\n",
    "nums = [0,0,1,1,1,2,2,3,3,4]\n",
    "print(nums)\n",
    "# nums = [1, 1, 2]\n",
    "length = solution.removeDuplicates(nums)\n",
    "print(nums, f\"output length = {length}\")"
   ]
  }
 ],
 "metadata": {
  "kernelspec": {
   "display_name": "Python 3",
   "language": "python",
   "name": "python3"
  },
  "language_info": {
   "codemirror_mode": {
    "name": "ipython",
    "version": 3
   },
   "file_extension": ".py",
   "mimetype": "text/x-python",
   "name": "python",
   "nbconvert_exporter": "python",
   "pygments_lexer": "ipython3",
   "version": "3.6.1"
  }
 },
 "nbformat": 4,
 "nbformat_minor": 2
}
