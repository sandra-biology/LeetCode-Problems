{
 "cells": [
  {
   "cell_type": "code",
   "execution_count": 1,
   "metadata": {},
   "outputs": [
    {
     "name": "stdout",
     "output_type": "stream",
     "text": [
      "[0, 1, 2, 3, 4]\n"
     ]
    }
   ],
   "source": [
    "print(list(range(5)))"
   ]
  },
  {
   "cell_type": "code",
   "execution_count": null,
   "metadata": {
    "collapsed": true
   },
   "outputs": [],
   "source": [
    "output_list = []\n",
    "row_list = []\n",
    "numRows = 5\n",
    "\n",
    "for i in range(numRows):\n",
    "    if i == 0:\n",
    "        row_list.append(i+1)\n",
    "        output_list.append(row_list)\n",
    "    if i == 1:\n",
    "        row_list = []\n",
    "        row_list.append(i)\n",
    "        row_list.append(i)\n",
    "        output_list.append(row_list)\n",
    "    if i > 1:\n",
    "        row_list_curr = [1, sum(row_list), 1]\n",
    "        output_list.append(row_list_curr)\n",
    "        row_list_curr = []"
   ]
  },
  {
   "cell_type": "code",
   "execution_count": 12,
   "metadata": {},
   "outputs": [
    {
     "data": {
      "text/plain": [
       "[[1], [1, 1]]"
      ]
     },
     "execution_count": 12,
     "metadata": {},
     "output_type": "execute_result"
    }
   ],
   "source": [
    "from typing import List\n",
    "\n",
    "class Solution:\n",
    "    def generate(self, numRows: int) -> List[List[int]]:\n",
    "        output_list = []\n",
    "        row_list = []\n",
    "        for i in range(numRows):\n",
    "            if i == 0:\n",
    "                row_list.append(i+1)\n",
    "                output_list.append(row_list)\n",
    "            if i == 1:\n",
    "                row_list = []\n",
    "                row_list.append(i)\n",
    "                row_list.append(i)\n",
    "                output_list.append(row_list)\n",
    "                row_list = []\n",
    "        return output_list\n",
    "\n",
    "solution = Solution()\n",
    "numRows = 2\n",
    "solution.generate(numRows)"
   ]
  },
  {
   "cell_type": "code",
   "execution_count": 18,
   "metadata": {},
   "outputs": [
    {
     "name": "stdout",
     "output_type": "stream",
     "text": [
      "[[ 0.  0.  0.  0.  0.]\n",
      " [ 0.  0.  0.  0.  0.]\n",
      " [ 0.  0.  0.  0.  0.]\n",
      " [ 0.  0.  0.  0.  0.]\n",
      " [ 0.  0.  0.  0.  0.]]\n"
     ]
    }
   ],
   "source": [
    "import numpy as np\n",
    "\n",
    "c = np.zeros((5, 5))\n",
    "print(c)\n",
    "\n"
   ]
  },
  {
   "cell_type": "code",
   "execution_count": 32,
   "metadata": {},
   "outputs": [
    {
     "data": {
      "text/plain": [
       "[1, 1, 1, 1, 1, 1, 1]"
      ]
     },
     "execution_count": 32,
     "metadata": {},
     "output_type": "execute_result"
    }
   ],
   "source": [
    "7*[1]"
   ]
  },
  {
   "cell_type": "code",
   "execution_count": 33,
   "metadata": {},
   "outputs": [
    {
     "data": {
      "text/plain": [
       "[1, 1, 1, 1, 1]"
      ]
     },
     "execution_count": 33,
     "metadata": {},
     "output_type": "execute_result"
    }
   ],
   "source": [
    "numRows = 5\n",
    "numRows * [1]"
   ]
  },
  {
   "cell_type": "code",
   "execution_count": 35,
   "metadata": {},
   "outputs": [
    {
     "name": "stdout",
     "output_type": "stream",
     "text": [
      "[[1], [1, 1], [1, 2, 1], [1, 3, 3, 1], [1, 4, 6, 4, 1]]\n"
     ]
    }
   ],
   "source": [
    "numRows = 5\n",
    "c = [[1], [1, 1]]\n",
    "for i in range(2, numRows):\n",
    "    c.append((i+1) * [1])\n",
    "    for j in range(1, i):\n",
    "        c[i][j] = c[i-1][j-1] + c[i-1][j]\n",
    "\n",
    "print(c)"
   ]
  },
  {
   "cell_type": "code",
   "execution_count": 36,
   "metadata": {},
   "outputs": [
    {
     "data": {
      "text/plain": [
       "[[1], [1, 1], [1, 2, 1], [1, 3, 3, 1], [1, 4, 6, 4, 1]]"
      ]
     },
     "execution_count": 36,
     "metadata": {},
     "output_type": "execute_result"
    }
   ],
   "source": [
    "from typing import List\n",
    "\n",
    "class Solution:\n",
    "    def generate(self, numRows: int) -> List[List[int]]:\n",
    "        c = [[1], [1, 1]]\n",
    "        for i in range(2, numRows):\n",
    "            c.append((i+1) * [1])\n",
    "            for j in range(1, i):\n",
    "                c[i][j] = c[i-1][j-1] + c[i-1][j]\n",
    "\n",
    "        return c\n",
    "\n",
    "solution = Solution()\n",
    "numRows = 5\n",
    "solution.generate(numRows)"
   ]
  },
  {
   "cell_type": "markdown",
   "metadata": {},
   "source": [
    "### First submission\n",
    "Could be time optimized\n",
    "\n",
    "Accepted by LeetCode: Runtime: 32 ms, faster than 34.37% of Python3 online submissions for Pascal's Triangle.  \n",
    "Memory Usage: 13.8 MB, less than 7.14% of Python3 online submissions for Pascal's Triangle."
   ]
  },
  {
   "cell_type": "code",
   "execution_count": 7,
   "metadata": {},
   "outputs": [
    {
     "data": {
      "text/plain": [
       "[[1], [1, 1], [1, 2, 1], [1, 3, 3, 1], [1, 4, 6, 4, 1]]"
      ]
     },
     "execution_count": 7,
     "metadata": {},
     "output_type": "execute_result"
    }
   ],
   "source": [
    "from typing import List\n",
    "\n",
    "class Solution:\n",
    "    def generate(self, numRows: int) -> List[List[int]]:\n",
    "        if numRows == 0:\n",
    "            return []\n",
    "\n",
    "        c = [[1]]\n",
    "        for i in range(1, numRows):\n",
    "            c.append((i+1) * [1])\n",
    "            for j in range(1, i):\n",
    "                c[i][j] = c[i-1][j-1] + c[i-1][j]\n",
    "\n",
    "        return c\n",
    "\n",
    "solution = Solution()\n",
    "numRows = 5\n",
    "# numRows = 0\n",
    "# numRows = 1\n",
    "solution.generate(numRows)"
   ]
  },
  {
   "cell_type": "markdown",
   "metadata": {},
   "source": [
    "### Second submission\n",
    "\n",
    "Accepted by LeetCode: Runtime: 28 ms, faster than 68.76% of Python3 online submissions for Pascal's Triangle.  \n",
    "Memory Usage: 13.8 MB, less than 7.14% of Python3 online submissions for Pascal's Triangle."
   ]
  },
  {
   "cell_type": "code",
   "execution_count": 13,
   "metadata": {},
   "outputs": [
    {
     "data": {
      "text/plain": [
       "[[1], [1, 1], [1, 2, 1], [1, 3, 3, 1], [1, 4, 6, 4, 1]]"
      ]
     },
     "execution_count": 13,
     "metadata": {},
     "output_type": "execute_result"
    }
   ],
   "source": [
    "class Solution:\n",
    "    def generate(self, numRows: int) -> List[List[int]]:\n",
    "        if numRows == 0:\n",
    "            return []\n",
    "\n",
    "        c = [(i+1)*[1] for i in range(numRows)]\n",
    "\n",
    "        for i in range(numRows):\n",
    "            for j in range(1, i):\n",
    "                c[i][j] = c[i-1][j-1] + c[i-1][j]\n",
    "\n",
    "        return c\n",
    "\n",
    "solution = Solution()\n",
    "numRows = 5\n",
    "# numRows = 0\n",
    "# numRows = 1\n",
    "solution.generate(numRows)"
   ]
  }
 ],
 "metadata": {
  "kernelspec": {
   "display_name": "Python 3",
   "language": "python",
   "name": "python3"
  },
  "language_info": {
   "codemirror_mode": {
    "name": "ipython",
    "version": 3
   },
   "file_extension": ".py",
   "mimetype": "text/x-python",
   "name": "python",
   "nbconvert_exporter": "python",
   "pygments_lexer": "ipython3",
   "version": "3.6.1"
  }
 },
 "nbformat": 4,
 "nbformat_minor": 2
}
