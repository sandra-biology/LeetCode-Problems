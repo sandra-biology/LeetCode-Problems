{
 "cells": [
  {
   "cell_type": "markdown",
   "metadata": {},
   "source": [
    "### Representing graphs:\n",
    "#### Adjacency list: indices represent vertices/nodes in the graph; at each index adjacent nodes to that vertex can be stored"
   ]
  },
  {
   "cell_type": "code",
   "execution_count": 1,
   "metadata": {},
   "outputs": [
    {
     "name": "stdout",
     "output_type": "stream",
     "text": [
      "graph = {'A': ['B', 'C'], 'B': ['E', 'A'], 'C': ['A', 'B', 'E', 'F'], 'E': ['B', 'C'], 'F': ['C']}\n"
     ]
    }
   ],
   "source": [
    "# adjacency list\n",
    "#           0       1       2             3       4\n",
    "aj_list = [[\"B\", \"C\"], [\"E\", \"A\"], [\"A\", \"B\", \"E\", \"F\"], [\"B\", \"C\"], [\"C\"]]\n",
    "\n",
    "# use dictionary to make it less restrictive\n",
    "graph = dict()\n",
    "graph[\"A\"] = [\"B\", \"C\"]\n",
    "graph[\"B\"] = [\"E\", \"A\"]\n",
    "graph[\"C\"] = [\"A\", \"B\", \"E\", \"F\"]\n",
    "graph[\"E\"] = [\"B\", \"C\"]\n",
    "graph[\"F\"] = [\"C\"]\n",
    "\n",
    "print(f\"graph = {graph}\")"
   ]
  }
 ],
 "metadata": {
  "kernelspec": {
   "display_name": "Python 3",
   "language": "python",
   "name": "python3"
  },
  "language_info": {
   "codemirror_mode": {
    "name": "ipython",
    "version": 3
   },
   "file_extension": ".py",
   "mimetype": "text/x-python",
   "name": "python",
   "nbconvert_exporter": "python",
   "pygments_lexer": "ipython3",
   "version": "3.6.1"
  }
 },
 "nbformat": 4,
 "nbformat_minor": 2
}
