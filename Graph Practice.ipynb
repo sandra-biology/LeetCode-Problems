{
 "cells": [
  {
   "cell_type": "markdown",
   "metadata": {},
   "source": [
    "### Representing graphs:\n",
    "#### Adjacency list: indices represent vertices/nodes; at each index adjacent nodes to that vertex can be stored\n",
    "#### Adjacency matrix: two-dimensional array; can be created from a given adjacency list"
   ]
  },
  {
   "cell_type": "code",
   "execution_count": 10,
   "metadata": {},
   "outputs": [
    {
     "name": "stdout",
     "output_type": "stream",
     "text": [
      "graph = {'A': ['B', 'C'], 'B': ['E', 'A'], 'C': ['A', 'B', 'E', 'F'], 'E': ['B', 'C'], 'F': ['C']}\n"
     ]
    }
   ],
   "source": [
    "# adjacency list\n",
    "#           0            1           2                     3          4\n",
    "aj_list = [[\"B\", \"C\"], [\"E\", \"A\"], [\"A\", \"B\", \"E\", \"F\"], [\"B\", \"C\"], [\"C\"]]\n",
    "\n",
    "# use dictionary to make it less restrictive\n",
    "graph = dict()\n",
    "graph[\"A\"] = [\"B\", \"C\"]\n",
    "graph[\"B\"] = [\"E\", \"A\"]\n",
    "graph[\"C\"] = [\"A\", \"B\", \"E\", \"F\"]\n",
    "graph[\"E\"] = [\"B\", \"C\"]\n",
    "graph[\"F\"] = [\"C\"]\n",
    "\n",
    "print(f\"graph = {graph}\")"
   ]
  },
  {
   "cell_type": "code",
   "execution_count": 8,
   "metadata": {},
   "outputs": [
    {
     "name": "stdout",
     "output_type": "stream",
     "text": [
      "row = [0, 0, 0, 0]\n",
      "matrix = [[0, 0, 0, 0], [0, 0, 0, 0], [0, 0, 0, 0], [0, 0, 0, 0], [0, 0, 0, 0], [0, 0, 0, 0]]\n",
      "m_4x3: [[0, 0, 0], [0, 0, 0], [0, 0, 0], [0, 0, 0], [0, 0, 0]]\n"
     ]
    }
   ],
   "source": [
    "rows = 4\n",
    "cols = 6\n",
    "\n",
    "row = [0 for i in range(rows)]\n",
    "print(f\"row = {row}\")\n",
    "\n",
    "matrix = [[0 for i in range(rows)] for j in range(cols)]\n",
    "print(f\"matrix = {matrix}\")\n",
    "\n",
    "m_4x3 = [[0, 0, 0],\n",
    "     [0, 0, 0],\n",
    "     [0, 0, 0],\n",
    "     [0, 0, 0],\n",
    "     [0, 0, 0]]\n",
    "print(f\"m_4x3: {m_4x3}\")"
   ]
  },
  {
   "cell_type": "code",
   "execution_count": 14,
   "metadata": {},
   "outputs": [
    {
     "name": "stdout",
     "output_type": "stream",
     "text": [
      "matrix_elements = ['A', 'B', 'C', 'E', 'F']\n",
      "adjacency_matrix before: [[0, 0, 0, 0, 0], [0, 0, 0, 0, 0], [0, 0, 0, 0, 0], [0, 0, 0, 0, 0], [0, 0, 0, 0, 0]]\n"
     ]
    }
   ],
   "source": [
    "# adjacency matrix\n",
    "# sorted list of the keys of graph is required\n",
    "\n",
    "matrix_elements = sorted(graph.keys())\n",
    "print(f\"matrix_elements = {matrix_elements}\")\n",
    "cols = rows = len(matrix_elements)\n",
    "\n",
    "# length of keys provides dimensions of the matrix that are stored in cols and rows\n",
    "\n",
    "adjacency_matrix = [[0 for x in range(rows)] for y in range(cols)]\n",
    "print(f\"adjacency_matrix before: {adjacency_matrix}\")\n",
    "\n",
    "edges_list = []"
   ]
  },
  {
   "cell_type": "code",
   "execution_count": 18,
   "metadata": {},
   "outputs": [
    {
     "name": "stdout",
     "output_type": "stream",
     "text": [
      "edges_list after: [('A', 'B'), ('A', 'C'), ('B', 'E'), ('B', 'A'), ('C', 'A'), ('C', 'B'), ('C', 'E'), ('C', 'F'), ('E', 'B'), ('E', 'C'), ('F', 'C'), ('A', 'B'), ('A', 'C'), ('B', 'E'), ('B', 'A'), ('C', 'A'), ('C', 'B'), ('C', 'E'), ('C', 'F'), ('E', 'B'), ('E', 'C'), ('F', 'C'), ('A', 'B'), ('A', 'C'), ('B', 'E'), ('B', 'A'), ('C', 'A'), ('C', 'B'), ('C', 'E'), ('C', 'F'), ('E', 'B'), ('E', 'C'), ('F', 'C'), ('A', 'B'), ('A', 'C'), ('B', 'E'), ('B', 'A'), ('C', 'A'), ('C', 'B'), ('C', 'E'), ('C', 'F'), ('E', 'B'), ('E', 'C'), ('F', 'C')]\n"
     ]
    }
   ],
   "source": [
    "# filling the matrix using nested for loop\n",
    "for key in matrix_elements:\n",
    "    for neighbor in graph[key]:\n",
    "        edges_list.append((key, neighbor))\n",
    "print(f\"edges_list after: {edges_list}\")"
   ]
  },
  {
   "cell_type": "code",
   "execution_count": 19,
   "metadata": {},
   "outputs": [
    {
     "name": "stdout",
     "output_type": "stream",
     "text": [
      "adjacency_matrix after: [[0, 1, 1, 0, 0], [1, 0, 0, 1, 0], [1, 1, 0, 1, 1], [0, 1, 1, 0, 0], [0, 0, 1, 0, 0]]\n"
     ]
    }
   ],
   "source": [
    "# fill multi-dimensional array by using 1 to mark edges\n",
    "for edge in edges_list:\n",
    "    index_of_first_vertex = matrix_elements.index(edge[0])\n",
    "    index_of_second_vertex = matrix_elements.index(edge[1])\n",
    "    adjacency_matrix[index_of_first_vertex][index_of_second_vertex] = 1\n",
    "\n",
    "print(f\"adjacency_matrix after: {adjacency_matrix}\")"
   ]
  },
  {
   "cell_type": "markdown",
   "metadata": {},
   "source": [
    "### Traversing graphs"
   ]
  },
  {
   "cell_type": "code",
   "execution_count": 1,
   "metadata": {},
   "outputs": [
    {
     "name": "stdout",
     "output_type": "stream",
     "text": [
      "graph originally: {'A': ['B', 'G', 'D'], 'B': ['A', 'F', 'E'], 'C': ['F', 'H'], 'D': ['F', 'A'], 'E': ['B', 'G'], 'F': ['B', 'D', 'C'], 'G': ['A', 'E'], 'H': ['C']}\n"
     ]
    }
   ],
   "source": [
    "# breadth-first search\n",
    "\n",
    "graph = {}\n",
    "graph[\"A\"] = [\"B\", \"G\", \"D\"]\n",
    "graph[\"B\"] = [\"A\", \"F\", \"E\"]\n",
    "graph[\"C\"] = [\"F\", \"H\"]\n",
    "graph[\"D\"] = [\"F\", \"A\"]\n",
    "graph[\"E\"] = [\"B\", \"G\"]\n",
    "graph[\"F\"] = [\"B\", \"D\", \"C\"]\n",
    "graph[\"G\"] = [\"A\", \"E\"]\n",
    "graph[\"H\"] = [\"C\"]\n",
    "print(f\"graph originally: {graph}\")"
   ]
  },
  {
   "cell_type": "code",
   "execution_count": 29,
   "metadata": {},
   "outputs": [
    {
     "data": {
      "text/plain": [
       "['A', 'B', 'D', 'G', 'E', 'F', 'C', 'H']"
      ]
     },
     "execution_count": 29,
     "metadata": {},
     "output_type": "execute_result"
    }
   ],
   "source": [
    "from collections import deque\n",
    "\n",
    "def breadth_first_search(graph, root):\n",
    "    visited_vertices = []\n",
    "    graph_queue = deque([root])\n",
    "    visited_vertices.append(root)\n",
    "    \n",
    "    while len(graph_queue) > 0:\n",
    "        node = graph_queue.popleft()\n",
    "        adj_nodes = graph[node]\n",
    "        \n",
    "        remaining_elements = set(adj_nodes).difference(set(visited_vertices))\n",
    "        if len(remaining_elements) > 0:\n",
    "            for elem in sorted(remaining_elements):\n",
    "                visited_vertices.append(elem)\n",
    "                graph_queue.append(elem)\n",
    "    \n",
    "    return visited_vertices\n",
    "\n",
    "breadth_first_search(graph, \"A\")"
   ]
  },
  {
   "cell_type": "code",
   "execution_count": null,
   "metadata": {},
   "outputs": [],
   "source": [
    "# depth-first traversal\n",
    "\n",
    "def depth_first_search(graph, root):\n",
    "    visited_vertices = []\n",
    "    graph_stack = []\n",
    "    \n",
    "    graph_stack.append(root)\n",
    "    node = root\n",
    "    \n",
    "    while len(graph_stack) > 0:\n",
    "        if node not in visited_vertices:\n",
    "            visited_vertices.append(node)\n",
    "\n",
    "        adj_nodes = graph[node]\n",
    "        if set(adj_nodes).issubset(set(visited_vertices)):\n",
    "            graph_stack.pop()\n",
    "        if len(graph_stack) > 0:\n",
    "            node = graph_stack[-1]\n",
    "            continue\n",
    "        else:\n",
    "            remaining_elements = set(adj_nodes).difference(set(visited_vertices))\n",
    "\n",
    "        first_adj_node = sorted(remaining_elements)[0]\n",
    "        graph_stack.append(first_adj_node)\n",
    "        node = first_adj_node\n",
    "    return visited_vertices\n",
    "\n",
    "depth_first_search(graph, \"A\")"
   ]
  },
  {
   "cell_type": "code",
   "execution_count": 22,
   "metadata": {},
   "outputs": [
    {
     "name": "stdout",
     "output_type": "stream",
     "text": [
      "q = deque([10, 20, 30])\n"
     ]
    },
    {
     "ename": "TypeError",
     "evalue": "'int' object is not iterable",
     "output_type": "error",
     "traceback": [
      "\u001b[1;31m---------------------------------------------------------------------------\u001b[0m",
      "\u001b[1;31mTypeError\u001b[0m                                 Traceback (most recent call last)",
      "\u001b[1;32m<ipython-input-22-66825753ccfa>\u001b[0m in \u001b[0;36m<module>\u001b[1;34m()\u001b[0m\n\u001b[0;32m      5\u001b[0m \u001b[0mprint\u001b[0m\u001b[1;33m(\u001b[0m\u001b[1;34mf\"q = {q}\"\u001b[0m\u001b[1;33m)\u001b[0m\u001b[1;33m\u001b[0m\u001b[0m\n\u001b[0;32m      6\u001b[0m \u001b[1;33m\u001b[0m\u001b[0m\n\u001b[1;32m----> 7\u001b[1;33m \u001b[0mb\u001b[0m \u001b[1;33m=\u001b[0m \u001b[0mdeque\u001b[0m\u001b[1;33m(\u001b[0m\u001b[1;36m5\u001b[0m\u001b[1;33m)\u001b[0m\u001b[1;33m\u001b[0m\u001b[0m\n\u001b[0m\u001b[0;32m      8\u001b[0m \u001b[0mprint\u001b[0m\u001b[1;33m(\u001b[0m\u001b[0mb\u001b[0m\u001b[1;33m)\u001b[0m\u001b[1;33m\u001b[0m\u001b[0m\n",
      "\u001b[1;31mTypeError\u001b[0m: 'int' object is not iterable"
     ]
    }
   ],
   "source": [
    "from collections import deque\n",
    "\n",
    "a = [10, 20, 30]\n",
    "q = deque(a)\n",
    "print(f\"q = {q}\")\n",
    "\n",
    "b = deque(5)\n",
    "print(b)"
   ]
  }
 ],
 "metadata": {
  "kernelspec": {
   "display_name": "Python 3",
   "language": "python",
   "name": "python3"
  },
  "language_info": {
   "codemirror_mode": {
    "name": "ipython",
    "version": 3
   },
   "file_extension": ".py",
   "mimetype": "text/x-python",
   "name": "python",
   "nbconvert_exporter": "python",
   "pygments_lexer": "ipython3",
   "version": "3.6.1"
  }
 },
 "nbformat": 4,
 "nbformat_minor": 2
}
