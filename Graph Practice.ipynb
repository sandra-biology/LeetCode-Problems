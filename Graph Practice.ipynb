{
 "cells": [
  {
   "cell_type": "markdown",
   "metadata": {},
   "source": [
    "### Representing graphs:\n",
    "#### Adjacency list: indices represent vertices/nodes; at each index adjacent nodes to that vertex can be stored\n",
    "#### Adjacency matrix: two-dimensional array; can be created from a given adjacency list"
   ]
  },
  {
   "cell_type": "code",
   "execution_count": 10,
   "metadata": {},
   "outputs": [
    {
     "name": "stdout",
     "output_type": "stream",
     "text": [
      "graph = {'A': ['B', 'C'], 'B': ['E', 'A'], 'C': ['A', 'B', 'E', 'F'], 'E': ['B', 'C'], 'F': ['C']}\n"
     ]
    }
   ],
   "source": [
    "# adjacency list\n",
    "#           0       1       2             3       4\n",
    "aj_list = [[\"B\", \"C\"], [\"E\", \"A\"], [\"A\", \"B\", \"E\", \"F\"], [\"B\", \"C\"], [\"C\"]]\n",
    "\n",
    "# use dictionary to make it less restrictive\n",
    "graph = dict()\n",
    "graph[\"A\"] = [\"B\", \"C\"]\n",
    "graph[\"B\"] = [\"E\", \"A\"]\n",
    "graph[\"C\"] = [\"A\", \"B\", \"E\", \"F\"]\n",
    "graph[\"E\"] = [\"B\", \"C\"]\n",
    "graph[\"F\"] = [\"C\"]\n",
    "\n",
    "print(f\"graph = {graph}\")"
   ]
  },
  {
   "cell_type": "code",
   "execution_count": 8,
   "metadata": {},
   "outputs": [
    {
     "name": "stdout",
     "output_type": "stream",
     "text": [
      "row = [0, 0, 0, 0]\n",
      "matrix = [[0, 0, 0, 0], [0, 0, 0, 0], [0, 0, 0, 0], [0, 0, 0, 0], [0, 0, 0, 0], [0, 0, 0, 0]]\n",
      "m_4x3: [[0, 0, 0], [0, 0, 0], [0, 0, 0], [0, 0, 0], [0, 0, 0]]\n"
     ]
    }
   ],
   "source": [
    "rows = 4\n",
    "cols = 6\n",
    "\n",
    "row = [0 for i in range(rows)]\n",
    "print(f\"row = {row}\")\n",
    "\n",
    "matrix = [[0 for i in range(rows)] for j in range(cols)]\n",
    "print(f\"matrix = {matrix}\")\n",
    "\n",
    "m_4x3 = [[0, 0, 0],\n",
    "     [0, 0, 0],\n",
    "     [0, 0, 0],\n",
    "     [0, 0, 0],\n",
    "     [0, 0, 0]]\n",
    "print(f\"m_4x3: {m_4x3}\")"
   ]
  },
  {
   "cell_type": "code",
   "execution_count": 14,
   "metadata": {},
   "outputs": [
    {
     "name": "stdout",
     "output_type": "stream",
     "text": [
      "matrix_elements = ['A', 'B', 'C', 'E', 'F']\n",
      "adjacency_matrix before: [[0, 0, 0, 0, 0], [0, 0, 0, 0, 0], [0, 0, 0, 0, 0], [0, 0, 0, 0, 0], [0, 0, 0, 0, 0]]\n"
     ]
    }
   ],
   "source": [
    "# adjacency matrix\n",
    "# sorted list of the keys of graph is required\n",
    "\n",
    "matrix_elements = sorted(graph.keys())\n",
    "print(f\"matrix_elements = {matrix_elements}\")\n",
    "cols = rows = len(matrix_elements)\n",
    "\n",
    "# length of keys provides dimensions of the matrix that are stored in cols and rows\n",
    "\n",
    "adjacency_matrix = [[0 for x in range(rows)] for y in range(cols)]\n",
    "print(f\"adjacency_matrix before: {adjacency_matrix}\")\n",
    "\n",
    "edges_list = []"
   ]
  },
  {
   "cell_type": "code",
   "execution_count": 18,
   "metadata": {},
   "outputs": [
    {
     "name": "stdout",
     "output_type": "stream",
     "text": [
      "edges_list after: [('A', 'B'), ('A', 'C'), ('B', 'E'), ('B', 'A'), ('C', 'A'), ('C', 'B'), ('C', 'E'), ('C', 'F'), ('E', 'B'), ('E', 'C'), ('F', 'C'), ('A', 'B'), ('A', 'C'), ('B', 'E'), ('B', 'A'), ('C', 'A'), ('C', 'B'), ('C', 'E'), ('C', 'F'), ('E', 'B'), ('E', 'C'), ('F', 'C'), ('A', 'B'), ('A', 'C'), ('B', 'E'), ('B', 'A'), ('C', 'A'), ('C', 'B'), ('C', 'E'), ('C', 'F'), ('E', 'B'), ('E', 'C'), ('F', 'C'), ('A', 'B'), ('A', 'C'), ('B', 'E'), ('B', 'A'), ('C', 'A'), ('C', 'B'), ('C', 'E'), ('C', 'F'), ('E', 'B'), ('E', 'C'), ('F', 'C')]\n"
     ]
    }
   ],
   "source": [
    "# filling the matrix using nested for loop\n",
    "for key in matrix_elements:\n",
    "    for neighbor in graph[key]:\n",
    "        edges_list.append((key, neighbor))\n",
    "print(f\"edges_list after: {edges_list}\")"
   ]
  },
  {
   "cell_type": "code",
   "execution_count": 19,
   "metadata": {},
   "outputs": [
    {
     "name": "stdout",
     "output_type": "stream",
     "text": [
      "adjacency_matrix after: [[0, 1, 1, 0, 0], [1, 0, 0, 1, 0], [1, 1, 0, 1, 1], [0, 1, 1, 0, 0], [0, 0, 1, 0, 0]]\n"
     ]
    }
   ],
   "source": [
    "# fill multi-dimensional array by using 1 to mark edges\n",
    "for edge in edges_list:\n",
    "    index_of_first_vertex = matrix_elements.index(edge[0])\n",
    "    index_of_second_vertex = matrix_elements.index(edge[1])\n",
    "    adjacency_matrix[index_of_first_vertex][index_of_second_vertex] = 1\n",
    "\n",
    "print(f\"adjacency_matrix after: {adjacency_matrix}\")"
   ]
  },
  {
   "cell_type": "markdown",
   "metadata": {},
   "source": [
    "### Traversing graphs"
   ]
  }
 ],
 "metadata": {
  "kernelspec": {
   "display_name": "Python 3",
   "language": "python",
   "name": "python3"
  },
  "language_info": {
   "codemirror_mode": {
    "name": "ipython",
    "version": 3
   },
   "file_extension": ".py",
   "mimetype": "text/x-python",
   "name": "python",
   "nbconvert_exporter": "python",
   "pygments_lexer": "ipython3",
   "version": "3.6.1"
  }
 },
 "nbformat": 4,
 "nbformat_minor": 2
}
