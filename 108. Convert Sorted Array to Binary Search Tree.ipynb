{
 "cells": [
  {
   "cell_type": "code",
   "execution_count": null,
   "metadata": {
    "collapsed": true
   },
   "outputs": [],
   "source": [
    "class TreeNode:\n",
    "    def __init__(self, val=0, left=None, right=None):\n",
    "        self.val = val\n",
    "        self.left = left\n",
    "        self.right = right\n",
    "\n",
    "class Solution:\n",
    "    def sortedArrayToBST(self, nums: List[int]) -> TreeNode:\n",
    "        pass"
   ]
  },
  {
   "cell_type": "code",
   "execution_count": null,
   "metadata": {
    "collapsed": true
   },
   "outputs": [],
   "source": [
    "nums = [-10,-3,0,5,9]\n",
    "# min(nums) will be lowest left node\n",
    "# max(nums) will lowest right node"
   ]
  },
  {
   "cell_type": "code",
   "execution_count": 1,
   "metadata": {},
   "outputs": [
    {
     "name": "stdout",
     "output_type": "stream",
     "text": [
      "2\n"
     ]
    }
   ],
   "source": [
    "# finding mid point of array\n",
    "#         0   1  2  3  4\n",
    "nums = [-10, -3, 0, 5, 9]\n",
    "midpt = len(nums)//2\n",
    "print(midpt)"
   ]
  },
  {
   "cell_type": "code",
   "execution_count": null,
   "metadata": {
    "collapsed": true
   },
   "outputs": [],
   "source": [
    "def construct_tree(nums):\n",
    "    midpt = len(nums)//2\n",
    "    root = TreeNode(midpt)\n",
    "    \n",
    "    pass"
   ]
  },
  {
   "cell_type": "code",
   "execution_count": null,
   "metadata": {
    "collapsed": true
   },
   "outputs": [],
   "source": [
    "numbers = [1, 2, 3, 4, 5, 6, 7]"
   ]
  },
  {
   "cell_type": "code",
   "execution_count": 4,
   "metadata": {},
   "outputs": [
    {
     "name": "stdout",
     "output_type": "stream",
     "text": [
      "tester: breath_first_level: [[1], [None, 2], [None, None, None, 3], [None, None, None, None, None, None, None, 4], [None, None, None, None, None, None, None, None, None, None, None, None, None, None, None, 5], [None, None, None, None, None, None, None, None, None, None, None, None, None, None, None, None, None, None, None, None, None, None, None, None, None, None, None, None, None, None, None, 6], [None, None, None, None, None, None, None, None, None, None, None, None, None, None, None, None, None, None, None, None, None, None, None, None, None, None, None, None, None, None, None, None, None, None, None, None, None, None, None, None, None, None, None, None, None, None, None, None, None, None, None, None, None, None, None, None, None, None, None, None, None, None, None, 7]]\n"
     ]
    }
   ],
   "source": [
    "# static method does not have self as first parameter\n",
    "# to call static method from outside the class, use e.g. TreeSort.inorder(root)\n",
    "# to call static method from inside the class, use e.g. __class__.inorder(root)\n",
    "\n",
    "from collections import deque\n",
    "\n",
    "class TreeSort:\n",
    "    class Node:\n",
    "        def __init__(self, val):\n",
    "            self.val = val\n",
    "            self.left = None\n",
    "            self.right = None\n",
    "\n",
    "    def sort(self, lst):\n",
    "        self.lst = lst\n",
    "        # print(f\"sort: self.lst = {self.lst}\")\n",
    "        \n",
    "        # build binary search tree using lst\n",
    "        self._root = None\n",
    "\n",
    "        for x in lst:\n",
    "            node = self.Node(x)\n",
    "            self._insert(node, self._root)\n",
    "        \n",
    "        # return TreeSort.inorder(self._root)\n",
    "        return __class__.inorder(self._root)\n",
    "    \n",
    "    def __init__(self):\n",
    "        self._root = None\n",
    "    \n",
    "    @staticmethod\n",
    "    def breadth_first_level(root):\n",
    "        queue = deque([root])\n",
    "        \n",
    "        # list of lists for all levels\n",
    "        list_node_values = []\n",
    "        \n",
    "        # traversing by levels\n",
    "        while queue:\n",
    "            # here queue contains nodes from previous level only\n",
    "            n = len(queue)\n",
    "\n",
    "            level = []  # list for current level\n",
    "            for i in range(n):\n",
    "                # as we go through current level, we pop out the node from the left side of queue\n",
    "\n",
    "                # extract node from previous level\n",
    "                node = queue.popleft()\n",
    "                \n",
    "                # add its children to queue\n",
    "                if node:\n",
    "                    level.append(node.val)  # add value of node to level's list\n",
    "                    queue.append(node.left)\n",
    "                    queue.append(node.right)\n",
    "\n",
    "                # preserve structure of tree - add None if node does not exist\n",
    "                else:\n",
    "                    level.append(None)\n",
    "                    queue.append(None)  # for the left\n",
    "                    queue.append(None)  # for the right\n",
    "\n",
    "            # here queue contains nodes from current level only\n",
    "            \n",
    "            # take care of last level where all nodes have value of None - need to break the loop\n",
    "            if all([val == None for val in level]):\n",
    "                break\n",
    "\n",
    "            # add list of current level to list of all levels\n",
    "            list_node_values.append(level)\n",
    "\n",
    "        return list_node_values\n",
    "\n",
    "    @staticmethod\n",
    "    def inorder(root):\n",
    "        \"\"\"\n",
    "        Traverses a binary tree pointed to by root.\n",
    "        Output for binary SEARCH tree will sorted automatically\n",
    "        \n",
    "        Input\n",
    "        -----\n",
    "        root: a root of the tree to traverse\n",
    "        Output\n",
    "        ------\n",
    "        list_node_values: list of values in order of left-root-right\n",
    "        \"\"\"\n",
    "        if root is None:\n",
    "            return []\n",
    "        \n",
    "        # visit sequence: left_subtree, root, right_subtree\n",
    "        list_node_values = []\n",
    "        list_node_values.extend(__class__.inorder(root.left))\n",
    "        list_node_values.append(root.val)\n",
    "        list_node_values.extend(__class__.inorder(root.right))\n",
    "        return list_node_values\n",
    "    \n",
    "    def tester(self, lst):\n",
    "        \"\"\"\n",
    "        Handy method to test breadth_first_level(self, root) and inorder(self, root)\n",
    "        \"\"\"\n",
    "        for x in lst:\n",
    "            node = self.Node(x)\n",
    "            self._insert(node, self._root)\n",
    "\n",
    "        # print(f\"self._root.val = {self._root.val}\")\n",
    "        # print(f\"self._root.left.val = {self._root.left.val}, self._root.right.val = {self._root.right.val}\")\n",
    "        # TODO: replace this part with breadth_first_level function\n",
    "        print(f\"tester: breath_first_level: {__class__.breadth_first_level(self._root)}\")\n",
    "        # print(f\"inorder traversal = {__class__.inorder(self._root)}\")\n",
    "\n",
    "    def _insert(self, node, root):  # here root is just a formal parameter\n",
    "\n",
    "        # if tree does not exist, make node be tree\n",
    "        if self._root is None:\n",
    "            self._root = node  # only place where _insert deals with self._root\n",
    "            return\n",
    "\n",
    "        # insert node into existing tree\n",
    "        if node.val < root.val:\n",
    "            if root.left is None:\n",
    "                root.left = node\n",
    "            else:\n",
    "                self._insert(node, root.left)\n",
    "        else:\n",
    "            if root.right is None:\n",
    "                root.right = node\n",
    "            else:\n",
    "                self._insert(node, root.right)\n",
    "\n",
    "numbers = [1, 2, 3, 4, 5, 6, 7]\n",
    "\n",
    "tree_sort = TreeSort()\n",
    "tree_sort.tester(numbers)"
   ]
  },
  {
   "cell_type": "code",
   "execution_count": 1,
   "metadata": {},
   "outputs": [
    {
     "name": "stdout",
     "output_type": "stream",
     "text": [
      "tester: breath_first_level: [[-10], [None, -3], [None, None, None, 0], [None, None, None, None, None, None, None, 5], [None, None, None, None, None, None, None, None, None, None, None, None, None, None, None, 9]]\n"
     ]
    }
   ],
   "source": [
    "# static method does not have self as first parameter\n",
    "# to call static method from outside the class, use e.g. TreeSort.inorder(root)\n",
    "# to call static method from inside the class, use e.g. __class__.inorder(root)\n",
    "\n",
    "from collections import deque\n",
    "\n",
    "class TreeSort:\n",
    "    class Node:\n",
    "        def __init__(self, val):\n",
    "            self.val = val\n",
    "            self.left = None\n",
    "            self.right = None\n",
    "\n",
    "    def sort(self, lst):\n",
    "        self.lst = lst\n",
    "        # print(f\"sort: self.lst = {self.lst}\")\n",
    "        \n",
    "        # build binary search tree using lst\n",
    "        self._root = None\n",
    "\n",
    "        for x in lst:\n",
    "            node = self.Node(x)\n",
    "            self._insert(node, self._root)\n",
    "        \n",
    "        # return TreeSort.inorder(self._root)\n",
    "        return __class__.inorder(self._root)\n",
    "    \n",
    "    def __init__(self):\n",
    "        self._root = None\n",
    "\n",
    "    @staticmethod\n",
    "    def breadth_first_level(root):\n",
    "        queue = deque([root])\n",
    "        \n",
    "        # list of lists for all levels\n",
    "        list_node_values = []\n",
    "        \n",
    "        # traversing by levels\n",
    "        while queue:\n",
    "            # here queue contains nodes from previous level only\n",
    "            n = len(queue)\n",
    "\n",
    "            level = []  # list for current level\n",
    "            for i in range(n):\n",
    "                # as we go through current level, we pop out the node from the left side of queue\n",
    "\n",
    "                # extract node from previous level\n",
    "                node = queue.popleft()\n",
    "                \n",
    "                # add its children to queue\n",
    "                if node:\n",
    "                    level.append(node.val)  # add value of node to level's list\n",
    "                    queue.append(node.left)\n",
    "                    queue.append(node.right)\n",
    "\n",
    "                # preserve structure of tree - add None if node does not exist\n",
    "                else:\n",
    "                    level.append(None)\n",
    "                    queue.append(None)  # for the left\n",
    "                    queue.append(None)  # for the right\n",
    "\n",
    "            # here queue contains nodes from current level only\n",
    "            \n",
    "            # take care of last level where all nodes have value of None - need to break the loop\n",
    "            if all([val == None for val in level]):\n",
    "                break\n",
    "\n",
    "            # add list of current level to list of all levels\n",
    "            list_node_values.append(level)\n",
    "\n",
    "        return list_node_values\n",
    "\n",
    "    @staticmethod\n",
    "    def inorder(root):\n",
    "        \"\"\"\n",
    "        Traverses a binary tree pointed to by root.\n",
    "        Output for binary SEARCH tree will sorted automatically\n",
    "        \n",
    "        Input\n",
    "        -----\n",
    "        root: a root of the tree to traverse\n",
    "        Output\n",
    "        ------\n",
    "        list_node_values: list of values in order of left-root-right\n",
    "        \"\"\"\n",
    "        if root is None:\n",
    "            return []\n",
    "        \n",
    "        # visit sequence: left_subtree, root, right_subtree\n",
    "        list_node_values = []\n",
    "        list_node_values.extend(__class__.inorder(root.left))\n",
    "        list_node_values.append(root.val)\n",
    "        list_node_values.extend(__class__.inorder(root.right))\n",
    "        return list_node_values\n",
    "    \n",
    "    def tester(self, lst):\n",
    "        \"\"\"\n",
    "        Handy method to test breadth_first_level(self, root) and inorder(self, root)\n",
    "        \"\"\"\n",
    "        for x in lst:\n",
    "            node = self.Node(x)\n",
    "            self._insert(node, self._root)\n",
    "\n",
    "        # print(f\"self._root.val = {self._root.val}\")\n",
    "        # print(f\"self._root.left.val = {self._root.left.val}, self._root.right.val = {self._root.right.val}\")\n",
    "        # TODO: replace this part with breadth_first_level function\n",
    "        print(f\"tester: breath_first_level: {__class__.breadth_first_level(self._root)}\")\n",
    "        # print(f\"inorder traversal = {__class__.inorder(self._root)}\")\n",
    "\n",
    "    def _insert(self, node, root):  # here root is just a formal parameter\n",
    "\n",
    "        # if tree does not exist, make node be tree\n",
    "        if self._root is None:\n",
    "            self._root = node  # only place where _insert deals with self._root\n",
    "            return\n",
    "\n",
    "        # insert node into existing tree\n",
    "        if node.val < root.val:\n",
    "            if root.left is None:\n",
    "                root.left = node\n",
    "            else:\n",
    "                self._insert(node, root.left)\n",
    "        else:\n",
    "            if root.right is None:\n",
    "                root.right = node\n",
    "            else:\n",
    "                self._insert(node, root.right)\n",
    "\n",
    "numbers = [-10,-3,0,5,9]\n",
    "\n",
    "tree_sort = TreeSort()\n",
    "TreeSort.bread_first_level(root)\n",
    "# tree_sort.tester(numbers)"
   ]
  },
  {
   "cell_type": "code",
   "execution_count": null,
   "metadata": {
    "collapsed": true
   },
   "outputs": [],
   "source": [
    "nums = [-10,-3,0,5,9]\n",
    "# min(nums) will be lowest left node\n",
    "# max(nums) will lowest right node"
   ]
  },
  {
   "cell_type": "code",
   "execution_count": null,
   "metadata": {
    "collapsed": true
   },
   "outputs": [],
   "source": [
    "# finding mid point of array\n",
    "#         0   1  2  3  4\n",
    "nums = [-10, -3, 0, 5, 9]\n",
    "midpt = len(nums)//2\n",
    "print(midpt)"
   ]
  },
  {
   "cell_type": "code",
   "execution_count": 7,
   "metadata": {
    "collapsed": true
   },
   "outputs": [],
   "source": [
    "class TreeNode:\n",
    "    def __init__(self, val=0, left=None, right=None):\n",
    "        self.val = val\n",
    "        self.left = left\n",
    "        self.right = right\n",
    "\n",
    "def construct_tree(nums):\n",
    "    midpt = len(nums) // 2\n",
    "    root = TreeNode(midpt)\n",
    "    left = nums[:midpt]\n",
    "    right = nums[midpt+1:]\n",
    "    \n",
    "    root.left = TreeNode(len(left)  //2)\n",
    "    root.right = TreeNode(len(right) // 2)\n",
    "    return root\n",
    "\n",
    "nums = [1, 2, 3, 4, 5]\n",
    "tree = construct_tree(nums)"
   ]
  },
  {
   "cell_type": "code",
   "execution_count": 7,
   "metadata": {},
   "outputs": [
    {
     "name": "stdout",
     "output_type": "stream",
     "text": [
      "root.val = 40\n",
      "root.left.val = 20\n",
      "root.right.val = 60\n"
     ]
    }
   ],
   "source": [
    "class TreeNode:\n",
    "    def __init__(self, val=0, left=None, right=None):\n",
    "        self.val = val\n",
    "        self.left = left\n",
    "        self.right = right\n",
    "\n",
    "def construct_tree(nums):\n",
    "\n",
    "    # end of recursion\n",
    "\n",
    "    if len(nums) == 2:\n",
    "        root = TreeNode(nums[1])\n",
    "        root.left = TreeNode(nums[0])\n",
    "        return root\n",
    "    if len(nums) == 1:\n",
    "        root = TreeNode(nums[0])\n",
    "        return root\n",
    "    if nums == []:\n",
    "        return None\n",
    "\n",
    "    # recursive part\n",
    "\n",
    "    midpt = len(nums) // 2\n",
    "    root = TreeNode(nums[midpt])\n",
    "    \n",
    "    root.left = construct_tree(nums[:midpt])\n",
    "    root.right = construct_tree(nums[midpt+1:])\n",
    "    return root\n",
    "\n",
    "nums = [10, 20, 30, 40, 50, 60, 70]\n",
    "root = construct_tree(nums)\n",
    "\n",
    "print(f\"root.val = {root.val}\")\n",
    "print(f\"root.left.val = {root.left.val}\")\n",
    "print(f\"root.right.val = {root.right.val}\")"
   ]
  },
  {
   "cell_type": "markdown",
   "metadata": {},
   "source": [
    "### First submission\n",
    "\n",
    "Accepted by LeetCode: Runtime: 108 ms, faster than 10.10% of Python3 online submissions for Convert Sorted Array to Binary Search Tree.  \n",
    "Memory Usage: 16.2 MB, less than 6.45% of Python3 online submissions for Convert Sorted Array to Binary Search Tree."
   ]
  },
  {
   "cell_type": "code",
   "execution_count": 14,
   "metadata": {},
   "outputs": [
    {
     "name": "stdout",
     "output_type": "stream",
     "text": [
      "root.val = 40\n",
      "root.left.val = 20\n",
      "root.right.val = 60\n"
     ]
    }
   ],
   "source": [
    "class TreeNode:\n",
    "    def __init__(self, val=0, left=None, right=None):\n",
    "        self.val = val\n",
    "        self.left = left\n",
    "        self.right = right\n",
    "\n",
    "def construct_tree(nums):\n",
    "\n",
    "    # end of recursion\n",
    "    \n",
    "    if len(nums) == 0:\n",
    "        return None\n",
    "\n",
    "    if len(nums) == 1:\n",
    "        root = TreeNode(nums[0])\n",
    "        return root\n",
    "\n",
    "    if len(nums) == 2:\n",
    "        root = TreeNode(nums[1])\n",
    "        root.left = TreeNode(nums[0])\n",
    "        return root\n",
    "\n",
    "    # recursive part\n",
    "\n",
    "    midpt = len(nums) // 2\n",
    "    root = TreeNode(nums[midpt])\n",
    "    \n",
    "    root.left = construct_tree(nums[:midpt])\n",
    "    root.right = construct_tree(nums[midpt+1:])\n",
    "    return root\n",
    "\n",
    "nums = [10, 20, 30, 40, 50, 60, 70]\n",
    "root = construct_tree(nums)\n",
    "\n",
    "print(f\"root.val = {root.val}\")\n",
    "print(f\"root.left.val = {root.left.val}\")\n",
    "print(f\"root.right.val = {root.right.val}\")"
   ]
  },
  {
   "cell_type": "code",
   "execution_count": 3,
   "metadata": {},
   "outputs": [
    {
     "name": "stdout",
     "output_type": "stream",
     "text": [
      "node.val = 20\n",
      "list_of_nodes: [20]\n",
      "node.val = 10\n",
      "list_of_nodes: [20, 10]\n"
     ]
    },
    {
     "data": {
      "text/plain": [
       "[20, 10]"
      ]
     },
     "execution_count": 3,
     "metadata": {},
     "output_type": "execute_result"
    }
   ],
   "source": [
    "from collections import deque\n",
    "\n",
    "class Tree:\n",
    "    class Node:\n",
    "        def __init__(self, data):\n",
    "            self.data= data\n",
    "            self.left = None\n",
    "            self.right = None\n",
    "\n",
    "    def __init__(self):\n",
    "        self.root_node = None\n",
    "\n",
    "    @staticmethod\n",
    "    def breadth_first_traversal(root):\n",
    "        list_of_nodes = []\n",
    "        traversal_queue = deque([root])\n",
    "\n",
    "        while len(traversal_queue) > 0:\n",
    "            node = traversal_queue.popleft()\n",
    "            print(f\"node.val = {node.val}\")\n",
    "            list_of_nodes.append(node.val)\n",
    "            print(f\"list_of_nodes: {list_of_nodes}\")\n",
    "            \n",
    "            if node.left:\n",
    "                traversal_queue.append(node.left)\n",
    "\n",
    "            if node.right:\n",
    "                traversal_queue.append(node.right)\n",
    "\n",
    "        return list_of_nodes\n",
    "\n",
    "Tree.breadth_first_traversal(root)"
   ]
  },
  {
   "cell_type": "code",
   "execution_count": 2,
   "metadata": {},
   "outputs": [],
   "source": [
    "class TreeNode:\n",
    "    def __init__(self, val=0, left=None, right=None):\n",
    "        self.val = val\n",
    "        self.left = left\n",
    "        self.right = right\n",
    "\n",
    "def construct_tree(nums):\n",
    "\n",
    "    # end of recursion\n",
    "    \n",
    "    if len(nums) == 0:\n",
    "        return None\n",
    "\n",
    "    # recursive part\n",
    "\n",
    "    midpt = len(nums) // 2\n",
    "    root = TreeNode(nums[midpt])\n",
    "    \n",
    "    root.left = construct_tree(nums[:midpt])\n",
    "    root.right = construct_tree(nums[midpt+1:])\n",
    "    return root\n",
    "\n",
    "nums = [10, 20]\n",
    "root = construct_tree(nums)\n"
   ]
  },
  {
   "cell_type": "code",
   "execution_count": 4,
   "metadata": {},
   "outputs": [
    {
     "name": "stdout",
     "output_type": "stream",
     "text": [
      "node.val = 20\n",
      "list_of_nodes: [20]\n",
      "node.val = 10\n",
      "list_of_nodes: [20, 10]\n"
     ]
    },
    {
     "data": {
      "text/plain": [
       "[20, 10]"
      ]
     },
     "execution_count": 4,
     "metadata": {},
     "output_type": "execute_result"
    }
   ],
   "source": [
    "nums = [10, 20]\n",
    "root = construct_tree(nums)\n",
    "Tree.breadth_first_traversal(root)"
   ]
  },
  {
   "cell_type": "markdown",
   "metadata": {},
   "source": [
    "### Second submission\n",
    "\n",
    "Accepted by LeetCode: Runtime: 116 ms, faster than 8.45% of Python3 online submissions for Convert Sorted Array to Binary Search Tree.  \n",
    "Memory Usage: 16.2 MB, less than 6.45% of Python3 online submissions for Convert Sorted Array to Binary Search Tree."
   ]
  },
  {
   "cell_type": "code",
   "execution_count": 5,
   "metadata": {
    "collapsed": true
   },
   "outputs": [],
   "source": [
    "class TreeNode:\n",
    "    def __init__(self, val=0, left=None, right=None):\n",
    "        self.val = val\n",
    "        self.left = left\n",
    "        self.right = right\n",
    "\n",
    "def construct_tree(nums):\n",
    "\n",
    "    # end of recursion\n",
    "    \n",
    "    if len(nums) == 0:\n",
    "        return None\n",
    "\n",
    "    # recursive part\n",
    "\n",
    "    midpt = len(nums) // 2\n",
    "    root = TreeNode(nums[midpt])\n",
    "    \n",
    "    root.left = construct_tree(nums[:midpt])\n",
    "    root.right = construct_tree(nums[midpt+1:])\n",
    "    return root\n",
    "\n",
    "nums = [10]\n",
    "root = construct_tree(nums)"
   ]
  },
  {
   "cell_type": "code",
   "execution_count": 6,
   "metadata": {},
   "outputs": [
    {
     "name": "stdout",
     "output_type": "stream",
     "text": [
      "node.val = 10\n",
      "list_of_nodes: [10]\n"
     ]
    },
    {
     "data": {
      "text/plain": [
       "[10]"
      ]
     },
     "execution_count": 6,
     "metadata": {},
     "output_type": "execute_result"
    }
   ],
   "source": [
    "nums = [10]\n",
    "root = construct_tree(nums)\n",
    "Tree.breadth_first_traversal(root)"
   ]
  },
  {
   "cell_type": "code",
   "execution_count": 11,
   "metadata": {},
   "outputs": [
    {
     "ename": "AttributeError",
     "evalue": "'TreeNode' object has no attribute 'data'",
     "output_type": "error",
     "traceback": [
      "\u001b[1;31m---------------------------------------------------------------------------\u001b[0m",
      "\u001b[1;31mAttributeError\u001b[0m                            Traceback (most recent call last)",
      "\u001b[1;32m<ipython-input-11-c34b4bddc678>\u001b[0m in \u001b[0;36m<module>\u001b[1;34m()\u001b[0m\n\u001b[0;32m     20\u001b[0m     \u001b[1;32mreturn\u001b[0m \u001b[0mlist_of_nodes\u001b[0m\u001b[1;33m\u001b[0m\u001b[0m\n\u001b[0;32m     21\u001b[0m \u001b[1;33m\u001b[0m\u001b[0m\n\u001b[1;32m---> 22\u001b[1;33m \u001b[0mbreadth_first_traversal\u001b[0m\u001b[1;33m(\u001b[0m\u001b[0mroot\u001b[0m\u001b[1;33m)\u001b[0m\u001b[1;33m\u001b[0m\u001b[0m\n\u001b[0m",
      "\u001b[1;32m<ipython-input-11-c34b4bddc678>\u001b[0m in \u001b[0;36mbreadth_first_traversal\u001b[1;34m(root)\u001b[0m\n\u001b[0;32m      8\u001b[0m     \u001b[1;32mwhile\u001b[0m \u001b[0mlen\u001b[0m\u001b[1;33m(\u001b[0m\u001b[0mtraversal_queue\u001b[0m\u001b[1;33m)\u001b[0m \u001b[1;33m>\u001b[0m \u001b[1;36m0\u001b[0m\u001b[1;33m:\u001b[0m\u001b[1;33m\u001b[0m\u001b[0m\n\u001b[0;32m      9\u001b[0m         \u001b[0mnode\u001b[0m \u001b[1;33m=\u001b[0m \u001b[0mtraversal_queue\u001b[0m\u001b[1;33m.\u001b[0m\u001b[0mpopleft\u001b[0m\u001b[1;33m(\u001b[0m\u001b[1;33m)\u001b[0m\u001b[1;33m\u001b[0m\u001b[0m\n\u001b[1;32m---> 10\u001b[1;33m         \u001b[0mprint\u001b[0m\u001b[1;33m(\u001b[0m\u001b[1;34mf\"node.data = {node.data}\"\u001b[0m\u001b[1;33m)\u001b[0m\u001b[1;33m\u001b[0m\u001b[0m\n\u001b[0m\u001b[0;32m     11\u001b[0m         \u001b[0mlist_of_nodes\u001b[0m\u001b[1;33m.\u001b[0m\u001b[0mappend\u001b[0m\u001b[1;33m(\u001b[0m\u001b[0mnode\u001b[0m\u001b[1;33m.\u001b[0m\u001b[0mdata\u001b[0m\u001b[1;33m)\u001b[0m\u001b[1;33m\u001b[0m\u001b[0m\n\u001b[0;32m     12\u001b[0m         \u001b[0mprint\u001b[0m\u001b[1;33m(\u001b[0m\u001b[1;34mf\"list_of_nodes: {list_of_nodes}\"\u001b[0m\u001b[1;33m)\u001b[0m\u001b[1;33m\u001b[0m\u001b[0m\n",
      "\u001b[1;31mAttributeError\u001b[0m: 'TreeNode' object has no attribute 'data'"
     ]
    }
   ],
   "source": [
    "from collections import deque\n",
    "\n",
    "\n",
    "def breadth_first_traversal(root):\n",
    "    list_of_nodes = []\n",
    "    traversal_queue = deque([root])\n",
    "\n",
    "    while len(traversal_queue) > 0:\n",
    "        node = traversal_queue.popleft()\n",
    "        print(f\"node.data = {node.data}\")\n",
    "        list_of_nodes.append(node.data)\n",
    "        print(f\"list_of_nodes: {list_of_nodes}\")\n",
    "\n",
    "        if node.left:\n",
    "            traversal_queue.append(node.left)\n",
    "\n",
    "        if node.right:\n",
    "            traversal_queue.append(node.right)\n",
    "\n",
    "    return list_of_nodes\n",
    "\n",
    "breadth_first_traversal(root)"
   ]
  },
  {
   "cell_type": "code",
   "execution_count": 15,
   "metadata": {},
   "outputs": [
    {
     "name": "stdout",
     "output_type": "stream",
     "text": [
      "1\n",
      "[10]\n"
     ]
    }
   ],
   "source": [
    "a = [10, 20]\n",
    "print(len(a) // 2)\n",
    "print(a[:len(a) // 2])"
   ]
  }
 ],
 "metadata": {
  "kernelspec": {
   "display_name": "Python 3",
   "language": "python",
   "name": "python3"
  },
  "language_info": {
   "codemirror_mode": {
    "name": "ipython",
    "version": 3
   },
   "file_extension": ".py",
   "mimetype": "text/x-python",
   "name": "python",
   "nbconvert_exporter": "python",
   "pygments_lexer": "ipython3",
   "version": "3.6.1"
  }
 },
 "nbformat": 4,
 "nbformat_minor": 2
}
