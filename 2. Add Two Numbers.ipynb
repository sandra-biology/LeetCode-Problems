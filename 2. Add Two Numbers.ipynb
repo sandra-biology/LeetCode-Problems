{
 "cells": [
  {
   "cell_type": "code",
   "execution_count": 12,
   "metadata": {},
   "outputs": [
    {
     "name": "stdout",
     "output_type": "stream",
     "text": [
      "node1.val = 3\n",
      "node1.val = 4\n",
      "node1.val = 2\n",
      "\n",
      "node2.val = 4\n",
      "node2.val = 6\n",
      "node2.val = 5\n"
     ]
    }
   ],
   "source": [
    "class ListNode:\n",
    "    def __init__(self, x):\n",
    "        self.val = x\n",
    "        self.next = None\n",
    "\n",
    "head1 = None\n",
    "\n",
    "node = ListNode(2)\n",
    "node.next = head1\n",
    "head1 = node\n",
    "\n",
    "node = ListNode(4)\n",
    "node.next = head1\n",
    "head1 = node\n",
    "\n",
    "node = ListNode(3)\n",
    "node.next = head1\n",
    "head1 = node\n",
    "\n",
    "head2 = None\n",
    "\n",
    "node = ListNode(5)\n",
    "node.next = head2\n",
    "head2 = node\n",
    "\n",
    "node = ListNode(6)\n",
    "node.next = head2\n",
    "head2 = node\n",
    "\n",
    "node = ListNode(4)\n",
    "node.next = head2\n",
    "head2 = node\n",
    "\n",
    "node1 = head1\n",
    "while node1:\n",
    "    print(f\"node1.val = {node1.val}\")\n",
    "    node1 = node1.next\n",
    "\n",
    "print()\n",
    "node2 = head2\n",
    "while node2:\n",
    "    print(f\"node2.val = {node2.val}\")\n",
    "    node2 = node2.next"
   ]
  },
  {
   "cell_type": "code",
   "execution_count": 13,
   "metadata": {},
   "outputs": [
    {
     "name": "stdout",
     "output_type": "stream",
     "text": [
      "str1 = 342, str2 = 465\n"
     ]
    }
   ],
   "source": [
    "str1 = \"\"\n",
    "str2 = \"\"\n",
    "\n",
    "node1 = head1\n",
    "while node1:\n",
    "    str1 += str(node1.val)\n",
    "    node1 = node1.next\n",
    "\n",
    "node2 = head2\n",
    "while node2:\n",
    "    str2 += str(node2.val)\n",
    "    node2 = node2.next\n",
    "\n",
    "print(f\"str1 = {str1}, str2 = {str2}\")\n",
    "\n",
    "int1 = int(str1)\n",
    "int2 = int(str2)"
   ]
  },
  {
   "cell_type": "code",
   "execution_count": 14,
   "metadata": {},
   "outputs": [
    {
     "name": "stdout",
     "output_type": "stream",
     "text": [
      "total = 807\n",
      "total_list = ['8', '0', '7']\n"
     ]
    }
   ],
   "source": [
    "total = int1 + int2\n",
    "print(f\"total = {total}\")\n",
    "\n",
    "total_list = list(str(total))\n",
    "print(f\"total_list = {total_list}\")"
   ]
  },
  {
   "cell_type": "code",
   "execution_count": 7,
   "metadata": {},
   "outputs": [
    {
     "name": "stdout",
     "output_type": "stream",
     "text": [
      "node.val = 8\n"
     ]
    }
   ],
   "source": [
    "head_out = None\n",
    "\n",
    "value = total_list.pop(0)\n",
    "node = ListNode(value)\n",
    "print(f\"node.val = {node.val}\")"
   ]
  },
  {
   "cell_type": "code",
   "execution_count": 15,
   "metadata": {},
   "outputs": [
    {
     "name": "stdout",
     "output_type": "stream",
     "text": [
      "after creation of linked list: 0\n",
      "node.val = 7\n",
      "node.val = 0\n",
      "node.val = 8\n"
     ]
    }
   ],
   "source": [
    "head_out = None\n",
    "\n",
    "while len(total_list) > 0:\n",
    "    value = total_list.pop(0)\n",
    "    node = ListNode(value)\n",
    "    if head_out is None:\n",
    "        head_out = node\n",
    "        continue\n",
    "\n",
    "    node.next = head_out\n",
    "    head_out = node\n",
    "\n",
    "print(f\"after creation of linked list: {len(total_list)}\")\n",
    "\n",
    "node = head_out\n",
    "while node:\n",
    "    print(f\"node.val = {node.val}\")\n",
    "    node = node.next"
   ]
  },
  {
   "cell_type": "code",
   "execution_count": 1,
   "metadata": {},
   "outputs": [
    {
     "name": "stdout",
     "output_type": "stream",
     "text": [
      "node.val = 7\n",
      "node.val = 0\n",
      "node.val = 8\n"
     ]
    }
   ],
   "source": [
    "class ListNode:\n",
    "    def __init__(self, x):\n",
    "        self.val = x\n",
    "        self.next = None\n",
    "\n",
    "class Solution:\n",
    "    def addTwoNumbers(self, l1: ListNode, l2: ListNode) -> ListNode:\n",
    "        str1 = \"\"\n",
    "        str2 = \"\"\n",
    "        \n",
    "        node1 = l1\n",
    "        while node1:\n",
    "            str1 += str(node1.val)\n",
    "            node1 = node1.next\n",
    "\n",
    "        node2 = l2\n",
    "        while node2:\n",
    "            str2 += str(node2.val)\n",
    "            node2 = node2.next\n",
    "        \n",
    "        total = int(str1) + int(str2)\n",
    "        total_list = list(str(total))\n",
    "        \n",
    "        head_out = None\n",
    "        while len(total_list) > 0:\n",
    "            value = total_list.pop(0)\n",
    "            node = ListNode(value)\n",
    "            \n",
    "            if head_out is None:\n",
    "                head_out = node\n",
    "                continue\n",
    "\n",
    "            node.next = head_out\n",
    "            head_out = node\n",
    "        \n",
    "        return head_out\n",
    "\n",
    "l1 = None\n",
    "\n",
    "node = ListNode(2)\n",
    "node.next = l1\n",
    "l1 = node\n",
    "\n",
    "node = ListNode(4)\n",
    "node.next = l1\n",
    "l1 = node\n",
    "\n",
    "node = ListNode(3)\n",
    "node.next = l1\n",
    "l1 = node\n",
    "\n",
    "l2 = None\n",
    "\n",
    "node = ListNode(5)\n",
    "node.next = l2\n",
    "l2 = node\n",
    "\n",
    "node = ListNode(6)\n",
    "node.next = l2\n",
    "l2 = node\n",
    "\n",
    "node = ListNode(4)\n",
    "node.next = l2\n",
    "l2 = node\n",
    "\n",
    "solution = Solution()\n",
    "res = solution.addTwoNumbers(l1, l2)\n",
    "\n",
    "node = res\n",
    "while node:\n",
    "    print(f\"node.val = {node.val}\")\n",
    "    node = node.next"
   ]
  },
  {
   "cell_type": "code",
   "execution_count": 2,
   "metadata": {},
   "outputs": [
    {
     "name": "stdout",
     "output_type": "stream",
     "text": [
      "\n",
      "num1 = [3, 4, 2], num2 = [4, 6, 5]\n"
     ]
    }
   ],
   "source": [
    "class ListNode:\n",
    "    def __init__(self, x):\n",
    "        self.val = x\n",
    "        self.next = None\n",
    "\n",
    "head1 = None\n",
    "\n",
    "node = ListNode(2)\n",
    "node.next = head1\n",
    "head1 = node\n",
    "\n",
    "node = ListNode(4)\n",
    "node.next = head1\n",
    "head1 = node\n",
    "\n",
    "node = ListNode(3)\n",
    "node.next = head1\n",
    "head1 = node\n",
    "\n",
    "head2 = None\n",
    "\n",
    "node = ListNode(5)\n",
    "node.next = head2\n",
    "head2 = node\n",
    "\n",
    "node = ListNode(6)\n",
    "node.next = head2\n",
    "head2 = node\n",
    "\n",
    "node = ListNode(4)\n",
    "node.next = head2\n",
    "head2 = node\n",
    "\n",
    "num1 = []\n",
    "num2 = []\n",
    "\n",
    "node1 = head1\n",
    "while node1:\n",
    "    num1.append(node1.val)\n",
    "    node1 = node1.next\n",
    "\n",
    "print()\n",
    "node2 = head2\n",
    "while node2:\n",
    "    num2.append(node2.val)\n",
    "    node2 = node2.next\n",
    "\n",
    "print(f\"num1 = {num1}, num2 = {num2}\")"
   ]
  },
  {
   "cell_type": "code",
   "execution_count": 6,
   "metadata": {},
   "outputs": [
    {
     "name": "stdout",
     "output_type": "stream",
     "text": [
      "i = 0\n",
      "num1[i] = 3, num2[j] = 4\n",
      "num1[i] = 3, num2[j] = 6\n",
      "num1[i] = 3, num2[j] = 5\n",
      "i = 1\n",
      "num1[i] = 4, num2[j] = 4\n",
      "num1[i] = 4, num2[j] = 6\n",
      "num1[i] = 4, num2[j] = 5\n",
      "i = 2\n",
      "num1[i] = 2, num2[j] = 4\n",
      "num1[i] = 2, num2[j] = 6\n",
      "num1[i] = 2, num2[j] = 5\n",
      "total = [7, 9, 8, 8, 0, 9, 6, 8, 7]\n"
     ]
    }
   ],
   "source": [
    "total = []\n",
    "carry = 0\n",
    "for i in range(len(num1)):\n",
    "    print(f\"i = {i}\")\n",
    "    for j in range(len(num2)):\n",
    "        print(f\"num1[i] = {num1[i]}, num2[j] = {num2[j]}\")\n",
    "        digit = num1[i] + num2[j]\n",
    "        if digit > 9:\n",
    "            carry = digit // 10\n",
    "            digit = digit % 10\n",
    "        total.append(digit)\n",
    "print(f\"total = {total}\")"
   ]
  },
  {
   "cell_type": "code",
   "execution_count": 3,
   "metadata": {},
   "outputs": [
    {
     "name": "stdout",
     "output_type": "stream",
     "text": [
      "1\n",
      "2\n"
     ]
    }
   ],
   "source": [
    "a = 12\n",
    "print(a // 10)\n",
    "print(a % 10)"
   ]
  }
 ],
 "metadata": {
  "kernelspec": {
   "display_name": "Python 3",
   "language": "python",
   "name": "python3"
  },
  "language_info": {
   "codemirror_mode": {
    "name": "ipython",
    "version": 3
   },
   "file_extension": ".py",
   "mimetype": "text/x-python",
   "name": "python",
   "nbconvert_exporter": "python",
   "pygments_lexer": "ipython3",
   "version": "3.6.1"
  }
 },
 "nbformat": 4,
 "nbformat_minor": 2
}
