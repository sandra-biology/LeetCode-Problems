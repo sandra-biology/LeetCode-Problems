{
 "cells": [
  {
   "cell_type": "code",
   "execution_count": null,
   "metadata": {
    "collapsed": true
   },
   "outputs": [],
   "source": [
    "class TreeNode:\n",
    "    def __init__(self, val=0, left=None, right=None):\n",
    "        self.val = val\n",
    "        self.left = left\n",
    "        self.right = right\n",
    "\n",
    "class Solution:\n",
    "    def levelOrder(self, root: TreeNode) -> List[List[int]]:\n",
    "        pass"
   ]
  },
  {
   "cell_type": "code",
   "execution_count": 8,
   "metadata": {},
   "outputs": [
    {
     "name": "stdout",
     "output_type": "stream",
     "text": [
      "True\n"
     ]
    }
   ],
   "source": [
    "a = [None, None]\n",
    "if all(a):\n",
    "    print(True)\n",
    "\n",
    "b = [1, 2]\n",
    "if all(b):\n",
    "    print(True)"
   ]
  },
  {
   "cell_type": "code",
   "execution_count": 5,
   "metadata": {},
   "outputs": [
    {
     "data": {
      "text/plain": [
       "[[3], [9, 20], [15, 7], []]"
      ]
     },
     "execution_count": 5,
     "metadata": {},
     "output_type": "execute_result"
    }
   ],
   "source": [
    "# works, just need to care of case where all nodes in last level have value of Noneh\n",
    "from collections import deque\n",
    "from typing import List\n",
    "\n",
    "class TreeNode:\n",
    "    def __init__(self, val=0, left=None, right=None):\n",
    "        self.val = val\n",
    "        self.left = left\n",
    "        self.right = right\n",
    "\n",
    "class Solution:\n",
    "    def levelOrder(self, root: TreeNode) -> List[List[int]]:\n",
    "        queue = deque([root])\n",
    "        level = []\n",
    "        list_node_values = []\n",
    "        \n",
    "        while queue:\n",
    "            level = []\n",
    "            n = len(queue)\n",
    "            for i in range(n):\n",
    "                node = queue.popleft()\n",
    "\n",
    "                if node:\n",
    "                    level.append(node.val)\n",
    "\n",
    "                    queue.append(node.left)\n",
    "                    queue.append(node.right)\n",
    "            \n",
    "            list_node_values.append(level)\n",
    "\n",
    "        return list_node_values\n",
    "\n",
    "root = TreeNode(3)\n",
    "root.left = TreeNode(9)\n",
    "root.right = TreeNode(20)\n",
    "root.right.left = TreeNode(15)\n",
    "root.right.right = TreeNode(7)\n",
    "\n",
    "solution = Solution()\n",
    "solution.levelOrder(root)"
   ]
  },
  {
   "cell_type": "code",
   "execution_count": 16,
   "metadata": {},
   "outputs": [
    {
     "data": {
      "text/plain": [
       "[[3], [9, 20], [None, None, 15, 7]]"
      ]
     },
     "execution_count": 16,
     "metadata": {},
     "output_type": "execute_result"
    }
   ],
   "source": [
    "class Solution:\n",
    "    def breadth_first_level(self, root):\n",
    "        if root is None:\n",
    "            return []\n",
    "        \n",
    "        list_levels = []\n",
    "\n",
    "        q = deque([root])\n",
    "        while q:\n",
    "            # here q contains nodes from the previous level only\n",
    "            n = len(q)\n",
    "            level = []\n",
    "            for i in range(n):\n",
    "                node = q.popleft()\n",
    "\n",
    "                if node:\n",
    "                    level.append(node.val)\n",
    "\n",
    "                    q.append(node.left)\n",
    "                    q.append(node.right)\n",
    "                else:\n",
    "                    level.append(None)\n",
    "                    q.append(None)\n",
    "                    q.append(None)\n",
    "\n",
    "                # here q contains mix of previous and current levels\n",
    "\n",
    "            # here q contains nodes from currrent level only\n",
    "\n",
    "            list_levels.append(level)\n",
    "\n",
    "            all_None = True\n",
    "            for node in q:\n",
    "                if node is not None:\n",
    "                    all_None = False\n",
    "                    break\n",
    "            if all_None:\n",
    "                break\n",
    "\n",
    "        return list_levels\n",
    "\n",
    "root = TreeNode(3)\n",
    "root.left = TreeNode(9)\n",
    "root.right = TreeNode(20)\n",
    "root.right.left = TreeNode(15)\n",
    "root.right.right = TreeNode(7)\n",
    "\n",
    "solution = Solution()\n",
    "solution.breadth_first_level(root)"
   ]
  },
  {
   "cell_type": "markdown",
   "metadata": {},
   "source": [
    "### First submission\n",
    "\n",
    "Accepted by LeetCode: Runtime: 40 ms, faster than 21.33% of Python3 online submissions for Binary Tree Level Order Traversal.  \n",
    "Memory Usage: 13.9 MB, less than 20.97% of Python3 online submissions for Binary Tree Level Order Traversal."
   ]
  },
  {
   "cell_type": "code",
   "execution_count": 15,
   "metadata": {},
   "outputs": [
    {
     "data": {
      "text/plain": [
       "[[3], [9, 20], [15, 7]]"
      ]
     },
     "execution_count": 15,
     "metadata": {},
     "output_type": "execute_result"
    }
   ],
   "source": [
    "from collections import deque\n",
    "from typing import List\n",
    "\n",
    "class TreeNode:\n",
    "    def __init__(self, val=0, left=None, right=None):\n",
    "        self.val = val\n",
    "        self.left = left\n",
    "        self.right = right\n",
    "\n",
    "class Solution:\n",
    "    def levelOrder(self, root: TreeNode) -> List[List[int]]:\n",
    "        queue = deque([root])\n",
    "        level = []\n",
    "        list_node_values = []\n",
    "        \n",
    "        while queue:\n",
    "            level = []\n",
    "            n = len(queue)\n",
    "            for i in range(n):\n",
    "                node = queue.popleft()\n",
    "\n",
    "                if node:\n",
    "                    level.append(node.val)\n",
    "\n",
    "                    queue.append(node.left)\n",
    "                    queue.append(node.right)\n",
    "            \n",
    "            list_node_values.append(level)\n",
    "            \n",
    "        return list_node_values[:-1]\n",
    "\n",
    "root = TreeNode(3)\n",
    "root.left = TreeNode(9)\n",
    "root.right = TreeNode(20)\n",
    "root.right.left = TreeNode(15)\n",
    "root.right.right = TreeNode(7)\n",
    "\n",
    "solution = Solution()\n",
    "solution.levelOrder(root)"
   ]
  }
 ],
 "metadata": {
  "kernelspec": {
   "display_name": "Python 3",
   "language": "python",
   "name": "python3"
  },
  "language_info": {
   "codemirror_mode": {
    "name": "ipython",
    "version": 3
   },
   "file_extension": ".py",
   "mimetype": "text/x-python",
   "name": "python",
   "nbconvert_exporter": "python",
   "pygments_lexer": "ipython3",
   "version": "3.6.1"
  }
 },
 "nbformat": 4,
 "nbformat_minor": 2
}
