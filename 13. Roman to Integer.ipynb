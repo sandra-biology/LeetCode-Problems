{
 "cells": [
  {
   "cell_type": "code",
   "execution_count": 1,
   "metadata": {},
   "outputs": [
    {
     "name": "stdout",
     "output_type": "stream",
     "text": [
      "number = 1997\n"
     ]
    }
   ],
   "source": [
    "def roman_to_arabic(s):\n",
    "    s = s.upper()\n",
    "\n",
    "    convert_dct = {\"I\": 1, \"V\": 5, \"X\": 10, \"L\": 50, \"C\": 100, \"D\": 500,\"M\": 1000}\n",
    "    arabic = 0\n",
    "\n",
    "    for i in range(len(s)):\n",
    "        n = convert_dct[s[i]]\n",
    "        # print(f\"n = {n}\")\n",
    "\n",
    "        if i+1 < len(s):  # check if there is next element (if we have reached the end of roman number)\n",
    "            if convert_dct[s[i+1]] > convert_dct[s[i]]: # with if s[i+1] > s[i] we are comparing ASCII\n",
    "                # print(f\"   in branch minus for {n}\")\n",
    "                n = -n\n",
    "            arabic += n\n",
    "            # print(f\"arabic = {arabic}\")\n",
    "            continue\n",
    "        else:\n",
    "            arabic += n\n",
    "            break\n",
    "\n",
    "    return arabic\n",
    "\n",
    "roman = \"MCMXCVII\"\n",
    "\n",
    "number = roman_to_arabic(roman)\n",
    "print(f\"number = {number}\")"
   ]
  },
  {
   "cell_type": "markdown",
   "metadata": {},
   "source": [
    "### Submitted\n",
    "\n",
    "Accepted by LeetCode: Runtime: 44 ms, faster than 74.33% of Python3 submissions\n",
    "                      Memory Usage: 13.6 MB, less than 5.38% of Python3 submissions"
   ]
  },
  {
   "cell_type": "code",
   "execution_count": 2,
   "metadata": {},
   "outputs": [
    {
     "name": "stdout",
     "output_type": "stream",
     "text": [
      "number = 1997\n"
     ]
    }
   ],
   "source": [
    "class Solution:\n",
    "    def roman_to_arabic(self, s: str) -> int:\n",
    "        s = s.upper()\n",
    "\n",
    "        convert_dct = {\"I\": 1, \"V\": 5, \"X\": 10, \"L\": 50, \"C\": 100, \"D\": 500,\"M\": 1000}\n",
    "        arabic = 0\n",
    "\n",
    "        for i in range(len(s)):\n",
    "            n = convert_dct[s[i]]\n",
    "            # print(f\"n = {n}\")\n",
    "\n",
    "            if i+1 < len(s):  # check if there is next element (if we have reached the end of roman number)\n",
    "                if convert_dct[s[i+1]] > convert_dct[s[i]]: # with if s[i+1] > s[i] we are comparing ASCII\n",
    "                    # print(f\"   in branch minus for {n}\")\n",
    "                    n = -n\n",
    "                arabic += n\n",
    "                # print(f\"arabic = {arabic}\")\n",
    "                continue\n",
    "            else:\n",
    "                arabic += n\n",
    "                break\n",
    "\n",
    "        return arabic\n",
    "\n",
    "solution = Solution()\n",
    "\n",
    "roman = \"MCMXCVII\"\n",
    "\n",
    "number = solution.roman_to_arabic(roman)\n",
    "print(f\"number = {number}\")"
   ]
  }
 ],
 "metadata": {
  "kernelspec": {
   "display_name": "Python 3",
   "language": "python",
   "name": "python3"
  },
  "language_info": {
   "codemirror_mode": {
    "name": "ipython",
    "version": 3
   },
   "file_extension": ".py",
   "mimetype": "text/x-python",
   "name": "python",
   "nbconvert_exporter": "python",
   "pygments_lexer": "ipython3",
   "version": "3.6.1"
  }
 },
 "nbformat": 4,
 "nbformat_minor": 2
}
