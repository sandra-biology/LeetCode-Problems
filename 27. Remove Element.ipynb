{
 "cells": [
  {
   "cell_type": "markdown",
   "metadata": {},
   "source": [
    "### First submission\n",
    "Could be optimized for time\n",
    "\n",
    "Accepted by LeetCode: Runtime: 28 ms, faster than 86.38% of Python3 submissions\n",
    "                      Memory Usage: 14.1 MB, less than 6.01% of Python3 submissions"
   ]
  },
  {
   "cell_type": "code",
   "execution_count": 1,
   "metadata": {},
   "outputs": [
    {
     "data": {
      "text/plain": [
       "2"
      ]
     },
     "execution_count": 1,
     "metadata": {},
     "output_type": "execute_result"
    }
   ],
   "source": [
    "def removeElement(nums, val):\n",
    "    i = 0\n",
    "    i_max = len(nums)\n",
    "    while i < i_max:\n",
    "        if nums[i] == val:\n",
    "            del nums[i]\n",
    "            i_max -= 1 # adjust i_max since length of nums changes with each iteration\n",
    "        else:\n",
    "            i += 1\n",
    "    return len(nums)\n",
    "\n",
    "nums = [3,2,2,3]\n",
    "val = 3\n",
    "# nums = [0,1,2,2,3,0,4,2]\n",
    "# val = 2\n",
    "removeElement(nums, val)"
   ]
  },
  {
   "cell_type": "markdown",
   "metadata": {},
   "source": [
    "### Second submission\n",
    "Using remove() instead of del\n",
    "\n",
    "Accepted by LeetCode: Runtime: 24 ms, faster than 96.79% of Python3 submissions\n",
    "                      Memory Usage: 13.6 MB, less than 6.06% of Python3 submissions"
   ]
  },
  {
   "cell_type": "code",
   "execution_count": 43,
   "metadata": {},
   "outputs": [
    {
     "data": {
      "text/plain": [
       "[0, 1, 3, 0, 4]"
      ]
     },
     "execution_count": 43,
     "metadata": {},
     "output_type": "execute_result"
    }
   ],
   "source": [
    "def removeElement(nums, val):\n",
    "    i = 0\n",
    "    i_max = len(nums)\n",
    "    while i < i_max:\n",
    "        if nums[i] == val:\n",
    "            nums.remove(nums[i])\n",
    "            i_max -= 1\n",
    "        else:\n",
    "            i += 1\n",
    "    return nums\n",
    "\n",
    "nums = [0, 1, 2, 2, 3, 0, 4, 2]\n",
    "val = 2\n",
    "removeElement(nums, val)"
   ]
  },
  {
   "cell_type": "markdown",
   "metadata": {},
   "source": [
    "### Final submission\n",
    "Accepted by LeetCode: Runtime: 32 ms, faster than 60.76% of Python3 submissions\n",
    "                      Memory Usage: 13.6 MB, less than 6.06% of Python3 submissions"
   ]
  },
  {
   "cell_type": "code",
   "execution_count": 17,
   "metadata": {},
   "outputs": [
    {
     "name": "stdout",
     "output_type": "stream",
     "text": [
      "[0, 1, 2, 2, 3, 0, 4, 2]\n",
      "[0, 1, 3, 0, 4, 0, 4, 2] output length = 5\n"
     ]
    }
   ],
   "source": [
    "def removeElement(nums, val):\n",
    "    last = -1\n",
    "    for curr in range(len(nums)):\n",
    "        # compare num[curr] with val, if different, copy num[curr] to output list\n",
    "        if nums[curr] != val:\n",
    "            last += 1\n",
    "            nums[last] = nums[curr]\n",
    "    return last+1\n",
    "\n",
    "# nums = [3, 2, 2, 3]\n",
    "# val = 3\n",
    "nums = [0,1,2,2,3,0,4,2]\n",
    "val = 2\n",
    "print(nums)\n",
    "length = removeElement(nums, val)\n",
    "print(nums, f\"output length = {length}\")"
   ]
  }
 ],
 "metadata": {
  "kernelspec": {
   "display_name": "Python 3",
   "language": "python",
   "name": "python3"
  },
  "language_info": {
   "codemirror_mode": {
    "name": "ipython",
    "version": 3
   },
   "file_extension": ".py",
   "mimetype": "text/x-python",
   "name": "python",
   "nbconvert_exporter": "python",
   "pygments_lexer": "ipython3",
   "version": "3.6.1"
  }
 },
 "nbformat": 4,
 "nbformat_minor": 2
}
