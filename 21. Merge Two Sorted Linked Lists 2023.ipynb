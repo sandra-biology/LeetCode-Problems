{
 "cells": [
  {
   "cell_type": "markdown",
   "id": "464ec866",
   "metadata": {},
   "source": [
    "### Trying this with arrays"
   ]
  },
  {
   "cell_type": "code",
   "execution_count": 6,
   "id": "14ffd0b7",
   "metadata": {},
   "outputs": [
    {
     "name": "stdout",
     "output_type": "stream",
     "text": [
      "arr1[i]: 10, arr2[j]: 10\n",
      "arr_out: [10, 10]\n",
      "arr1[i]: 10, arr2[j]: 30\n",
      "arr_out: [10, 10, 10]\n",
      "arr1[i]: 10, arr2[j]: 40\n",
      "arr_out: [10, 10, 10, 10]\n",
      "arr1[i]: 20, arr2[j]: 10\n",
      "arr_out: [10, 10, 10, 10, 10]\n",
      "arr1[i]: 20, arr2[j]: 30\n",
      "arr_out: [10, 10, 10, 10, 10, 20]\n",
      "arr1[i]: 20, arr2[j]: 40\n",
      "arr_out: [10, 10, 10, 10, 10, 20, 20]\n",
      "arr1[i]: 40, arr2[j]: 10\n",
      "arr_out: [10, 10, 10, 10, 10, 20, 20, 10]\n",
      "arr1[i]: 40, arr2[j]: 30\n",
      "arr_out: [10, 10, 10, 10, 10, 20, 20, 10, 30]\n",
      "arr1[i]: 40, arr2[j]: 40\n",
      "arr_out: [10, 10, 10, 10, 10, 20, 20, 10, 30, 40, 40]\n"
     ]
    }
   ],
   "source": [
    "arr1 = [10, 20, 40]\n",
    "arr2 = [10, 30, 40]\n",
    "arr_out = []\n",
    "\n",
    "for i in range(len(arr1)):\n",
    "    for j in range(len(arr2)):\n",
    "        print(f'arr1[i]: {arr1[i]}, arr2[j]: {arr2[j]}')\n",
    "        if arr1[i] < arr2[j]:\n",
    "            arr_out.append(arr1[i])\n",
    "        elif arr1[i] > arr2[j]:\n",
    "            arr_out.append(arr2[j])\n",
    "            # print(f'arr_out before else: {arr_out}')\n",
    "        elif arr1[i] == arr2[j] and arr1[i] not in arr_out and arr2[j] not in arr_out:\n",
    "            arr_out.append(arr1[i])\n",
    "            arr_out.append(arr2[i])\n",
    "        print(f'arr_out: {arr_out}')"
   ]
  },
  {
   "cell_type": "code",
   "execution_count": 11,
   "id": "a4ca45c2",
   "metadata": {},
   "outputs": [
    {
     "name": "stdout",
     "output_type": "stream",
     "text": [
      "arr1[i]: 10, arr2[j]: 10\n",
      "arr_out: [10, 10]\n",
      "arr1[i]: 10, arr2[j]: 30\n",
      "arr_out: [10, 10, 10]\n",
      "arr1[i]: 10, arr2[j]: 40\n",
      "arr_out: [10, 10, 10, 10]\n",
      "arr1[i]: 20, arr2[j]: 10\n",
      "arr_out before else: [10, 10, 10, 10, 10]\n",
      "arr_out: [10, 10, 10, 10, 10]\n",
      "arr1[i]: 20, arr2[j]: 30\n",
      "arr_out: [10, 10, 10, 10, 10, 20]\n",
      "arr1[i]: 20, arr2[j]: 40\n",
      "arr_out: [10, 10, 10, 10, 10, 20, 20]\n",
      "arr1[i]: 40, arr2[j]: 10\n",
      "arr_out before else: [10, 10, 10, 10, 10, 20, 20, 10]\n",
      "arr_out: [10, 10, 10, 10, 10, 20, 20, 10]\n",
      "arr1[i]: 40, arr2[j]: 30\n",
      "arr_out before else: [10, 10, 10, 10, 10, 20, 20, 10, 30]\n",
      "arr_out: [10, 10, 10, 10, 10, 20, 20, 10, 30]\n",
      "arr1[i]: 40, arr2[j]: 40\n",
      "arr_out: [10, 10, 10, 10, 10, 20, 20, 10, 30, 40, 40]\n"
     ]
    }
   ],
   "source": [
    "arr1 = [10, 20, 40]\n",
    "arr2 = [10, 30, 40]\n",
    "arr_out = []\n",
    "\n",
    "for i in range(len(arr1)):\n",
    "    for j in range(len(arr2)):\n",
    "        print(f'arr1[i]: {arr1[i]}, arr2[j]: {arr2[j]}')\n",
    "        if arr1[i] < arr2[j]:\n",
    "            arr_out.append(arr1[i])\n",
    "        elif arr1[i] > arr2[j]:\n",
    "            arr_out.append(arr2[j])\n",
    "            print(f'arr_out before else: {arr_out}')\n",
    "        else:\n",
    "            arr_out.append(arr1[i])\n",
    "            arr_out.append(arr2[i])\n",
    "        print(f'arr_out: {arr_out}')"
   ]
  },
  {
   "cell_type": "code",
   "execution_count": 12,
   "id": "f6ff4bcc",
   "metadata": {},
   "outputs": [
    {
     "name": "stdout",
     "output_type": "stream",
     "text": [
      "arr_out: [10, 10, 20, 30, 40, 40]\n"
     ]
    }
   ],
   "source": [
    "#       0   1   2\n",
    "arr1 = [10, 20, 40]\n",
    "arr2 = [10, 30, 40]\n",
    "arr_out = []\n",
    "\n",
    "i = 0\n",
    "j = 0\n",
    "while i < len(arr1):\n",
    "    if arr1[i] < arr2[j]:\n",
    "        arr_out.append(arr1[i])\n",
    "        i += 1\n",
    "    elif arr1[i] > arr2[j]:\n",
    "        arr_out.append(arr2[j])\n",
    "        j += 1\n",
    "    else:\n",
    "        arr_out.append(arr1[i])\n",
    "        arr_out.append(arr2[i])\n",
    "        i += 1\n",
    "        j += 1\n",
    "\n",
    "print(f'arr_out: {arr_out}')"
   ]
  },
  {
   "cell_type": "code",
   "execution_count": 23,
   "id": "a3033a65",
   "metadata": {},
   "outputs": [
    {
     "name": "stdout",
     "output_type": "stream",
     "text": [
      "arr_out using extend: [101, 101, 201, 301, 401, 401]\n"
     ]
    }
   ],
   "source": [
    "#       0    1    2\n",
    "arr1 = [101, 201, 401]\n",
    "arr2 = [101, 301, 401]\n",
    "arr_out = []\n",
    "\n",
    "i = 0\n",
    "j = 0\n",
    "while i < len(arr1) and j < len(arr2):\n",
    "    if arr1[i] < arr2[j]:\n",
    "        arr_out.append(arr1[i])\n",
    "        i += 1\n",
    "    else:\n",
    "        arr_out.append(arr2[j])\n",
    "        j += 1\n",
    "\n",
    "if i < len(arr1):\n",
    "    arr_out.extend(arr1[i:])\n",
    "if j < len(arr2):\n",
    "    arr_out.extend(arr2[j:])\n",
    "\n",
    "print(f'arr_out using extend: {arr_out}')"
   ]
  },
  {
   "cell_type": "markdown",
   "id": "c732185a",
   "metadata": {},
   "source": [
    "### Linked List"
   ]
  },
  {
   "cell_type": "code",
   "execution_count": 2,
   "id": "e9dbadb7",
   "metadata": {},
   "outputs": [],
   "source": [
    "class ListNode:\n",
    "    def __init__(self, val=0, next=None):\n",
    "        self.val = val\n",
    "        self.next = next"
   ]
  },
  {
   "cell_type": "code",
   "execution_count": 25,
   "id": "9caa6293",
   "metadata": {},
   "outputs": [
    {
     "name": "stdout",
     "output_type": "stream",
     "text": [
      "node value: 10\n",
      "node value: 20\n",
      "node value: 40\n"
     ]
    }
   ],
   "source": [
    "head1 = None\n",
    "\n",
    "node1 = ListNode(40)\n",
    "node1.next = head1\n",
    "head1 = node1\n",
    "\n",
    "node1 = ListNode(20)\n",
    "node1.next = head1\n",
    "head1 = node1\n",
    "\n",
    "node1 = ListNode(10)\n",
    "node1.next = head1\n",
    "head1 = node1\n",
    "\n",
    "# print(f'value of first node: {head1.val}')\n",
    "\n",
    "# traverse linked list\n",
    "node1 = head1\n",
    "while node1:\n",
    "    print(f'node value: {node1.val}')\n",
    "    node1 = node1.next"
   ]
  },
  {
   "cell_type": "code",
   "execution_count": 35,
   "id": "9294e09c",
   "metadata": {},
   "outputs": [],
   "source": [
    "arr1 = [101, 201, 401]\n",
    "\n",
    "head = None\n",
    "tail = None  # writing to tail\n",
    "for i in range(len(arr1)):\n",
    "    node = ListNode(arr1[i])\n",
    "    \n",
    "    if head is None:\n",
    "        head = node\n",
    "    \n",
    "    if tail:\n",
    "        tail.next = node\n",
    "    else:\n",
    "        tail = node\n",
    "    "
   ]
  },
  {
   "cell_type": "code",
   "execution_count": 36,
   "id": "8eb84767",
   "metadata": {},
   "outputs": [
    {
     "name": "stdout",
     "output_type": "stream",
     "text": [
      "node.val: 101\n",
      "node.val: 401\n"
     ]
    }
   ],
   "source": [
    "node = head\n",
    "while node:\n",
    "    print(f'node.val: {node.val}')\n",
    "    node = node.next"
   ]
  },
  {
   "cell_type": "code",
   "execution_count": 40,
   "id": "e3fffdef",
   "metadata": {},
   "outputs": [
    {
     "name": "stdout",
     "output_type": "stream",
     "text": [
      "traverse list:\n",
      "node1.val: 101\n",
      "node1.val: 201\n",
      "node1.val: 401\n"
     ]
    }
   ],
   "source": [
    "arr1 = [101, 201, 401]\n",
    "\n",
    "head1 = None\n",
    "for i in range(len(arr1)-1, -1, -1):\n",
    "    node1 = ListNode(arr1[i])\n",
    "    node1.next = head1\n",
    "    head1 = node1\n",
    "\n",
    "print(f'traverse list:')\n",
    "node1 = head1\n",
    "while node1:\n",
    "    print(f'node1.val: {node1.val}')\n",
    "    node1 = node1.next"
   ]
  },
  {
   "cell_type": "code",
   "execution_count": 39,
   "id": "87c5bfb0",
   "metadata": {},
   "outputs": [
    {
     "name": "stdout",
     "output_type": "stream",
     "text": [
      "traverse list:\n",
      "node2.val: 101\n",
      "node2.val: 301\n",
      "node2.val: 401\n"
     ]
    }
   ],
   "source": [
    "arr2 = [101, 301, 401]\n",
    "\n",
    "head2 = None\n",
    "for i in range(len(arr2)-1, -1, -1):\n",
    "    node2 = ListNode(arr2[i])\n",
    "    node2.next = head2\n",
    "    head2 = node2\n",
    "\n",
    "print(f'traverse list:')\n",
    "node2 = head2\n",
    "while node2:\n",
    "    print(f'node2.val: {node2.val}')\n",
    "    node2 = node2.next"
   ]
  },
  {
   "cell_type": "code",
   "execution_count": null,
   "id": "0ba1298c",
   "metadata": {},
   "outputs": [],
   "source": [
    "i = 0\n",
    "j = 0\n",
    "while i < len(arr1) and j < len(arr2):\n",
    "    if arr1[i] < arr2[j]:\n",
    "        arr_out.append(arr1[i])\n",
    "        i += 1\n",
    "    else:\n",
    "        arr_out.append(arr2[j])\n",
    "        j += 1\n",
    "\n",
    "if i < len(arr1):\n",
    "    arr_out.extend(arr1[i:])\n",
    "if j < len(arr2):\n",
    "    arr_out.extend(arr2[j:])"
   ]
  },
  {
   "cell_type": "code",
   "execution_count": 44,
   "id": "3fc39da4",
   "metadata": {},
   "outputs": [
    {
     "name": "stdout",
     "output_type": "stream",
     "text": [
      "node1.val > node2.val node2.val: 101\n",
      "node1.val < node2.val node1.val: 101\n",
      "node1.val < node2.val node1.val: 201\n",
      "node1.val > node2.val node2.val: 301\n",
      "node1.val > node2.val node2.val: 401\n",
      "out_arr: [101, 101, 201, 301, 401, 401]\n"
     ]
    }
   ],
   "source": [
    "# comparing linked lists - creating merged array\n",
    "\n",
    "node1 = head1\n",
    "node2 = head2\n",
    "out_arr = []\n",
    "while node1 and node2:\n",
    "    if node1.val < node2.val:\n",
    "        print(f'node1.val < node2.val node1.val: {node1.val}')\n",
    "        out_arr.append(node1.val)\n",
    "        node1 = node1.next\n",
    "    else:\n",
    "        print(f'node1.val > node2.val node2.val: {node2.val}')\n",
    "        out_arr.append(node2.val)\n",
    "        node2 = node2.next\n",
    "\n",
    "if node1:\n",
    "    out_arr.append(node1.val)\n",
    "if node2:\n",
    "    out_arr.append(node2.val)\n",
    "\n",
    "print(f'out_arr: {out_arr}')"
   ]
  },
  {
   "cell_type": "code",
   "execution_count": 1,
   "id": "10e93b53",
   "metadata": {},
   "outputs": [
    {
     "ename": "NameError",
     "evalue": "name 'ListNode' is not defined",
     "output_type": "error",
     "traceback": [
      "\u001b[0;31m---------------------------------------------------------------------------\u001b[0m",
      "\u001b[0;31mNameError\u001b[0m                                 Traceback (most recent call last)",
      "Input \u001b[0;32mIn [1]\u001b[0m, in \u001b[0;36m<cell line: 4>\u001b[0;34m()\u001b[0m\n\u001b[1;32m      3\u001b[0m head1 \u001b[38;5;241m=\u001b[39m \u001b[38;5;28;01mNone\u001b[39;00m\n\u001b[1;32m      4\u001b[0m \u001b[38;5;28;01mfor\u001b[39;00m i \u001b[38;5;129;01min\u001b[39;00m \u001b[38;5;28mrange\u001b[39m(\u001b[38;5;28mlen\u001b[39m(arr1)\u001b[38;5;241m-\u001b[39m\u001b[38;5;241m1\u001b[39m, \u001b[38;5;241m-\u001b[39m\u001b[38;5;241m1\u001b[39m, \u001b[38;5;241m-\u001b[39m\u001b[38;5;241m1\u001b[39m):\n\u001b[0;32m----> 5\u001b[0m     node1 \u001b[38;5;241m=\u001b[39m \u001b[43mListNode\u001b[49m(arr1[i])\n\u001b[1;32m      6\u001b[0m     node1\u001b[38;5;241m.\u001b[39mnext \u001b[38;5;241m=\u001b[39m head1\n\u001b[1;32m      7\u001b[0m     head1 \u001b[38;5;241m=\u001b[39m node1\n",
      "\u001b[0;31mNameError\u001b[0m: name 'ListNode' is not defined"
     ]
    }
   ],
   "source": [
    "arr1 = [101, 201, 401]\n",
    "\n",
    "head1 = None\n",
    "for i in range(len(arr1)-1, -1, -1):\n",
    "    node1 = ListNode(arr1[i])\n",
    "    node1.next = head1\n",
    "    head1 = node1\n",
    "\n",
    "print(f'traverse list:')\n",
    "node1 = head1\n",
    "while node1:\n",
    "    print(f'node1.val: {node1.val}')\n",
    "    node1 = node1.next"
   ]
  },
  {
   "cell_type": "code",
   "execution_count": 49,
   "id": "c2fa6c81",
   "metadata": {},
   "outputs": [
    {
     "name": "stdout",
     "output_type": "stream",
     "text": [
      "traverse list:\n",
      "node2.val: 101\n",
      "node2.val: 301\n",
      "node2.val: 401\n"
     ]
    }
   ],
   "source": [
    "arr2 = [101, 301, 401]\n",
    "\n",
    "head2 = None\n",
    "for i in range(len(arr2)-1, -1, -1):\n",
    "    node2 = ListNode(arr2[i])\n",
    "    node2.next = head2\n",
    "    head2 = node2\n",
    "\n",
    "print(f'traverse list:')\n",
    "node2 = head2\n",
    "while node2:\n",
    "    print(f'node2.val: {node2.val}')\n",
    "    node2 = node2.next"
   ]
  },
  {
   "cell_type": "code",
   "execution_count": 3,
   "id": "79ac0818",
   "metadata": {},
   "outputs": [
    {
     "name": "stdout",
     "output_type": "stream",
     "text": [
      "node.val: 10\n",
      "node.val: 20\n",
      "node.val: 40\n"
     ]
    }
   ],
   "source": [
    "class ListNode:\n",
    "    def __init__(self, val=0, next=None):\n",
    "        self.val = val\n",
    "        self.next = next\n",
    "\n",
    "def arr_to_linked_list(arr):\n",
    "    head = None\n",
    "    for i in range(len(arr)-1, -1, -1):\n",
    "        node = ListNode(arr[i])\n",
    "        node.next = head\n",
    "        head = node\n",
    "    return head\n",
    "\n",
    "def print_linked_list(head):\n",
    "    node = head\n",
    "    while node:\n",
    "        print(f'node.val: {node.val}')\n",
    "        node = node.next\n",
    "\n",
    "arr = [10, 20, 40]\n",
    "head = arr_to_linked_list(arr)\n",
    "print_linked_list(head)"
   ]
  },
  {
   "cell_type": "code",
   "execution_count": 7,
   "id": "3ec12d2a",
   "metadata": {},
   "outputs": [
    {
     "name": "stdout",
     "output_type": "stream",
     "text": [
      "tail.val: 101\n",
      "tail.val: 101\n",
      "tail.val: 201\n",
      "tail.val: 301\n",
      "tail.val: 401\n",
      "\n",
      "node.val: 101\n",
      "node.val: 101\n",
      "node.val: 201\n",
      "node.val: 301\n",
      "node.val: 401\n"
     ]
    }
   ],
   "source": [
    "llist1 = arr_to_linked_list([101, 201, 401])\n",
    "llist2 = arr_to_linked_list([101, 301, 401])\n",
    "\n",
    "head = None\n",
    "tail = None\n",
    "while llist1 and llist2:\n",
    "    if llist1.val < llist2.val:\n",
    "        if head is None:\n",
    "            head = llist1\n",
    "        if tail is not None:\n",
    "            tail.next = llist1\n",
    "        tail = llist1\n",
    "        llist1 = llist1.next\n",
    "        print(f'tail.val: {tail.val}')\n",
    "    else:\n",
    "        if head is None:\n",
    "            head = llist2\n",
    "        if tail is not None:\n",
    "            tail.next = llist2\n",
    "        tail = llist2\n",
    "        llist2 = llist2.next\n",
    "        print(f'tail.val: {tail.val}')\n",
    "\n",
    "print()\n",
    "print_linked_list(head)"
   ]
  },
  {
   "cell_type": "code",
   "execution_count": 9,
   "id": "b5273ee2",
   "metadata": {},
   "outputs": [
    {
     "name": "stdout",
     "output_type": "stream",
     "text": [
      "tail.val: 101\n",
      "tail.val: 101\n",
      "tail.val: 201\n",
      "tail.val: 301\n",
      "tail.val: 401\n",
      "printing merged list\n",
      "node.val: 101\n",
      "node.val: 101\n",
      "node.val: 201\n",
      "node.val: 301\n",
      "node.val: 401\n",
      "node.val: 401\n"
     ]
    }
   ],
   "source": [
    "llist1 = arr_to_linked_list([101, 201, 401])\n",
    "llist2 = arr_to_linked_list([101, 301, 401])\n",
    "\n",
    "head = None\n",
    "tail = None\n",
    "while llist1 and llist2:\n",
    "    if llist1.val < llist2.val:\n",
    "        if head is None:\n",
    "            head = llist1\n",
    "        if tail is not None:\n",
    "            tail.next = llist1\n",
    "        tail = llist1\n",
    "        llist1 = llist1.next\n",
    "        print(f'tail.val: {tail.val}')\n",
    "    else:\n",
    "        if head is None:\n",
    "            head = llist2\n",
    "        if tail is not None:\n",
    "            tail.next = llist2\n",
    "        tail = llist2\n",
    "        llist2 = llist2.next\n",
    "        print(f'tail.val: {tail.val}')\n",
    "\n",
    "if llist1:\n",
    "    if head is None:  # one of the linked lists is empty (list2 in this case)\n",
    "        head = llist1\n",
    "        tail = llist1\n",
    "        llist1 = llist1.next\n",
    "    \n",
    "    while llist1:\n",
    "        tail.next = llist1\n",
    "        llist1 = llist1.next\n",
    "\n",
    "print(f'printing merged list')\n",
    "print_linked_list(head)"
   ]
  },
  {
   "cell_type": "code",
   "execution_count": 19,
   "id": "fed253bb",
   "metadata": {},
   "outputs": [
    {
     "name": "stdout",
     "output_type": "stream",
     "text": [
      "from list2 tail.val: 10\n",
      "from list1 tail.val: 10\n",
      "from list1 tail.val: 20\n",
      "from list2 tail.val: 30\n",
      "from list2 tail.val: 40\n",
      "from list1 tail.val: 40\n",
      "\n",
      "add the rest\n",
      "from list2 tail.val: 50\n",
      "\n",
      "node.val: 10\n",
      "node.val: 10\n",
      "node.val: 20\n",
      "node.val: 30\n",
      "node.val: 40\n",
      "node.val: 40\n"
     ]
    }
   ],
   "source": [
    "llist1 = arr_to_linked_list([10, 20, 40])\n",
    "llist2 = arr_to_linked_list([10, 30, 40, 50, 60])\n",
    "\n",
    "head = None\n",
    "tail = None\n",
    "while llist1 and llist2:\n",
    "    if llist1.val < llist2.val:\n",
    "        if head is None:\n",
    "            head = llist1\n",
    "        if tail is not None:\n",
    "            tail.next = llist1\n",
    "        tail = llist1\n",
    "        llist1 = llist1.next\n",
    "        print(f'from list1 tail.val: {tail.val}')\n",
    "    else:\n",
    "        if head is None:\n",
    "            head = llist2\n",
    "        if tail is not None:\n",
    "            tail.next = llist2\n",
    "        tail = llist2\n",
    "        llist2 = llist2.next\n",
    "        print(f'from list2 tail.val: {tail.val}')\n",
    "\n",
    "print()\n",
    "print(f'add the rest')\n",
    "\n",
    "if llist1:\n",
    "    if head is None:  # one of the linked lists is empty (list2 in this case)\n",
    "        head = llist1\n",
    "        tail = llist1\n",
    "        llist1 = llist1.next\n",
    "    \n",
    "    while llist1:\n",
    "        tail = llist1\n",
    "        tail.next = None\n",
    "        llist1 = llist1.next\n",
    "        print(f'from list1 tail.val: {tail.val}')\n",
    "\n",
    "if llist2:\n",
    "    if head is None:\n",
    "        head = llist2\n",
    "        tail = llist2\n",
    "        llist2 = llist2.next\n",
    "\n",
    "    while llist2:\n",
    "        tail = llist2\n",
    "        tail.next = None\n",
    "        llist2 = llist2.next\n",
    "        print(f'from list2 tail.val: {tail.val}')\n",
    "\n",
    "print()\n",
    "print_linked_list(head)"
   ]
  },
  {
   "cell_type": "code",
   "execution_count": 19,
   "id": "b3b5bb6c",
   "metadata": {},
   "outputs": [
    {
     "name": "stdout",
     "output_type": "stream",
     "text": [
      "from list2 tail.val: 10\n",
      "from list1 tail.val: 10\n",
      "from list1 tail.val: 20\n",
      "from list2 tail.val: 30\n",
      "from list2 tail.val: 40\n",
      "from list1 tail.val: 40\n",
      "\n",
      "add the rest\n",
      "from list2 tail.val: 50\n",
      "\n",
      "node.val: 10\n",
      "node.val: 10\n",
      "node.val: 20\n",
      "node.val: 30\n",
      "node.val: 40\n",
      "node.val: 40\n"
     ]
    }
   ],
   "source": [
    "llist1 = arr_to_linked_list([10, 20, 40])\n",
    "llist2 = arr_to_linked_list([10, 30, 40, 50, 60])\n",
    "\n",
    "head = None\n",
    "tail = None\n",
    "while llist1 and llist2:\n",
    "    if llist1.val < llist2.val:\n",
    "        if head is None:\n",
    "            head = llist1\n",
    "        if tail is not None:\n",
    "            tail.next = llist1\n",
    "        tail = llist1\n",
    "        llist1 = llist1.next\n",
    "        print(f'from list1 tail.val: {tail.val}')\n",
    "    else:\n",
    "        if head is None:\n",
    "            head = llist2\n",
    "        if tail is not None:\n",
    "            tail.next = llist2\n",
    "        tail = llist2\n",
    "        llist2 = llist2.next\n",
    "        print(f'from list2 tail.val: {tail.val}')\n",
    "\n",
    "print()\n",
    "print(f'add the rest')\n",
    "\n",
    "if llist1:\n",
    "    if head is None:  # one of the linked lists is empty (list2 in this case)\n",
    "        head = llist1\n",
    "        tail = llist1\n",
    "        llist1 = llist1.next\n",
    "    \n",
    "    while llist1:\n",
    "        tail = llist1\n",
    "        tail.next = None\n",
    "        llist1 = llist1.next\n",
    "        print(f'from list1 tail.val: {tail.val}')\n",
    "\n",
    "if llist2:\n",
    "    if head is None:\n",
    "        head = llist2\n",
    "        tail = llist2\n",
    "        llist2 = llist2.next\n",
    "\n",
    "    while llist2:\n",
    "        tail = llist2\n",
    "        tail.next = None\n",
    "        llist2 = llist2.next\n",
    "        print(f'from list2 tail.val: {tail.val}')\n",
    "\n",
    "print()\n",
    "print_linked_list(head)"
   ]
  },
  {
   "cell_type": "code",
   "execution_count": 16,
   "id": "ed05c1f4",
   "metadata": {},
   "outputs": [
    {
     "name": "stdout",
     "output_type": "stream",
     "text": [
      "x is None\n"
     ]
    }
   ],
   "source": [
    "x = None\n",
    "if x:\n",
    "    print(f'x not None')\n",
    "else:\n",
    "    print(f'x is None')"
   ]
  },
  {
   "cell_type": "code",
   "execution_count": 2,
   "id": "3bd22db5",
   "metadata": {},
   "outputs": [
    {
     "ename": "NameError",
     "evalue": "name 'head1' is not defined",
     "output_type": "error",
     "traceback": [
      "\u001b[0;31m---------------------------------------------------------------------------\u001b[0m",
      "\u001b[0;31mNameError\u001b[0m                                 Traceback (most recent call last)",
      "Input \u001b[0;32mIn [2]\u001b[0m, in \u001b[0;36m<cell line: 3>\u001b[0;34m()\u001b[0m\n\u001b[1;32m      1\u001b[0m \u001b[38;5;66;03m# starting to merge linked lists\u001b[39;00m\n\u001b[0;32m----> 3\u001b[0m node1 \u001b[38;5;241m=\u001b[39m \u001b[43mhead1\u001b[49m\n\u001b[1;32m      4\u001b[0m node2 \u001b[38;5;241m=\u001b[39m head2\n\u001b[1;32m      5\u001b[0m head3 \u001b[38;5;241m=\u001b[39m \u001b[38;5;28;01mNone\u001b[39;00m\n",
      "\u001b[0;31mNameError\u001b[0m: name 'head1' is not defined"
     ]
    }
   ],
   "source": [
    "# starting to merge linked lists\n",
    "\n",
    "node1 = head1\n",
    "node2 = head2\n",
    "head3 = None\n",
    "while node1 and node2:\n",
    "    if node1.val < node2.val:\n",
    "        node = ListNode(node1.val)\n",
    "        node.next = head3\n",
    "        head3 = node\n",
    "        # increment node1\n",
    "        node1 = node1.next\n",
    "    else:\n",
    "        node = ListNode(node2.val)\n",
    "        node.next = head3\n",
    "        head3 = node\n",
    "        # increment node2\n",
    "        node2 = node2.next\n",
    "\n",
    "assert(False)\n",
    "\n",
    "merged_node = head3\n",
    "while merged_node:\n",
    "    print(f'merged_node.val: {merged_node.val}')\n",
    "    mergged_node = merged_node.next"
   ]
  },
  {
   "cell_type": "code",
   "execution_count": null,
   "id": "b499a0ab",
   "metadata": {},
   "outputs": [],
   "source": [
    "# starting to merge linked lists\n",
    "\n",
    "node1 = head1\n",
    "node2 = head2\n",
    "head3 = None\n",
    "while node1 and node2:\n",
    "    if node1.val < node2.val:\n",
    "        node = ListNode(node1.val)\n",
    "        print(f'node1.val < node2.val node.val: {node.val}') \n",
    "        node.next = head3\n",
    "        print(f'node1.val < node2.val node.next: {node.next}')\n",
    "        head3 = node\n",
    "        # increment node1\n",
    "        node1 = node1.next\n",
    "    else:\n",
    "        node = ListNode(node2.val)\n",
    "        print(f'node1.val > node2.val node.val: {node.val}')\n",
    "        node.next = head3\n",
    "        print(f'node1.val > node2.val node.next: {node.next}')\n",
    "        head3 = node\n",
    "        # increment node2\n",
    "        node2 = node2.next\n",
    "\n",
    "\n",
    "\n",
    "# merged_node = head3\n",
    "# while merged_node:\n",
    "#     print(f'merged_node.val: {merged_node.val}')\n",
    "#     mergged_node = merged_node.next"
   ]
  }
 ],
 "metadata": {
  "kernelspec": {
   "display_name": "Python 3 (ipykernel)",
   "language": "python",
   "name": "python3"
  },
  "language_info": {
   "codemirror_mode": {
    "name": "ipython",
    "version": 3
   },
   "file_extension": ".py",
   "mimetype": "text/x-python",
   "name": "python",
   "nbconvert_exporter": "python",
   "pygments_lexer": "ipython3",
   "version": "3.9.12"
  }
 },
 "nbformat": 4,
 "nbformat_minor": 5
}
