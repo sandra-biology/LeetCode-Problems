{
 "cells": [
  {
   "cell_type": "code",
   "execution_count": 6,
   "metadata": {},
   "outputs": [
    {
     "name": "stdout",
     "output_type": "stream",
     "text": [
      "res = False\n"
     ]
    }
   ],
   "source": [
    "class ListNode:\n",
    "    def __init__(self, x):\n",
    "        self.val = x\n",
    "        self.next = None\n",
    "\n",
    "class Solution:\n",
    "    def hasCycle(self, head: ListNode) -> bool:\n",
    "        node_set = set()\n",
    "        \n",
    "        node = head\n",
    "        while node:\n",
    "            if node in node_set:\n",
    "                return True\n",
    "            else:\n",
    "                node_set.add(node)\n",
    "                node = node.next\n",
    "        \n",
    "        return False\n",
    "\n",
    "solution = Solution()\n",
    "\n",
    "\"\"\"list without loop\n",
    "\"\"\"\n",
    "\n",
    "head = None\n",
    "node = ListNode(-4)\n",
    "node.next = head\n",
    "head = node\n",
    "\n",
    "node = ListNode(0)\n",
    "node.next = head\n",
    "head = node\n",
    "\n",
    "node = ListNode(2)\n",
    "node.next = head\n",
    "head = node\n",
    "\n",
    "node = ListNode(3)\n",
    "node.next = head\n",
    "head = node\n",
    "\n",
    "res = solution.hasCycle(head)\n",
    "print(f\"res = {res}\")"
   ]
  },
  {
   "cell_type": "markdown",
   "metadata": {},
   "source": [
    "### Submission\n",
    "\n",
    "Accepted by LeetCode: Runtime: 48 ms, faster than 65.63% of Python3 online submissions for Linked List Cycle.  \n",
    "                      Memory Usage: 17.3 MB, less than 100.00% of Python3 online submissions for Linked List Cycle."
   ]
  },
  {
   "cell_type": "code",
   "execution_count": 5,
   "metadata": {},
   "outputs": [
    {
     "name": "stdout",
     "output_type": "stream",
     "text": [
      "res = True\n"
     ]
    }
   ],
   "source": [
    "class ListNode:\n",
    "    def __init__(self, x):\n",
    "        self.val = x\n",
    "        self.next = None\n",
    "\n",
    "class Solution:\n",
    "    def hasCycle(self, head: ListNode) -> bool:\n",
    "        node_set = set()\n",
    "        \n",
    "        node = head\n",
    "        while node:\n",
    "            if node in node_set:\n",
    "                return True\n",
    "            else:\n",
    "                node_set.add(node)\n",
    "                node = node.next\n",
    "        \n",
    "        return False\n",
    "\n",
    "solution = Solution()\n",
    "\n",
    "\"\"\"list with loop\n",
    "\"\"\"\n",
    "\n",
    "head = None\n",
    "node_tail = ListNode(-4)  # future tail\n",
    "node_tail.next = head\n",
    "head = node_tail\n",
    "\n",
    "node1 = ListNode(0)\n",
    "node1.next = head\n",
    "head = node1\n",
    "\n",
    "node2 = ListNode(2)\n",
    "node2.next = head\n",
    "head = node2\n",
    "\n",
    "node3 = ListNode(3)\n",
    "node3.next = head\n",
    "head = node3\n",
    "\n",
    "# create a loop\n",
    "node_tail.next = node2\n",
    "\n",
    "res = solution.hasCycle(head)\n",
    "print(f\"res = {res}\")"
   ]
  }
 ],
 "metadata": {
  "kernelspec": {
   "display_name": "Python 3",
   "language": "python",
   "name": "python3"
  },
  "language_info": {
   "codemirror_mode": {
    "name": "ipython",
    "version": 3
   },
   "file_extension": ".py",
   "mimetype": "text/x-python",
   "name": "python",
   "nbconvert_exporter": "python",
   "pygments_lexer": "ipython3",
   "version": "3.6.1"
  }
 },
 "nbformat": 4,
 "nbformat_minor": 2
}
