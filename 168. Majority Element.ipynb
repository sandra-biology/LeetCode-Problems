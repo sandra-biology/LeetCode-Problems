{
 "cells": [
  {
   "cell_type": "code",
   "execution_count": 1,
   "metadata": {},
   "outputs": [
    {
     "name": "stdout",
     "output_type": "stream",
     "text": [
      "2\n"
     ]
    }
   ],
   "source": [
    "from collections import Counter\n",
    "\n",
    "nums = [2,2,1,1,1,2,2]\n",
    "n = len(nums)\n",
    "count = Counter(nums)\n",
    "for k, v in count.items():\n",
    "    if v > n//2:\n",
    "        print(k)"
   ]
  },
  {
   "cell_type": "markdown",
   "metadata": {},
   "source": [
    "### Submission Accepted\n",
    "\n",
    "Runtime: 172 ms, faster than 80.68% of Python3 online submissions for Majority Element.  \n",
    "Memory Usage: 15.4 MB, less than 7.14% of Python3 online submissions for Majority Element."
   ]
  },
  {
   "cell_type": "code",
   "execution_count": 4,
   "metadata": {},
   "outputs": [
    {
     "data": {
      "text/plain": [
       "3"
      ]
     },
     "execution_count": 4,
     "metadata": {},
     "output_type": "execute_result"
    }
   ],
   "source": [
    "from collections import Counter\n",
    "from typing import List\n",
    "\n",
    "class Solution:\n",
    "    def majorityElement(self, nums: List[int]) -> int:\n",
    "        n = len(nums)\n",
    "        count = Counter(nums)\n",
    "        for k, v in count.items():\n",
    "            if v > n//2:\n",
    "                return k\n",
    "\n",
    "solution = Solution()\n",
    "# nums = [2,2,1,1,1,2,2]\n",
    "nums = [3, 2, 3]\n",
    "solution.majorityElement(nums)"
   ]
  }
 ],
 "metadata": {
  "kernelspec": {
   "display_name": "Python 3",
   "language": "python",
   "name": "python3"
  },
  "language_info": {
   "codemirror_mode": {
    "name": "ipython",
    "version": 3
   },
   "file_extension": ".py",
   "mimetype": "text/x-python",
   "name": "python",
   "nbconvert_exporter": "python",
   "pygments_lexer": "ipython3",
   "version": "3.6.1"
  }
 },
 "nbformat": 4,
 "nbformat_minor": 2
}
