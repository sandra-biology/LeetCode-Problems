{
 "cells": [
  {
   "cell_type": "code",
   "execution_count": 20,
   "metadata": {},
   "outputs": [
    {
     "name": "stdout",
     "output_type": "stream",
     "text": [
      "test for all positive: False\n",
      "test for all negative: False\n"
     ]
    }
   ],
   "source": [
    "nums = [-2,1,-3,4,-1,2,1,-5,4]\n",
    "        \n",
    "print(\"test for all positive:\", all(i > 0 for i in nums))\n",
    "print(\"test for all negative:\", all(i < 0 for i in nums))\n",
    "\n",
    "if all(i > 0 for i in nums):\n",
    "    max_sum = sum(nums)\n",
    "for i in range(len(nums)):\n",
    "    pass\n",
    "if all(i < 0 for i in nums):\n",
    "    max_sum = max(nums)"
   ]
  },
  {
   "cell_type": "code",
   "execution_count": 20,
   "metadata": {},
   "outputs": [
    {
     "name": "stdout",
     "output_type": "stream",
     "text": [
      "6\n"
     ]
    }
   ],
   "source": [
    "# brute force algorithm; code works,but exceeds time limits (which we expect with brute force)\n",
    "\n",
    "def maxSubArray(nums):\n",
    "    \"\"\"\n",
    "    Brute Force Algorithm. Function takes array (nums), finds a subarray of adjacent numbers that\n",
    "    gives the largest sum. It then returns that sum.\n",
    "    \"\"\"\n",
    "    sum_max = nums[0]\n",
    "    for i in range(len(nums)):\n",
    "        for j in range(i, len(nums)):\n",
    "            sum_curr = sum(nums[i:j+1])\n",
    "            if sum_curr > sum_max:\n",
    "                sum_max = sum_curr\n",
    "    return sum_max\n",
    "\n",
    "nums = [-2, 1, -3, 4, -1, 2, 1, -5, 4]\n",
    "# nums = [-1]\n",
    "# nums = [-2, 1]\n",
    "resulting_sum = maxSubArray(nums)\n",
    "print(resulting_sum)"
   ]
  },
  {
   "cell_type": "markdown",
   "metadata": {},
   "source": [
    "### First submission that passes time constrains\n",
    "Accepted by LeetCode: Runtime: 64 ms, faster than 81.13% of Python3 submissions\n",
    "                      Memory Usage: 14.5 MB, less than 5.69% of Python3 submissions"
   ]
  },
  {
   "cell_type": "code",
   "execution_count": 7,
   "metadata": {},
   "outputs": [
    {
     "data": {
      "text/plain": [
       "6"
      ]
     },
     "execution_count": 7,
     "metadata": {},
     "output_type": "execute_result"
    }
   ],
   "source": [
    "from typing import List\n",
    "\n",
    "class Solution:\n",
    "    def maxSubArray(self, nums: List[int]) -> int:\n",
    "        sum_max = nums[0]\n",
    "        sum_curr = 0\n",
    "        sum_neg = 0\n",
    "        for i in range(len(nums)):\n",
    "            if nums[i] < 0:\n",
    "                if nums[i] > sum_max:\n",
    "                    sum_max = nums[i]\n",
    "\n",
    "                sum_neg += nums[i]\n",
    "\n",
    "            if nums[i] >= 0:\n",
    "                # check if prev number was negative\n",
    "                if sum_neg < 0:\n",
    "                    # we have to decide: continue the previous chain or start new chain\n",
    "                    if sum_curr + sum_neg >= 0:\n",
    "                        # continue the current chain\n",
    "                        sum_curr += sum_neg\n",
    "                    else:\n",
    "                        # create a new chain\n",
    "                        sum_curr = 0\n",
    "\n",
    "                sum_curr += nums[i]\n",
    "                if sum_curr > sum_max:\n",
    "                    sum_max = sum_curr\n",
    "                sum_neg = 0  # reset the sum of negative numbers\n",
    "\n",
    "        return sum_max\n",
    "\n",
    "solution = Solution()\n",
    "nums = [-2, 1, -3, 4, -1, 2, 1, -5, 4]\n",
    "# nums = [1, -3, 4, -1, 2, 1, -5, 4]\n",
    "# nums = [-2, -1]\n",
    "# nums = [-2, 1]\n",
    "# nums = [1,2,8,-6,-4,8,3,1,-7,7,6,4,-1,9,2,-8,8]\n",
    "solution.maxSubArray(nums)"
   ]
  },
  {
   "cell_type": "code",
   "execution_count": 8,
   "metadata": {},
   "outputs": [
    {
     "data": {
      "text/plain": [
       "6"
      ]
     },
     "execution_count": 8,
     "metadata": {},
     "output_type": "execute_result"
    }
   ],
   "source": [
    "from typing import List\n",
    "\n",
    "class Solution:\n",
    "    def maxSubArray(self, nums: List[int]) -> int:\n",
    "        sum_max = nums[0]\n",
    "        sum_curr = 0\n",
    "        sum_neg = 0\n",
    "\n",
    "        for i in range(len(nums)):\n",
    "            if nums[i] >= 0:\n",
    "                # check if prev number was negative\n",
    "                if sum_neg < 0:\n",
    "                    # we have to decide: continue the previous chain or start new chain\n",
    "                    if sum_curr + sum_neg >= 0:\n",
    "                        # continue the current chain\n",
    "                        sum_curr += sum_neg\n",
    "                    else:\n",
    "                        # create a new chain\n",
    "                        sum_curr = 0\n",
    "\n",
    "                sum_curr += nums[i]\n",
    "                if sum_curr > sum_max:\n",
    "                    sum_max = sum_curr\n",
    "                sum_neg = 0  # reset the sum of negative numbers\n",
    "\n",
    "            if nums[i] < 0:\n",
    "                if nums[i] > sum_max:\n",
    "                    sum_max = nums[i]\n",
    "\n",
    "                sum_neg += nums[i]\n",
    "\n",
    "        return sum_max\n",
    "\n",
    "solution = Solution()\n",
    "nums = [-2, 1, -3, 4, -1, 2, 1, -5, 4]\n",
    "# nums = [1, -3, 4, -1, 2, 1, -5, 4]\n",
    "# nums = [-2, -1]\n",
    "# nums = [-2, 1]\n",
    "# nums = [1,2,8,-6,-4,8,3,1,-7,7,6,4,-1,9,2,-8,8]\n",
    "solution.maxSubArray(nums)"
   ]
  },
  {
   "cell_type": "markdown",
   "metadata": {},
   "source": [
    "### Kadane's alogrithm\n",
    "Accepted by LeetCode: Runtime: 68 ms, faster than 58.92% of Python3 submissions\n",
    "                      Memory Usage: 14.3 MB, less than 5.69% of Python3 submissions"
   ]
  },
  {
   "cell_type": "code",
   "execution_count": 32,
   "metadata": {},
   "outputs": [
    {
     "data": {
      "text/plain": [
       "-1"
      ]
     },
     "execution_count": 32,
     "metadata": {},
     "output_type": "execute_result"
    }
   ],
   "source": [
    "# Kadane's algorithm\n",
    "\"\"\"\n",
    "Initialize:\n",
    "    max_so_far = 0 keeps track of max sum contiguous numbers among positives\n",
    "    max_ending_here = 0 looks for all positive contiguous numbers\n",
    "\n",
    "Loop for each element of the array\n",
    "  (a) max_ending_here = max_ending_here + a[i]\n",
    "  (b) if(max_ending_here < 0)\n",
    "            max_ending_here = 0\n",
    "  (c) if(max_so_far < max_ending_here)\n",
    "            max_so_far = max_ending_here\n",
    "return max_so_far\n",
    "\"\"\"\n",
    "\n",
    "\"\"\"\n",
    "Simple idea of the Kadane’s algorithm is to look for all positive contiguous\n",
    "segments of the array (max_ending_here is used for this). And keep track of\n",
    "maximum sum contiguous segment among all positive segments (max_so_far is\n",
    "used for this). Each time we get a positive sum compare it with max_so_far and\n",
    "update max_so_far if it is greater than max_so_far\n",
    "\"\"\"\n",
    "def maxSubArray(nums):\n",
    "    max_so_far = 0\n",
    "    max_ending_here = 0   \n",
    "    max_element = nums[0]\n",
    "    for i in range(len(nums)):\n",
    "        if nums[i] > max_element:\n",
    "            max_element = nums[i]\n",
    "\n",
    "        max_ending_here += nums[i]\n",
    "        if max_ending_here < 0:\n",
    "            max_ending_here = 0\n",
    "        if max_so_far < max_ending_here:\n",
    "            max_so_far = max_ending_here\n",
    "\n",
    "    if max_element < 0: # all array elements < 0\n",
    "        return max_element\n",
    "\n",
    "    return max_so_far\n",
    "\n",
    "# nums = [-2, 1, -3, 4, -1, 2, 1, -5, 4]\n",
    "# nums  = [-1]\n",
    "# nums = [1,2,8,-6,-4,8,3,1,-7,7,6,4,-1,9,2,-8,8]\n",
    "# nums = [100, 100, 100, -1, 100]\n",
    "# nums = [-2, 1]\n",
    "nums = [-2, -1]\n",
    "maxSubArray(nums)"
   ]
  },
  {
   "cell_type": "markdown",
   "metadata": {},
   "source": [
    "### Comparing elements only when max_ending_here is less than 0\n",
    "Accepted by LeetCode: Runtime: 68 ms, faster than 58.92% of Python3 submissions\n",
    "                      Memory Usage: 14.5 MB, less than 5.69% of Python3 submissions"
   ]
  },
  {
   "cell_type": "code",
   "execution_count": 37,
   "metadata": {},
   "outputs": [
    {
     "data": {
      "text/plain": [
       "-1"
      ]
     },
     "execution_count": 37,
     "metadata": {},
     "output_type": "execute_result"
    }
   ],
   "source": [
    "def maxSubArray(nums): \n",
    "    max_so_far = 0\n",
    "    max_ending_here = 0\n",
    "    max_element = nums[0]\n",
    "    for i in range(len(nums)):\n",
    "        if nums[i] > max_element:\n",
    "            max_element = nums[i]\n",
    "\n",
    "        max_ending_here += nums[i] \n",
    "        if max_ending_here < 0: \n",
    "            max_ending_here = 0\n",
    "          \n",
    "        # Do not compare for all elements. Compare only    \n",
    "        # when  max_ending_here > 0 \n",
    "        elif max_so_far < max_ending_here: \n",
    "            max_so_far = max_ending_here \n",
    "\n",
    "    if max_element < 0:\n",
    "        return max_element\n",
    "\n",
    "    return max_so_far\n",
    "\n",
    "nums = [-2, -1]\n",
    "maxSubArray(nums)"
   ]
  },
  {
   "cell_type": "markdown",
   "metadata": {},
   "source": [
    "### Final submission\n",
    "Accepted by LeetCode: Runtime: 60 ms, faster than 93.52% of Python3 submissions\n",
    "                      Memory Usage: 14.6 MB, less than 5.69% of Python3 submissions"
   ]
  },
  {
   "cell_type": "code",
   "execution_count": 36,
   "metadata": {},
   "outputs": [
    {
     "data": {
      "text/plain": [
       "-1"
      ]
     },
     "execution_count": 36,
     "metadata": {},
     "output_type": "execute_result"
    }
   ],
   "source": [
    "def maxSubArray(nums):\n",
    "    \"\"\"Find the largest sum of any contiguous subarray.\"\"\"\n",
    "    # best_sum = 0  # or: float('-inf')\n",
    "    best_sum = float('-inf')\n",
    "    current_sum = 0\n",
    "    for x in nums:\n",
    "        current_sum = max(x, current_sum + x)\n",
    "        best_sum = max(best_sum, current_sum)\n",
    "    return best_sum\n",
    "\n",
    "# nums = [-2, 1, -3, 4, -1, 2, 1, -5, 4]\n",
    "# nums  = [-1]\n",
    "# nums = [1,2,8,-6,-4,8,3,1,-7,7,6,4,-1,9,2,-8,8]\n",
    "# nums = [100, 100, 100, -1, 100]\n",
    "# nums = [-2, 1]\n",
    "nums = [-2, -1]\n",
    "maxSubArray(nums)"
   ]
  }
 ],
 "metadata": {
  "kernelspec": {
   "display_name": "Python 3",
   "language": "python",
   "name": "python3"
  },
  "language_info": {
   "codemirror_mode": {
    "name": "ipython",
    "version": 3
   },
   "file_extension": ".py",
   "mimetype": "text/x-python",
   "name": "python",
   "nbconvert_exporter": "python",
   "pygments_lexer": "ipython3",
   "version": "3.6.1"
  }
 },
 "nbformat": 4,
 "nbformat_minor": 2
}
