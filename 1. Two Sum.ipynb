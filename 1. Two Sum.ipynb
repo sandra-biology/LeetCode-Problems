{
 "cells": [
  {
   "cell_type": "code",
   "execution_count": 1,
   "metadata": {},
   "outputs": [
    {
     "name": "stdout",
     "output_type": "stream",
     "text": [
      "20 60\n"
     ]
    }
   ],
   "source": [
    "def find_sum_components(lst, total):\n",
    "    for i1 in range(len(lst)):\n",
    "        for i2 in range(i1+1, len(lst)):\n",
    "            tot = lst[i1] + lst[i2]\n",
    "            if tot == total:\n",
    "                return lst[i1], lst[i2]\n",
    "    return None, None\n",
    "\n",
    "lst = [50, 10, 20, 20, 60, 60, 40, 40, 31]\n",
    "total = 80\n",
    "\n",
    "i1, i2 = find_sum_components(lst, total)\n",
    "print(i1, i2)"
   ]
  },
  {
   "cell_type": "markdown",
   "metadata": {},
   "source": [
    "### Working Solution, but exceeds time limit\n",
    "Accepted by LeetCode: 6432 ms, 14.6 MB"
   ]
  },
  {
   "cell_type": "code",
   "execution_count": 2,
   "metadata": {},
   "outputs": [
    {
     "name": "stdout",
     "output_type": "stream",
     "text": [
      "numbers = (2, 4)\n"
     ]
    }
   ],
   "source": [
    "# working solution, but exceeds time limit\n",
    "\n",
    "from typing import List\n",
    "\n",
    "class Solution:\n",
    "    def twoSum(self, nums: List[int], target: int) -> List[int]:\n",
    "        for i1 in range(len(nums)):\n",
    "            for i2 in range(i1+1, len(nums)):\n",
    "                total = nums[i1] + nums[i2]\n",
    "                if total == target:\n",
    "                    return i1, i2\n",
    "        return None, None\n",
    "\n",
    "solution = Solution()\n",
    "\n",
    "nums = [50, 10, 20, 20, 60, 60, 40, 40, 31]\n",
    "target = 80\n",
    "\n",
    "numbers = solution.twoSum(nums, target)\n",
    "print(f\"numbers = {numbers}\")"
   ]
  },
  {
   "cell_type": "markdown",
   "metadata": {},
   "source": [
    "### Final version\n",
    "\n",
    "Using dictionary\n",
    "\n",
    "Accepted by LeetCode: Runtime 48 ms, Memory 15.3 MB"
   ]
  },
  {
   "cell_type": "code",
   "execution_count": 5,
   "metadata": {},
   "outputs": [
    {
     "name": "stdout",
     "output_type": "stream",
     "text": [
      "(4, 2)\n"
     ]
    }
   ],
   "source": [
    "# working code, using dictionary\n",
    "\n",
    "from typing import List\n",
    "\n",
    "class Solution:\n",
    "    def twoSum(self, nums: List[int], target: int) -> List[int]:\n",
    "        \n",
    "        dct = {}  # key is component, value is index of the complement\n",
    "        \n",
    "        for i in range(len(nums)):\n",
    "            complement = target - nums[i]\n",
    "            if complement in dct:\n",
    "                return i, dct[complement]\n",
    "            else:\n",
    "                # dct[complement] = i\n",
    "                dct[nums[i]] = i\n",
    "            # print(f\"nums[{i}] = {nums[i]}, {dct}\") # print greatly slows down execution\n",
    "        return None, None\n",
    "\n",
    "solution = Solution()\n",
    "\n",
    "nums = [50, 10, 20, 21, 60, 40, 41, 31]\n",
    "target = 80\n",
    "\n",
    "numbers = solution.twoSum(nums, target)\n",
    "print(numbers)"
   ]
  }
 ],
 "metadata": {
  "kernelspec": {
   "display_name": "Python 3",
   "language": "python",
   "name": "python3"
  },
  "language_info": {
   "codemirror_mode": {
    "name": "ipython",
    "version": 3
   },
   "file_extension": ".py",
   "mimetype": "text/x-python",
   "name": "python",
   "nbconvert_exporter": "python",
   "pygments_lexer": "ipython3",
   "version": "3.6.1"
  }
 },
 "nbformat": 4,
 "nbformat_minor": 2
}
