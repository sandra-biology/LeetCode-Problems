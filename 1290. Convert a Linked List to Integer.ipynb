{
 "cells": [
  {
   "cell_type": "code",
   "execution_count": 2,
   "metadata": {
    "collapsed": true
   },
   "outputs": [],
   "source": [
    "class ListNode:\n",
    "    def __init__(self, val=0, next=None):\n",
    "        self.val = val\n",
    "        self.next = next\n",
    "\n",
    "class Solution:\n",
    "    def getDecimalValue(self, head: ListNode) -> int:\n",
    "        pass"
   ]
  },
  {
   "cell_type": "code",
   "execution_count": 4,
   "metadata": {},
   "outputs": [
    {
     "name": "stdout",
     "output_type": "stream",
     "text": [
      "node.val = 1\n",
      "node.val = 0\n",
      "node.val = 1\n"
     ]
    }
   ],
   "source": [
    "head = None\n",
    "\n",
    "node = ListNode(1)\n",
    "node.next = head\n",
    "head = node\n",
    "\n",
    "node = ListNode(0)\n",
    "node.next = head\n",
    "head = node\n",
    "\n",
    "node = ListNode(1)\n",
    "node.next = head\n",
    "head = node\n",
    "\n",
    "node = head\n",
    "while node:\n",
    "    print(f\"node.val = {node.val}\")\n",
    "    node = node.next"
   ]
  },
  {
   "cell_type": "code",
   "execution_count": 5,
   "metadata": {},
   "outputs": [
    {
     "name": "stdout",
     "output_type": "stream",
     "text": [
      "num_base_two = [1, 0, 1]\n"
     ]
    }
   ],
   "source": [
    "num_base_two = []\n",
    "node = head\n",
    "while node:\n",
    "    num_base_two.append(node.val)\n",
    "    node = node.next\n",
    "print(f\"num_base_two = {num_base_two}\")"
   ]
  },
  {
   "cell_type": "code",
   "execution_count": 9,
   "metadata": {},
   "outputs": [
    {
     "name": "stdout",
     "output_type": "stream",
     "text": [
      "num_base_ten = [1, 2, 0, 32]\n"
     ]
    }
   ],
   "source": [
    "# convert numbers in num_base_two to base 10\n",
    "num_base_ten = []\n",
    "power2 = 1\n",
    "for i in range(len(num_base_two)-1, -1, -1):\n",
    "    if i == len(num_base_two) - 1:\n",
    "        num_base_ten.append(num_base_two[i])\n",
    "    num_base_ten.append(num_base_two[i] * power2)\n",
    "    power2 *= 2\n",
    "print(f\"num_base_ten = {num_base_ten}\")"
   ]
  },
  {
   "cell_type": "code",
   "execution_count": null,
   "metadata": {
    "collapsed": true
   },
   "outputs": [],
   "source": [
    "# add all numbers in num_base_ten and print sum\n",
    "#print(sum(num_base_ten)"
   ]
  },
  {
   "cell_type": "code",
   "execution_count": 11,
   "metadata": {},
   "outputs": [
    {
     "name": "stdout",
     "output_type": "stream",
     "text": [
      "i = 2\n",
      "i = 1\n",
      "i = 0\n",
      "num_base_ten = 6\n"
     ]
    }
   ],
   "source": [
    "# convert numbers in num_base_two to base 10, adding base 10 numbers as we go\n",
    "num_base_ten = num_base_two[0]\n",
    "power2 = 1\n",
    "for i in range(len(num_base_two)-1, -1, -1):\n",
    "    print(f\"i = {i}\")\n",
    "    num_base_ten += num_base_two[i] * power2\n",
    "    power2 *= 2\n",
    "print(f\"num_base_ten = {num_base_ten}\")"
   ]
  },
  {
   "cell_type": "code",
   "execution_count": 6,
   "metadata": {},
   "outputs": [
    {
     "name": "stdout",
     "output_type": "stream",
     "text": [
      "initial num_base_ten = 1\n",
      "i = 2\n",
      "temp = 1\n",
      "i = 1\n",
      "temp = 0\n",
      "i = 0\n",
      "temp = 4\n",
      "num_base_ten = 6\n"
     ]
    }
   ],
   "source": [
    "# convert numbers in num_base_two to base 10, adding base 10 numbers as we go\n",
    "num_base_ten = num_base_two[-1]\n",
    "print(f\"initial num_base_ten = {num_base_ten}\")\n",
    "power2 = 1\n",
    "for i in range(len(num_base_two) - 1, -1, -1):\n",
    "    print(f\"i = {i}\")\n",
    "    temp = num_base_two[i] * power2\n",
    "    print(f\"temp = {temp}\")\n",
    "    num_base_ten += temp\n",
    "    power2 *= 2\n",
    "print(f\"num_base_ten = {num_base_ten}\")"
   ]
  },
  {
   "cell_type": "code",
   "execution_count": 16,
   "metadata": {},
   "outputs": [
    {
     "name": "stdout",
     "output_type": "stream",
     "text": [
      "initial num_base_ten = 0\n",
      "i = 2\n",
      "temp = 1\n",
      "i = 1\n",
      "temp = 0\n",
      "i = 0\n",
      "temp = 4\n",
      "num_base_ten = 5\n"
     ]
    }
   ],
   "source": [
    "# convert numbers in num_base_two to base 10, adding base 10 numbers as we go\n",
    "# num_base_ten = num_base_two[0]\n",
    "num_base_ten = 0\n",
    "print(f\"initial num_base_ten = {num_base_ten}\")\n",
    "power2 = 1\n",
    "for i in range(len(num_base_two) - 1, -1, -1):\n",
    "    print(f\"i = {i}\")\n",
    "    temp = num_base_two[i] * power2\n",
    "    print(f\"temp = {temp}\")\n",
    "    num_base_ten += temp\n",
    "    power2 *= 2\n",
    "print(f\"num_base_ten = {num_base_ten}\")"
   ]
  },
  {
   "cell_type": "code",
   "execution_count": 17,
   "metadata": {
    "collapsed": true
   },
   "outputs": [],
   "source": [
    "head = [1,0,0,1,0,0,1,1,1,0,0,0,0,0,0]\n",
    "\n",
    "head = None\n",
    "\n",
    "node = ListNode(0)\n",
    "node.next = head\n",
    "head = node\n",
    "\n",
    "node = ListNode(0)\n",
    "node.next = head\n",
    "head = node\n",
    "\n",
    "node = ListNode(0)\n",
    "node.next = head\n",
    "head = node\n",
    "\n",
    "node = ListNode(0)\n",
    "node.next = head\n",
    "head = node\n",
    "\n",
    "node = ListNode(0)\n",
    "node.next = head\n",
    "head = node\n",
    "\n",
    "node = ListNode(0)\n",
    "node.next = head\n",
    "head = node\n",
    "\n",
    "node = ListNode(1)\n",
    "node.next = head\n",
    "head = node\n",
    "\n",
    "node = ListNode(1)\n",
    "node.next = head\n",
    "head = node\n",
    "\n",
    "node = ListNode(1)\n",
    "node.next = head\n",
    "head = node\n",
    "\n",
    "node = ListNode(0)\n",
    "node.next = head\n",
    "head = node\n",
    "\n",
    "node = ListNode(0)\n",
    "node.next = head\n",
    "head = node\n",
    "\n",
    "node = ListNode(1)\n",
    "node.next = head\n",
    "head = node\n",
    "\n",
    "node = ListNode(0)\n",
    "node.next = head\n",
    "head = node\n",
    "\n",
    "node = ListNode(0)\n",
    "node.next = head\n",
    "head = node\n",
    "\n",
    "node = ListNode(1)\n",
    "node.next = head\n",
    "head = node"
   ]
  },
  {
   "cell_type": "code",
   "execution_count": 18,
   "metadata": {},
   "outputs": [
    {
     "name": "stdout",
     "output_type": "stream",
     "text": [
      "num_two = [1, 0, 0, 1, 0, 0, 1, 1, 1, 0, 0, 0, 0, 0, 0]\n",
      "num_ten = 18880\n"
     ]
    }
   ],
   "source": [
    "num_two = []\n",
    "node = head\n",
    "while node:\n",
    "    num_two.append(node.val)\n",
    "    node = node.next\n",
    "\n",
    "print(f\"num_two = {num_two}\")\n",
    "\n",
    "power2 = 1\n",
    "num_ten = 0\n",
    "for i in range(len(num_two) -1, -1, -1):\n",
    "    temp_num = num_two[i] * power2\n",
    "    num_ten += temp_num\n",
    "    power2 *= 2\n",
    "\n",
    "print(f\"num_ten = {num_ten}\")"
   ]
  },
  {
   "cell_type": "code",
   "execution_count": 19,
   "metadata": {},
   "outputs": [
    {
     "name": "stdout",
     "output_type": "stream",
     "text": [
      "num_two = [1]\n",
      "num_ten = 1\n"
     ]
    }
   ],
   "source": [
    "head = None\n",
    "\n",
    "node = ListNode(1)\n",
    "node.next = head\n",
    "head = node\n",
    "\n",
    "num_two = []\n",
    "node = head\n",
    "while node:\n",
    "    num_two.append(node.val)\n",
    "    node = node.next\n",
    "\n",
    "print(f\"num_two = {num_two}\")\n",
    "\n",
    "power2 = 1\n",
    "num_ten = 0\n",
    "for i in range(len(num_two) - 1, -1, -1):\n",
    "    temp_num = num_two[i] * power2\n",
    "    num_ten += temp_num\n",
    "    power2 *= 2\n",
    "\n",
    "print(f\"num_ten = {num_ten}\")"
   ]
  },
  {
   "cell_type": "markdown",
   "metadata": {},
   "source": [
    "### First submission\n",
    "\n",
    "Accepted by LeetCode: Runtime: 28 ms, faster than 74.71% of Python3 online submissions for Convert Binary Number in a Linked List to Integer.  \n",
    "Memory Usage: 13.9 MB, less than 100.00% of Python3 online submissions for Convert Binary Number in a Linked List to Integer."
   ]
  },
  {
   "cell_type": "code",
   "execution_count": 2,
   "metadata": {},
   "outputs": [
    {
     "name": "stdout",
     "output_type": "stream",
     "text": [
      "1\n"
     ]
    }
   ],
   "source": [
    "class ListNode:\n",
    "    def __init__(self, val=0, next=None):\n",
    "        self.val = val\n",
    "        self.next = next\n",
    "\n",
    "class Solution:\n",
    "    def getDecimalValue(self, head: ListNode) -> int:\n",
    "        num_two_list = []\n",
    "        \n",
    "        node = head\n",
    "        while node:\n",
    "            num_two_list.append(node.val)\n",
    "            node = node.next\n",
    "\n",
    "        power2 = 1\n",
    "        num_ten = 0\n",
    "        for i in range(len(num_two_list) - 1, -1, -1):\n",
    "            num_ten += num_two_list[i] * power2\n",
    "            power2 *= 2\n",
    "        \n",
    "        return num_ten\n",
    "\n",
    "head = None\n",
    "\n",
    "node = ListNode(1)\n",
    "node.next = head\n",
    "head = node\n",
    "\n",
    "solution = Solution()\n",
    "res = solution.getDecimalValue(head)\n",
    "print(res)"
   ]
  },
  {
   "cell_type": "code",
   "execution_count": 13,
   "metadata": {},
   "outputs": [
    {
     "name": "stdout",
     "output_type": "stream",
     "text": [
      "range = [2, 1, 0]\n",
      "num_ten = 5\n"
     ]
    }
   ],
   "source": [
    "#    0  1  2  3\n",
    "a = [1, 0, 1, 1]\n",
    "n = a[-1]\n",
    "factor = 1\n",
    "\n",
    "print(f\"range = {list(range(len(a) - 2, -1, -1))}\")\n",
    "\n",
    "num_two = [1, 0, 1]\n",
    "power = 2\n",
    "num_ten = num_two[-1]\n",
    "for i in range(len(num_two) - 2, -1, -1):\n",
    "    num_ten += num_two[i] * power\n",
    "    power *= 2\n",
    "print(f\"num_ten = {num_ten}\")"
   ]
  },
  {
   "cell_type": "code",
   "execution_count": 14,
   "metadata": {},
   "outputs": [
    {
     "name": "stdout",
     "output_type": "stream",
     "text": [
      "num_ten = 18880\n"
     ]
    }
   ],
   "source": [
    "num_two = [1, 0, 0, 1, 0, 0, 1, 1, 1, 0, 0, 0, 0, 0, 0]\n",
    "power2 = 2\n",
    "num_ten = num_two[-1]\n",
    "for i in range(len(num_two) - 2, -1, -1):\n",
    "    num_ten += num_two[i] * power2\n",
    "    power2 *= 2\n",
    "print(f\"num_ten = {num_ten}\")"
   ]
  },
  {
   "cell_type": "code",
   "execution_count": 15,
   "metadata": {},
   "outputs": [
    {
     "name": "stdout",
     "output_type": "stream",
     "text": [
      "1\n"
     ]
    }
   ],
   "source": [
    "class ListNode:\n",
    "    def __init__(self, val=0, next=None):\n",
    "        self.val = val\n",
    "        self.next = next\n",
    "\n",
    "class Solution:\n",
    "    def getDecimalValue(self, head: ListNode) -> int:\n",
    "        num_two_list = []\n",
    "        \n",
    "        node = head\n",
    "        while node:\n",
    "            num_two_list.append(node.val)\n",
    "            node = node.next\n",
    "\n",
    "        power2 = 2\n",
    "        num_ten = num_two_list[-1]\n",
    "        for i in range(len(num_two_list) - 2, -1, -1):\n",
    "            num_ten += num_two_list[i] * power2\n",
    "            power2 *= 2\n",
    "        \n",
    "        return num_ten\n",
    "\n",
    "head = None\n",
    "\n",
    "node = ListNode(1)\n",
    "node.next = head\n",
    "head = node\n",
    "\n",
    "solution = Solution()\n",
    "res = solution.getDecimalValue(head)\n",
    "print(res)"
   ]
  },
  {
   "cell_type": "code",
   "execution_count": 16,
   "metadata": {},
   "outputs": [
    {
     "name": "stdout",
     "output_type": "stream",
     "text": [
      "18880\n"
     ]
    }
   ],
   "source": [
    "class ListNode:\n",
    "    def __init__(self, val=0, next=None):\n",
    "        self.val = val\n",
    "        self.next = next\n",
    "\n",
    "class Solution:\n",
    "    def getDecimalValue(self, head: ListNode) -> int:\n",
    "        num_two_list = []\n",
    "        \n",
    "        node = head\n",
    "        while node:\n",
    "            num_two_list.append(node.val)\n",
    "            node = node.next\n",
    "\n",
    "        power2 = 2\n",
    "        num_ten = num_two_list[-1]\n",
    "        for i in range(len(num_two_list) - 2, -1, -1):\n",
    "            num_ten += num_two_list[i] * power2\n",
    "            power2 *= 2\n",
    "        \n",
    "        return num_ten\n",
    "\n",
    "head = None\n",
    "\n",
    "node = ListNode(0)\n",
    "node.next = head\n",
    "head = node\n",
    "\n",
    "node = ListNode(0)\n",
    "node.next = head\n",
    "head = node\n",
    "\n",
    "node = ListNode(0)\n",
    "node.next = head\n",
    "head = node\n",
    "\n",
    "node = ListNode(0)\n",
    "node.next = head\n",
    "head = node\n",
    "\n",
    "node = ListNode(0)\n",
    "node.next = head\n",
    "head = node\n",
    "\n",
    "node = ListNode(0)\n",
    "node.next = head\n",
    "head = node\n",
    "\n",
    "node = ListNode(1)\n",
    "node.next = head\n",
    "head = node\n",
    "\n",
    "node = ListNode(1)\n",
    "node.next = head\n",
    "head = node\n",
    "\n",
    "node = ListNode(1)\n",
    "node.next = head\n",
    "head = node\n",
    "\n",
    "node = ListNode(0)\n",
    "node.next = head\n",
    "head = node\n",
    "\n",
    "node = ListNode(0)\n",
    "node.next = head\n",
    "head = node\n",
    "\n",
    "node = ListNode(1)\n",
    "node.next = head\n",
    "head = node\n",
    "\n",
    "node = ListNode(0)\n",
    "node.next = head\n",
    "head = node\n",
    "\n",
    "node = ListNode(0)\n",
    "node.next = head\n",
    "head = node\n",
    "\n",
    "node = ListNode(1)\n",
    "node.next = head\n",
    "head = node\n",
    "\n",
    "solution = Solution()\n",
    "res = solution.getDecimalValue(head)\n",
    "print(res)"
   ]
  },
  {
   "cell_type": "code",
   "execution_count": 18,
   "metadata": {},
   "outputs": [
    {
     "name": "stdout",
     "output_type": "stream",
     "text": [
      "res = 0\n"
     ]
    }
   ],
   "source": [
    "class ListNode:\n",
    "    def __init__(self, val=0, next=None):\n",
    "        self.val = val\n",
    "        self.next = next\n",
    "\n",
    "class Solution:\n",
    "    def getDecimalValue(self, head: ListNode) -> int:\n",
    "        num_two_list = []\n",
    "        \n",
    "        node = head\n",
    "        while node:\n",
    "            num_two_list.append(node.val)\n",
    "            node = node.next\n",
    "\n",
    "        power2 = 2\n",
    "        num_ten = num_two_list[-1]\n",
    "        for i in range(len(num_two_list) - 2, -1, -1):\n",
    "            num_ten += num_two_list[i] * power2\n",
    "            power2 *= 2\n",
    "        \n",
    "        return num_ten\n",
    "\n",
    "head = None\n",
    "\n",
    "node = ListNode(0)\n",
    "node.next = head\n",
    "head = node\n",
    "\n",
    "solution = Solution()\n",
    "res = solution.getDecimalValue(head)\n",
    "print(f\"res = {res}\")"
   ]
  },
  {
   "cell_type": "code",
   "execution_count": 20,
   "metadata": {},
   "outputs": [
    {
     "name": "stdout",
     "output_type": "stream",
     "text": [
      "res = 5\n"
     ]
    }
   ],
   "source": [
    "class ListNode:\n",
    "    def __init__(self, val=0, next=None):\n",
    "        self.val = val\n",
    "        self.next = next\n",
    "\n",
    "class Solution:\n",
    "    def getDecimalValue(self, head: ListNode) -> int:\n",
    "        num_two_list = []\n",
    "        \n",
    "        node = head\n",
    "        while node:\n",
    "            num_two_list.append(node.val)\n",
    "            node = node.next\n",
    "\n",
    "        power2 = 2\n",
    "        num_ten = num_two_list[-1]\n",
    "        for i in range(len(num_two_list) - 2, -1, -1):\n",
    "            num_ten += num_two_list[i] * power2\n",
    "            power2 *= 2\n",
    "        \n",
    "        return num_ten\n",
    "\n",
    "head = None\n",
    "\n",
    "node = ListNode(1)\n",
    "node.next = head\n",
    "head = node\n",
    "\n",
    "node = ListNode(0)\n",
    "node.next = head\n",
    "head = node\n",
    "\n",
    "node = ListNode(1)\n",
    "node.next = head\n",
    "head = node\n",
    "\n",
    "solution = Solution()\n",
    "res = solution.getDecimalValue(head)\n",
    "print(f\"res = {res}\")"
   ]
  },
  {
   "cell_type": "markdown",
   "metadata": {},
   "source": [
    "### Second submission\n",
    "\n",
    "Accepted by LeetCode: Runtime: 32 ms, faster than 47.63% of Python3 online submissions for Convert Binary Number in a Linked List to Integer.  \n",
    "Memory Usage: 13.7 MB, less than 100.00% of Python3 online submissions for Convert Binary Number in a Linked List to Integer."
   ]
  },
  {
   "cell_type": "code",
   "execution_count": 21,
   "metadata": {},
   "outputs": [
    {
     "name": "stdout",
     "output_type": "stream",
     "text": [
      "res = 1\n"
     ]
    }
   ],
   "source": [
    "class ListNode:\n",
    "    def __init__(self, val=0, next=None):\n",
    "        self.val = val\n",
    "        self.next = next\n",
    "\n",
    "class Solution:\n",
    "    def getDecimalValue(self, head: ListNode) -> int:\n",
    "        num_two_list = []\n",
    "        \n",
    "        node = head\n",
    "        while node:\n",
    "            num_two_list.append(node.val)\n",
    "            node = node.next\n",
    "\n",
    "        power2 = 2\n",
    "        num_ten = num_two_list[-1]\n",
    "        for i in range(len(num_two_list) - 2, -1, -1):\n",
    "            num_ten += num_two_list[i] * power2\n",
    "            power2 *= 2\n",
    "        \n",
    "        return num_ten\n",
    "\n",
    "head = None\n",
    "\n",
    "node = ListNode(1)\n",
    "node.next = head\n",
    "head = node\n",
    "\n",
    "solution = Solution()\n",
    "res = solution.getDecimalValue(head)\n",
    "print(f\"res = {res}\")"
   ]
  },
  {
   "cell_type": "code",
   "execution_count": 9,
   "metadata": {},
   "outputs": [
    {
     "name": "stdout",
     "output_type": "stream",
     "text": [
      "num_two_list = [1, 0, 1]\n",
      "temp = 0\n",
      "temp = 2\n",
      "res = 3\n"
     ]
    }
   ],
   "source": [
    "class ListNode:\n",
    "    def __init__(self, val=0, next=None):\n",
    "        self.val = val\n",
    "        self.next = next\n",
    "\n",
    "def get_decimal_value(head):\n",
    "    num_two_list = []\n",
    "    node = head\n",
    "    while node:\n",
    "        num_two_list.append(node.val)\n",
    "        node= node.next\n",
    "    \n",
    "    print(f\"num_two_list = {num_two_list}\")\n",
    "    power2 = 1\n",
    "    num_ten = num_two_list.pop() * power2\n",
    "    while num_two_list:\n",
    "        temp = num_two_list.pop() * power2\n",
    "        print(f\"temp = {temp}\")\n",
    "        num_ten += temp\n",
    "        power2 *= 2\n",
    "    \n",
    "    return num_ten\n",
    "\n",
    "head = None\n",
    "\n",
    "node = ListNode(1)\n",
    "node.next = head\n",
    "head = node\n",
    "\n",
    "node = ListNode(0)\n",
    "node.next = head\n",
    "head = node\n",
    "\n",
    "node = ListNode(1)\n",
    "node.next = head\n",
    "head = node\n",
    "\n",
    "res = get_decimal_value(head)\n",
    "print(f\"res = {res}\")"
   ]
  },
  {
   "cell_type": "code",
   "execution_count": 8,
   "metadata": {},
   "outputs": [
    {
     "name": "stdout",
     "output_type": "stream",
     "text": [
      "num_two_list = [1, 0, 0, 1, 0, 0, 1, 1, 1, 0, 0, 0, 0, 0, 0]\n",
      "temp = 0\n",
      "temp = 0\n",
      "temp = 0\n",
      "temp = 0\n",
      "temp = 0\n",
      "temp = 0\n",
      "temp = 64\n",
      "temp = 128\n",
      "temp = 256\n",
      "temp = 0\n",
      "temp = 0\n",
      "temp = 2048\n",
      "temp = 0\n",
      "temp = 0\n",
      "temp = 16384\n",
      "res = 18880\n"
     ]
    }
   ],
   "source": [
    "class ListNode:\n",
    "    def __init__(self, val=0, next=None):\n",
    "        self.val = val\n",
    "        self.next = next\n",
    "\n",
    "def get_decimal_value(head):\n",
    "    num_two_list = []\n",
    "    node = head\n",
    "    while node:\n",
    "        num_two_list.append(node.val)\n",
    "        node= node.next\n",
    "    \n",
    "    print(f\"num_two_list = {num_two_list}\")\n",
    "    power2 = 1\n",
    "    num_ten = 0\n",
    "    while num_two_list:\n",
    "        temp = num_two_list.pop() * power2\n",
    "        print(f\"temp = {temp}\")\n",
    "        num_ten += temp\n",
    "        power2 *= 2\n",
    "    \n",
    "    return num_ten\n",
    "\n",
    "head = None\n",
    "\n",
    "node = ListNode(0)\n",
    "node.next = head\n",
    "head = node\n",
    "\n",
    "node = ListNode(0)\n",
    "node.next = head\n",
    "head = node\n",
    "\n",
    "node = ListNode(0)\n",
    "node.next = head\n",
    "head = node\n",
    "\n",
    "node = ListNode(0)\n",
    "node.next = head\n",
    "head = node\n",
    "\n",
    "node = ListNode(0)\n",
    "node.next = head\n",
    "head = node\n",
    "\n",
    "node = ListNode(0)\n",
    "node.next = head\n",
    "head = node\n",
    "\n",
    "node = ListNode(1)\n",
    "node.next = head\n",
    "head = node\n",
    "\n",
    "node = ListNode(1)\n",
    "node.next = head\n",
    "head = node\n",
    "\n",
    "node = ListNode(1)\n",
    "node.next = head\n",
    "head = node\n",
    "\n",
    "node = ListNode(0)\n",
    "node.next = head\n",
    "head = node\n",
    "\n",
    "node = ListNode(0)\n",
    "node.next = head\n",
    "head = node\n",
    "\n",
    "node = ListNode(1)\n",
    "node.next = head\n",
    "head = node\n",
    "\n",
    "node = ListNode(0)\n",
    "node.next = head\n",
    "head = node\n",
    "\n",
    "node = ListNode(0)\n",
    "node.next = head\n",
    "head = node\n",
    "\n",
    "node = ListNode(1)\n",
    "node.next = head\n",
    "head = node\n",
    "\n",
    "res = get_decimal_value(head)\n",
    "print(f\"res = {res}\")"
   ]
  },
  {
   "cell_type": "markdown",
   "metadata": {},
   "source": [
    "### Submitted solution\n",
    "\n",
    "Accepted by LeetCode: Runtime: 32 ms, faster than 48.32% of Python3 online submissions for Convert Binary Number in a Linked List to Integer.  \n",
    "Memory Usage: 13.8 MB, less than 100.00% of Python3 online submissions for Convert Binary Number in a Linked List to Integer."
   ]
  },
  {
   "cell_type": "code",
   "execution_count": 10,
   "metadata": {},
   "outputs": [
    {
     "name": "stdout",
     "output_type": "stream",
     "text": [
      "res = 18880\n"
     ]
    }
   ],
   "source": [
    "class ListNode:\n",
    "    def __init__(self, val=0, next=None):\n",
    "        self.val = val\n",
    "        self.next = next\n",
    "\n",
    "def get_decimal_value(head):\n",
    "    num_two_list = []\n",
    "    node = head\n",
    "    while node:\n",
    "        num_two_list.append(node.val)\n",
    "        node= node.next\n",
    "    \n",
    "    power2 = 1\n",
    "    num_ten = 0\n",
    "    while num_two_list:\n",
    "        temp = num_two_list.pop() * power2\n",
    "        num_ten += temp\n",
    "        power2 *= 2\n",
    "    \n",
    "    return num_ten\n",
    "\n",
    "head = None\n",
    "\n",
    "node = ListNode(0)\n",
    "node.next = head\n",
    "head = node\n",
    "\n",
    "node = ListNode(0)\n",
    "node.next = head\n",
    "head = node\n",
    "\n",
    "node = ListNode(0)\n",
    "node.next = head\n",
    "head = node\n",
    "\n",
    "node = ListNode(0)\n",
    "node.next = head\n",
    "head = node\n",
    "\n",
    "node = ListNode(0)\n",
    "node.next = head\n",
    "head = node\n",
    "\n",
    "node = ListNode(0)\n",
    "node.next = head\n",
    "head = node\n",
    "\n",
    "node = ListNode(1)\n",
    "node.next = head\n",
    "head = node\n",
    "\n",
    "node = ListNode(1)\n",
    "node.next = head\n",
    "head = node\n",
    "\n",
    "node = ListNode(1)\n",
    "node.next = head\n",
    "head = node\n",
    "\n",
    "node = ListNode(0)\n",
    "node.next = head\n",
    "head = node\n",
    "\n",
    "node = ListNode(0)\n",
    "node.next = head\n",
    "head = node\n",
    "\n",
    "node = ListNode(1)\n",
    "node.next = head\n",
    "head = node\n",
    "\n",
    "node = ListNode(0)\n",
    "node.next = head\n",
    "head = node\n",
    "\n",
    "node = ListNode(0)\n",
    "node.next = head\n",
    "head = node\n",
    "\n",
    "node = ListNode(1)\n",
    "node.next = head\n",
    "head = node\n",
    "\n",
    "res = get_decimal_value(head)\n",
    "print(f\"res = {res}\")"
   ]
  }
 ],
 "metadata": {
  "kernelspec": {
   "display_name": "Python 3",
   "language": "python",
   "name": "python3"
  },
  "language_info": {
   "codemirror_mode": {
    "name": "ipython",
    "version": 3
   },
   "file_extension": ".py",
   "mimetype": "text/x-python",
   "name": "python",
   "nbconvert_exporter": "python",
   "pygments_lexer": "ipython3",
   "version": "3.6.1"
  }
 },
 "nbformat": 4,
 "nbformat_minor": 2
}
