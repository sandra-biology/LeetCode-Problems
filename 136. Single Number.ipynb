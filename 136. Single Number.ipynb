{
 "cells": [
  {
   "cell_type": "markdown",
   "metadata": {},
   "source": [
    "### First submission\n",
    "Could be time optimized\n",
    "\n",
    "Accepted by LeetCode: Runtime: 88 ms, faster than 64.18% of Python3 online submissions  \n",
    "                      Memory Usage: 16.3 MB, less than 6.56% of Python3 online submissions"
   ]
  },
  {
   "cell_type": "code",
   "execution_count": 4,
   "metadata": {},
   "outputs": [
    {
     "data": {
      "text/plain": [
       "4"
      ]
     },
     "execution_count": 4,
     "metadata": {},
     "output_type": "execute_result"
    }
   ],
   "source": [
    "from collections import defaultdict\n",
    "from typing import List\n",
    "\n",
    "class Solution:\n",
    "    def singleNumber(self, nums: List[int]) -> int:\n",
    "        nums_dict = defaultdict(int)\n",
    "        for num in nums:\n",
    "            nums_dict[num] += 1\n",
    "        \n",
    "        for k, v in nums_dict.items():\n",
    "            if v == 1:\n",
    "                return k\n",
    "\n",
    "solution = Solution()\n",
    "# nums = [2,2,1]\n",
    "nums = [4,1,2,1,2]\n",
    "solution.singleNumber(nums)"
   ]
  },
  {
   "cell_type": "code",
   "execution_count": 5,
   "metadata": {},
   "outputs": [
    {
     "name": "stdout",
     "output_type": "stream",
     "text": [
      "Counter({1: 2, 2: 2, 4: 1})\n"
     ]
    }
   ],
   "source": [
    "from collections import Counter\n",
    "\n",
    "nums = [4,1,2,1,2]\n",
    "dct = Counter(nums)\n",
    "print(dct)\n",
    "\n",
    "for k, v in dct.items():\n",
    "    if v == 1:\n",
    "        return k"
   ]
  },
  {
   "cell_type": "markdown",
   "metadata": {},
   "source": [
    "### Second submission\n",
    "\n",
    "Accepted by LeetCode: Runtime: 84 ms, faster than 83.30% of Python3 online submissions  \n",
    "                      Memory Usage: 16.3MB, less than 6.56% of Python3 onlien submissions"
   ]
  },
  {
   "cell_type": "code",
   "execution_count": 7,
   "metadata": {},
   "outputs": [
    {
     "data": {
      "text/plain": [
       "4"
      ]
     },
     "execution_count": 7,
     "metadata": {},
     "output_type": "execute_result"
    }
   ],
   "source": [
    "from collections import Counter\n",
    "\n",
    "def singleNumber(nums):\n",
    "    nums_dict = Counter(nums)\n",
    "    for k, v in nums_dict.items():\n",
    "        if v == 1:\n",
    "            return k\n",
    "        \n",
    "nums = [4,1,2,1,2]\n",
    "singleNumber(nums)"
   ]
  }
 ],
 "metadata": {
  "kernelspec": {
   "display_name": "Python 3",
   "language": "python",
   "name": "python3"
  },
  "language_info": {
   "codemirror_mode": {
    "name": "ipython",
    "version": 3
   },
   "file_extension": ".py",
   "mimetype": "text/x-python",
   "name": "python",
   "nbconvert_exporter": "python",
   "pygments_lexer": "ipython3",
   "version": "3.6.1"
  }
 },
 "nbformat": 4,
 "nbformat_minor": 2
}
