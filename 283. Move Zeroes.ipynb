{
 "cells": [
  {
   "cell_type": "code",
   "execution_count": 6,
   "metadata": {},
   "outputs": [
    {
     "name": "stdout",
     "output_type": "stream",
     "text": [
      "nums after: [1, 3, 12, 3, 12]\n"
     ]
    }
   ],
   "source": [
    "#       0 1 2 3 4\n",
    "nums = [0,1,0,3,12]\n",
    "last = -1\n",
    "for curr in range(len(nums)):\n",
    "    if nums[curr] != 0:\n",
    "        last += 1\n",
    "        nums[last] = nums[curr]\n",
    "print(f\"nums after: {nums}\")"
   ]
  },
  {
   "cell_type": "code",
   "execution_count": 20,
   "metadata": {},
   "outputs": [
    {
     "name": "stdout",
     "output_type": "stream",
     "text": [
      "nums after loop: [0, 0, 12, 3, 1]\n",
      "None\n"
     ]
    }
   ],
   "source": [
    "#       0 1 2 3 4\n",
    "nums = [0,1,0,3,12]\n",
    "last = -1\n",
    "\n",
    "for curr in range(len(nums)):\n",
    "    if nums[curr] == 0:\n",
    "        temp = nums[last]\n",
    "        nums[last] = nums[curr]\n",
    "        nums[curr] = temp\n",
    "        last += 1\n",
    "print(f\"nums after loop: {nums}\")\n",
    "print(nums.reverse())"
   ]
  },
  {
   "cell_type": "code",
   "execution_count": 22,
   "metadata": {},
   "outputs": [
    {
     "name": "stdout",
     "output_type": "stream",
     "text": [
      "None\n",
      "[1, 3, 12, 0, 0]\n"
     ]
    }
   ],
   "source": [
    "nums = [0, 0, 12, 3, 1]\n",
    "print(nums.reverse())\n",
    "print(nums)"
   ]
  },
  {
   "cell_type": "code",
   "execution_count": 1,
   "metadata": {},
   "outputs": [
    {
     "data": {
      "text/plain": [
       "[2, 1]"
      ]
     },
     "execution_count": 1,
     "metadata": {},
     "output_type": "execute_result"
    }
   ],
   "source": [
    "def moveZeroes(nums):\n",
    "    last = -1\n",
    "    if nums[last] == 0 or 0 not in nums:\n",
    "        return nums\n",
    "\n",
    "    for curr in range(len(nums)):\n",
    "        if nums[curr] == 0:\n",
    "            temp = nums[last]\n",
    "            nums[last] = nums[curr]\n",
    "            nums[curr] = temp\n",
    "            last += 1\n",
    "    nums.reverse()\n",
    "    return nums\n",
    "\n",
    "# nums = [0, 1, 0, 3, 12]\n",
    "# nums = [1, 0]\n",
    "nums = [2, 1]\n",
    "moveZeroes(nums)"
   ]
  },
  {
   "cell_type": "code",
   "execution_count": 9,
   "metadata": {},
   "outputs": [
    {
     "data": {
      "text/plain": [
       "[0, 1, 0]"
      ]
     },
     "execution_count": 9,
     "metadata": {},
     "output_type": "execute_result"
    }
   ],
   "source": [
    "def moveZeroes(nums):\n",
    "    if 0 not in nums:\n",
    "        return nums\n",
    "\n",
    "    last = -1\n",
    "    for curr in range(len(nums)):\n",
    "        if nums[curr] == 0:\n",
    "            temp = nums[last]\n",
    "            nums[last] = nums[curr]\n",
    "            nums[curr] = temp\n",
    "            last += 1\n",
    "    if nums[last] == 0:\n",
    "        return nums\n",
    "\n",
    "    nums.reverse()\n",
    "    return nums\n",
    "\n",
    "# nums = [0, 1, 0, 3, 12]\n",
    "# nums = [1, 0]\n",
    "# nums = [2, 1]\n",
    "nums = [0, 1, 0]\n",
    "moveZeroes(nums)"
   ]
  },
  {
   "cell_type": "code",
   "execution_count": 10,
   "metadata": {},
   "outputs": [
    {
     "name": "stdout",
     "output_type": "stream",
     "text": [
      "last0 = 2\n"
     ]
    }
   ],
   "source": [
    "#       0  1  2  3  4\n",
    "nums = [0, 1, 0, 3, 12]\n",
    "for i in range(len(nums)):\n",
    "    if nums[i] == 0:\n",
    "        last0 = i\n",
    "\n",
    "    if nums[i] != 0:\n",
    "        nums[last0] = nums[i]\n",
    "        nums[i] = 0\n",
    "print(f\"last0 = {last0}\")"
   ]
  },
  {
   "cell_type": "code",
   "execution_count": 15,
   "metadata": {},
   "outputs": [
    {
     "name": "stdout",
     "output_type": "stream",
     "text": [
      "last0 = 0, nums[0] = 0\n"
     ]
    }
   ],
   "source": [
    "# nums = [3, 1, 0, 0, 12]\n",
    "nums = [0, 1, 0, 3, 12]\n",
    "last0 = 0\n",
    "while nums[last0] != 0:\n",
    "    last0 += 1\n",
    "print(f\"last0 = {last0}, nums[{last0}] = {nums[last0]}\")"
   ]
  },
  {
   "cell_type": "code",
   "execution_count": 7,
   "metadata": {},
   "outputs": [
    {
     "name": "stdout",
     "output_type": "stream",
     "text": [
      "nums = [1, 0, 0, 3, 2, 12, 0, 15, 20, 0]\n",
      "nums = [1, 3, 0, 0, 2, 12, 0, 15, 20, 0]\n",
      "nums = [1, 3, 2, 0, 0, 12, 0, 15, 20, 0]\n",
      "nums = [1, 3, 2, 12, 0, 0, 0, 15, 20, 0]\n",
      "nums = [1, 3, 2, 12, 15, 0, 0, 0, 20, 0]\n",
      "nums = [1, 3, 2, 12, 15, 20, 0, 0, 0, 0]\n",
      "nums after: [1, 3, 2, 12, 15, 20, 0, 0, 0, 0]\n"
     ]
    }
   ],
   "source": [
    "nums = [0, 1, 0, 3, 2, 12, 0, 15, 20, 0]\n",
    "last0 = 0\n",
    "while nums[last0] != 0:\n",
    "    last0 += 1\n",
    "\n",
    "for i in range(last0+1, len(nums)):\n",
    "    if nums[i] != 0:\n",
    "        # print(f\"nums[{i}] = {nums[i]}, last0 = {last0}, nums[{last0}] = {nums[last0]}\")\n",
    "        nums[last0] = nums[i]\n",
    "        nums[i] = 0\n",
    "        last0 += 1\n",
    "        print(f\"nums = {nums}\")\n",
    "print(f\"nums after: {nums}\")"
   ]
  },
  {
   "cell_type": "code",
   "execution_count": 14,
   "metadata": {},
   "outputs": [
    {
     "name": "stdout",
     "output_type": "stream",
     "text": [
      "[1, 0, 0]\n"
     ]
    }
   ],
   "source": [
    "class Solution:\n",
    "    def moveZeroes(self, nums):\n",
    "        last0 = 0\n",
    "        while nums[last0] != 0:\n",
    "            last0 += 1\n",
    "\n",
    "        for i in range(last0+1, len(nums)):\n",
    "            if nums[i] != 0:\n",
    "                nums[last0] = nums[i]\n",
    "                nums[i] = 0\n",
    "                last0 += 1\n",
    "        print(nums)\n",
    "\n",
    "solution = Solution()\n",
    "# nums = [0, 1, 0, 3, 12]\n",
    "# nums = [1, 0]\n",
    "# nums = [2, 1]  # need to check the algorithm here\n",
    "nums = [0, 1, 0]\n",
    "solution.moveZeroes(nums)"
   ]
  },
  {
   "cell_type": "code",
   "execution_count": 35,
   "metadata": {},
   "outputs": [
    {
     "name": "stdout",
     "output_type": "stream",
     "text": [
      "[1, 0, 0]\n"
     ]
    }
   ],
   "source": [
    "class Solution:\n",
    "    def moveZeroes(self, nums):\n",
    "        last0 = 0\n",
    "        for last0 in range(len(nums)):\n",
    "            if nums[last0] == 0:\n",
    "                break\n",
    "\n",
    "        # while nums[last0] != 0:\n",
    "        #     last0 += 1\n",
    "\n",
    "        for i in range(last0+1, len(nums)):\n",
    "            if nums[i] != 0:\n",
    "                nums[last0] = nums[i]\n",
    "                nums[i] = 0\n",
    "                last0 += 1\n",
    "        print(nums)\n",
    "\n",
    "solution = Solution()\n",
    "# nums = [0, 1, 0, 3, 12]\n",
    "# nums = [1, 0]\n",
    "# nums = [2, 1]  # need to check the algorithm here\n",
    "nums = [0, 1, 0]\n",
    "solution.moveZeroes(nums)"
   ]
  },
  {
   "cell_type": "markdown",
   "metadata": {},
   "source": [
    "### First submission\n",
    "Could be time optimized\n",
    "\n",
    "Accepted by LeetCode: Runtime: 52 ms, faster than 53.99% of Python3 online submissions for Move Zeroes.  \n",
    "Memory Usage: 15.2 MB, less than 5.97% of Python3 online submissions for Move Zeroes."
   ]
  },
  {
   "cell_type": "code",
   "execution_count": 21,
   "metadata": {},
   "outputs": [
    {
     "data": {
      "text/plain": [
       "[2, 1]"
      ]
     },
     "execution_count": 21,
     "metadata": {},
     "output_type": "execute_result"
    }
   ],
   "source": [
    "class Solution:\n",
    "    def moveZeroes(self, nums):\n",
    "        if 0 not in nums:\n",
    "            return nums\n",
    "\n",
    "        last0 = 0\n",
    "        while nums[last0] != 0:\n",
    "            last0 += 1\n",
    "\n",
    "        for i in range(last0+1, len(nums)):\n",
    "            if nums[i] != 0:\n",
    "                nums[last0] = nums[i]\n",
    "                nums[i] = 0\n",
    "                last0 += 1\n",
    "        print(nums)\n",
    "\n",
    "solution = Solution()\n",
    "# nums = [0, 1, 0, 3, 12]\n",
    "# nums = [1, 0]\n",
    "nums = [2, 1]  # need to check the algorithm here\n",
    "# nums = [0, 1, 0]\n",
    "solution.moveZeroes(nums)"
   ]
  },
  {
   "cell_type": "code",
   "execution_count": 22,
   "metadata": {},
   "outputs": [
    {
     "name": "stdout",
     "output_type": "stream",
     "text": [
      "a before = 0, b before = 3\n",
      "a after = 3, b after = 0\n"
     ]
    }
   ],
   "source": [
    "a = 0\n",
    "b = 3\n",
    "print(f\"a before = {a}, b before = {b}\")\n",
    "a, b = b, a\n",
    "print(f\"a after = {a}, b after = {b}\")"
   ]
  },
  {
   "cell_type": "code",
   "execution_count": 24,
   "metadata": {},
   "outputs": [
    {
     "name": "stdout",
     "output_type": "stream",
     "text": [
      "nums after: [1, 3, 12, 0, 0]\n"
     ]
    }
   ],
   "source": [
    "nums = [0, 1, 0, 3, 12]\n",
    "non_zero = 0\n",
    "for i in range(len(nums)):\n",
    "    if nums[i] != 0:\n",
    "        # swap nums[i] with first non-zero number\n",
    "        nums[non_zero], nums[i] = nums[i], nums[non_zero]\n",
    "        non_zero += 1\n",
    "print(f\"nums after: {nums}\")"
   ]
  },
  {
   "cell_type": "markdown",
   "metadata": {},
   "source": [
    "### Second submission\n",
    "Brute force algorithm\n",
    "\n",
    "Accepted by LeetCode: Runtime: 52 ms, faster than 53.99% of Python3 online submissions for Move Zeroes.  \n",
    "Memory Usage: 15.1 MB, less than 5.97% of Python3 online submissions for Move Zeroes."
   ]
  },
  {
   "cell_type": "code",
   "execution_count": 29,
   "metadata": {},
   "outputs": [
    {
     "name": "stdout",
     "output_type": "stream",
     "text": [
      "nums after = [1, 3, 12, 0, 0]\n"
     ]
    }
   ],
   "source": [
    "def moveZeroes(nums):\n",
    "    non_zero = 0\n",
    "    for i in range(len(nums)):\n",
    "        if nums[i] != 0:\n",
    "            nums[non_zero], nums[i] = nums[i], nums[non_zero]\n",
    "            non_zero += 1\n",
    "    print(f\"nums after = {nums}\")\n",
    "\n",
    "# nums = [1, 0]\n",
    "# nums = [2, 1]\n",
    "# nums = [0, 1, 0]\n",
    "nums = [0, 1, 0, 3, 12]\n",
    "moveZeroes(nums)"
   ]
  },
  {
   "cell_type": "markdown",
   "metadata": {},
   "source": [
    "### Final submission\n",
    "\n",
    "Accepted by LeetCode: Runtime: 44 ms, faster than 91.05% of Python3 online submissions for Move Zeroes.  \n",
    "Memory Usage: 15.1 MB, less than 5.97% of Python3 online submissions for Move Zeroes."
   ]
  },
  {
   "cell_type": "code",
   "execution_count": 36,
   "metadata": {},
   "outputs": [
    {
     "name": "stdout",
     "output_type": "stream",
     "text": [
      "[1, 0, 0]\n"
     ]
    }
   ],
   "source": [
    "class Solution:\n",
    "    def moveZeroes(self, nums):\n",
    "        last0 = 0\n",
    "        for last0 in range(len(nums)):\n",
    "            if nums[last0] == 0:\n",
    "                break\n",
    "\n",
    "        for i in range(last0+1, len(nums)):\n",
    "            if nums[i] != 0:\n",
    "                nums[last0] = nums[i]\n",
    "                nums[i] = 0\n",
    "                last0 += 1\n",
    "        print(nums)\n",
    "\n",
    "solution = Solution()\n",
    "# nums = [0, 1, 0, 3, 12]\n",
    "# nums = [1, 0]\n",
    "# nums = [2, 1]\n",
    "nums = [0, 1, 0]\n",
    "solution.moveZeroes(nums)"
   ]
  }
 ],
 "metadata": {
  "kernelspec": {
   "display_name": "Python 3",
   "language": "python",
   "name": "python3"
  },
  "language_info": {
   "codemirror_mode": {
    "name": "ipython",
    "version": 3
   },
   "file_extension": ".py",
   "mimetype": "text/x-python",
   "name": "python",
   "nbconvert_exporter": "python",
   "pygments_lexer": "ipython3",
   "version": "3.6.1"
  }
 },
 "nbformat": 4,
 "nbformat_minor": 2
}
