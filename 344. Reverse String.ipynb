{
 "cells": [
  {
   "cell_type": "code",
   "execution_count": 2,
   "metadata": {},
   "outputs": [
    {
     "name": "stdout",
     "output_type": "stream",
     "text": [
      "['o', 'l', 'l', 'e', 'h']\n"
     ]
    }
   ],
   "source": [
    "s = [\"h\",\"e\",\"l\",\"l\",\"o\"]\n",
    "s.reverse()\n",
    "print(s)"
   ]
  },
  {
   "cell_type": "code",
   "execution_count": 23,
   "metadata": {},
   "outputs": [
    {
     "name": "stdout",
     "output_type": "stream",
     "text": [
      "s before = ['h', 'e', 'l', 'l', 'o']\n",
      "0\n",
      "1\n",
      "2\n",
      "3\n",
      "4\n",
      "s after =  ['h', 'e', 'l', 'l', 'o']\n"
     ]
    }
   ],
   "source": [
    "#     0   1   2   3   4\n",
    "s = [\"h\",\"e\",\"l\",\"l\",\"o\"]\n",
    "print(f\"s before = {s}\")\n",
    "last = -1\n",
    "for i in range(len(s)):\n",
    "    print(i)\n",
    "    s[i], s[last] = s[last], s[i]\n",
    "    # print(f\"s[{i}] = {s[i]}, s[{last}] = {s[last]}\")\n",
    "    last -= 1\n",
    "print(f\"s after =  {s}\")"
   ]
  },
  {
   "cell_type": "markdown",
   "metadata": {},
   "source": [
    "### Submitted solution\n",
    "\n",
    "Accepted by LeetCode: Runtime: 200 ms, faster than 96.72% of Python3 online submissions for Reverse String.  \n",
    "Memory Usage: 18.3 MB, less than 5.81% of Python3 online submissions for Reverse String."
   ]
  },
  {
   "cell_type": "code",
   "execution_count": 28,
   "metadata": {},
   "outputs": [
    {
     "name": "stdout",
     "output_type": "stream",
     "text": [
      "s after = ['o', 'l', 'l', 'e', 'h']\n"
     ]
    }
   ],
   "source": [
    "from typing import List\n",
    "\n",
    "class Solution:\n",
    "    def reverseString(self, s: List[str]) -> None:\n",
    "        last = -1\n",
    "        for i in range(len(s) // 2):\n",
    "            s[i], s[last] = s[last], s[i]\n",
    "            last -= 1\n",
    "        print(f\"s after = {s}\")\n",
    "\n",
    "solution = Solution()\n",
    "s = ['h', 'e', 'l', 'l', 'o']\n",
    "# s = [\"H\",\"a\",\"n\",\"n\",\"a\",\"h\"]\n",
    "solution.reverseString(s)"
   ]
  }
 ],
 "metadata": {
  "kernelspec": {
   "display_name": "Python 3",
   "language": "python",
   "name": "python3"
  },
  "language_info": {
   "codemirror_mode": {
    "name": "ipython",
    "version": 3
   },
   "file_extension": ".py",
   "mimetype": "text/x-python",
   "name": "python",
   "nbconvert_exporter": "python",
   "pygments_lexer": "ipython3",
   "version": "3.6.1"
  }
 },
 "nbformat": 4,
 "nbformat_minor": 2
}
