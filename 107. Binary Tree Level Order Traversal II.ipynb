{
 "cells": [
  {
   "cell_type": "markdown",
   "metadata": {},
   "source": [
    "### Submitted solution\n",
    "\n",
    "Accepted by LeetCode: Runtime: 36 ms, faster than 53.18% of Python3 online submissions for Binary Tree Level Order Traversal II.  \n",
    "Memory Usage: 13.9 MB, less than 7.41% of Python3 online submissions for Binary Tree Level Order Traversal II."
   ]
  },
  {
   "cell_type": "code",
   "execution_count": 4,
   "metadata": {},
   "outputs": [
    {
     "data": {
      "text/plain": [
       "[[15, 7], [9, 20], [3]]"
      ]
     },
     "execution_count": 4,
     "metadata": {},
     "output_type": "execute_result"
    }
   ],
   "source": [
    "from collections import deque\n",
    "from typing import List\n",
    "\n",
    "class TreeNode:\n",
    "    def __init__(self, val=0, left=None, right=None):\n",
    "        self.val = val\n",
    "        self.left = left\n",
    "        self.right = right\n",
    "\n",
    "class Solution:\n",
    "    def levelOrder(self, root: TreeNode) -> List[List[int]]:\n",
    "        queue = deque([root])\n",
    "        level = []\n",
    "        list_node_values = []\n",
    "        \n",
    "        while queue:\n",
    "            level = []\n",
    "            n = len(queue)\n",
    "            for i in range(n):\n",
    "                node = queue.popleft()\n",
    "\n",
    "                if node:\n",
    "                    level.append(node.val)\n",
    "\n",
    "                    queue.append(node.left)\n",
    "                    queue.append(node.right)\n",
    "            \n",
    "            list_node_values.append(level)\n",
    "\n",
    "        list_node_values_reversed = list_node_values[::-1] \n",
    "        return list_node_values_reversed[1:]\n",
    "\n",
    "root = TreeNode(3)\n",
    "root.left = TreeNode(9)\n",
    "root.right = TreeNode(20)\n",
    "root.right.left = TreeNode(15)\n",
    "root.right.right = TreeNode(7)\n",
    "\n",
    "solution = Solution()\n",
    "solution.levelOrder(root)"
   ]
  }
 ],
 "metadata": {
  "kernelspec": {
   "display_name": "Python 3",
   "language": "python",
   "name": "python3"
  },
  "language_info": {
   "codemirror_mode": {
    "name": "ipython",
    "version": 3
   },
   "file_extension": ".py",
   "mimetype": "text/x-python",
   "name": "python",
   "nbconvert_exporter": "python",
   "pygments_lexer": "ipython3",
   "version": "3.6.1"
  }
 },
 "nbformat": 4,
 "nbformat_minor": 2
}
