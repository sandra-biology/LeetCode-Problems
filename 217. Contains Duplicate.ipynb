{
 "cells": [
  {
   "cell_type": "code",
   "execution_count": 19,
   "metadata": {},
   "outputs": [
    {
     "name": "stdout",
     "output_type": "stream",
     "text": [
      "True\n"
     ]
    }
   ],
   "source": [
    "duplicates = [True, True]\n",
    "print(len(duplicates) != 0)"
   ]
  },
  {
   "cell_type": "markdown",
   "metadata": {},
   "source": [
    "### First submission\n",
    "Could be time optimized\n",
    "\n",
    "Accepted by LeetCode: Runtime: 168 ms, faster than 6.18% of Python3 online submissions for Contains Duplicate.  \n",
    "Memory Usage: 21.1 MB, less than 7.55% of Python3 online submissions for Contains Duplicate."
   ]
  },
  {
   "cell_type": "code",
   "execution_count": 26,
   "metadata": {},
   "outputs": [
    {
     "name": "stdout",
     "output_type": "stream",
     "text": [
      "k = 2, v = 1\n",
      "k = 14, v = 1\n",
      "k = 18, v = 1\n",
      "k = 22, v = 2\n"
     ]
    },
    {
     "data": {
      "text/plain": [
       "True"
      ]
     },
     "execution_count": 26,
     "metadata": {},
     "output_type": "execute_result"
    }
   ],
   "source": [
    "from collections import Counter\n",
    "from typing import List\n",
    "\n",
    "class Solution:\n",
    "    def containsDuplicate(self, nums: List[int]) -> bool:\n",
    "        duplicates = []\n",
    "        counts = Counter(nums)\n",
    "        for k, v in counts.items():\n",
    "            print(f\"k = {k}, v = {v}\")\n",
    "            if v >= 2:\n",
    "                duplicates.append(True)\n",
    "        return len(duplicates) != 0\n",
    "\n",
    "solution = Solution()\n",
    "# nums = [1,2,3,1]\n",
    "# nums = [1, 2, 3, 4]\n",
    "# nums = [1,1,1,3,3,4,3,2,4,2]\n",
    "# nums  =[7,10,5,5,6,6,4,10,5,4,9,4,9,6,5,9,6,3,6,5,6,7,7,4,9,9,10,5,8,1,8,3,2,7,5,10,1,8,5,8,4,3,6,4,9,4,2,8,3,2,2,1,5,6,3,2,6,1,8,6,2,9,1,4,5,10,8,5,10,5,10,1,4,8,3,6,4,10,9,1,1,1,2,2,9,6,6,8,1,9,2,5,5,2,1,8,5,2,3,10]\n",
    "nums = [2,14,18,22,22]\n",
    "solution.containsDuplicate(nums)"
   ]
  },
  {
   "cell_type": "markdown",
   "metadata": {},
   "source": [
    "### Final submission\n",
    "\n",
    "Accepted by LeetCode: Runtime: 124 ms, faster than 78.78% of Python3 online submissions for Contains Duplicate.  \n",
    "Memory Usage: 20.8 MB, less than 7.55% of Python3 online submissions for Contains Duplicate."
   ]
  },
  {
   "cell_type": "code",
   "execution_count": 48,
   "metadata": {},
   "outputs": [
    {
     "data": {
      "text/plain": [
       "True"
      ]
     },
     "execution_count": 48,
     "metadata": {},
     "output_type": "execute_result"
    }
   ],
   "source": [
    "def containsDuplicates(nums):\n",
    "    counts = Counter(nums)\n",
    "    for k, v in counts.items():\n",
    "        if v >= 2:\n",
    "            return True\n",
    "    return False\n",
    "\n",
    "# nums = [1,2,3,1]\n",
    "# nums = [1, 2, 3, 4]\n",
    "# nums = [1,1,1,3,3,4,3,2,4,2]\n",
    "# nums = [7,10,5,5,6,6,4,10,5,4,9,4,9,6,5,9,6,3,6,5,6,7,7,4,9,9,10,5,8,1,8,3,2,7,5,10,1,8,5,8,4,3,6,4,9,4,2,8,3,2,2,1,5,6,3,2,6,1,8,6,2,9,1,4,5,10,8,5,10,5,10,1,4,8,3,6,4,10,9,1,1,1,2,2,9,6,6,8,1,9,2,5,5,2,1,8,5,2,3,10]\n",
    "nums = [2,14,18,22,22]\n",
    "containsDuplicates(nums)"
   ]
  }
 ],
 "metadata": {
  "kernelspec": {
   "display_name": "Python 3",
   "language": "python",
   "name": "python3"
  },
  "language_info": {
   "codemirror_mode": {
    "name": "ipython",
    "version": 3
   },
   "file_extension": ".py",
   "mimetype": "text/x-python",
   "name": "python",
   "nbconvert_exporter": "python",
   "pygments_lexer": "ipython3",
   "version": "3.6.1"
  }
 },
 "nbformat": 4,
 "nbformat_minor": 2
}
